{
 "cells": [
  {
   "cell_type": "code",
   "execution_count": 76,
   "id": "06dfb390-8ebb-4af8-9df5-d15c5da1435d",
   "metadata": {},
   "outputs": [
    {
     "data": {
      "text/plain": [
       "Templates configuration\n",
       "-----------------------\n",
       "    Default template: 'plotly'\n",
       "    Available templates:\n",
       "        ['ggplot2', 'seaborn', 'simple_white', 'plotly',\n",
       "         'plotly_white', 'plotly_dark', 'presentation', 'xgridoff',\n",
       "         'ygridoff', 'gridon', 'none']"
      ]
     },
     "execution_count": 76,
     "metadata": {},
     "output_type": "execute_result"
    }
   ],
   "source": [
    "import pandas as pd \n",
    "import plotly.express as px\n",
    "import plotly.io as pio\n",
    "pio.templates"
   ]
  },
  {
   "cell_type": "code",
   "execution_count": 6,
   "id": "fa38219b-99b4-4084-bba7-4f7ca90858b8",
   "metadata": {},
   "outputs": [],
   "source": [
    "df = pd.read_csv(\"C:/Users/milen/Desktop/Projetos/energy.csv\")"
   ]
  },
  {
   "cell_type": "code",
   "execution_count": 15,
   "id": "63f086a1-3e4f-40b0-bfde-5c56c244cffc",
   "metadata": {},
   "outputs": [
    {
     "data": {
      "text/html": [
       "<div>\n",
       "<style scoped>\n",
       "    .dataframe tbody tr th:only-of-type {\n",
       "        vertical-align: middle;\n",
       "    }\n",
       "\n",
       "    .dataframe tbody tr th {\n",
       "        vertical-align: top;\n",
       "    }\n",
       "\n",
       "    .dataframe thead th {\n",
       "        text-align: right;\n",
       "    }\n",
       "</style>\n",
       "<table border=\"1\" class=\"dataframe\">\n",
       "  <thead>\n",
       "    <tr style=\"text-align: right;\">\n",
       "      <th></th>\n",
       "      <th>Unnamed: 0</th>\n",
       "      <th>Country</th>\n",
       "      <th>Energy_type</th>\n",
       "      <th>Year</th>\n",
       "      <th>Energy_consumption</th>\n",
       "      <th>Energy_production</th>\n",
       "      <th>GDP</th>\n",
       "      <th>Population</th>\n",
       "      <th>Energy_intensity_per_capita</th>\n",
       "      <th>Energy_intensity_by_GDP</th>\n",
       "      <th>CO2_emission</th>\n",
       "    </tr>\n",
       "  </thead>\n",
       "  <tbody>\n",
       "    <tr>\n",
       "      <th>0</th>\n",
       "      <td>0</td>\n",
       "      <td>World</td>\n",
       "      <td>all_energy_types</td>\n",
       "      <td>1980</td>\n",
       "      <td>292.899790</td>\n",
       "      <td>296.337228</td>\n",
       "      <td>27770.910281</td>\n",
       "      <td>4.298127e+06</td>\n",
       "      <td>68.145921</td>\n",
       "      <td>10.547</td>\n",
       "      <td>4946.627130</td>\n",
       "    </tr>\n",
       "    <tr>\n",
       "      <th>1</th>\n",
       "      <td>1</td>\n",
       "      <td>World</td>\n",
       "      <td>coal</td>\n",
       "      <td>1980</td>\n",
       "      <td>78.656134</td>\n",
       "      <td>80.114194</td>\n",
       "      <td>27770.910281</td>\n",
       "      <td>4.298127e+06</td>\n",
       "      <td>68.145921</td>\n",
       "      <td>10.547</td>\n",
       "      <td>1409.790188</td>\n",
       "    </tr>\n",
       "    <tr>\n",
       "      <th>2</th>\n",
       "      <td>2</td>\n",
       "      <td>World</td>\n",
       "      <td>natural_gas</td>\n",
       "      <td>1980</td>\n",
       "      <td>53.865223</td>\n",
       "      <td>54.761046</td>\n",
       "      <td>27770.910281</td>\n",
       "      <td>4.298127e+06</td>\n",
       "      <td>68.145921</td>\n",
       "      <td>10.547</td>\n",
       "      <td>1081.593377</td>\n",
       "    </tr>\n",
       "    <tr>\n",
       "      <th>3</th>\n",
       "      <td>3</td>\n",
       "      <td>World</td>\n",
       "      <td>petroleum_n_other_liquids</td>\n",
       "      <td>1980</td>\n",
       "      <td>132.064019</td>\n",
       "      <td>133.111109</td>\n",
       "      <td>27770.910281</td>\n",
       "      <td>4.298127e+06</td>\n",
       "      <td>68.145921</td>\n",
       "      <td>10.547</td>\n",
       "      <td>2455.243565</td>\n",
       "    </tr>\n",
       "    <tr>\n",
       "      <th>4</th>\n",
       "      <td>4</td>\n",
       "      <td>World</td>\n",
       "      <td>nuclear</td>\n",
       "      <td>1980</td>\n",
       "      <td>7.575700</td>\n",
       "      <td>7.575700</td>\n",
       "      <td>27770.910281</td>\n",
       "      <td>4.298127e+06</td>\n",
       "      <td>68.145921</td>\n",
       "      <td>10.547</td>\n",
       "      <td>0.000000</td>\n",
       "    </tr>\n",
       "  </tbody>\n",
       "</table>\n",
       "</div>"
      ],
      "text/plain": [
       "   Unnamed: 0 Country                Energy_type  Year  Energy_consumption  \\\n",
       "0           0   World           all_energy_types  1980          292.899790   \n",
       "1           1   World                       coal  1980           78.656134   \n",
       "2           2   World                natural_gas  1980           53.865223   \n",
       "3           3   World  petroleum_n_other_liquids  1980          132.064019   \n",
       "4           4   World                    nuclear  1980            7.575700   \n",
       "\n",
       "   Energy_production           GDP    Population  Energy_intensity_per_capita  \\\n",
       "0         296.337228  27770.910281  4.298127e+06                    68.145921   \n",
       "1          80.114194  27770.910281  4.298127e+06                    68.145921   \n",
       "2          54.761046  27770.910281  4.298127e+06                    68.145921   \n",
       "3         133.111109  27770.910281  4.298127e+06                    68.145921   \n",
       "4           7.575700  27770.910281  4.298127e+06                    68.145921   \n",
       "\n",
       "   Energy_intensity_by_GDP  CO2_emission  \n",
       "0                   10.547   4946.627130  \n",
       "1                   10.547   1409.790188  \n",
       "2                   10.547   1081.593377  \n",
       "3                   10.547   2455.243565  \n",
       "4                   10.547      0.000000  "
      ]
     },
     "execution_count": 15,
     "metadata": {},
     "output_type": "execute_result"
    }
   ],
   "source": [
    "df.head()"
   ]
  },
  {
   "cell_type": "code",
   "execution_count": 9,
   "id": "a4902ad9-3c0a-47ba-8343-be021e03a004",
   "metadata": {},
   "outputs": [
    {
     "data": {
      "text/html": [
       "<div>\n",
       "<style scoped>\n",
       "    .dataframe tbody tr th:only-of-type {\n",
       "        vertical-align: middle;\n",
       "    }\n",
       "\n",
       "    .dataframe tbody tr th {\n",
       "        vertical-align: top;\n",
       "    }\n",
       "\n",
       "    .dataframe thead th {\n",
       "        text-align: right;\n",
       "    }\n",
       "</style>\n",
       "<table border=\"1\" class=\"dataframe\">\n",
       "  <thead>\n",
       "    <tr style=\"text-align: right;\">\n",
       "      <th></th>\n",
       "      <th>Unnamed: 0</th>\n",
       "      <th>Year</th>\n",
       "      <th>Energy_consumption</th>\n",
       "      <th>Energy_production</th>\n",
       "      <th>GDP</th>\n",
       "      <th>Population</th>\n",
       "      <th>Energy_intensity_per_capita</th>\n",
       "      <th>Energy_intensity_by_GDP</th>\n",
       "      <th>CO2_emission</th>\n",
       "    </tr>\n",
       "  </thead>\n",
       "  <tbody>\n",
       "    <tr>\n",
       "      <th>count</th>\n",
       "      <td>55440.000000</td>\n",
       "      <td>55440.0000</td>\n",
       "      <td>44287.000000</td>\n",
       "      <td>4.428900e+04</td>\n",
       "      <td>40026.000000</td>\n",
       "      <td>4.601400e+04</td>\n",
       "      <td>50358.000000</td>\n",
       "      <td>50358.000000</td>\n",
       "      <td>51614.000000</td>\n",
       "    </tr>\n",
       "    <tr>\n",
       "      <th>mean</th>\n",
       "      <td>27719.500000</td>\n",
       "      <td>1999.5000</td>\n",
       "      <td>1.537811</td>\n",
       "      <td>1.532700e+00</td>\n",
       "      <td>827.144126</td>\n",
       "      <td>6.263020e+04</td>\n",
       "      <td>71.898914</td>\n",
       "      <td>3.695104</td>\n",
       "      <td>78.800082</td>\n",
       "    </tr>\n",
       "    <tr>\n",
       "      <th>std</th>\n",
       "      <td>16004.293799</td>\n",
       "      <td>11.5435</td>\n",
       "      <td>15.456596</td>\n",
       "      <td>1.530356e+01</td>\n",
       "      <td>5981.703144</td>\n",
       "      <td>4.562088e+05</td>\n",
       "      <td>113.728738</td>\n",
       "      <td>4.590735</td>\n",
       "      <td>902.221463</td>\n",
       "    </tr>\n",
       "    <tr>\n",
       "      <th>min</th>\n",
       "      <td>0.000000</td>\n",
       "      <td>1980.0000</td>\n",
       "      <td>-0.163438</td>\n",
       "      <td>-1.000000e-39</td>\n",
       "      <td>0.124958</td>\n",
       "      <td>1.147100e+01</td>\n",
       "      <td>0.000000</td>\n",
       "      <td>0.000000</td>\n",
       "      <td>-0.005130</td>\n",
       "    </tr>\n",
       "    <tr>\n",
       "      <th>25%</th>\n",
       "      <td>13859.750000</td>\n",
       "      <td>1989.7500</td>\n",
       "      <td>0.000000</td>\n",
       "      <td>0.000000e+00</td>\n",
       "      <td>9.737780</td>\n",
       "      <td>1.141950e+03</td>\n",
       "      <td>3.799939</td>\n",
       "      <td>0.899446</td>\n",
       "      <td>0.000000</td>\n",
       "    </tr>\n",
       "    <tr>\n",
       "      <th>50%</th>\n",
       "      <td>27719.500000</td>\n",
       "      <td>1999.5000</td>\n",
       "      <td>0.018381</td>\n",
       "      <td>5.121971e-04</td>\n",
       "      <td>47.757100</td>\n",
       "      <td>6.157680e+03</td>\n",
       "      <td>29.779260</td>\n",
       "      <td>2.987593</td>\n",
       "      <td>0.000000</td>\n",
       "    </tr>\n",
       "    <tr>\n",
       "      <th>75%</th>\n",
       "      <td>41579.250000</td>\n",
       "      <td>2009.2500</td>\n",
       "      <td>0.209422</td>\n",
       "      <td>1.125410e-01</td>\n",
       "      <td>263.687100</td>\n",
       "      <td>2.004290e+04</td>\n",
       "      <td>95.523627</td>\n",
       "      <td>4.969454</td>\n",
       "      <td>4.318822</td>\n",
       "    </tr>\n",
       "    <tr>\n",
       "      <th>max</th>\n",
       "      <td>55439.000000</td>\n",
       "      <td>2019.0000</td>\n",
       "      <td>601.040490</td>\n",
       "      <td>6.115090e+02</td>\n",
       "      <td>127690.247059</td>\n",
       "      <td>7.714631e+06</td>\n",
       "      <td>1139.320598</td>\n",
       "      <td>166.913605</td>\n",
       "      <td>35584.933498</td>\n",
       "    </tr>\n",
       "  </tbody>\n",
       "</table>\n",
       "</div>"
      ],
      "text/plain": [
       "         Unnamed: 0        Year  Energy_consumption  Energy_production  \\\n",
       "count  55440.000000  55440.0000        44287.000000       4.428900e+04   \n",
       "mean   27719.500000   1999.5000            1.537811       1.532700e+00   \n",
       "std    16004.293799     11.5435           15.456596       1.530356e+01   \n",
       "min        0.000000   1980.0000           -0.163438      -1.000000e-39   \n",
       "25%    13859.750000   1989.7500            0.000000       0.000000e+00   \n",
       "50%    27719.500000   1999.5000            0.018381       5.121971e-04   \n",
       "75%    41579.250000   2009.2500            0.209422       1.125410e-01   \n",
       "max    55439.000000   2019.0000          601.040490       6.115090e+02   \n",
       "\n",
       "                 GDP    Population  Energy_intensity_per_capita  \\\n",
       "count   40026.000000  4.601400e+04                 50358.000000   \n",
       "mean      827.144126  6.263020e+04                    71.898914   \n",
       "std      5981.703144  4.562088e+05                   113.728738   \n",
       "min         0.124958  1.147100e+01                     0.000000   \n",
       "25%         9.737780  1.141950e+03                     3.799939   \n",
       "50%        47.757100  6.157680e+03                    29.779260   \n",
       "75%       263.687100  2.004290e+04                    95.523627   \n",
       "max    127690.247059  7.714631e+06                  1139.320598   \n",
       "\n",
       "       Energy_intensity_by_GDP  CO2_emission  \n",
       "count             50358.000000  51614.000000  \n",
       "mean                  3.695104     78.800082  \n",
       "std                   4.590735    902.221463  \n",
       "min                   0.000000     -0.005130  \n",
       "25%                   0.899446      0.000000  \n",
       "50%                   2.987593      0.000000  \n",
       "75%                   4.969454      4.318822  \n",
       "max                 166.913605  35584.933498  "
      ]
     },
     "execution_count": 9,
     "metadata": {},
     "output_type": "execute_result"
    }
   ],
   "source": [
    "df.describe()"
   ]
  },
  {
   "cell_type": "code",
   "execution_count": 22,
   "id": "71b36864-e423-43b5-b7f4-d6ed43f219c5",
   "metadata": {},
   "outputs": [
    {
     "data": {
      "text/html": [
       "<div>\n",
       "<style scoped>\n",
       "    .dataframe tbody tr th:only-of-type {\n",
       "        vertical-align: middle;\n",
       "    }\n",
       "\n",
       "    .dataframe tbody tr th {\n",
       "        vertical-align: top;\n",
       "    }\n",
       "\n",
       "    .dataframe thead th {\n",
       "        text-align: right;\n",
       "    }\n",
       "</style>\n",
       "<table border=\"1\" class=\"dataframe\">\n",
       "  <thead>\n",
       "    <tr style=\"text-align: right;\">\n",
       "      <th></th>\n",
       "      <th>Unnamed: 0</th>\n",
       "      <th>Country</th>\n",
       "      <th>Energy_type</th>\n",
       "      <th>Year</th>\n",
       "      <th>Energy_consumption</th>\n",
       "      <th>Energy_production</th>\n",
       "      <th>GDP</th>\n",
       "      <th>Population</th>\n",
       "      <th>Energy_intensity_per_capita</th>\n",
       "      <th>Energy_intensity_by_GDP</th>\n",
       "      <th>CO2_emission</th>\n",
       "    </tr>\n",
       "  </thead>\n",
       "  <tbody>\n",
       "    <tr>\n",
       "      <th>156</th>\n",
       "      <td>156</td>\n",
       "      <td>Brazil</td>\n",
       "      <td>all_energy_types</td>\n",
       "      <td>1980</td>\n",
       "      <td>3.896381</td>\n",
       "      <td>1.980661</td>\n",
       "      <td>1305.131</td>\n",
       "      <td>121050.8</td>\n",
       "      <td>32.187982</td>\n",
       "      <td>2.985433</td>\n",
       "      <td>NaN</td>\n",
       "    </tr>\n",
       "    <tr>\n",
       "      <th>157</th>\n",
       "      <td>157</td>\n",
       "      <td>Brazil</td>\n",
       "      <td>coal</td>\n",
       "      <td>1980</td>\n",
       "      <td>0.213716</td>\n",
       "      <td>0.083521</td>\n",
       "      <td>1305.131</td>\n",
       "      <td>121050.8</td>\n",
       "      <td>32.187982</td>\n",
       "      <td>2.985433</td>\n",
       "      <td>NaN</td>\n",
       "    </tr>\n",
       "    <tr>\n",
       "      <th>158</th>\n",
       "      <td>158</td>\n",
       "      <td>Brazil</td>\n",
       "      <td>natural_gas</td>\n",
       "      <td>1980</td>\n",
       "      <td>0.056616</td>\n",
       "      <td>0.056616</td>\n",
       "      <td>1305.131</td>\n",
       "      <td>121050.8</td>\n",
       "      <td>32.187982</td>\n",
       "      <td>2.985433</td>\n",
       "      <td>NaN</td>\n",
       "    </tr>\n",
       "    <tr>\n",
       "      <th>159</th>\n",
       "      <td>159</td>\n",
       "      <td>Brazil</td>\n",
       "      <td>petroleum_n_other_liquids</td>\n",
       "      <td>1980</td>\n",
       "      <td>2.256914</td>\n",
       "      <td>0.403013</td>\n",
       "      <td>1305.131</td>\n",
       "      <td>121050.8</td>\n",
       "      <td>32.187982</td>\n",
       "      <td>2.985433</td>\n",
       "      <td>NaN</td>\n",
       "    </tr>\n",
       "    <tr>\n",
       "      <th>160</th>\n",
       "      <td>160</td>\n",
       "      <td>Brazil</td>\n",
       "      <td>nuclear</td>\n",
       "      <td>1980</td>\n",
       "      <td>NaN</td>\n",
       "      <td>NaN</td>\n",
       "      <td>1305.131</td>\n",
       "      <td>121050.8</td>\n",
       "      <td>32.187982</td>\n",
       "      <td>2.985433</td>\n",
       "      <td>0.000000</td>\n",
       "    </tr>\n",
       "    <tr>\n",
       "      <th>...</th>\n",
       "      <td>...</td>\n",
       "      <td>...</td>\n",
       "      <td>...</td>\n",
       "      <td>...</td>\n",
       "      <td>...</td>\n",
       "      <td>...</td>\n",
       "      <td>...</td>\n",
       "      <td>...</td>\n",
       "      <td>...</td>\n",
       "      <td>...</td>\n",
       "      <td>...</td>\n",
       "    </tr>\n",
       "    <tr>\n",
       "      <th>54211</th>\n",
       "      <td>54211</td>\n",
       "      <td>Brazil</td>\n",
       "      <td>coal</td>\n",
       "      <td>2019</td>\n",
       "      <td>0.630787</td>\n",
       "      <td>0.091083</td>\n",
       "      <td>3041.299</td>\n",
       "      <td>211246.2</td>\n",
       "      <td>59.444496</td>\n",
       "      <td>4.128967</td>\n",
       "      <td>68.475038</td>\n",
       "    </tr>\n",
       "    <tr>\n",
       "      <th>54212</th>\n",
       "      <td>54212</td>\n",
       "      <td>Brazil</td>\n",
       "      <td>natural_gas</td>\n",
       "      <td>2019</td>\n",
       "      <td>1.212210</td>\n",
       "      <td>0.848214</td>\n",
       "      <td>3041.299</td>\n",
       "      <td>211246.2</td>\n",
       "      <td>59.444496</td>\n",
       "      <td>4.128967</td>\n",
       "      <td>64.863632</td>\n",
       "    </tr>\n",
       "    <tr>\n",
       "      <th>54213</th>\n",
       "      <td>54213</td>\n",
       "      <td>Brazil</td>\n",
       "      <td>petroleum_n_other_liquids</td>\n",
       "      <td>2019</td>\n",
       "      <td>5.889386</td>\n",
       "      <td>6.173855</td>\n",
       "      <td>3041.299</td>\n",
       "      <td>211246.2</td>\n",
       "      <td>59.444496</td>\n",
       "      <td>4.128967</td>\n",
       "      <td>320.104603</td>\n",
       "    </tr>\n",
       "    <tr>\n",
       "      <th>54214</th>\n",
       "      <td>54214</td>\n",
       "      <td>Brazil</td>\n",
       "      <td>nuclear</td>\n",
       "      <td>2019</td>\n",
       "      <td>0.157675</td>\n",
       "      <td>0.157675</td>\n",
       "      <td>3041.299</td>\n",
       "      <td>211246.2</td>\n",
       "      <td>59.444496</td>\n",
       "      <td>4.128967</td>\n",
       "      <td>0.000000</td>\n",
       "    </tr>\n",
       "    <tr>\n",
       "      <th>54215</th>\n",
       "      <td>54215</td>\n",
       "      <td>Brazil</td>\n",
       "      <td>renewables_n_other</td>\n",
       "      <td>2019</td>\n",
       "      <td>4.667366</td>\n",
       "      <td>5.442417</td>\n",
       "      <td>3041.299</td>\n",
       "      <td>211246.2</td>\n",
       "      <td>59.444496</td>\n",
       "      <td>4.128967</td>\n",
       "      <td>0.000000</td>\n",
       "    </tr>\n",
       "  </tbody>\n",
       "</table>\n",
       "<p>240 rows × 11 columns</p>\n",
       "</div>"
      ],
      "text/plain": [
       "       Unnamed: 0 Country                Energy_type  Year  \\\n",
       "156           156  Brazil           all_energy_types  1980   \n",
       "157           157  Brazil                       coal  1980   \n",
       "158           158  Brazil                natural_gas  1980   \n",
       "159           159  Brazil  petroleum_n_other_liquids  1980   \n",
       "160           160  Brazil                    nuclear  1980   \n",
       "...           ...     ...                        ...   ...   \n",
       "54211       54211  Brazil                       coal  2019   \n",
       "54212       54212  Brazil                natural_gas  2019   \n",
       "54213       54213  Brazil  petroleum_n_other_liquids  2019   \n",
       "54214       54214  Brazil                    nuclear  2019   \n",
       "54215       54215  Brazil         renewables_n_other  2019   \n",
       "\n",
       "       Energy_consumption  Energy_production       GDP  Population  \\\n",
       "156              3.896381           1.980661  1305.131    121050.8   \n",
       "157              0.213716           0.083521  1305.131    121050.8   \n",
       "158              0.056616           0.056616  1305.131    121050.8   \n",
       "159              2.256914           0.403013  1305.131    121050.8   \n",
       "160                   NaN                NaN  1305.131    121050.8   \n",
       "...                   ...                ...       ...         ...   \n",
       "54211            0.630787           0.091083  3041.299    211246.2   \n",
       "54212            1.212210           0.848214  3041.299    211246.2   \n",
       "54213            5.889386           6.173855  3041.299    211246.2   \n",
       "54214            0.157675           0.157675  3041.299    211246.2   \n",
       "54215            4.667366           5.442417  3041.299    211246.2   \n",
       "\n",
       "       Energy_intensity_per_capita  Energy_intensity_by_GDP  CO2_emission  \n",
       "156                      32.187982                 2.985433           NaN  \n",
       "157                      32.187982                 2.985433           NaN  \n",
       "158                      32.187982                 2.985433           NaN  \n",
       "159                      32.187982                 2.985433           NaN  \n",
       "160                      32.187982                 2.985433      0.000000  \n",
       "...                            ...                      ...           ...  \n",
       "54211                    59.444496                 4.128967     68.475038  \n",
       "54212                    59.444496                 4.128967     64.863632  \n",
       "54213                    59.444496                 4.128967    320.104603  \n",
       "54214                    59.444496                 4.128967      0.000000  \n",
       "54215                    59.444496                 4.128967      0.000000  \n",
       "\n",
       "[240 rows x 11 columns]"
      ]
     },
     "execution_count": 22,
     "metadata": {},
     "output_type": "execute_result"
    }
   ],
   "source": [
    "df[df['Country'] == 'Brazil']"
   ]
  },
  {
   "cell_type": "code",
   "execution_count": 23,
   "id": "e5c02152-2c57-4de1-97bb-5c7114990f3c",
   "metadata": {},
   "outputs": [],
   "source": [
    "countries = ['China', 'Brazil', 'Russia', 'United States']"
   ]
  },
  {
   "cell_type": "code",
   "execution_count": 25,
   "id": "f74f9335-48aa-4ca8-a41a-9e610ec2d094",
   "metadata": {},
   "outputs": [],
   "source": [
    "df1 = df[df.Country.isin(countries)]"
   ]
  },
  {
   "cell_type": "code",
   "execution_count": 31,
   "id": "a9b3c26b-d6e1-46d3-be74-7b9571e696f5",
   "metadata": {},
   "outputs": [
    {
     "data": {
      "text/html": [
       "<div>\n",
       "<style scoped>\n",
       "    .dataframe tbody tr th:only-of-type {\n",
       "        vertical-align: middle;\n",
       "    }\n",
       "\n",
       "    .dataframe tbody tr th {\n",
       "        vertical-align: top;\n",
       "    }\n",
       "\n",
       "    .dataframe thead th {\n",
       "        text-align: right;\n",
       "    }\n",
       "</style>\n",
       "<table border=\"1\" class=\"dataframe\">\n",
       "  <thead>\n",
       "    <tr style=\"text-align: right;\">\n",
       "      <th></th>\n",
       "      <th>Unnamed: 0</th>\n",
       "      <th>Country</th>\n",
       "      <th>Energy_type</th>\n",
       "      <th>Year</th>\n",
       "      <th>Energy_consumption</th>\n",
       "      <th>Energy_production</th>\n",
       "      <th>GDP</th>\n",
       "      <th>Population</th>\n",
       "      <th>Energy_intensity_per_capita</th>\n",
       "      <th>Energy_intensity_by_GDP</th>\n",
       "      <th>CO2_emission</th>\n",
       "    </tr>\n",
       "  </thead>\n",
       "  <tbody>\n",
       "    <tr>\n",
       "      <th>156</th>\n",
       "      <td>156</td>\n",
       "      <td>Brazil</td>\n",
       "      <td>all_energy_types</td>\n",
       "      <td>1980</td>\n",
       "      <td>3.896381</td>\n",
       "      <td>1.980661</td>\n",
       "      <td>1305.131</td>\n",
       "      <td>121050.8</td>\n",
       "      <td>32.187982</td>\n",
       "      <td>2.985433</td>\n",
       "      <td>NaN</td>\n",
       "    </tr>\n",
       "    <tr>\n",
       "      <th>157</th>\n",
       "      <td>157</td>\n",
       "      <td>Brazil</td>\n",
       "      <td>coal</td>\n",
       "      <td>1980</td>\n",
       "      <td>0.213716</td>\n",
       "      <td>0.083521</td>\n",
       "      <td>1305.131</td>\n",
       "      <td>121050.8</td>\n",
       "      <td>32.187982</td>\n",
       "      <td>2.985433</td>\n",
       "      <td>NaN</td>\n",
       "    </tr>\n",
       "    <tr>\n",
       "      <th>158</th>\n",
       "      <td>158</td>\n",
       "      <td>Brazil</td>\n",
       "      <td>natural_gas</td>\n",
       "      <td>1980</td>\n",
       "      <td>0.056616</td>\n",
       "      <td>0.056616</td>\n",
       "      <td>1305.131</td>\n",
       "      <td>121050.8</td>\n",
       "      <td>32.187982</td>\n",
       "      <td>2.985433</td>\n",
       "      <td>NaN</td>\n",
       "    </tr>\n",
       "    <tr>\n",
       "      <th>159</th>\n",
       "      <td>159</td>\n",
       "      <td>Brazil</td>\n",
       "      <td>petroleum_n_other_liquids</td>\n",
       "      <td>1980</td>\n",
       "      <td>2.256914</td>\n",
       "      <td>0.403013</td>\n",
       "      <td>1305.131</td>\n",
       "      <td>121050.8</td>\n",
       "      <td>32.187982</td>\n",
       "      <td>2.985433</td>\n",
       "      <td>NaN</td>\n",
       "    </tr>\n",
       "    <tr>\n",
       "      <th>160</th>\n",
       "      <td>160</td>\n",
       "      <td>Brazil</td>\n",
       "      <td>nuclear</td>\n",
       "      <td>1980</td>\n",
       "      <td>NaN</td>\n",
       "      <td>NaN</td>\n",
       "      <td>1305.131</td>\n",
       "      <td>121050.8</td>\n",
       "      <td>32.187982</td>\n",
       "      <td>2.985433</td>\n",
       "      <td>0.000000</td>\n",
       "    </tr>\n",
       "    <tr>\n",
       "      <th>...</th>\n",
       "      <td>...</td>\n",
       "      <td>...</td>\n",
       "      <td>...</td>\n",
       "      <td>...</td>\n",
       "      <td>...</td>\n",
       "      <td>...</td>\n",
       "      <td>...</td>\n",
       "      <td>...</td>\n",
       "      <td>...</td>\n",
       "      <td>...</td>\n",
       "      <td>...</td>\n",
       "    </tr>\n",
       "    <tr>\n",
       "      <th>55375</th>\n",
       "      <td>55375</td>\n",
       "      <td>United States</td>\n",
       "      <td>coal</td>\n",
       "      <td>2019</td>\n",
       "      <td>11.315595</td>\n",
       "      <td>14.255763</td>\n",
       "      <td>19925.430</td>\n",
       "      <td>330043.8</td>\n",
       "      <td>304.305271</td>\n",
       "      <td>5.040497</td>\n",
       "      <td>1262.555409</td>\n",
       "    </tr>\n",
       "    <tr>\n",
       "      <th>55376</th>\n",
       "      <td>55376</td>\n",
       "      <td>United States</td>\n",
       "      <td>natural_gas</td>\n",
       "      <td>2019</td>\n",
       "      <td>32.252007</td>\n",
       "      <td>35.187183</td>\n",
       "      <td>19925.430</td>\n",
       "      <td>330043.8</td>\n",
       "      <td>304.305271</td>\n",
       "      <td>5.040497</td>\n",
       "      <td>1626.410978</td>\n",
       "    </tr>\n",
       "    <tr>\n",
       "      <th>55377</th>\n",
       "      <td>55377</td>\n",
       "      <td>United States</td>\n",
       "      <td>petroleum_n_other_liquids</td>\n",
       "      <td>2019</td>\n",
       "      <td>38.329386</td>\n",
       "      <td>31.910982</td>\n",
       "      <td>19925.430</td>\n",
       "      <td>330043.8</td>\n",
       "      <td>304.305271</td>\n",
       "      <td>5.040497</td>\n",
       "      <td>2388.226367</td>\n",
       "    </tr>\n",
       "    <tr>\n",
       "      <th>55378</th>\n",
       "      <td>55378</td>\n",
       "      <td>United States</td>\n",
       "      <td>nuclear</td>\n",
       "      <td>2019</td>\n",
       "      <td>8.451852</td>\n",
       "      <td>8.451852</td>\n",
       "      <td>19925.430</td>\n",
       "      <td>330043.8</td>\n",
       "      <td>304.305271</td>\n",
       "      <td>5.040497</td>\n",
       "      <td>0.000000</td>\n",
       "    </tr>\n",
       "    <tr>\n",
       "      <th>55379</th>\n",
       "      <td>55379</td>\n",
       "      <td>United States</td>\n",
       "      <td>renewables_n_other</td>\n",
       "      <td>2019</td>\n",
       "      <td>11.436136</td>\n",
       "      <td>11.595138</td>\n",
       "      <td>19925.430</td>\n",
       "      <td>330043.8</td>\n",
       "      <td>304.305271</td>\n",
       "      <td>5.040497</td>\n",
       "      <td>0.000000</td>\n",
       "    </tr>\n",
       "  </tbody>\n",
       "</table>\n",
       "<p>960 rows × 11 columns</p>\n",
       "</div>"
      ],
      "text/plain": [
       "       Unnamed: 0        Country                Energy_type  Year  \\\n",
       "156           156         Brazil           all_energy_types  1980   \n",
       "157           157         Brazil                       coal  1980   \n",
       "158           158         Brazil                natural_gas  1980   \n",
       "159           159         Brazil  petroleum_n_other_liquids  1980   \n",
       "160           160         Brazil                    nuclear  1980   \n",
       "...           ...            ...                        ...   ...   \n",
       "55375       55375  United States                       coal  2019   \n",
       "55376       55376  United States                natural_gas  2019   \n",
       "55377       55377  United States  petroleum_n_other_liquids  2019   \n",
       "55378       55378  United States                    nuclear  2019   \n",
       "55379       55379  United States         renewables_n_other  2019   \n",
       "\n",
       "       Energy_consumption  Energy_production        GDP  Population  \\\n",
       "156              3.896381           1.980661   1305.131    121050.8   \n",
       "157              0.213716           0.083521   1305.131    121050.8   \n",
       "158              0.056616           0.056616   1305.131    121050.8   \n",
       "159              2.256914           0.403013   1305.131    121050.8   \n",
       "160                   NaN                NaN   1305.131    121050.8   \n",
       "...                   ...                ...        ...         ...   \n",
       "55375           11.315595          14.255763  19925.430    330043.8   \n",
       "55376           32.252007          35.187183  19925.430    330043.8   \n",
       "55377           38.329386          31.910982  19925.430    330043.8   \n",
       "55378            8.451852           8.451852  19925.430    330043.8   \n",
       "55379           11.436136          11.595138  19925.430    330043.8   \n",
       "\n",
       "       Energy_intensity_per_capita  Energy_intensity_by_GDP  CO2_emission  \n",
       "156                      32.187982                 2.985433           NaN  \n",
       "157                      32.187982                 2.985433           NaN  \n",
       "158                      32.187982                 2.985433           NaN  \n",
       "159                      32.187982                 2.985433           NaN  \n",
       "160                      32.187982                 2.985433      0.000000  \n",
       "...                            ...                      ...           ...  \n",
       "55375                   304.305271                 5.040497   1262.555409  \n",
       "55376                   304.305271                 5.040497   1626.410978  \n",
       "55377                   304.305271                 5.040497   2388.226367  \n",
       "55378                   304.305271                 5.040497      0.000000  \n",
       "55379                   304.305271                 5.040497      0.000000  \n",
       "\n",
       "[960 rows x 11 columns]"
      ]
     },
     "execution_count": 31,
     "metadata": {},
     "output_type": "execute_result"
    }
   ],
   "source": [
    "df1"
   ]
  },
  {
   "cell_type": "code",
   "execution_count": 28,
   "id": "07efe2d9-09cf-43e9-83fb-c45c4f71510a",
   "metadata": {},
   "outputs": [
    {
     "data": {
      "text/plain": [
       "Index(['Unnamed: 0', 'Country', 'Energy_type', 'Year', 'Energy_consumption',\n",
       "       'Energy_production', 'GDP', 'Population', 'Energy_intensity_per_capita',\n",
       "       'Energy_intensity_by_GDP', 'CO2_emission'],\n",
       "      dtype='object')"
      ]
     },
     "execution_count": 28,
     "metadata": {},
     "output_type": "execute_result"
    }
   ],
   "source": [
    "df1.columns"
   ]
  },
  {
   "cell_type": "code",
   "execution_count": 103,
   "id": "b482f195-3972-4b69-8bbd-e7732603f70b",
   "metadata": {},
   "outputs": [
    {
     "data": {
      "application/vnd.plotly.v1+json": {
       "config": {
        "plotlyServerURL": "https://plot.ly"
       },
       "data": [
        {
         "alignmentgroup": "True",
         "hovertemplate": "Países=%{x}<br>Year=2019<br>CO2_emission=%{y}<extra></extra>",
         "ids": [
          "Brazil",
          "Brazil",
          "Brazil",
          "Brazil",
          "Brazil",
          "Brazil"
         ],
         "legendgroup": "Brazil",
         "marker": {
          "color": "#AB63FA",
          "pattern": {
           "shape": ""
          }
         },
         "name": "Brazil",
         "offsetgroup": "Brazil",
         "orientation": "v",
         "showlegend": true,
         "textposition": "auto",
         "type": "bar",
         "x": [
          "Brazil",
          "Brazil",
          "Brazil",
          "Brazil",
          "Brazil",
          "Brazil"
         ],
         "xaxis": "x",
         "y": [
          453.443272227,
          68.47503768728932,
          64.86363154,
          320.104603,
          0,
          0
         ],
         "yaxis": "y"
        },
        {
         "alignmentgroup": "True",
         "hovertemplate": "Países=%{x}<br>Year=2019<br>CO2_emission=%{y}<extra></extra>",
         "ids": [
          "China",
          "China",
          "China",
          "China",
          "China",
          "China"
         ],
         "legendgroup": "China",
         "marker": {
          "color": "#EF553B",
          "pattern": {
           "shape": ""
          }
         },
         "name": "China",
         "offsetgroup": "China",
         "orientation": "v",
         "showlegend": true,
         "textposition": "auto",
         "type": "bar",
         "x": [
          "China",
          "China",
          "China",
          "China",
          "China",
          "China"
         ],
         "xaxis": "x",
         "y": [
          10608.600386434,
          8546.287449820698,
          548.698591813,
          1513.6143448,
          0,
          0
         ],
         "yaxis": "y"
        },
        {
         "alignmentgroup": "True",
         "hovertemplate": "Países=%{x}<br>Year=2019<br>CO2_emission=%{y}<extra></extra>",
         "ids": [
          "Russia",
          "Russia",
          "Russia",
          "Russia",
          "Russia",
          "Russia"
         ],
         "legendgroup": "Russia",
         "marker": {
          "color": "#00CC96",
          "pattern": {
           "shape": ""
          }
         },
         "name": "Russia",
         "offsetgroup": "Russia",
         "orientation": "v",
         "showlegend": true,
         "textposition": "auto",
         "type": "bar",
         "x": [
          "Russia",
          "Russia",
          "Russia",
          "Russia",
          "Russia",
          "Russia"
         ],
         "xaxis": "x",
         "y": [
          1798.242238512,
          445.8627903107092,
          943.331800861,
          409.04764734,
          0,
          0
         ],
         "yaxis": "y"
        },
        {
         "alignmentgroup": "True",
         "hovertemplate": "Países=%{x}<br>Year=2019<br>CO2_emission=%{y}<extra></extra>",
         "ids": [
          "United States",
          "United States",
          "United States",
          "United States",
          "United States",
          "United States"
         ],
         "legendgroup": "United States",
         "marker": {
          "color": "#ABC3FA",
          "pattern": {
           "shape": ""
          }
         },
         "name": "United States",
         "offsetgroup": "United States",
         "orientation": "v",
         "showlegend": true,
         "textposition": "auto",
         "type": "bar",
         "x": [
          "United States",
          "United States",
          "United States",
          "United States",
          "United States",
          "United States"
         ],
         "xaxis": "x",
         "y": [
          5277.192754,
          1262.555409,
          1626.410978,
          2388.226367,
          0,
          0
         ],
         "yaxis": "y"
        }
       ],
       "frames": [
        {
         "data": [
          {
           "alignmentgroup": "True",
           "hovertemplate": "Países=%{x}<br>Year=1980<br>CO2_emission=%{y}<extra></extra>",
           "ids": [
            "Brazil",
            "Brazil",
            "Brazil",
            "Brazil",
            "Brazil",
            "Brazil"
           ],
           "legendgroup": "Brazil",
           "marker": {
            "color": "#AB63FA",
            "pattern": {
             "shape": ""
            }
           },
           "name": "Brazil",
           "offsetgroup": "Brazil",
           "orientation": "v",
           "showlegend": true,
           "textposition": "auto",
           "type": "bar",
           "x": [
            "Brazil",
            "Brazil",
            "Brazil",
            "Brazil",
            "Brazil",
            "Brazil"
           ],
           "xaxis": "x",
           "y": [
            null,
            null,
            null,
            null,
            0,
            0
           ],
           "yaxis": "y"
          },
          {
           "alignmentgroup": "True",
           "hovertemplate": "Países=%{x}<br>Year=1980<br>CO2_emission=%{y}<extra></extra>",
           "ids": [
            "China",
            "China",
            "China",
            "China",
            "China",
            "China"
           ],
           "legendgroup": "China",
           "marker": {
            "color": "#EF553B",
            "pattern": {
             "shape": ""
            }
           },
           "name": "China",
           "offsetgroup": "China",
           "orientation": "v",
           "showlegend": true,
           "textposition": "auto",
           "type": "bar",
           "x": [
            "China",
            "China",
            "China",
            "China",
            "China",
            "China"
           ],
           "xaxis": "x",
           "y": [
            null,
            null,
            null,
            null,
            0,
            0
           ],
           "yaxis": "y"
          },
          {
           "alignmentgroup": "True",
           "hovertemplate": "Países=%{x}<br>Year=1980<br>CO2_emission=%{y}<extra></extra>",
           "ids": [
            "Russia",
            "Russia",
            "Russia",
            "Russia",
            "Russia",
            "Russia"
           ],
           "legendgroup": "Russia",
           "marker": {
            "color": "#00CC96",
            "pattern": {
             "shape": ""
            }
           },
           "name": "Russia",
           "offsetgroup": "Russia",
           "orientation": "v",
           "showlegend": true,
           "textposition": "auto",
           "type": "bar",
           "x": [
            "Russia",
            "Russia",
            "Russia",
            "Russia",
            "Russia",
            "Russia"
           ],
           "xaxis": "x",
           "y": [
            null,
            null,
            null,
            null,
            0,
            0
           ],
           "yaxis": "y"
          },
          {
           "alignmentgroup": "True",
           "hovertemplate": "Países=%{x}<br>Year=1980<br>CO2_emission=%{y}<extra></extra>",
           "ids": [
            "United States",
            "United States",
            "United States",
            "United States",
            "United States",
            "United States"
           ],
           "legendgroup": "United States",
           "marker": {
            "color": "#ABC3FA",
            "pattern": {
             "shape": ""
            }
           },
           "name": "United States",
           "offsetgroup": "United States",
           "orientation": "v",
           "showlegend": true,
           "textposition": "auto",
           "type": "bar",
           "x": [
            "United States",
            "United States",
            "United States",
            "United States",
            "United States",
            "United States"
           ],
           "xaxis": "x",
           "y": [
            4946.62713,
            1409.790188,
            1081.593377,
            2455.243565,
            0,
            0
           ],
           "yaxis": "y"
          }
         ],
         "name": "1980"
        },
        {
         "data": [
          {
           "alignmentgroup": "True",
           "hovertemplate": "Países=%{x}<br>Year=1981<br>CO2_emission=%{y}<extra></extra>",
           "ids": [
            "Brazil",
            "Brazil",
            "Brazil",
            "Brazil",
            "Brazil",
            "Brazil"
           ],
           "legendgroup": "Brazil",
           "marker": {
            "color": "#AB63FA",
            "pattern": {
             "shape": ""
            }
           },
           "name": "Brazil",
           "offsetgroup": "Brazil",
           "orientation": "v",
           "showlegend": true,
           "textposition": "auto",
           "type": "bar",
           "x": [
            "Brazil",
            "Brazil",
            "Brazil",
            "Brazil",
            "Brazil",
            "Brazil"
           ],
           "xaxis": "x",
           "y": [
            187.731100826,
            21.950474586347248,
            3.00385624,
            162.77677,
            0,
            0
           ],
           "yaxis": "y"
          },
          {
           "alignmentgroup": "True",
           "hovertemplate": "Países=%{x}<br>Year=1981<br>CO2_emission=%{y}<extra></extra>",
           "ids": [
            "China",
            "China",
            "China",
            "China",
            "China",
            "China"
           ],
           "legendgroup": "China",
           "marker": {
            "color": "#EF553B",
            "pattern": {
             "shape": ""
            }
           },
           "name": "China",
           "offsetgroup": "China",
           "orientation": "v",
           "showlegend": true,
           "textposition": "auto",
           "type": "bar",
           "x": [
            "China",
            "China",
            "China",
            "China",
            "China",
            "China"
           ],
           "xaxis": "x",
           "y": [
            1596.69638631,
            1309.9852535267282,
            30.839452783,
            255.87168,
            0,
            0
           ],
           "yaxis": "y"
          },
          {
           "alignmentgroup": "True",
           "hovertemplate": "Países=%{x}<br>Year=1981<br>CO2_emission=%{y}<extra></extra>",
           "ids": [
            "Russia",
            "Russia",
            "Russia",
            "Russia",
            "Russia",
            "Russia"
           ],
           "legendgroup": "Russia",
           "marker": {
            "color": "#00CC96",
            "pattern": {
             "shape": ""
            }
           },
           "name": "Russia",
           "offsetgroup": "Russia",
           "orientation": "v",
           "showlegend": true,
           "textposition": "auto",
           "type": "bar",
           "x": [
            "Russia",
            "Russia",
            "Russia",
            "Russia",
            "Russia",
            "Russia"
           ],
           "xaxis": "x",
           "y": [
            null,
            null,
            null,
            null,
            0,
            0
           ],
           "yaxis": "y"
          },
          {
           "alignmentgroup": "True",
           "hovertemplate": "Países=%{x}<br>Year=1981<br>CO2_emission=%{y}<extra></extra>",
           "ids": [
            "United States",
            "United States",
            "United States",
            "United States",
            "United States",
            "United States"
           ],
           "legendgroup": "United States",
           "marker": {
            "color": "#ABC3FA",
            "pattern": {
             "shape": ""
            }
           },
           "name": "United States",
           "offsetgroup": "United States",
           "orientation": "v",
           "showlegend": true,
           "textposition": "auto",
           "type": "bar",
           "x": [
            "United States",
            "United States",
            "United States",
            "United States",
            "United States",
            "United States"
           ],
           "xaxis": "x",
           "y": [
            4756.270103,
            1453.794003,
            1058.053976,
            2244.422124,
            0,
            0
           ],
           "yaxis": "y"
          }
         ],
         "name": "1981"
        },
        {
         "data": [
          {
           "alignmentgroup": "True",
           "hovertemplate": "Países=%{x}<br>Year=1982<br>CO2_emission=%{y}<extra></extra>",
           "ids": [
            "Brazil",
            "Brazil",
            "Brazil",
            "Brazil",
            "Brazil",
            "Brazil"
           ],
           "legendgroup": "Brazil",
           "marker": {
            "color": "#AB63FA",
            "pattern": {
             "shape": ""
            }
           },
           "name": "Brazil",
           "offsetgroup": "Brazil",
           "orientation": "v",
           "showlegend": true,
           "textposition": "auto",
           "type": "bar",
           "x": [
            "Brazil",
            "Brazil",
            "Brazil",
            "Brazil",
            "Brazil",
            "Brazil"
           ],
           "xaxis": "x",
           "y": [
            178.096623767,
            22.09276752690462,
            3.00385624,
            153,
            0,
            0
           ],
           "yaxis": "y"
          },
          {
           "alignmentgroup": "True",
           "hovertemplate": "Países=%{x}<br>Year=1982<br>CO2_emission=%{y}<extra></extra>",
           "ids": [
            "China",
            "China",
            "China",
            "China",
            "China",
            "China"
           ],
           "legendgroup": "China",
           "marker": {
            "color": "#EF553B",
            "pattern": {
             "shape": ""
            }
           },
           "name": "China",
           "offsetgroup": "China",
           "orientation": "v",
           "showlegend": true,
           "textposition": "auto",
           "type": "bar",
           "x": [
            "China",
            "China",
            "China",
            "China",
            "China",
            "China"
           ],
           "xaxis": "x",
           "y": [
            1587.190303195,
            1312.709602694507,
            27.4807005,
            247,
            0,
            0
           ],
           "yaxis": "y"
          },
          {
           "alignmentgroup": "True",
           "hovertemplate": "Países=%{x}<br>Year=1982<br>CO2_emission=%{y}<extra></extra>",
           "ids": [
            "Russia",
            "Russia",
            "Russia",
            "Russia",
            "Russia",
            "Russia"
           ],
           "legendgroup": "Russia",
           "marker": {
            "color": "#00CC96",
            "pattern": {
             "shape": ""
            }
           },
           "name": "Russia",
           "offsetgroup": "Russia",
           "orientation": "v",
           "showlegend": true,
           "textposition": "auto",
           "type": "bar",
           "x": [
            "Russia",
            "Russia",
            "Russia",
            "Russia",
            "Russia",
            "Russia"
           ],
           "xaxis": "x",
           "y": [
            null,
            null,
            null,
            null,
            0,
            0
           ],
           "yaxis": "y"
          },
          {
           "alignmentgroup": "True",
           "hovertemplate": "Países=%{x}<br>Year=1982<br>CO2_emission=%{y}<extra></extra>",
           "ids": [
            "United States",
            "United States",
            "United States",
            "United States",
            "United States",
            "United States"
           ],
           "legendgroup": "United States",
           "marker": {
            "color": "#ABC3FA",
            "pattern": {
             "shape": ""
            }
           },
           "name": "United States",
           "offsetgroup": "United States",
           "orientation": "v",
           "showlegend": true,
           "textposition": "auto",
           "type": "bar",
           "x": [
            "United States",
            "United States",
            "United States",
            "United States",
            "United States",
            "United States"
           ],
           "xaxis": "x",
           "y": [
            4636.631469,
            1502.932302,
            1032.089207,
            2101.60996,
            0,
            0
           ],
           "yaxis": "y"
          }
         ],
         "name": "1982"
        },
        {
         "data": [
          {
           "alignmentgroup": "True",
           "hovertemplate": "Países=%{x}<br>Year=1983<br>CO2_emission=%{y}<extra></extra>",
           "ids": [
            "Brazil",
            "Brazil",
            "Brazil",
            "Brazil",
            "Brazil",
            "Brazil"
           ],
           "legendgroup": "Brazil",
           "marker": {
            "color": "#AB63FA",
            "pattern": {
             "shape": ""
            }
           },
           "name": "Brazil",
           "offsetgroup": "Brazil",
           "orientation": "v",
           "showlegend": true,
           "textposition": "auto",
           "type": "bar",
           "x": [
            "Brazil",
            "Brazil",
            "Brazil",
            "Brazil",
            "Brazil",
            "Brazil"
           ],
           "xaxis": "x",
           "y": [
            174.065355486,
            22.363603906470782,
            2.70175158,
            149,
            0,
            0
           ],
           "yaxis": "y"
          },
          {
           "alignmentgroup": "True",
           "hovertemplate": "Países=%{x}<br>Year=1983<br>CO2_emission=%{y}<extra></extra>",
           "ids": [
            "China",
            "China",
            "China",
            "China",
            "China",
            "China"
           ],
           "legendgroup": "China",
           "marker": {
            "color": "#EF553B",
            "pattern": {
             "shape": ""
            }
           },
           "name": "China",
           "offsetgroup": "China",
           "orientation": "v",
           "showlegend": true,
           "textposition": "auto",
           "type": "bar",
           "x": [
            "China",
            "China",
            "China",
            "China",
            "China",
            "China"
           ],
           "xaxis": "x",
           "y": [
            1671.101704097,
            1407.8347110071793,
            23.26699309,
            240,
            0,
            0
           ],
           "yaxis": "y"
          },
          {
           "alignmentgroup": "True",
           "hovertemplate": "Países=%{x}<br>Year=1983<br>CO2_emission=%{y}<extra></extra>",
           "ids": [
            "Russia",
            "Russia",
            "Russia",
            "Russia",
            "Russia",
            "Russia"
           ],
           "legendgroup": "Russia",
           "marker": {
            "color": "#00CC96",
            "pattern": {
             "shape": ""
            }
           },
           "name": "Russia",
           "offsetgroup": "Russia",
           "orientation": "v",
           "showlegend": true,
           "textposition": "auto",
           "type": "bar",
           "x": [
            "Russia",
            "Russia",
            "Russia",
            "Russia",
            "Russia",
            "Russia"
           ],
           "xaxis": "x",
           "y": [
            null,
            null,
            null,
            null,
            0,
            0
           ],
           "yaxis": "y"
          },
          {
           "alignmentgroup": "True",
           "hovertemplate": "Países=%{x}<br>Year=1983<br>CO2_emission=%{y}<extra></extra>",
           "ids": [
            "United States",
            "United States",
            "United States",
            "United States",
            "United States",
            "United States"
           ],
           "legendgroup": "United States",
           "marker": {
            "color": "#ABC3FA",
            "pattern": {
             "shape": ""
            }
           },
           "name": "United States",
           "offsetgroup": "United States",
           "orientation": "v",
           "showlegend": true,
           "textposition": "auto",
           "type": "bar",
           "x": [
            "United States",
            "United States",
            "United States",
            "United States",
            "United States",
            "United States"
           ],
           "xaxis": "x",
           "y": [
            4404.434841,
            1449.084615,
            960.901404,
            1994.448822,
            0,
            0
           ],
           "yaxis": "y"
          }
         ],
         "name": "1983"
        },
        {
         "data": [
          {
           "alignmentgroup": "True",
           "hovertemplate": "Países=%{x}<br>Year=1984<br>CO2_emission=%{y}<extra></extra>",
           "ids": [
            "Brazil",
            "Brazil",
            "Brazil",
            "Brazil",
            "Brazil",
            "Brazil"
           ],
           "legendgroup": "Brazil",
           "marker": {
            "color": "#AB63FA",
            "pattern": {
             "shape": ""
            }
           },
           "name": "Brazil",
           "offsetgroup": "Brazil",
           "orientation": "v",
           "showlegend": true,
           "textposition": "auto",
           "type": "bar",
           "x": [
            "Brazil",
            "Brazil",
            "Brazil",
            "Brazil",
            "Brazil",
            "Brazil"
           ],
           "xaxis": "x",
           "y": [
            166.134085081,
            25.786262470681216,
            3.34782261,
            137,
            0,
            0
           ],
           "yaxis": "y"
          },
          {
           "alignmentgroup": "True",
           "hovertemplate": "Países=%{x}<br>Year=1984<br>CO2_emission=%{y}<extra></extra>",
           "ids": [
            "China",
            "China",
            "China",
            "China",
            "China",
            "China"
           ],
           "legendgroup": "China",
           "marker": {
            "color": "#EF553B",
            "pattern": {
             "shape": ""
            }
           },
           "name": "China",
           "offsetgroup": "China",
           "orientation": "v",
           "showlegend": true,
           "textposition": "auto",
           "type": "bar",
           "x": [
            "China",
            "China",
            "China",
            "China",
            "China",
            "China"
           ],
           "xaxis": "x",
           "y": [
            1785.801618532,
            1510.4812142752014,
            26.320404257,
            249,
            0,
            0
           ],
           "yaxis": "y"
          },
          {
           "alignmentgroup": "True",
           "hovertemplate": "Países=%{x}<br>Year=1984<br>CO2_emission=%{y}<extra></extra>",
           "ids": [
            "Russia",
            "Russia",
            "Russia",
            "Russia",
            "Russia",
            "Russia"
           ],
           "legendgroup": "Russia",
           "marker": {
            "color": "#00CC96",
            "pattern": {
             "shape": ""
            }
           },
           "name": "Russia",
           "offsetgroup": "Russia",
           "orientation": "v",
           "showlegend": true,
           "textposition": "auto",
           "type": "bar",
           "x": [
            "Russia",
            "Russia",
            "Russia",
            "Russia",
            "Russia",
            "Russia"
           ],
           "xaxis": "x",
           "y": [
            null,
            null,
            null,
            null,
            0,
            0
           ],
           "yaxis": "y"
          },
          {
           "alignmentgroup": "True",
           "hovertemplate": "Países=%{x}<br>Year=1984<br>CO2_emission=%{y}<extra></extra>",
           "ids": [
            "United States",
            "United States",
            "United States",
            "United States",
            "United States",
            "United States"
           ],
           "legendgroup": "United States",
           "marker": {
            "color": "#ABC3FA",
            "pattern": {
             "shape": ""
            }
           },
           "name": "United States",
           "offsetgroup": "United States",
           "orientation": "v",
           "showlegend": true,
           "textposition": "auto",
           "type": "bar",
           "x": [
            "United States",
            "United States",
            "United States",
            "United States",
            "United States",
            "United States"
           ],
           "xaxis": "x",
           "y": [
            4383.942232,
            1504.795517,
            901.093998,
            1978.052717,
            0,
            0
           ],
           "yaxis": "y"
          }
         ],
         "name": "1984"
        },
        {
         "data": [
          {
           "alignmentgroup": "True",
           "hovertemplate": "Países=%{x}<br>Year=1985<br>CO2_emission=%{y}<extra></extra>",
           "ids": [
            "Brazil",
            "Brazil",
            "Brazil",
            "Brazil",
            "Brazil",
            "Brazil"
           ],
           "legendgroup": "Brazil",
           "marker": {
            "color": "#AB63FA",
            "pattern": {
             "shape": ""
            }
           },
           "name": "Brazil",
           "offsetgroup": "Brazil",
           "orientation": "v",
           "showlegend": true,
           "textposition": "auto",
           "type": "bar",
           "x": [
            "Brazil",
            "Brazil",
            "Brazil",
            "Brazil",
            "Brazil",
            "Brazil"
           ],
           "xaxis": "x",
           "y": [
            181.00356415,
            31.657268129976885,
            4.34629602,
            145,
            0,
            0
           ],
           "yaxis": "y"
          },
          {
           "alignmentgroup": "True",
           "hovertemplate": "Países=%{x}<br>Year=1985<br>CO2_emission=%{y}<extra></extra>",
           "ids": [
            "China",
            "China",
            "China",
            "China",
            "China",
            "China"
           ],
           "legendgroup": "China",
           "marker": {
            "color": "#EF553B",
            "pattern": {
             "shape": ""
            }
           },
           "name": "China",
           "offsetgroup": "China",
           "orientation": "v",
           "showlegend": true,
           "textposition": "auto",
           "type": "bar",
           "x": [
            "China",
            "China",
            "China",
            "China",
            "China",
            "China"
           ],
           "xaxis": "x",
           "y": [
            1948.070593329,
            1669.3227115090526,
            26.74788182,
            252,
            0,
            0
           ],
           "yaxis": "y"
          },
          {
           "alignmentgroup": "True",
           "hovertemplate": "Países=%{x}<br>Year=1985<br>CO2_emission=%{y}<extra></extra>",
           "ids": [
            "Russia",
            "Russia",
            "Russia",
            "Russia",
            "Russia",
            "Russia"
           ],
           "legendgroup": "Russia",
           "marker": {
            "color": "#00CC96",
            "pattern": {
             "shape": ""
            }
           },
           "name": "Russia",
           "offsetgroup": "Russia",
           "orientation": "v",
           "showlegend": true,
           "textposition": "auto",
           "type": "bar",
           "x": [
            "Russia",
            "Russia",
            "Russia",
            "Russia",
            "Russia",
            "Russia"
           ],
           "xaxis": "x",
           "y": [
            null,
            null,
            null,
            null,
            0,
            0
           ],
           "yaxis": "y"
          },
          {
           "alignmentgroup": "True",
           "hovertemplate": "Países=%{x}<br>Year=1985<br>CO2_emission=%{y}<extra></extra>",
           "ids": [
            "United States",
            "United States",
            "United States",
            "United States",
            "United States",
            "United States"
           ],
           "legendgroup": "United States",
           "marker": {
            "color": "#ABC3FA",
            "pattern": {
             "shape": ""
            }
           },
           "name": "United States",
           "offsetgroup": "United States",
           "orientation": "v",
           "showlegend": true,
           "textposition": "auto",
           "type": "bar",
           "x": [
            "United States",
            "United States",
            "United States",
            "United States",
            "United States",
            "United States"
           ],
           "xaxis": "x",
           "y": [
            4612.856171,
            1616.102516,
            962.252107,
            2034.501548,
            0,
            0
           ],
           "yaxis": "y"
          }
         ],
         "name": "1985"
        },
        {
         "data": [
          {
           "alignmentgroup": "True",
           "hovertemplate": "Países=%{x}<br>Year=1986<br>CO2_emission=%{y}<extra></extra>",
           "ids": [
            "Brazil",
            "Brazil",
            "Brazil",
            "Brazil",
            "Brazil",
            "Brazil"
           ],
           "legendgroup": "Brazil",
           "marker": {
            "color": "#AB63FA",
            "pattern": {
             "shape": ""
            }
           },
           "name": "Brazil",
           "offsetgroup": "Brazil",
           "orientation": "v",
           "showlegend": true,
           "textposition": "auto",
           "type": "bar",
           "x": [
            "Brazil",
            "Brazil",
            "Brazil",
            "Brazil",
            "Brazil",
            "Brazil"
           ],
           "xaxis": "x",
           "y": [
            194.906575648,
            37.503072488187605,
            5.40350316,
            152,
            0,
            0
           ],
           "yaxis": "y"
          },
          {
           "alignmentgroup": "True",
           "hovertemplate": "Países=%{x}<br>Year=1986<br>CO2_emission=%{y}<extra></extra>",
           "ids": [
            "China",
            "China",
            "China",
            "China",
            "China",
            "China"
           ],
           "legendgroup": "China",
           "marker": {
            "color": "#EF553B",
            "pattern": {
             "shape": ""
            }
           },
           "name": "China",
           "offsetgroup": "China",
           "orientation": "v",
           "showlegend": true,
           "textposition": "auto",
           "type": "bar",
           "x": [
            "China",
            "China",
            "China",
            "China",
            "China",
            "China"
           ],
           "xaxis": "x",
           "y": [
            2066.962675133,
            1765.0544970695028,
            27.908178063,
            274,
            0,
            0
           ],
           "yaxis": "y"
          },
          {
           "alignmentgroup": "True",
           "hovertemplate": "Países=%{x}<br>Year=1986<br>CO2_emission=%{y}<extra></extra>",
           "ids": [
            "Russia",
            "Russia",
            "Russia",
            "Russia",
            "Russia",
            "Russia"
           ],
           "legendgroup": "Russia",
           "marker": {
            "color": "#00CC96",
            "pattern": {
             "shape": ""
            }
           },
           "name": "Russia",
           "offsetgroup": "Russia",
           "orientation": "v",
           "showlegend": true,
           "textposition": "auto",
           "type": "bar",
           "x": [
            "Russia",
            "Russia",
            "Russia",
            "Russia",
            "Russia",
            "Russia"
           ],
           "xaxis": "x",
           "y": [
            null,
            null,
            null,
            null,
            0,
            0
           ],
           "yaxis": "y"
          },
          {
           "alignmentgroup": "True",
           "hovertemplate": "Países=%{x}<br>Year=1986<br>CO2_emission=%{y}<extra></extra>",
           "ids": [
            "United States",
            "United States",
            "United States",
            "United States",
            "United States",
            "United States"
           ],
           "legendgroup": "United States",
           "marker": {
            "color": "#ABC3FA",
            "pattern": {
             "shape": ""
            }
           },
           "name": "United States",
           "offsetgroup": "United States",
           "orientation": "v",
           "showlegend": true,
           "textposition": "auto",
           "type": "bar",
           "x": [
            "United States",
            "United States",
            "United States",
            "United States",
            "United States",
            "United States"
           ],
           "xaxis": "x",
           "y": [
            4605.354533,
            1655.024937,
            926.516318,
            2023.813278,
            0,
            0
           ],
           "yaxis": "y"
          }
         ],
         "name": "1986"
        },
        {
         "data": [
          {
           "alignmentgroup": "True",
           "hovertemplate": "Países=%{x}<br>Year=1987<br>CO2_emission=%{y}<extra></extra>",
           "ids": [
            "Brazil",
            "Brazil",
            "Brazil",
            "Brazil",
            "Brazil",
            "Brazil"
           ],
           "legendgroup": "Brazil",
           "marker": {
            "color": "#AB63FA",
            "pattern": {
             "shape": ""
            }
           },
           "name": "Brazil",
           "offsetgroup": "Brazil",
           "orientation": "v",
           "showlegend": true,
           "textposition": "auto",
           "type": "bar",
           "x": [
            "Brazil",
            "Brazil",
            "Brazil",
            "Brazil",
            "Brazil",
            "Brazil"
           ],
           "xaxis": "x",
           "y": [
            215.790895603,
            38.50485990251243,
            5.2860357,
            172,
            0,
            0
           ],
           "yaxis": "y"
          },
          {
           "alignmentgroup": "True",
           "hovertemplate": "Países=%{x}<br>Year=1987<br>CO2_emission=%{y}<extra></extra>",
           "ids": [
            "China",
            "China",
            "China",
            "China",
            "China",
            "China"
           ],
           "legendgroup": "China",
           "marker": {
            "color": "#EF553B",
            "pattern": {
             "shape": ""
            }
           },
           "name": "China",
           "offsetgroup": "China",
           "orientation": "v",
           "showlegend": true,
           "textposition": "auto",
           "type": "bar",
           "x": [
            "China",
            "China",
            "China",
            "China",
            "China",
            "China"
           ],
           "xaxis": "x",
           "y": [
            2139.77531038,
            1816.2182902871812,
            29.557020093,
            294,
            0,
            0
           ],
           "yaxis": "y"
          },
          {
           "alignmentgroup": "True",
           "hovertemplate": "Países=%{x}<br>Year=1987<br>CO2_emission=%{y}<extra></extra>",
           "ids": [
            "Russia",
            "Russia",
            "Russia",
            "Russia",
            "Russia",
            "Russia"
           ],
           "legendgroup": "Russia",
           "marker": {
            "color": "#00CC96",
            "pattern": {
             "shape": ""
            }
           },
           "name": "Russia",
           "offsetgroup": "Russia",
           "orientation": "v",
           "showlegend": true,
           "textposition": "auto",
           "type": "bar",
           "x": [
            "Russia",
            "Russia",
            "Russia",
            "Russia",
            "Russia",
            "Russia"
           ],
           "xaxis": "x",
           "y": [
            null,
            null,
            null,
            null,
            0,
            0
           ],
           "yaxis": "y"
          },
          {
           "alignmentgroup": "True",
           "hovertemplate": "Países=%{x}<br>Year=1987<br>CO2_emission=%{y}<extra></extra>",
           "ids": [
            "United States",
            "United States",
            "United States",
            "United States",
            "United States",
            "United States"
           ],
           "legendgroup": "United States",
           "marker": {
            "color": "#ABC3FA",
            "pattern": {
             "shape": ""
            }
           },
           "name": "United States",
           "offsetgroup": "United States",
           "orientation": "v",
           "showlegend": true,
           "textposition": "auto",
           "type": "bar",
           "x": [
            "United States",
            "United States",
            "United States",
            "United States",
            "United States",
            "United States"
           ],
           "xaxis": "x",
           "y": [
            4615.662207,
            1635.733252,
            867.86644,
            2112.062515,
            0,
            0
           ],
           "yaxis": "y"
          }
         ],
         "name": "1987"
        },
        {
         "data": [
          {
           "alignmentgroup": "True",
           "hovertemplate": "Países=%{x}<br>Year=1988<br>CO2_emission=%{y}<extra></extra>",
           "ids": [
            "Brazil",
            "Brazil",
            "Brazil",
            "Brazil",
            "Brazil",
            "Brazil"
           ],
           "legendgroup": "Brazil",
           "marker": {
            "color": "#AB63FA",
            "pattern": {
             "shape": ""
            }
           },
           "name": "Brazil",
           "offsetgroup": "Brazil",
           "orientation": "v",
           "showlegend": true,
           "textposition": "auto",
           "type": "bar",
           "x": [
            "Brazil",
            "Brazil",
            "Brazil",
            "Brazil",
            "Brazil",
            "Brazil"
           ],
           "xaxis": "x",
           "y": [
            222.947276004,
            41.780234354296425,
            6.16704165,
            175,
            0,
            0
           ],
           "yaxis": "y"
          },
          {
           "alignmentgroup": "True",
           "hovertemplate": "Países=%{x}<br>Year=1988<br>CO2_emission=%{y}<extra></extra>",
           "ids": [
            "China",
            "China",
            "China",
            "China",
            "China",
            "China"
           ],
           "legendgroup": "China",
           "marker": {
            "color": "#EF553B",
            "pattern": {
             "shape": ""
            }
           },
           "name": "China",
           "offsetgroup": "China",
           "orientation": "v",
           "showlegend": true,
           "textposition": "auto",
           "type": "bar",
           "x": [
            "China",
            "China",
            "China",
            "China",
            "China",
            "China"
           ],
           "xaxis": "x",
           "y": [
            2259.80811238,
            1916.6404100530372,
            30.167702327,
            313,
            0,
            0
           ],
           "yaxis": "y"
          },
          {
           "alignmentgroup": "True",
           "hovertemplate": "Países=%{x}<br>Year=1988<br>CO2_emission=%{y}<extra></extra>",
           "ids": [
            "Russia",
            "Russia",
            "Russia",
            "Russia",
            "Russia",
            "Russia"
           ],
           "legendgroup": "Russia",
           "marker": {
            "color": "#00CC96",
            "pattern": {
             "shape": ""
            }
           },
           "name": "Russia",
           "offsetgroup": "Russia",
           "orientation": "v",
           "showlegend": true,
           "textposition": "auto",
           "type": "bar",
           "x": [
            "Russia",
            "Russia",
            "Russia",
            "Russia",
            "Russia",
            "Russia"
           ],
           "xaxis": "x",
           "y": [
            null,
            null,
            null,
            null,
            0,
            0
           ],
           "yaxis": "y"
          },
          {
           "alignmentgroup": "True",
           "hovertemplate": "Países=%{x}<br>Year=1988<br>CO2_emission=%{y}<extra></extra>",
           "ids": [
            "United States",
            "United States",
            "United States",
            "United States",
            "United States",
            "United States"
           ],
           "legendgroup": "United States",
           "marker": {
            "color": "#ABC3FA",
            "pattern": {
             "shape": ""
            }
           },
           "name": "United States",
           "offsetgroup": "United States",
           "orientation": "v",
           "showlegend": true,
           "textposition": "auto",
           "type": "bar",
           "x": [
            "United States",
            "United States",
            "United States",
            "United States",
            "United States",
            "United States"
           ],
           "xaxis": "x",
           "y": [
            4775.551396,
            1709.483872,
            922.972357,
            2143.095167,
            0,
            0
           ],
           "yaxis": "y"
          }
         ],
         "name": "1988"
        },
        {
         "data": [
          {
           "alignmentgroup": "True",
           "hovertemplate": "Países=%{x}<br>Year=1989<br>CO2_emission=%{y}<extra></extra>",
           "ids": [
            "Brazil",
            "Brazil",
            "Brazil",
            "Brazil",
            "Brazil",
            "Brazil"
           ],
           "legendgroup": "Brazil",
           "marker": {
            "color": "#AB63FA",
            "pattern": {
             "shape": ""
            }
           },
           "name": "Brazil",
           "offsetgroup": "Brazil",
           "orientation": "v",
           "showlegend": true,
           "textposition": "auto",
           "type": "bar",
           "x": [
            "Brazil",
            "Brazil",
            "Brazil",
            "Brazil",
            "Brazil",
            "Brazil"
           ],
           "xaxis": "x",
           "y": [
            223.394276154,
            40.69710434377964,
            5.69717181,
            177,
            0,
            0
           ],
           "yaxis": "y"
          },
          {
           "alignmentgroup": "True",
           "hovertemplate": "Países=%{x}<br>Year=1989<br>CO2_emission=%{y}<extra></extra>",
           "ids": [
            "China",
            "China",
            "China",
            "China",
            "China",
            "China"
           ],
           "legendgroup": "China",
           "marker": {
            "color": "#EF553B",
            "pattern": {
             "shape": ""
            }
           },
           "name": "China",
           "offsetgroup": "China",
           "orientation": "v",
           "showlegend": true,
           "textposition": "auto",
           "type": "bar",
           "x": [
            "China",
            "China",
            "China",
            "China",
            "China",
            "China"
           ],
           "xaxis": "x",
           "y": [
            2405.653731514,
            2046.9364151773088,
            30.717316337,
            328,
            0,
            0
           ],
           "yaxis": "y"
          },
          {
           "alignmentgroup": "True",
           "hovertemplate": "Países=%{x}<br>Year=1989<br>CO2_emission=%{y}<extra></extra>",
           "ids": [
            "Russia",
            "Russia",
            "Russia",
            "Russia",
            "Russia",
            "Russia"
           ],
           "legendgroup": "Russia",
           "marker": {
            "color": "#00CC96",
            "pattern": {
             "shape": ""
            }
           },
           "name": "Russia",
           "offsetgroup": "Russia",
           "orientation": "v",
           "showlegend": true,
           "textposition": "auto",
           "type": "bar",
           "x": [
            "Russia",
            "Russia",
            "Russia",
            "Russia",
            "Russia",
            "Russia"
           ],
           "xaxis": "x",
           "y": [
            null,
            null,
            null,
            null,
            0,
            0
           ],
           "yaxis": "y"
          },
          {
           "alignmentgroup": "True",
           "hovertemplate": "Países=%{x}<br>Year=1989<br>CO2_emission=%{y}<extra></extra>",
           "ids": [
            "United States",
            "United States",
            "United States",
            "United States",
            "United States",
            "United States"
           ],
           "legendgroup": "United States",
           "marker": {
            "color": "#ABC3FA",
            "pattern": {
             "shape": ""
            }
           },
           "name": "United States",
           "offsetgroup": "United States",
           "orientation": "v",
           "showlegend": true,
           "textposition": "auto",
           "type": "bar",
           "x": [
            "United States",
            "United States",
            "United States",
            "United States",
            "United States",
            "United States"
           ],
           "xaxis": "x",
           "y": [
            4998.211912,
            1792.727375,
            964.372566,
            2241.111971,
            0,
            0
           ],
           "yaxis": "y"
          }
         ],
         "name": "1989"
        },
        {
         "data": [
          {
           "alignmentgroup": "True",
           "hovertemplate": "Países=%{x}<br>Year=1990<br>CO2_emission=%{y}<extra></extra>",
           "ids": [
            "Brazil",
            "Brazil",
            "Brazil",
            "Brazil",
            "Brazil",
            "Brazil"
           ],
           "legendgroup": "Brazil",
           "marker": {
            "color": "#AB63FA",
            "pattern": {
             "shape": ""
            }
           },
           "name": "Brazil",
           "offsetgroup": "Brazil",
           "orientation": "v",
           "showlegend": true,
           "textposition": "auto",
           "type": "bar",
           "x": [
            "Brazil",
            "Brazil",
            "Brazil",
            "Brazil",
            "Brazil",
            "Brazil"
           ],
           "xaxis": "x",
           "y": [
            231.995595162,
            42.771346372360256,
            7.22424879,
            182,
            0,
            0
           ],
           "yaxis": "y"
          },
          {
           "alignmentgroup": "True",
           "hovertemplate": "Países=%{x}<br>Year=1990<br>CO2_emission=%{y}<extra></extra>",
           "ids": [
            "China",
            "China",
            "China",
            "China",
            "China",
            "China"
           ],
           "legendgroup": "China",
           "marker": {
            "color": "#EF553B",
            "pattern": {
             "shape": ""
            }
           },
           "name": "China",
           "offsetgroup": "China",
           "orientation": "v",
           "showlegend": true,
           "textposition": "auto",
           "type": "bar",
           "x": [
            "China",
            "China",
            "China",
            "China",
            "China",
            "China"
           ],
           "xaxis": "x",
           "y": [
            2413.191859479,
            2035.3524066959017,
            30.839452783,
            347,
            0,
            0
           ],
           "yaxis": "y"
          },
          {
           "alignmentgroup": "True",
           "hovertemplate": "Países=%{x}<br>Year=1990<br>CO2_emission=%{y}<extra></extra>",
           "ids": [
            "Russia",
            "Russia",
            "Russia",
            "Russia",
            "Russia",
            "Russia"
           ],
           "legendgroup": "Russia",
           "marker": {
            "color": "#00CC96",
            "pattern": {
             "shape": ""
            }
           },
           "name": "Russia",
           "offsetgroup": "Russia",
           "orientation": "v",
           "showlegend": true,
           "textposition": "auto",
           "type": "bar",
           "x": [
            "Russia",
            "Russia",
            "Russia",
            "Russia",
            "Russia",
            "Russia"
           ],
           "xaxis": "x",
           "y": [
            null,
            null,
            null,
            null,
            0,
            0
           ],
           "yaxis": "y"
          },
          {
           "alignmentgroup": "True",
           "hovertemplate": "Países=%{x}<br>Year=1990<br>CO2_emission=%{y}<extra></extra>",
           "ids": [
            "United States",
            "United States",
            "United States",
            "United States",
            "United States",
            "United States"
           ],
           "legendgroup": "United States",
           "marker": {
            "color": "#ABC3FA",
            "pattern": {
             "shape": ""
            }
           },
           "name": "United States",
           "offsetgroup": "United States",
           "orientation": "v",
           "showlegend": true,
           "textposition": "auto",
           "type": "bar",
           "x": [
            "United States",
            "United States",
            "United States",
            "United States",
            "United States",
            "United States"
           ],
           "xaxis": "x",
           "y": [
            5084.558664,
            1813.144079,
            1026.9554,
            2244.459185,
            0,
            0
           ],
           "yaxis": "y"
          }
         ],
         "name": "1990"
        },
        {
         "data": [
          {
           "alignmentgroup": "True",
           "hovertemplate": "Países=%{x}<br>Year=1991<br>CO2_emission=%{y}<extra></extra>",
           "ids": [
            "Brazil",
            "Brazil",
            "Brazil",
            "Brazil",
            "Brazil",
            "Brazil"
           ],
           "legendgroup": "Brazil",
           "marker": {
            "color": "#AB63FA",
            "pattern": {
             "shape": ""
            }
           },
           "name": "Brazil",
           "offsetgroup": "Brazil",
           "orientation": "v",
           "showlegend": true,
           "textposition": "auto",
           "type": "bar",
           "x": [
            "Brazil",
            "Brazil",
            "Brazil",
            "Brazil",
            "Brazil",
            "Brazil"
           ],
           "xaxis": "x",
           "y": [
            243.069804424,
            40.02267084095352,
            6.047133583,
            197,
            0,
            0
           ],
           "yaxis": "y"
          },
          {
           "alignmentgroup": "True",
           "hovertemplate": "Países=%{x}<br>Year=1991<br>CO2_emission=%{y}<extra></extra>",
           "ids": [
            "China",
            "China",
            "China",
            "China",
            "China",
            "China"
           ],
           "legendgroup": "China",
           "marker": {
            "color": "#EF553B",
            "pattern": {
             "shape": ""
            }
           },
           "name": "China",
           "offsetgroup": "China",
           "orientation": "v",
           "showlegend": true,
           "textposition": "auto",
           "type": "bar",
           "x": [
            "China",
            "China",
            "China",
            "China",
            "China",
            "China"
           ],
           "xaxis": "x",
           "y": [
            2417.241264382,
            2052.050936279214,
            30.190328103,
            335,
            0,
            0
           ],
           "yaxis": "y"
          },
          {
           "alignmentgroup": "True",
           "hovertemplate": "Países=%{x}<br>Year=1991<br>CO2_emission=%{y}<extra></extra>",
           "ids": [
            "Russia",
            "Russia",
            "Russia",
            "Russia",
            "Russia",
            "Russia"
           ],
           "legendgroup": "Russia",
           "marker": {
            "color": "#00CC96",
            "pattern": {
             "shape": ""
            }
           },
           "name": "Russia",
           "offsetgroup": "Russia",
           "orientation": "v",
           "showlegend": true,
           "textposition": "auto",
           "type": "bar",
           "x": [
            "Russia",
            "Russia",
            "Russia",
            "Russia",
            "Russia",
            "Russia"
           ],
           "xaxis": "x",
           "y": [
            null,
            null,
            null,
            null,
            0,
            0
           ],
           "yaxis": "y"
          },
          {
           "alignmentgroup": "True",
           "hovertemplate": "Países=%{x}<br>Year=1991<br>CO2_emission=%{y}<extra></extra>",
           "ids": [
            "United States",
            "United States",
            "United States",
            "United States",
            "United States",
            "United States"
           ],
           "legendgroup": "United States",
           "marker": {
            "color": "#ABC3FA",
            "pattern": {
             "shape": ""
            }
           },
           "name": "United States",
           "offsetgroup": "United States",
           "orientation": "v",
           "showlegend": true,
           "textposition": "auto",
           "type": "bar",
           "x": [
            "United States",
            "United States",
            "United States",
            "United States",
            "United States",
            "United States"
           ],
           "xaxis": "x",
           "y": [
            5037.896431,
            1820.022501,
            1026.254421,
            2191.619509,
            0,
            0
           ],
           "yaxis": "y"
          }
         ],
         "name": "1991"
        },
        {
         "data": [
          {
           "alignmentgroup": "True",
           "hovertemplate": "Países=%{x}<br>Year=1992<br>CO2_emission=%{y}<extra></extra>",
           "ids": [
            "Brazil",
            "Brazil",
            "Brazil",
            "Brazil",
            "Brazil",
            "Brazil"
           ],
           "legendgroup": "Brazil",
           "marker": {
            "color": "#AB63FA",
            "pattern": {
             "shape": ""
            }
           },
           "name": "Brazil",
           "offsetgroup": "Brazil",
           "orientation": "v",
           "showlegend": true,
           "textposition": "auto",
           "type": "bar",
           "x": [
            "Brazil",
            "Brazil",
            "Brazil",
            "Brazil",
            "Brazil",
            "Brazil"
           ],
           "xaxis": "x",
           "y": [
            251.544042026,
            45.13412143136595,
            7.409920595,
            199,
            0,
            0
           ],
           "yaxis": "y"
          },
          {
           "alignmentgroup": "True",
           "hovertemplate": "Países=%{x}<br>Year=1992<br>CO2_emission=%{y}<extra></extra>",
           "ids": [
            "China",
            "China",
            "China",
            "China",
            "China",
            "China"
           ],
           "legendgroup": "China",
           "marker": {
            "color": "#EF553B",
            "pattern": {
             "shape": ""
            }
           },
           "name": "China",
           "offsetgroup": "China",
           "orientation": "v",
           "showlegend": true,
           "textposition": "auto",
           "type": "bar",
           "x": [
            "China",
            "China",
            "China",
            "China",
            "China",
            "China"
           ],
           "xaxis": "x",
           "y": [
            2460.412875579,
            2065.188662454863,
            31.224213124,
            364,
            0,
            0
           ],
           "yaxis": "y"
          },
          {
           "alignmentgroup": "True",
           "hovertemplate": "Países=%{x}<br>Year=1992<br>CO2_emission=%{y}<extra></extra>",
           "ids": [
            "Russia",
            "Russia",
            "Russia",
            "Russia",
            "Russia",
            "Russia"
           ],
           "legendgroup": "Russia",
           "marker": {
            "color": "#00CC96",
            "pattern": {
             "shape": ""
            }
           },
           "name": "Russia",
           "offsetgroup": "Russia",
           "orientation": "v",
           "showlegend": true,
           "textposition": "auto",
           "type": "bar",
           "x": [
            "Russia",
            "Russia",
            "Russia",
            "Russia",
            "Russia",
            "Russia"
           ],
           "xaxis": "x",
           "y": [
            null,
            null,
            null,
            null,
            0,
            0
           ],
           "yaxis": "y"
          },
          {
           "alignmentgroup": "True",
           "hovertemplate": "Países=%{x}<br>Year=1992<br>CO2_emission=%{y}<extra></extra>",
           "ids": [
            "United States",
            "United States",
            "United States",
            "United States",
            "United States",
            "United States"
           ],
           "legendgroup": "United States",
           "marker": {
            "color": "#ABC3FA",
            "pattern": {
             "shape": ""
            }
           },
           "name": "United States",
           "offsetgroup": "United States",
           "orientation": "v",
           "showlegend": true,
           "textposition": "auto",
           "type": "bar",
           "x": [
            "United States",
            "United States",
            "United States",
            "United States",
            "United States",
            "United States"
           ],
           "xaxis": "x",
           "y": [
            4992.684743,
            1805.942037,
            1047.755702,
            2138.987004,
            0,
            0
           ],
           "yaxis": "y"
          }
         ],
         "name": "1992"
        },
        {
         "data": [
          {
           "alignmentgroup": "True",
           "hovertemplate": "Países=%{x}<br>Year=1993<br>CO2_emission=%{y}<extra></extra>",
           "ids": [
            "Brazil",
            "Brazil",
            "Brazil",
            "Brazil",
            "Brazil",
            "Brazil"
           ],
           "legendgroup": "Brazil",
           "marker": {
            "color": "#AB63FA",
            "pattern": {
             "shape": ""
            }
           },
           "name": "Brazil",
           "offsetgroup": "Brazil",
           "orientation": "v",
           "showlegend": true,
           "textposition": "auto",
           "type": "bar",
           "x": [
            "Brazil",
            "Brazil",
            "Brazil",
            "Brazil",
            "Brazil",
            "Brazil"
           ],
           "xaxis": "x",
           "y": [
            243.906254218,
            43.78928992953583,
            8.116964288,
            192,
            0,
            0
           ],
           "yaxis": "y"
          },
          {
           "alignmentgroup": "True",
           "hovertemplate": "Países=%{x}<br>Year=1993<br>CO2_emission=%{y}<extra></extra>",
           "ids": [
            "China",
            "China",
            "China",
            "China",
            "China",
            "China"
           ],
           "legendgroup": "China",
           "marker": {
            "color": "#EF553B",
            "pattern": {
             "shape": ""
            }
           },
           "name": "China",
           "offsetgroup": "China",
           "orientation": "v",
           "showlegend": true,
           "textposition": "auto",
           "type": "bar",
           "x": [
            "China",
            "China",
            "China",
            "China",
            "China",
            "China"
           ],
           "xaxis": "x",
           "y": [
            2541.080384708,
            2134.521878022461,
            31.558506686,
            375,
            0,
            0
           ],
           "yaxis": "y"
          },
          {
           "alignmentgroup": "True",
           "hovertemplate": "Países=%{x}<br>Year=1993<br>CO2_emission=%{y}<extra></extra>",
           "ids": [
            "Russia",
            "Russia",
            "Russia",
            "Russia",
            "Russia",
            "Russia"
           ],
           "legendgroup": "Russia",
           "marker": {
            "color": "#00CC96",
            "pattern": {
             "shape": ""
            }
           },
           "name": "Russia",
           "offsetgroup": "Russia",
           "orientation": "v",
           "showlegend": true,
           "textposition": "auto",
           "type": "bar",
           "x": [
            "Russia",
            "Russia",
            "Russia",
            "Russia",
            "Russia",
            "Russia"
           ],
           "xaxis": "x",
           "y": [
            2206.984323324,
            693.5347092327889,
            881.449614091,
            632,
            0,
            0
           ],
           "yaxis": "y"
          },
          {
           "alignmentgroup": "True",
           "hovertemplate": "Países=%{x}<br>Year=1993<br>CO2_emission=%{y}<extra></extra>",
           "ids": [
            "United States",
            "United States",
            "United States",
            "United States",
            "United States",
            "United States"
           ],
           "legendgroup": "United States",
           "marker": {
            "color": "#ABC3FA",
            "pattern": {
             "shape": ""
            }
           },
           "name": "United States",
           "offsetgroup": "United States",
           "orientation": "v",
           "showlegend": true,
           "textposition": "auto",
           "type": "bar",
           "x": [
            "United States",
            "United States",
            "United States",
            "United States",
            "United States",
            "United States"
           ],
           "xaxis": "x",
           "y": [
            5093.879398,
            1821.880293,
            1083.261526,
            2188.737579,
            0,
            0
           ],
           "yaxis": "y"
          }
         ],
         "name": "1993"
        },
        {
         "data": [
          {
           "alignmentgroup": "True",
           "hovertemplate": "Países=%{x}<br>Year=1994<br>CO2_emission=%{y}<extra></extra>",
           "ids": [
            "Brazil",
            "Brazil",
            "Brazil",
            "Brazil",
            "Brazil",
            "Brazil"
           ],
           "legendgroup": "Brazil",
           "marker": {
            "color": "#AB63FA",
            "pattern": {
             "shape": ""
            }
           },
           "name": "Brazil",
           "offsetgroup": "Brazil",
           "orientation": "v",
           "showlegend": true,
           "textposition": "auto",
           "type": "bar",
           "x": [
            "Brazil",
            "Brazil",
            "Brazil",
            "Brazil",
            "Brazil",
            "Brazil"
           ],
           "xaxis": "x",
           "y": [
            265.128557628,
            44.0724333613054,
            8.056124267,
            213,
            0,
            0
           ],
           "yaxis": "y"
          },
          {
           "alignmentgroup": "True",
           "hovertemplate": "Países=%{x}<br>Year=1994<br>CO2_emission=%{y}<extra></extra>",
           "ids": [
            "China",
            "China",
            "China",
            "China",
            "China",
            "China"
           ],
           "legendgroup": "China",
           "marker": {
            "color": "#EF553B",
            "pattern": {
             "shape": ""
            }
           },
           "name": "China",
           "offsetgroup": "China",
           "orientation": "v",
           "showlegend": true,
           "textposition": "auto",
           "type": "bar",
           "x": [
            "China",
            "China",
            "China",
            "China",
            "China",
            "China"
           ],
           "xaxis": "x",
           "y": [
            2730.930852358,
            2271.895935878186,
            33.03491648,
            426,
            0,
            0
           ],
           "yaxis": "y"
          },
          {
           "alignmentgroup": "True",
           "hovertemplate": "Países=%{x}<br>Year=1994<br>CO2_emission=%{y}<extra></extra>",
           "ids": [
            "Russia",
            "Russia",
            "Russia",
            "Russia",
            "Russia",
            "Russia"
           ],
           "legendgroup": "Russia",
           "marker": {
            "color": "#00CC96",
            "pattern": {
             "shape": ""
            }
           },
           "name": "Russia",
           "offsetgroup": "Russia",
           "orientation": "v",
           "showlegend": true,
           "textposition": "auto",
           "type": "bar",
           "x": [
            "Russia",
            "Russia",
            "Russia",
            "Russia",
            "Russia",
            "Russia"
           ],
           "xaxis": "x",
           "y": [
            2028.935993717,
            617.3515538739091,
            865.584439843,
            546,
            0,
            0
           ],
           "yaxis": "y"
          },
          {
           "alignmentgroup": "True",
           "hovertemplate": "Países=%{x}<br>Year=1994<br>CO2_emission=%{y}<extra></extra>",
           "ids": [
            "United States",
            "United States",
            "United States",
            "United States",
            "United States",
            "United States"
           ],
           "legendgroup": "United States",
           "marker": {
            "color": "#ABC3FA",
            "pattern": {
             "shape": ""
            }
           },
           "name": "United States",
           "offsetgroup": "United States",
           "orientation": "v",
           "showlegend": true,
           "textposition": "auto",
           "type": "bar",
           "x": [
            "United States",
            "United States",
            "United States",
            "United States",
            "United States",
            "United States"
           ],
           "xaxis": "x",
           "y": [
            5185.520158,
            1881.678193,
            1110.705363,
            2193.136602,
            0,
            0
           ],
           "yaxis": "y"
          }
         ],
         "name": "1994"
        },
        {
         "data": [
          {
           "alignmentgroup": "True",
           "hovertemplate": "Países=%{x}<br>Year=1995<br>CO2_emission=%{y}<extra></extra>",
           "ids": [
            "Brazil",
            "Brazil",
            "Brazil",
            "Brazil",
            "Brazil",
            "Brazil"
           ],
           "legendgroup": "Brazil",
           "marker": {
            "color": "#AB63FA",
            "pattern": {
             "shape": ""
            }
           },
           "name": "Brazil",
           "offsetgroup": "Brazil",
           "orientation": "v",
           "showlegend": true,
           "textposition": "auto",
           "type": "bar",
           "x": [
            "Brazil",
            "Brazil",
            "Brazil",
            "Brazil",
            "Brazil",
            "Brazil"
           ],
           "xaxis": "x",
           "y": [
            279.392176316,
            45.99394266305279,
            8.398233653,
            225,
            0,
            0
           ],
           "yaxis": "y"
          },
          {
           "alignmentgroup": "True",
           "hovertemplate": "Países=%{x}<br>Year=1995<br>CO2_emission=%{y}<extra></extra>",
           "ids": [
            "China",
            "China",
            "China",
            "China",
            "China",
            "China"
           ],
           "legendgroup": "China",
           "marker": {
            "color": "#EF553B",
            "pattern": {
             "shape": ""
            }
           },
           "name": "China",
           "offsetgroup": "China",
           "orientation": "v",
           "showlegend": true,
           "textposition": "auto",
           "type": "bar",
           "x": [
            "China",
            "China",
            "China",
            "China",
            "China",
            "China"
           ],
           "xaxis": "x",
           "y": [
            2916.39147434,
            2437.5864465518284,
            34.805027788,
            444,
            0,
            0
           ],
           "yaxis": "y"
          },
          {
           "alignmentgroup": "True",
           "hovertemplate": "Países=%{x}<br>Year=1995<br>CO2_emission=%{y}<extra></extra>",
           "ids": [
            "Russia",
            "Russia",
            "Russia",
            "Russia",
            "Russia",
            "Russia"
           ],
           "legendgroup": "Russia",
           "marker": {
            "color": "#00CC96",
            "pattern": {
             "shape": ""
            }
           },
           "name": "Russia",
           "offsetgroup": "Russia",
           "orientation": "v",
           "showlegend": true,
           "textposition": "auto",
           "type": "bar",
           "x": [
            "Russia",
            "Russia",
            "Russia",
            "Russia",
            "Russia",
            "Russia"
           ],
           "xaxis": "x",
           "y": [
            1840.4068117,
            568.7610963560936,
            813.645715344,
            458,
            0,
            0
           ],
           "yaxis": "y"
          },
          {
           "alignmentgroup": "True",
           "hovertemplate": "Países=%{x}<br>Year=1995<br>CO2_emission=%{y}<extra></extra>",
           "ids": [
            "United States",
            "United States",
            "United States",
            "United States",
            "United States",
            "United States"
           ],
           "legendgroup": "United States",
           "marker": {
            "color": "#ABC3FA",
            "pattern": {
             "shape": ""
            }
           },
           "name": "United States",
           "offsetgroup": "United States",
           "orientation": "v",
           "showlegend": true,
           "textposition": "auto",
           "type": "bar",
           "x": [
            "United States",
            "United States",
            "United States",
            "United States",
            "United States",
            "United States"
           ],
           "xaxis": "x",
           "y": [
            5262.663333,
            1892.224707,
            1136.048048,
            2234.390578,
            0,
            0
           ],
           "yaxis": "y"
          }
         ],
         "name": "1995"
        },
        {
         "data": [
          {
           "alignmentgroup": "True",
           "hovertemplate": "Países=%{x}<br>Year=1996<br>CO2_emission=%{y}<extra></extra>",
           "ids": [
            "Brazil",
            "Brazil",
            "Brazil",
            "Brazil",
            "Brazil",
            "Brazil"
           ],
           "legendgroup": "Brazil",
           "marker": {
            "color": "#AB63FA",
            "pattern": {
             "shape": ""
            }
           },
           "name": "Brazil",
           "offsetgroup": "Brazil",
           "orientation": "v",
           "showlegend": true,
           "textposition": "auto",
           "type": "bar",
           "x": [
            "Brazil",
            "Brazil",
            "Brazil",
            "Brazil",
            "Brazil",
            "Brazil"
           ],
           "xaxis": "x",
           "y": [
            299.819187827,
            48.03083911501924,
            8.788348712,
            243,
            0,
            0
           ],
           "yaxis": "y"
          },
          {
           "alignmentgroup": "True",
           "hovertemplate": "Países=%{x}<br>Year=1996<br>CO2_emission=%{y}<extra></extra>",
           "ids": [
            "China",
            "China",
            "China",
            "China",
            "China",
            "China"
           ],
           "legendgroup": "China",
           "marker": {
            "color": "#EF553B",
            "pattern": {
             "shape": ""
            }
           },
           "name": "China",
           "offsetgroup": "China",
           "orientation": "v",
           "showlegend": true,
           "textposition": "auto",
           "type": "bar",
           "x": [
            "China",
            "China",
            "China",
            "China",
            "China",
            "China"
           ],
           "xaxis": "x",
           "y": [
            3140.322857361,
            2628.47108781784,
            35.851769543,
            476,
            0,
            0
           ],
           "yaxis": "y"
          },
          {
           "alignmentgroup": "True",
           "hovertemplate": "Países=%{x}<br>Year=1996<br>CO2_emission=%{y}<extra></extra>",
           "ids": [
            "Russia",
            "Russia",
            "Russia",
            "Russia",
            "Russia",
            "Russia"
           ],
           "legendgroup": "Russia",
           "marker": {
            "color": "#00CC96",
            "pattern": {
             "shape": ""
            }
           },
           "name": "Russia",
           "offsetgroup": "Russia",
           "orientation": "v",
           "showlegend": true,
           "textposition": "auto",
           "type": "bar",
           "x": [
            "Russia",
            "Russia",
            "Russia",
            "Russia",
            "Russia",
            "Russia"
           ],
           "xaxis": "x",
           "y": [
            1768.539364985,
            563.8976504109914,
            776.641714574,
            428,
            0,
            0
           ],
           "yaxis": "y"
          },
          {
           "alignmentgroup": "True",
           "hovertemplate": "Países=%{x}<br>Year=1996<br>CO2_emission=%{y}<extra></extra>",
           "ids": [
            "United States",
            "United States",
            "United States",
            "United States",
            "United States",
            "United States"
           ],
           "legendgroup": "United States",
           "marker": {
            "color": "#ABC3FA",
            "pattern": {
             "shape": ""
            }
           },
           "name": "United States",
           "offsetgroup": "United States",
           "orientation": "v",
           "showlegend": true,
           "textposition": "auto",
           "type": "bar",
           "x": [
            "United States",
            "United States",
            "United States",
            "United States",
            "United States",
            "United States"
           ],
           "xaxis": "x",
           "y": [
            5324.311399,
            1912.142841,
            1185.442673,
            2226.725885,
            0,
            0
           ],
           "yaxis": "y"
          }
         ],
         "name": "1996"
        },
        {
         "data": [
          {
           "alignmentgroup": "True",
           "hovertemplate": "Países=%{x}<br>Year=1997<br>CO2_emission=%{y}<extra></extra>",
           "ids": [
            "Brazil",
            "Brazil",
            "Brazil",
            "Brazil",
            "Brazil",
            "Brazil"
           ],
           "legendgroup": "Brazil",
           "marker": {
            "color": "#AB63FA",
            "pattern": {
             "shape": ""
            }
           },
           "name": "Brazil",
           "offsetgroup": "Brazil",
           "orientation": "v",
           "showlegend": true,
           "textposition": "auto",
           "type": "bar",
           "x": [
            "Brazil",
            "Brazil",
            "Brazil",
            "Brazil",
            "Brazil",
            "Brazil"
           ],
           "xaxis": "x",
           "y": [
            316.633890261,
            49.79323790605399,
            9.840652355,
            257,
            0,
            0
           ],
           "yaxis": "y"
          },
          {
           "alignmentgroup": "True",
           "hovertemplate": "Países=%{x}<br>Year=1997<br>CO2_emission=%{y}<extra></extra>",
           "ids": [
            "China",
            "China",
            "China",
            "China",
            "China",
            "China"
           ],
           "legendgroup": "China",
           "marker": {
            "color": "#EF553B",
            "pattern": {
             "shape": ""
            }
           },
           "name": "China",
           "offsetgroup": "China",
           "orientation": "v",
           "showlegend": true,
           "textposition": "auto",
           "type": "bar",
           "x": [
            "China",
            "China",
            "China",
            "China",
            "China",
            "China"
           ],
           "xaxis": "x",
           "y": [
            3240.418927252,
            2718.59076803749,
            39.828159215,
            482,
            0,
            0
           ],
           "yaxis": "y"
          },
          {
           "alignmentgroup": "True",
           "hovertemplate": "Países=%{x}<br>Year=1997<br>CO2_emission=%{y}<extra></extra>",
           "ids": [
            "Russia",
            "Russia",
            "Russia",
            "Russia",
            "Russia",
            "Russia"
           ],
           "legendgroup": "Russia",
           "marker": {
            "color": "#00CC96",
            "pattern": {
             "shape": ""
            }
           },
           "name": "Russia",
           "offsetgroup": "Russia",
           "orientation": "v",
           "showlegend": true,
           "textposition": "auto",
           "type": "bar",
           "x": [
            "Russia",
            "Russia",
            "Russia",
            "Russia",
            "Russia",
            "Russia"
           ],
           "xaxis": "x",
           "y": [
            1630.789539111,
            550.2616408845963,
            700.527898226,
            380,
            0,
            0
           ],
           "yaxis": "y"
          },
          {
           "alignmentgroup": "True",
           "hovertemplate": "Países=%{x}<br>Year=1997<br>CO2_emission=%{y}<extra></extra>",
           "ids": [
            "United States",
            "United States",
            "United States",
            "United States",
            "United States",
            "United States"
           ],
           "legendgroup": "United States",
           "marker": {
            "color": "#ABC3FA",
            "pattern": {
             "shape": ""
            }
           },
           "name": "United States",
           "offsetgroup": "United States",
           "orientation": "v",
           "showlegend": true,
           "textposition": "auto",
           "type": "bar",
           "x": [
            "United States",
            "United States",
            "United States",
            "United States",
            "United States",
            "United States"
           ],
           "xaxis": "x",
           "y": [
            5518.030044,
            1994.532207,
            1206.743953,
            2316.753884,
            0,
            0
           ],
           "yaxis": "y"
          }
         ],
         "name": "1997"
        },
        {
         "data": [
          {
           "alignmentgroup": "True",
           "hovertemplate": "Países=%{x}<br>Year=1998<br>CO2_emission=%{y}<extra></extra>",
           "ids": [
            "Brazil",
            "Brazil",
            "Brazil",
            "Brazil",
            "Brazil",
            "Brazil"
           ],
           "legendgroup": "Brazil",
           "marker": {
            "color": "#AB63FA",
            "pattern": {
             "shape": ""
            }
           },
           "name": "Brazil",
           "offsetgroup": "Brazil",
           "orientation": "v",
           "showlegend": true,
           "textposition": "auto",
           "type": "bar",
           "x": [
            "Brazil",
            "Brazil",
            "Brazil",
            "Brazil",
            "Brazil",
            "Brazil"
           ],
           "xaxis": "x",
           "y": [
            333.150113347,
            49.39359829792672,
            10.756515049,
            273,
            0,
            0
           ],
           "yaxis": "y"
          },
          {
           "alignmentgroup": "True",
           "hovertemplate": "Países=%{x}<br>Year=1998<br>CO2_emission=%{y}<extra></extra>",
           "ids": [
            "China",
            "China",
            "China",
            "China",
            "China",
            "China"
           ],
           "legendgroup": "China",
           "marker": {
            "color": "#EF553B",
            "pattern": {
             "shape": ""
            }
           },
           "name": "China",
           "offsetgroup": "China",
           "orientation": "v",
           "showlegend": true,
           "textposition": "auto",
           "type": "bar",
           "x": [
            "China",
            "China",
            "China",
            "China",
            "China",
            "China"
           ],
           "xaxis": "x",
           "y": [
            3143.568283036,
            2561.5766014158307,
            42.99168162,
            539,
            0,
            0
           ],
           "yaxis": "y"
          },
          {
           "alignmentgroup": "True",
           "hovertemplate": "Países=%{x}<br>Year=1998<br>CO2_emission=%{y}<extra></extra>",
           "ids": [
            "Russia",
            "Russia",
            "Russia",
            "Russia",
            "Russia",
            "Russia"
           ],
           "legendgroup": "Russia",
           "marker": {
            "color": "#00CC96",
            "pattern": {
             "shape": ""
            }
           },
           "name": "Russia",
           "offsetgroup": "Russia",
           "orientation": "v",
           "showlegend": true,
           "textposition": "auto",
           "type": "bar",
           "x": [
            "Russia",
            "Russia",
            "Russia",
            "Russia",
            "Russia",
            "Russia"
           ],
           "xaxis": "x",
           "y": [
            1533.455661051,
            504.0683329427464,
            658.387328108,
            371,
            0,
            0
           ],
           "yaxis": "y"
          },
          {
           "alignmentgroup": "True",
           "hovertemplate": "Países=%{x}<br>Year=1998<br>CO2_emission=%{y}<extra></extra>",
           "ids": [
            "United States",
            "United States",
            "United States",
            "United States",
            "United States",
            "United States"
           ],
           "legendgroup": "United States",
           "marker": {
            "color": "#ABC3FA",
            "pattern": {
             "shape": ""
            }
           },
           "name": "United States",
           "offsetgroup": "United States",
           "orientation": "v",
           "showlegend": true,
           "textposition": "auto",
           "type": "bar",
           "x": [
            "United States",
            "United States",
            "United States",
            "United States",
            "United States",
            "United States"
           ],
           "xaxis": "x",
           "y": [
            5589.322021,
            2038.849018,
            1213.776148,
            2336.696855,
            0,
            0
           ],
           "yaxis": "y"
          }
         ],
         "name": "1998"
        },
        {
         "data": [
          {
           "alignmentgroup": "True",
           "hovertemplate": "Países=%{x}<br>Year=1999<br>CO2_emission=%{y}<extra></extra>",
           "ids": [
            "Brazil",
            "Brazil",
            "Brazil",
            "Brazil",
            "Brazil",
            "Brazil"
           ],
           "legendgroup": "Brazil",
           "marker": {
            "color": "#AB63FA",
            "pattern": {
             "shape": ""
            }
           },
           "name": "Brazil",
           "offsetgroup": "Brazil",
           "orientation": "v",
           "showlegend": true,
           "textposition": "auto",
           "type": "bar",
           "x": [
            "Brazil",
            "Brazil",
            "Brazil",
            "Brazil",
            "Brazil",
            "Brazil"
           ],
           "xaxis": "x",
           "y": [
            329.492351347,
            47.19021596855013,
            11.302135378,
            271,
            0,
            0
           ],
           "yaxis": "y"
          },
          {
           "alignmentgroup": "True",
           "hovertemplate": "Países=%{x}<br>Year=1999<br>CO2_emission=%{y}<extra></extra>",
           "ids": [
            "China",
            "China",
            "China",
            "China",
            "China",
            "China"
           ],
           "legendgroup": "China",
           "marker": {
            "color": "#EF553B",
            "pattern": {
             "shape": ""
            }
           },
           "name": "China",
           "offsetgroup": "China",
           "orientation": "v",
           "showlegend": true,
           "textposition": "auto",
           "type": "bar",
           "x": [
            "China",
            "China",
            "China",
            "China",
            "China",
            "China"
           ],
           "xaxis": "x",
           "y": [
            3132.091526409,
            2551.4113990737337,
            44.680127335,
            536,
            0,
            0
           ],
           "yaxis": "y"
          },
          {
           "alignmentgroup": "True",
           "hovertemplate": "Países=%{x}<br>Year=1999<br>CO2_emission=%{y}<extra></extra>",
           "ids": [
            "Russia",
            "Russia",
            "Russia",
            "Russia",
            "Russia",
            "Russia"
           ],
           "legendgroup": "Russia",
           "marker": {
            "color": "#00CC96",
            "pattern": {
             "shape": ""
            }
           },
           "name": "Russia",
           "offsetgroup": "Russia",
           "orientation": "v",
           "showlegend": true,
           "textposition": "auto",
           "type": "bar",
           "x": [
            "Russia",
            "Russia",
            "Russia",
            "Russia",
            "Russia",
            "Russia"
           ],
           "xaxis": "x",
           "y": [
            1518.144419773,
            478.4226580245153,
            674.721761748,
            365,
            0,
            0
           ],
           "yaxis": "y"
          },
          {
           "alignmentgroup": "True",
           "hovertemplate": "Países=%{x}<br>Year=1999<br>CO2_emission=%{y}<extra></extra>",
           "ids": [
            "United States",
            "United States",
            "United States",
            "United States",
            "United States",
            "United States"
           ],
           "legendgroup": "United States",
           "marker": {
            "color": "#ABC3FA",
            "pattern": {
             "shape": ""
            }
           },
           "name": "United States",
           "offsetgroup": "United States",
           "orientation": "v",
           "showlegend": true,
           "textposition": "auto",
           "type": "bar",
           "x": [
            "United States",
            "United States",
            "United States",
            "United States",
            "United States",
            "United States"
           ],
           "xaxis": "x",
           "y": [
            5636.733477,
            2063.632658,
            1191.31701,
            2381.783809,
            0,
            0
           ],
           "yaxis": "y"
          }
         ],
         "name": "1999"
        },
        {
         "data": [
          {
           "alignmentgroup": "True",
           "hovertemplate": "Países=%{x}<br>Year=2000<br>CO2_emission=%{y}<extra></extra>",
           "ids": [
            "Brazil",
            "Brazil",
            "Brazil",
            "Brazil",
            "Brazil",
            "Brazil"
           ],
           "legendgroup": "Brazil",
           "marker": {
            "color": "#AB63FA",
            "pattern": {
             "shape": ""
            }
           },
           "name": "Brazil",
           "offsetgroup": "Brazil",
           "orientation": "v",
           "showlegend": true,
           "textposition": "auto",
           "type": "bar",
           "x": [
            "Brazil",
            "Brazil",
            "Brazil",
            "Brazil",
            "Brazil",
            "Brazil"
           ],
           "xaxis": "x",
           "y": [
            341.813329688,
            49.06919772661951,
            12.744131961,
            280,
            0,
            0
           ],
           "yaxis": "y"
          },
          {
           "alignmentgroup": "True",
           "hovertemplate": "Países=%{x}<br>Year=2000<br>CO2_emission=%{y}<extra></extra>",
           "ids": [
            "China",
            "China",
            "China",
            "China",
            "China",
            "China"
           ],
           "legendgroup": "China",
           "marker": {
            "color": "#EF553B",
            "pattern": {
             "shape": ""
            }
           },
           "name": "China",
           "offsetgroup": "China",
           "orientation": "v",
           "showlegend": true,
           "textposition": "auto",
           "type": "bar",
           "x": [
            "China",
            "China",
            "China",
            "China",
            "China",
            "China"
           ],
           "xaxis": "x",
           "y": [
            3248.272869507,
            2628.038406092094,
            48.234463415,
            572,
            0,
            0
           ],
           "yaxis": "y"
          },
          {
           "alignmentgroup": "True",
           "hovertemplate": "Países=%{x}<br>Year=2000<br>CO2_emission=%{y}<extra></extra>",
           "ids": [
            "Russia",
            "Russia",
            "Russia",
            "Russia",
            "Russia",
            "Russia"
           ],
           "legendgroup": "Russia",
           "marker": {
            "color": "#00CC96",
            "pattern": {
             "shape": ""
            }
           },
           "name": "Russia",
           "offsetgroup": "Russia",
           "orientation": "v",
           "showlegend": true,
           "textposition": "auto",
           "type": "bar",
           "x": [
            "Russia",
            "Russia",
            "Russia",
            "Russia",
            "Russia",
            "Russia"
           ],
           "xaxis": "x",
           "y": [
            1516.718673417,
            478.1312473390037,
            673.587426078,
            365,
            0,
            0
           ],
           "yaxis": "y"
          },
          {
           "alignmentgroup": "True",
           "hovertemplate": "Países=%{x}<br>Year=2000<br>CO2_emission=%{y}<extra></extra>",
           "ids": [
            "United States",
            "United States",
            "United States",
            "United States",
            "United States",
            "United States"
           ],
           "legendgroup": "United States",
           "marker": {
            "color": "#ABC3FA",
            "pattern": {
             "shape": ""
            }
           },
           "name": "United States",
           "offsetgroup": "United States",
           "orientation": "v",
           "showlegend": true,
           "textposition": "auto",
           "type": "bar",
           "x": [
            "United States",
            "United States",
            "United States",
            "United States",
            "United States",
            "United States"
           ],
           "xaxis": "x",
           "y": [
            5700.252865,
            2061.622698,
            1196.935249,
            2441.694918,
            0,
            0
           ],
           "yaxis": "y"
          }
         ],
         "name": "2000"
        },
        {
         "data": [
          {
           "alignmentgroup": "True",
           "hovertemplate": "Países=%{x}<br>Year=2001<br>CO2_emission=%{y}<extra></extra>",
           "ids": [
            "Brazil",
            "Brazil",
            "Brazil",
            "Brazil",
            "Brazil",
            "Brazil"
           ],
           "legendgroup": "Brazil",
           "marker": {
            "color": "#AB63FA",
            "pattern": {
             "shape": ""
            }
           },
           "name": "Brazil",
           "offsetgroup": "Brazil",
           "orientation": "v",
           "showlegend": true,
           "textposition": "auto",
           "type": "bar",
           "x": [
            "Brazil",
            "Brazil",
            "Brazil",
            "Brazil",
            "Brazil",
            "Brazil"
           ],
           "xaxis": "x",
           "y": [
            326.632456149,
            53.00828318774173,
            18.395199649,
            255.2289733123763,
            0,
            0
           ],
           "yaxis": "y"
          },
          {
           "alignmentgroup": "True",
           "hovertemplate": "Países=%{x}<br>Year=2001<br>CO2_emission=%{y}<extra></extra>",
           "ids": [
            "China",
            "China",
            "China",
            "China",
            "China",
            "China"
           ],
           "legendgroup": "China",
           "marker": {
            "color": "#EF553B",
            "pattern": {
             "shape": ""
            }
           },
           "name": "China",
           "offsetgroup": "China",
           "orientation": "v",
           "showlegend": true,
           "textposition": "auto",
           "type": "bar",
           "x": [
            "China",
            "China",
            "China",
            "China",
            "China",
            "China"
           ],
           "xaxis": "x",
           "y": [
            3482.708683778,
            2789.6775480820984,
            50.031135696,
            643,
            0,
            0
           ],
           "yaxis": "y"
          },
          {
           "alignmentgroup": "True",
           "hovertemplate": "Países=%{x}<br>Year=2001<br>CO2_emission=%{y}<extra></extra>",
           "ids": [
            "Russia",
            "Russia",
            "Russia",
            "Russia",
            "Russia",
            "Russia"
           ],
           "legendgroup": "Russia",
           "marker": {
            "color": "#00CC96",
            "pattern": {
             "shape": ""
            }
           },
           "name": "Russia",
           "offsetgroup": "Russia",
           "orientation": "v",
           "showlegend": true,
           "textposition": "auto",
           "type": "bar",
           "x": [
            "Russia",
            "Russia",
            "Russia",
            "Russia",
            "Russia",
            "Russia"
           ],
           "xaxis": "x",
           "y": [
            1540.33430484,
            496.2432317945671,
            699.091073045,
            345,
            0,
            0
           ],
           "yaxis": "y"
          },
          {
           "alignmentgroup": "True",
           "hovertemplate": "Países=%{x}<br>Year=2001<br>CO2_emission=%{y}<extra></extra>",
           "ids": [
            "United States",
            "United States",
            "United States",
            "United States",
            "United States",
            "United States"
           ],
           "legendgroup": "United States",
           "marker": {
            "color": "#ABC3FA",
            "pattern": {
             "shape": ""
            }
           },
           "name": "United States",
           "offsetgroup": "United States",
           "orientation": "v",
           "showlegend": true,
           "textposition": "auto",
           "type": "bar",
           "x": [
            "United States",
            "United States",
            "United States",
            "United States",
            "United States",
            "United States"
           ],
           "xaxis": "x",
           "y": [
            5888.592478,
            2154.743112,
            1246.049927,
            2487.799439,
            0,
            0
           ],
           "yaxis": "y"
          }
         ],
         "name": "2001"
        },
        {
         "data": [
          {
           "alignmentgroup": "True",
           "hovertemplate": "Países=%{x}<br>Year=2002<br>CO2_emission=%{y}<extra></extra>",
           "ids": [
            "Brazil",
            "Brazil",
            "Brazil",
            "Brazil",
            "Brazil",
            "Brazil"
           ],
           "legendgroup": "Brazil",
           "marker": {
            "color": "#AB63FA",
            "pattern": {
             "shape": ""
            }
           },
           "name": "Brazil",
           "offsetgroup": "Brazil",
           "orientation": "v",
           "showlegend": true,
           "textposition": "auto",
           "type": "bar",
           "x": [
            "Brazil",
            "Brazil",
            "Brazil",
            "Brazil",
            "Brazil",
            "Brazil"
           ],
           "xaxis": "x",
           "y": [
            331.635044954,
            52.69962853343455,
            21.863786024,
            257.0716303969585,
            0,
            0
           ],
           "yaxis": "y"
          },
          {
           "alignmentgroup": "True",
           "hovertemplate": "Países=%{x}<br>Year=2002<br>CO2_emission=%{y}<extra></extra>",
           "ids": [
            "China",
            "China",
            "China",
            "China",
            "China",
            "China"
           ],
           "legendgroup": "China",
           "marker": {
            "color": "#EF553B",
            "pattern": {
             "shape": ""
            }
           },
           "name": "China",
           "offsetgroup": "China",
           "orientation": "v",
           "showlegend": true,
           "textposition": "auto",
           "type": "bar",
           "x": [
            "China",
            "China",
            "China",
            "China",
            "China",
            "China"
           ],
           "xaxis": "x",
           "y": [
            3615.319298673,
            2903.3036075161144,
            54.015691157,
            658,
            0,
            0
           ],
           "yaxis": "y"
          },
          {
           "alignmentgroup": "True",
           "hovertemplate": "Países=%{x}<br>Year=2002<br>CO2_emission=%{y}<extra></extra>",
           "ids": [
            "Russia",
            "Russia",
            "Russia",
            "Russia",
            "Russia",
            "Russia"
           ],
           "legendgroup": "Russia",
           "marker": {
            "color": "#00CC96",
            "pattern": {
             "shape": ""
            }
           },
           "name": "Russia",
           "offsetgroup": "Russia",
           "orientation": "v",
           "showlegend": true,
           "textposition": "auto",
           "type": "bar",
           "x": [
            "Russia",
            "Russia",
            "Russia",
            "Russia",
            "Russia",
            "Russia"
           ],
           "xaxis": "x",
           "y": [
            1535.638066077,
            496.75202104102095,
            690.886045036,
            348,
            0,
            0
           ],
           "yaxis": "y"
          },
          {
           "alignmentgroup": "True",
           "hovertemplate": "Países=%{x}<br>Year=2002<br>CO2_emission=%{y}<extra></extra>",
           "ids": [
            "United States",
            "United States",
            "United States",
            "United States",
            "United States",
            "United States"
           ],
           "legendgroup": "United States",
           "marker": {
            "color": "#ABC3FA",
            "pattern": {
             "shape": ""
            }
           },
           "name": "United States",
           "offsetgroup": "United States",
           "orientation": "v",
           "showlegend": true,
           "textposition": "auto",
           "type": "bar",
           "x": [
            "United States",
            "United States",
            "United States",
            "United States",
            "United States",
            "United States"
           ],
           "xaxis": "x",
           "y": [
            5777.788286,
            2087.256256,
            1191.759702,
            2498.772328,
            0,
            0
           ],
           "yaxis": "y"
          }
         ],
         "name": "2002"
        },
        {
         "data": [
          {
           "alignmentgroup": "True",
           "hovertemplate": "Países=%{x}<br>Year=2003<br>CO2_emission=%{y}<extra></extra>",
           "ids": [
            "Brazil",
            "Brazil",
            "Brazil",
            "Brazil",
            "Brazil",
            "Brazil"
           ],
           "legendgroup": "Brazil",
           "marker": {
            "color": "#AB63FA",
            "pattern": {
             "shape": ""
            }
           },
           "name": "Brazil",
           "offsetgroup": "Brazil",
           "orientation": "v",
           "showlegend": true,
           "textposition": "auto",
           "type": "bar",
           "x": [
            "Brazil",
            "Brazil",
            "Brazil",
            "Brazil",
            "Brazil",
            "Brazil"
           ],
           "xaxis": "x",
           "y": [
            328.257054614,
            49.79243620555058,
            26.092343571,
            252.37227483737345,
            0,
            0
           ],
           "yaxis": "y"
          },
          {
           "alignmentgroup": "True",
           "hovertemplate": "Países=%{x}<br>Year=2003<br>CO2_emission=%{y}<extra></extra>",
           "ids": [
            "China",
            "China",
            "China",
            "China",
            "China",
            "China"
           ],
           "legendgroup": "China",
           "marker": {
            "color": "#EF553B",
            "pattern": {
             "shape": ""
            }
           },
           "name": "China",
           "offsetgroup": "China",
           "orientation": "v",
           "showlegend": true,
           "textposition": "auto",
           "type": "bar",
           "x": [
            "China",
            "China",
            "China",
            "China",
            "China",
            "China"
           ],
           "xaxis": "x",
           "y": [
            3857.315271143,
            3105.4730791449088,
            58.842191998,
            693,
            0,
            0
           ],
           "yaxis": "y"
          },
          {
           "alignmentgroup": "True",
           "hovertemplate": "Países=%{x}<br>Year=2003<br>CO2_emission=%{y}<extra></extra>",
           "ids": [
            "Russia",
            "Russia",
            "Russia",
            "Russia",
            "Russia",
            "Russia"
           ],
           "legendgroup": "Russia",
           "marker": {
            "color": "#00CC96",
            "pattern": {
             "shape": ""
            }
           },
           "name": "Russia",
           "offsetgroup": "Russia",
           "orientation": "v",
           "showlegend": true,
           "textposition": "auto",
           "type": "bar",
           "x": [
            "Russia",
            "Russia",
            "Russia",
            "Russia",
            "Russia",
            "Russia"
           ],
           "xaxis": "x",
           "y": [
            1542.950629827,
            476.8056510669457,
            726.14497876,
            340,
            0,
            0
           ],
           "yaxis": "y"
          },
          {
           "alignmentgroup": "True",
           "hovertemplate": "Países=%{x}<br>Year=2003<br>CO2_emission=%{y}<extra></extra>",
           "ids": [
            "United States",
            "United States",
            "United States",
            "United States",
            "United States",
            "United States"
           ],
           "legendgroup": "United States",
           "marker": {
            "color": "#ABC3FA",
            "pattern": {
             "shape": ""
            }
           },
           "name": "United States",
           "offsetgroup": "United States",
           "orientation": "v",
           "showlegend": true,
           "textposition": "auto",
           "type": "bar",
           "x": [
            "United States",
            "United States",
            "United States",
            "United States",
            "United States",
            "United States"
           ],
           "xaxis": "x",
           "y": [
            5820.025298,
            2092.877119,
            1231.52727,
            2495.620909,
            0,
            0
           ],
           "yaxis": "y"
          }
         ],
         "name": "2003"
        },
        {
         "data": [
          {
           "alignmentgroup": "True",
           "hovertemplate": "Países=%{x}<br>Year=2004<br>CO2_emission=%{y}<extra></extra>",
           "ids": [
            "Brazil",
            "Brazil",
            "Brazil",
            "Brazil",
            "Brazil",
            "Brazil"
           ],
           "legendgroup": "Brazil",
           "marker": {
            "color": "#AB63FA",
            "pattern": {
             "shape": ""
            }
           },
           "name": "Brazil",
           "offsetgroup": "Brazil",
           "orientation": "v",
           "showlegend": true,
           "textposition": "auto",
           "type": "bar",
           "x": [
            "Brazil",
            "Brazil",
            "Brazil",
            "Brazil",
            "Brazil",
            "Brazil"
           ],
           "xaxis": "x",
           "y": [
            322.710828384,
            53.2124192887914,
            27.553826594,
            241.94458250155785,
            0,
            0
           ],
           "yaxis": "y"
          },
          {
           "alignmentgroup": "True",
           "hovertemplate": "Países=%{x}<br>Year=2004<br>CO2_emission=%{y}<extra></extra>",
           "ids": [
            "China",
            "China",
            "China",
            "China",
            "China",
            "China"
           ],
           "legendgroup": "China",
           "marker": {
            "color": "#EF553B",
            "pattern": {
             "shape": ""
            }
           },
           "name": "China",
           "offsetgroup": "China",
           "orientation": "v",
           "showlegend": true,
           "textposition": "auto",
           "type": "bar",
           "x": [
            "China",
            "China",
            "China",
            "China",
            "China",
            "China"
           ],
           "xaxis": "x",
           "y": [
            4469.340962115,
            3688.9444330151514,
            63.3965291,
            717,
            0,
            0
           ],
           "yaxis": "y"
          },
          {
           "alignmentgroup": "True",
           "hovertemplate": "Países=%{x}<br>Year=2004<br>CO2_emission=%{y}<extra></extra>",
           "ids": [
            "Russia",
            "Russia",
            "Russia",
            "Russia",
            "Russia",
            "Russia"
           ],
           "legendgroup": "Russia",
           "marker": {
            "color": "#00CC96",
            "pattern": {
             "shape": ""
            }
           },
           "name": "Russia",
           "offsetgroup": "Russia",
           "orientation": "v",
           "showlegend": true,
           "textposition": "auto",
           "type": "bar",
           "x": [
            "Russia",
            "Russia",
            "Russia",
            "Russia",
            "Russia",
            "Russia"
           ],
           "xaxis": "x",
           "y": [
            1578.930945402,
            479.5101238323783,
            760.42082157,
            339,
            0,
            0
           ],
           "yaxis": "y"
          },
          {
           "alignmentgroup": "True",
           "hovertemplate": "Países=%{x}<br>Year=2004<br>CO2_emission=%{y}<extra></extra>",
           "ids": [
            "United States",
            "United States",
            "United States",
            "United States",
            "United States",
            "United States"
           ],
           "legendgroup": "United States",
           "marker": {
            "color": "#ABC3FA",
            "pattern": {
             "shape": ""
            }
           },
           "name": "United States",
           "offsetgroup": "United States",
           "orientation": "v",
           "showlegend": true,
           "textposition": "auto",
           "type": "bar",
           "x": [
            "United States",
            "United States",
            "United States",
            "United States",
            "United States",
            "United States"
           ],
           "xaxis": "x",
           "y": [
            5886.416623,
            2133.921259,
            1195.380899,
            2557.114465,
            0,
            0
           ],
           "yaxis": "y"
          }
         ],
         "name": "2004"
        },
        {
         "data": [
          {
           "alignmentgroup": "True",
           "hovertemplate": "Países=%{x}<br>Year=2005<br>CO2_emission=%{y}<extra></extra>",
           "ids": [
            "Brazil",
            "Brazil",
            "Brazil",
            "Brazil",
            "Brazil",
            "Brazil"
           ],
           "legendgroup": "Brazil",
           "marker": {
            "color": "#AB63FA",
            "pattern": {
             "shape": ""
            }
           },
           "name": "Brazil",
           "offsetgroup": "Brazil",
           "orientation": "v",
           "showlegend": true,
           "textposition": "auto",
           "type": "bar",
           "x": [
            "Brazil",
            "Brazil",
            "Brazil",
            "Brazil",
            "Brazil",
            "Brazil"
           ],
           "xaxis": "x",
           "y": [
            337.988532755,
            54.305478816384735,
            33.555650208,
            250.12740373014827,
            0,
            0
           ],
           "yaxis": "y"
          },
          {
           "alignmentgroup": "True",
           "hovertemplate": "Países=%{x}<br>Year=2005<br>CO2_emission=%{y}<extra></extra>",
           "ids": [
            "China",
            "China",
            "China",
            "China",
            "China",
            "China"
           ],
           "legendgroup": "China",
           "marker": {
            "color": "#EF553B",
            "pattern": {
             "shape": ""
            }
           },
           "name": "China",
           "offsetgroup": "China",
           "orientation": "v",
           "showlegend": true,
           "textposition": "auto",
           "type": "bar",
           "x": [
            "China",
            "China",
            "China",
            "China",
            "China",
            "China"
           ],
           "xaxis": "x",
           "y": [
            5397.860863322,
            4472.9942969292,
            74.866566393,
            850,
            0,
            0
           ],
           "yaxis": "y"
          },
          {
           "alignmentgroup": "True",
           "hovertemplate": "Países=%{x}<br>Year=2005<br>CO2_emission=%{y}<extra></extra>",
           "ids": [
            "Russia",
            "Russia",
            "Russia",
            "Russia",
            "Russia",
            "Russia"
           ],
           "legendgroup": "Russia",
           "marker": {
            "color": "#00CC96",
            "pattern": {
             "shape": ""
            }
           },
           "name": "Russia",
           "offsetgroup": "Russia",
           "orientation": "v",
           "showlegend": true,
           "textposition": "auto",
           "type": "bar",
           "x": [
            "Russia",
            "Russia",
            "Russia",
            "Russia",
            "Russia",
            "Russia"
           ],
           "xaxis": "x",
           "y": [
            1583.795963199,
            454.82012013094106,
            792.975843068,
            336,
            0,
            0
           ],
           "yaxis": "y"
          },
          {
           "alignmentgroup": "True",
           "hovertemplate": "Países=%{x}<br>Year=2005<br>CO2_emission=%{y}<extra></extra>",
           "ids": [
            "United States",
            "United States",
            "United States",
            "United States",
            "United States",
            "United States"
           ],
           "legendgroup": "United States",
           "marker": {
            "color": "#ABC3FA",
            "pattern": {
             "shape": ""
            }
           },
           "name": "United States",
           "offsetgroup": "United States",
           "orientation": "v",
           "showlegend": true,
           "textposition": "auto",
           "type": "bar",
           "x": [
            "United States",
            "United States",
            "United States",
            "United States",
            "United States",
            "United States"
           ],
           "xaxis": "x",
           "y": [
            5993.719256,
            2158.366082,
            1200.931081,
            2634.422093,
            0,
            0
           ],
           "yaxis": "y"
          }
         ],
         "name": "2005"
        },
        {
         "data": [
          {
           "alignmentgroup": "True",
           "hovertemplate": "Países=%{x}<br>Year=2006<br>CO2_emission=%{y}<extra></extra>",
           "ids": [
            "Brazil",
            "Brazil",
            "Brazil",
            "Brazil",
            "Brazil",
            "Brazil"
           ],
           "legendgroup": "Brazil",
           "marker": {
            "color": "#AB63FA",
            "pattern": {
             "shape": ""
            }
           },
           "name": "Brazil",
           "offsetgroup": "Brazil",
           "orientation": "v",
           "showlegend": true,
           "textposition": "auto",
           "type": "bar",
           "x": [
            "Brazil",
            "Brazil",
            "Brazil",
            "Brazil",
            "Brazil",
            "Brazil"
           ],
           "xaxis": "x",
           "y": [
            342.001465182,
            52.337687211729765,
            36.891916158,
            252.7718618119324,
            0,
            0
           ],
           "yaxis": "y"
          },
          {
           "alignmentgroup": "True",
           "hovertemplate": "Países=%{x}<br>Year=2006<br>CO2_emission=%{y}<extra></extra>",
           "ids": [
            "China",
            "China",
            "China",
            "China",
            "China",
            "China"
           ],
           "legendgroup": "China",
           "marker": {
            "color": "#EF553B",
            "pattern": {
             "shape": ""
            }
           },
           "name": "China",
           "offsetgroup": "China",
           "orientation": "v",
           "showlegend": true,
           "textposition": "auto",
           "type": "bar",
           "x": [
            "China",
            "China",
            "China",
            "China",
            "China",
            "China"
           ],
           "xaxis": "x",
           "y": [
            6120.077564126,
            5139.34467795772,
            91.732886168,
            889,
            0,
            0
           ],
           "yaxis": "y"
          },
          {
           "alignmentgroup": "True",
           "hovertemplate": "Países=%{x}<br>Year=2006<br>CO2_emission=%{y}<extra></extra>",
           "ids": [
            "Russia",
            "Russia",
            "Russia",
            "Russia",
            "Russia",
            "Russia"
           ],
           "legendgroup": "Russia",
           "marker": {
            "color": "#00CC96",
            "pattern": {
             "shape": ""
            }
           },
           "name": "Russia",
           "offsetgroup": "Russia",
           "orientation": "v",
           "showlegend": true,
           "textposition": "auto",
           "type": "bar",
           "x": [
            "Russia",
            "Russia",
            "Russia",
            "Russia",
            "Russia",
            "Russia"
           ],
           "xaxis": "x",
           "y": [
            1570.506804534,
            454.4111237690753,
            780.095680765,
            336,
            0,
            0
           ],
           "yaxis": "y"
          },
          {
           "alignmentgroup": "True",
           "hovertemplate": "Países=%{x}<br>Year=2006<br>CO2_emission=%{y}<extra></extra>",
           "ids": [
            "United States",
            "United States",
            "United States",
            "United States",
            "United States",
            "United States"
           ],
           "legendgroup": "United States",
           "marker": {
            "color": "#ABC3FA",
            "pattern": {
             "shape": ""
            }
           },
           "name": "United States",
           "offsetgroup": "United States",
           "orientation": "v",
           "showlegend": true,
           "textposition": "auto",
           "type": "bar",
           "x": [
            "United States",
            "United States",
            "United States",
            "United States",
            "United States",
            "United States"
           ],
           "xaxis": "x",
           "y": [
            6006.994255,
            2180.146225,
            1182.46557,
            2644.38246,
            0,
            0
           ],
           "yaxis": "y"
          }
         ],
         "name": "2006"
        },
        {
         "data": [
          {
           "alignmentgroup": "True",
           "hovertemplate": "Países=%{x}<br>Year=2007<br>CO2_emission=%{y}<extra></extra>",
           "ids": [
            "Brazil",
            "Brazil",
            "Brazil",
            "Brazil",
            "Brazil",
            "Brazil"
           ],
           "legendgroup": "Brazil",
           "marker": {
            "color": "#AB63FA",
            "pattern": {
             "shape": ""
            }
           },
           "name": "Brazil",
           "offsetgroup": "Brazil",
           "orientation": "v",
           "showlegend": true,
           "textposition": "auto",
           "type": "bar",
           "x": [
            "Brazil",
            "Brazil",
            "Brazil",
            "Brazil",
            "Brazil",
            "Brazil"
           ],
           "xaxis": "x",
           "y": [
            349.282669137,
            52.648305357632864,
            38.339046668,
            258.29531711126094,
            0,
            0
           ],
           "yaxis": "y"
          },
          {
           "alignmentgroup": "True",
           "hovertemplate": "Países=%{x}<br>Year=2007<br>CO2_emission=%{y}<extra></extra>",
           "ids": [
            "China",
            "China",
            "China",
            "China",
            "China",
            "China"
           ],
           "legendgroup": "China",
           "marker": {
            "color": "#EF553B",
            "pattern": {
             "shape": ""
            }
           },
           "name": "China",
           "offsetgroup": "China",
           "orientation": "v",
           "showlegend": true,
           "textposition": "auto",
           "type": "bar",
           "x": [
            "China",
            "China",
            "China",
            "China",
            "China",
            "China"
           ],
           "xaxis": "x",
           "y": [
            6750.666894778,
            5712.141004523539,
            110.525890254,
            928,
            0,
            0
           ],
           "yaxis": "y"
          },
          {
           "alignmentgroup": "True",
           "hovertemplate": "Países=%{x}<br>Year=2007<br>CO2_emission=%{y}<extra></extra>",
           "ids": [
            "Russia",
            "Russia",
            "Russia",
            "Russia",
            "Russia",
            "Russia"
           ],
           "legendgroup": "Russia",
           "marker": {
            "color": "#00CC96",
            "pattern": {
             "shape": ""
            }
           },
           "name": "Russia",
           "offsetgroup": "Russia",
           "orientation": "v",
           "showlegend": true,
           "textposition": "auto",
           "type": "bar",
           "x": [
            "Russia",
            "Russia",
            "Russia",
            "Russia",
            "Russia",
            "Russia"
           ],
           "xaxis": "x",
           "y": [
            1644.689839998,
            464.9571284449515,
            828.732711553,
            351,
            0,
            0
           ],
           "yaxis": "y"
          },
          {
           "alignmentgroup": "True",
           "hovertemplate": "Países=%{x}<br>Year=2007<br>CO2_emission=%{y}<extra></extra>",
           "ids": [
            "United States",
            "United States",
            "United States",
            "United States",
            "United States",
            "United States"
           ],
           "legendgroup": "United States",
           "marker": {
            "color": "#ABC3FA",
            "pattern": {
             "shape": ""
            }
           },
           "name": "United States",
           "offsetgroup": "United States",
           "orientation": "v",
           "showlegend": true,
           "textposition": "auto",
           "type": "bar",
           "x": [
            "United States",
            "United States",
            "United States",
            "United States",
            "United States",
            "United States"
           ],
           "xaxis": "x",
           "y": [
            5929.329204,
            2146.008621,
            1169.696029,
            2613.624554,
            0,
            0
           ],
           "yaxis": "y"
          }
         ],
         "name": "2007"
        },
        {
         "data": [
          {
           "alignmentgroup": "True",
           "hovertemplate": "Países=%{x}<br>Year=2008<br>CO2_emission=%{y}<extra></extra>",
           "ids": [
            "Brazil",
            "Brazil",
            "Brazil",
            "Brazil",
            "Brazil",
            "Brazil"
           ],
           "legendgroup": "Brazil",
           "marker": {
            "color": "#AB63FA",
            "pattern": {
             "shape": ""
            }
           },
           "name": "Brazil",
           "offsetgroup": "Brazil",
           "orientation": "v",
           "showlegend": true,
           "textposition": "auto",
           "type": "bar",
           "x": [
            "Brazil",
            "Brazil",
            "Brazil",
            "Brazil",
            "Brazil",
            "Brazil"
           ],
           "xaxis": "x",
           "y": [
            362.983462641,
            55.4988512279057,
            39.369879361,
            268.11473205186047,
            0,
            0
           ],
           "yaxis": "y"
          },
          {
           "alignmentgroup": "True",
           "hovertemplate": "Países=%{x}<br>Year=2008<br>CO2_emission=%{y}<extra></extra>",
           "ids": [
            "China",
            "China",
            "China",
            "China",
            "China",
            "China"
           ],
           "legendgroup": "China",
           "marker": {
            "color": "#EF553B",
            "pattern": {
             "shape": ""
            }
           },
           "name": "China",
           "offsetgroup": "China",
           "orientation": "v",
           "showlegend": true,
           "textposition": "auto",
           "type": "bar",
           "x": [
            "China",
            "China",
            "China",
            "China",
            "China",
            "China"
           ],
           "xaxis": "x",
           "y": [
            7057.568452367,
            6136.00899017521,
            138.059462192,
            783.5,
            0,
            0
           ],
           "yaxis": "y"
          },
          {
           "alignmentgroup": "True",
           "hovertemplate": "Países=%{x}<br>Year=2008<br>CO2_emission=%{y}<extra></extra>",
           "ids": [
            "Russia",
            "Russia",
            "Russia",
            "Russia",
            "Russia",
            "Russia"
           ],
           "legendgroup": "Russia",
           "marker": {
            "color": "#00CC96",
            "pattern": {
             "shape": ""
            }
           },
           "name": "Russia",
           "offsetgroup": "Russia",
           "orientation": "v",
           "showlegend": true,
           "textposition": "auto",
           "type": "bar",
           "x": [
            "Russia",
            "Russia",
            "Russia",
            "Russia",
            "Russia",
            "Russia"
           ],
           "xaxis": "x",
           "y": [
            1616.219690094,
            441.3331855588387,
            828.886504535,
            346,
            0,
            0
           ],
           "yaxis": "y"
          },
          {
           "alignmentgroup": "True",
           "hovertemplate": "Países=%{x}<br>Year=2008<br>CO2_emission=%{y}<extra></extra>",
           "ids": [
            "United States",
            "United States",
            "United States",
            "United States",
            "United States",
            "United States"
           ],
           "legendgroup": "United States",
           "marker": {
            "color": "#ABC3FA",
            "pattern": {
             "shape": ""
            }
           },
           "name": "United States",
           "offsetgroup": "United States",
           "orientation": "v",
           "showlegend": true,
           "textposition": "auto",
           "type": "bar",
           "x": [
            "United States",
            "United States",
            "United States",
            "United States",
            "United States",
            "United States"
           ],
           "xaxis": "x",
           "y": [
            6015.537927,
            2171.295306,
            1245.157609,
            2599.085012,
            0,
            0
           ],
           "yaxis": "y"
          }
         ],
         "name": "2008"
        },
        {
         "data": [
          {
           "alignmentgroup": "True",
           "hovertemplate": "Países=%{x}<br>Year=2009<br>CO2_emission=%{y}<extra></extra>",
           "ids": [
            "Brazil",
            "Brazil",
            "Brazil",
            "Brazil",
            "Brazil",
            "Brazil"
           ],
           "legendgroup": "Brazil",
           "marker": {
            "color": "#AB63FA",
            "pattern": {
             "shape": ""
            }
           },
           "name": "Brazil",
           "offsetgroup": "Brazil",
           "orientation": "v",
           "showlegend": true,
           "textposition": "auto",
           "type": "bar",
           "x": [
            "Brazil",
            "Brazil",
            "Brazil",
            "Brazil",
            "Brazil",
            "Brazil"
           ],
           "xaxis": "x",
           "y": [
            383.629281149,
            55.38836782022622,
            46.883063791,
            281.3578495377291,
            0,
            0
           ],
           "yaxis": "y"
          },
          {
           "alignmentgroup": "True",
           "hovertemplate": "Países=%{x}<br>Year=2009<br>CO2_emission=%{y}<extra></extra>",
           "ids": [
            "China",
            "China",
            "China",
            "China",
            "China",
            "China"
           ],
           "legendgroup": "China",
           "marker": {
            "color": "#EF553B",
            "pattern": {
             "shape": ""
            }
           },
           "name": "China",
           "offsetgroup": "China",
           "orientation": "v",
           "showlegend": true,
           "textposition": "auto",
           "type": "bar",
           "x": [
            "China",
            "China",
            "China",
            "China",
            "China",
            "China"
           ],
           "xaxis": "x",
           "y": [
            7505.110562847,
            6358.993115216044,
            151.117447631,
            995,
            0,
            0
           ],
           "yaxis": "y"
          },
          {
           "alignmentgroup": "True",
           "hovertemplate": "Países=%{x}<br>Year=2009<br>CO2_emission=%{y}<extra></extra>",
           "ids": [
            "Russia",
            "Russia",
            "Russia",
            "Russia",
            "Russia",
            "Russia"
           ],
           "legendgroup": "Russia",
           "marker": {
            "color": "#00CC96",
            "pattern": {
             "shape": ""
            }
           },
           "name": "Russia",
           "offsetgroup": "Russia",
           "orientation": "v",
           "showlegend": true,
           "textposition": "auto",
           "type": "bar",
           "x": [
            "Russia",
            "Russia",
            "Russia",
            "Russia",
            "Russia",
            "Russia"
           ],
           "xaxis": "x",
           "y": [
            1689.705178732,
            479.4592912712247,
            846.245887461,
            364,
            0,
            0
           ],
           "yaxis": "y"
          },
          {
           "alignmentgroup": "True",
           "hovertemplate": "Países=%{x}<br>Year=2009<br>CO2_emission=%{y}<extra></extra>",
           "ids": [
            "United States",
            "United States",
            "United States",
            "United States",
            "United States",
            "United States"
           ],
           "legendgroup": "United States",
           "marker": {
            "color": "#ABC3FA",
            "pattern": {
             "shape": ""
            }
           },
           "name": "United States",
           "offsetgroup": "United States",
           "orientation": "v",
           "showlegend": true,
           "textposition": "auto",
           "type": "bar",
           "x": [
            "United States",
            "United States",
            "United States",
            "United States",
            "United States",
            "United States"
           ],
           "xaxis": "x",
           "y": [
            5823.12664,
            2138.693435,
            1254.522337,
            2429.910868,
            0,
            0
           ],
           "yaxis": "y"
          }
         ],
         "name": "2009"
        },
        {
         "data": [
          {
           "alignmentgroup": "True",
           "hovertemplate": "Países=%{x}<br>Year=2010<br>CO2_emission=%{y}<extra></extra>",
           "ids": [
            "Brazil",
            "Brazil",
            "Brazil",
            "Brazil",
            "Brazil",
            "Brazil"
           ],
           "legendgroup": "Brazil",
           "marker": {
            "color": "#AB63FA",
            "pattern": {
             "shape": ""
            }
           },
           "name": "Brazil",
           "offsetgroup": "Brazil",
           "orientation": "v",
           "showlegend": true,
           "textposition": "auto",
           "type": "bar",
           "x": [
            "Brazil",
            "Brazil",
            "Brazil",
            "Brazil",
            "Brazil",
            "Brazil"
           ],
           "xaxis": "x",
           "y": [
            355.535677219,
            43.53214012180644,
            37.10997692,
            274.89356017726976,
            0,
            0
           ],
           "yaxis": "y"
          },
          {
           "alignmentgroup": "True",
           "hovertemplate": "Países=%{x}<br>Year=2010<br>CO2_emission=%{y}<extra></extra>",
           "ids": [
            "China",
            "China",
            "China",
            "China",
            "China",
            "China"
           ],
           "legendgroup": "China",
           "marker": {
            "color": "#EF553B",
            "pattern": {
             "shape": ""
            }
           },
           "name": "China",
           "offsetgroup": "China",
           "orientation": "v",
           "showlegend": true,
           "textposition": "auto",
           "type": "bar",
           "x": [
            "China",
            "China",
            "China",
            "China",
            "China",
            "China"
           ],
           "xaxis": "x",
           "y": [
            8204.136739711,
            6923.858506472719,
            173.278233238,
            1107,
            0,
            0
           ],
           "yaxis": "y"
          },
          {
           "alignmentgroup": "True",
           "hovertemplate": "Países=%{x}<br>Year=2010<br>CO2_emission=%{y}<extra></extra>",
           "ids": [
            "Russia",
            "Russia",
            "Russia",
            "Russia",
            "Russia",
            "Russia"
           ],
           "legendgroup": "Russia",
           "marker": {
            "color": "#00CC96",
            "pattern": {
             "shape": ""
            }
           },
           "name": "Russia",
           "offsetgroup": "Russia",
           "orientation": "v",
           "showlegend": true,
           "textposition": "auto",
           "type": "bar",
           "x": [
            "Russia",
            "Russia",
            "Russia",
            "Russia",
            "Russia",
            "Russia"
           ],
           "xaxis": "x",
           "y": [
            1505.588572589,
            417.4388910263866,
            735.149681563,
            353,
            0,
            0
           ],
           "yaxis": "y"
          },
          {
           "alignmentgroup": "True",
           "hovertemplate": "Países=%{x}<br>Year=2010<br>CO2_emission=%{y}<extra></extra>",
           "ids": [
            "United States",
            "United States",
            "United States",
            "United States",
            "United States",
            "United States"
           ],
           "legendgroup": "United States",
           "marker": {
            "color": "#ABC3FA",
            "pattern": {
             "shape": ""
            }
           },
           "name": "United States",
           "offsetgroup": "United States",
           "orientation": "v",
           "showlegend": true,
           "textposition": "auto",
           "type": "bar",
           "x": [
            "United States",
            "United States",
            "United States",
            "United States",
            "United States",
            "United States"
           ],
           "xaxis": "x",
           "y": [
            5403.664819,
            1875.159584,
            1233.390342,
            2295.114893,
            0,
            0
           ],
           "yaxis": "y"
          }
         ],
         "name": "2010"
        },
        {
         "data": [
          {
           "alignmentgroup": "True",
           "hovertemplate": "Países=%{x}<br>Year=2011<br>CO2_emission=%{y}<extra></extra>",
           "ids": [
            "Brazil",
            "Brazil",
            "Brazil",
            "Brazil",
            "Brazil",
            "Brazil"
           ],
           "legendgroup": "Brazil",
           "marker": {
            "color": "#AB63FA",
            "pattern": {
             "shape": ""
            }
           },
           "name": "Brazil",
           "offsetgroup": "Brazil",
           "orientation": "v",
           "showlegend": true,
           "textposition": "auto",
           "type": "bar",
           "x": [
            "Brazil",
            "Brazil",
            "Brazil",
            "Brazil",
            "Brazil",
            "Brazil"
           ],
           "xaxis": "x",
           "y": [
            409.648966863,
            58.63264944198397,
            49.955738162,
            301.06057925935363,
            0,
            0
           ],
           "yaxis": "y"
          },
          {
           "alignmentgroup": "True",
           "hovertemplate": "Países=%{x}<br>Year=2011<br>CO2_emission=%{y}<extra></extra>",
           "ids": [
            "China",
            "China",
            "China",
            "China",
            "China",
            "China"
           ],
           "legendgroup": "China",
           "marker": {
            "color": "#EF553B",
            "pattern": {
             "shape": ""
            }
           },
           "name": "China",
           "offsetgroup": "China",
           "orientation": "v",
           "showlegend": true,
           "textposition": "auto",
           "type": "bar",
           "x": [
            "China",
            "China",
            "China",
            "China",
            "China",
            "China"
           ],
           "xaxis": "x",
           "y": [
            9003.659583588,
            7691.690677267044,
            208.939515111,
            1103.0293912097045,
            0,
            0
           ],
           "yaxis": "y"
          },
          {
           "alignmentgroup": "True",
           "hovertemplate": "Países=%{x}<br>Year=2011<br>CO2_emission=%{y}<extra></extra>",
           "ids": [
            "Russia",
            "Russia",
            "Russia",
            "Russia",
            "Russia",
            "Russia"
           ],
           "legendgroup": "Russia",
           "marker": {
            "color": "#00CC96",
            "pattern": {
             "shape": ""
            }
           },
           "name": "Russia",
           "offsetgroup": "Russia",
           "orientation": "v",
           "showlegend": true,
           "textposition": "auto",
           "type": "bar",
           "x": [
            "Russia",
            "Russia",
            "Russia",
            "Russia",
            "Russia",
            "Russia"
           ],
           "xaxis": "x",
           "y": [
            1661.036739444,
            402.9018339245317,
            889.134905519,
            369,
            0,
            0
           ],
           "yaxis": "y"
          },
          {
           "alignmentgroup": "True",
           "hovertemplate": "Países=%{x}<br>Year=2011<br>CO2_emission=%{y}<extra></extra>",
           "ids": [
            "United States",
            "United States",
            "United States",
            "United States",
            "United States",
            "United States"
           ],
           "legendgroup": "United States",
           "marker": {
            "color": "#ABC3FA",
            "pattern": {
             "shape": ""
            }
           },
           "name": "United States",
           "offsetgroup": "United States",
           "orientation": "v",
           "showlegend": true,
           "textposition": "auto",
           "type": "bar",
           "x": [
            "United States",
            "United States",
            "United States",
            "United States",
            "United States",
            "United States"
           ],
           "xaxis": "x",
           "y": [
            5593.662183,
            1985.938572,
            1292.438107,
            2315.285504,
            0,
            0
           ],
           "yaxis": "y"
          }
         ],
         "name": "2011"
        },
        {
         "data": [
          {
           "alignmentgroup": "True",
           "hovertemplate": "Países=%{x}<br>Year=2012<br>CO2_emission=%{y}<extra></extra>",
           "ids": [
            "Brazil",
            "Brazil",
            "Brazil",
            "Brazil",
            "Brazil",
            "Brazil"
           ],
           "legendgroup": "Brazil",
           "marker": {
            "color": "#AB63FA",
            "pattern": {
             "shape": ""
            }
           },
           "name": "Brazil",
           "offsetgroup": "Brazil",
           "orientation": "v",
           "showlegend": true,
           "textposition": "auto",
           "type": "bar",
           "x": [
            "Brazil",
            "Brazil",
            "Brazil",
            "Brazil",
            "Brazil",
            "Brazil"
           ],
           "xaxis": "x",
           "y": [
            431.174655173,
            62.91172774025922,
            49.678206283,
            318.58472115023574,
            0,
            0
           ],
           "yaxis": "y"
          },
          {
           "alignmentgroup": "True",
           "hovertemplate": "Países=%{x}<br>Year=2012<br>CO2_emission=%{y}<extra></extra>",
           "ids": [
            "China",
            "China",
            "China",
            "China",
            "China",
            "China"
           ],
           "legendgroup": "China",
           "marker": {
            "color": "#EF553B",
            "pattern": {
             "shape": ""
            }
           },
           "name": "China",
           "offsetgroup": "China",
           "orientation": "v",
           "showlegend": true,
           "textposition": "auto",
           "type": "bar",
           "x": [
            "China",
            "China",
            "China",
            "China",
            "China",
            "China"
           ],
           "xaxis": "x",
           "y": [
            9892.523226965,
            8478.708671392978,
            256.348872054,
            1157.4656835180072,
            0,
            0
           ],
           "yaxis": "y"
          },
          {
           "alignmentgroup": "True",
           "hovertemplate": "Países=%{x}<br>Year=2012<br>CO2_emission=%{y}<extra></extra>",
           "ids": [
            "Russia",
            "Russia",
            "Russia",
            "Russia",
            "Russia",
            "Russia"
           ],
           "legendgroup": "Russia",
           "marker": {
            "color": "#00CC96",
            "pattern": {
             "shape": ""
            }
           },
           "name": "Russia",
           "offsetgroup": "Russia",
           "orientation": "v",
           "showlegend": true,
           "textposition": "auto",
           "type": "bar",
           "x": [
            "Russia",
            "Russia",
            "Russia",
            "Russia",
            "Russia",
            "Russia"
           ],
           "xaxis": "x",
           "y": [
            1733.554377433,
            424.1026845809533,
            918.451692852,
            391,
            0,
            0
           ],
           "yaxis": "y"
          },
          {
           "alignmentgroup": "True",
           "hovertemplate": "Países=%{x}<br>Year=2012<br>CO2_emission=%{y}<extra></extra>",
           "ids": [
            "United States",
            "United States",
            "United States",
            "United States",
            "United States",
            "United States"
           ],
           "legendgroup": "United States",
           "marker": {
            "color": "#ABC3FA",
            "pattern": {
             "shape": ""
            }
           },
           "name": "United States",
           "offsetgroup": "United States",
           "orientation": "v",
           "showlegend": true,
           "textposition": "auto",
           "type": "bar",
           "x": [
            "United States",
            "United States",
            "United States",
            "United States",
            "United States",
            "United States"
           ],
           "xaxis": "x",
           "y": [
            5454.696471,
            1875.601053,
            1312.327965,
            2266.767453,
            0,
            0
           ],
           "yaxis": "y"
          }
         ],
         "name": "2012"
        },
        {
         "data": [
          {
           "alignmentgroup": "True",
           "hovertemplate": "Países=%{x}<br>Year=2013<br>CO2_emission=%{y}<extra></extra>",
           "ids": [
            "Brazil",
            "Brazil",
            "Brazil",
            "Brazil",
            "Brazil",
            "Brazil"
           ],
           "legendgroup": "Brazil",
           "marker": {
            "color": "#AB63FA",
            "pattern": {
             "shape": ""
            }
           },
           "name": "Brazil",
           "offsetgroup": "Brazil",
           "orientation": "v",
           "showlegend": true,
           "textposition": "auto",
           "type": "bar",
           "x": [
            "Brazil",
            "Brazil",
            "Brazil",
            "Brazil",
            "Brazil",
            "Brazil"
           ],
           "xaxis": "x",
           "y": [
            462.028577038,
            61.39384936306449,
            59.966709499,
            340.6680181760316,
            0,
            0
           ],
           "yaxis": "y"
          },
          {
           "alignmentgroup": "True",
           "hovertemplate": "Países=%{x}<br>Year=2013<br>CO2_emission=%{y}<extra></extra>",
           "ids": [
            "China",
            "China",
            "China",
            "China",
            "China",
            "China"
           ],
           "legendgroup": "China",
           "marker": {
            "color": "#EF553B",
            "pattern": {
             "shape": ""
            }
           },
           "name": "China",
           "offsetgroup": "China",
           "orientation": "v",
           "showlegend": true,
           "textposition": "auto",
           "type": "bar",
           "x": [
            "China",
            "China",
            "China",
            "China",
            "China",
            "China"
           ],
           "xaxis": "x",
           "y": [
            10478.960468891,
            8970.681630361134,
            281.319405614,
            1226.9594329158856,
            0,
            0
           ],
           "yaxis": "y"
          },
          {
           "alignmentgroup": "True",
           "hovertemplate": "Países=%{x}<br>Year=2013<br>CO2_emission=%{y}<extra></extra>",
           "ids": [
            "Russia",
            "Russia",
            "Russia",
            "Russia",
            "Russia",
            "Russia"
           ],
           "legendgroup": "Russia",
           "marker": {
            "color": "#00CC96",
            "pattern": {
             "shape": ""
            }
           },
           "name": "Russia",
           "offsetgroup": "Russia",
           "orientation": "v",
           "showlegend": true,
           "textposition": "auto",
           "type": "bar",
           "x": [
            "Russia",
            "Russia",
            "Russia",
            "Russia",
            "Russia",
            "Russia"
           ],
           "xaxis": "x",
           "y": [
            1741.540316807,
            447.0058520554024,
            901.534464752,
            393,
            0,
            0
           ],
           "yaxis": "y"
          },
          {
           "alignmentgroup": "True",
           "hovertemplate": "Países=%{x}<br>Year=2013<br>CO2_emission=%{y}<extra></extra>",
           "ids": [
            "United States",
            "United States",
            "United States",
            "United States",
            "United States",
            "United States"
           ],
           "legendgroup": "United States",
           "marker": {
            "color": "#ABC3FA",
            "pattern": {
             "shape": ""
            }
           },
           "name": "United States",
           "offsetgroup": "United States",
           "orientation": "v",
           "showlegend": true,
           "textposition": "auto",
           "type": "bar",
           "x": [
            "United States",
            "United States",
            "United States",
            "United States",
            "United States",
            "United States"
           ],
           "xaxis": "x",
           "y": [
            5236.322549,
            1657.873276,
            1371.560957,
            2206.888316,
            0,
            0
           ],
           "yaxis": "y"
          }
         ],
         "name": "2013"
        },
        {
         "data": [
          {
           "alignmentgroup": "True",
           "hovertemplate": "Países=%{x}<br>Year=2014<br>CO2_emission=%{y}<extra></extra>",
           "ids": [
            "Brazil",
            "Brazil",
            "Brazil",
            "Brazil",
            "Brazil",
            "Brazil"
           ],
           "legendgroup": "Brazil",
           "marker": {
            "color": "#AB63FA",
            "pattern": {
             "shape": ""
            }
           },
           "name": "Brazil",
           "offsetgroup": "Brazil",
           "orientation": "v",
           "showlegend": true,
           "textposition": "auto",
           "type": "bar",
           "x": [
            "Brazil",
            "Brazil",
            "Brazil",
            "Brazil",
            "Brazil",
            "Brazil"
           ],
           "xaxis": "x",
           "y": [
            491.320111606,
            66.72425903917075,
            70.808294103,
            353.7875584637058,
            0,
            0
           ],
           "yaxis": "y"
          },
          {
           "alignmentgroup": "True",
           "hovertemplate": "Países=%{x}<br>Year=2014<br>CO2_emission=%{y}<extra></extra>",
           "ids": [
            "China",
            "China",
            "China",
            "China",
            "China",
            "China"
           ],
           "legendgroup": "China",
           "marker": {
            "color": "#EF553B",
            "pattern": {
             "shape": ""
            }
           },
           "name": "China",
           "offsetgroup": "China",
           "orientation": "v",
           "showlegend": true,
           "textposition": "auto",
           "type": "bar",
           "x": [
            "China",
            "China",
            "China",
            "China",
            "China",
            "China"
           ],
           "xaxis": "x",
           "y": [
            10732.002366681,
            9113.558191061687,
            319.365546727,
            1299.078628892797,
            0,
            0
           ],
           "yaxis": "y"
          },
          {
           "alignmentgroup": "True",
           "hovertemplate": "Países=%{x}<br>Year=2014<br>CO2_emission=%{y}<extra></extra>",
           "ids": [
            "Russia",
            "Russia",
            "Russia",
            "Russia",
            "Russia",
            "Russia"
           ],
           "legendgroup": "Russia",
           "marker": {
            "color": "#00CC96",
            "pattern": {
             "shape": ""
            }
           },
           "name": "Russia",
           "offsetgroup": "Russia",
           "orientation": "v",
           "showlegend": true,
           "textposition": "auto",
           "type": "bar",
           "x": [
            "Russia",
            "Russia",
            "Russia",
            "Russia",
            "Russia",
            "Russia"
           ],
           "xaxis": "x",
           "y": [
            1692.56822549,
            396.77900856960457,
            887.78921692,
            408,
            0,
            0
           ],
           "yaxis": "y"
          },
          {
           "alignmentgroup": "True",
           "hovertemplate": "Países=%{x}<br>Year=2014<br>CO2_emission=%{y}<extra></extra>",
           "ids": [
            "United States",
            "United States",
            "United States",
            "United States",
            "United States",
            "United States"
           ],
           "legendgroup": "United States",
           "marker": {
            "color": "#ABC3FA",
            "pattern": {
             "shape": ""
            }
           },
           "name": "United States",
           "offsetgroup": "United States",
           "orientation": "v",
           "showlegend": true,
           "textposition": "auto",
           "type": "bar",
           "x": [
            "United States",
            "United States",
            "United States",
            "United States",
            "United States",
            "United States"
           ],
           "xaxis": "x",
           "y": [
            5358.870231,
            1717.844544,
            1408.379797,
            2232.64589,
            0,
            0
           ],
           "yaxis": "y"
          }
         ],
         "name": "2014"
        },
        {
         "data": [
          {
           "alignmentgroup": "True",
           "hovertemplate": "Países=%{x}<br>Year=2015<br>CO2_emission=%{y}<extra></extra>",
           "ids": [
            "Brazil",
            "Brazil",
            "Brazil",
            "Brazil",
            "Brazil",
            "Brazil"
           ],
           "legendgroup": "Brazil",
           "marker": {
            "color": "#AB63FA",
            "pattern": {
             "shape": ""
            }
           },
           "name": "Brazil",
           "offsetgroup": "Brazil",
           "orientation": "v",
           "showlegend": true,
           "textposition": "auto",
           "type": "bar",
           "x": [
            "Brazil",
            "Brazil",
            "Brazil",
            "Brazil",
            "Brazil",
            "Brazil"
           ],
           "xaxis": "x",
           "y": [
            509.822374377,
            71.81747484026889,
            74.899906943,
            363.10499259351593,
            0,
            0
           ],
           "yaxis": "y"
          },
          {
           "alignmentgroup": "True",
           "hovertemplate": "Países=%{x}<br>Year=2015<br>CO2_emission=%{y}<extra></extra>",
           "ids": [
            "China",
            "China",
            "China",
            "China",
            "China",
            "China"
           ],
           "legendgroup": "China",
           "marker": {
            "color": "#EF553B",
            "pattern": {
             "shape": ""
            }
           },
           "name": "China",
           "offsetgroup": "China",
           "orientation": "v",
           "showlegend": true,
           "textposition": "auto",
           "type": "bar",
           "x": [
            "China",
            "China",
            "China",
            "China",
            "China",
            "China"
           ],
           "xaxis": "x",
           "y": [
            10654.275247466,
            8939.781469504338,
            354.690050448,
            1359.8037275138402,
            0,
            0
           ],
           "yaxis": "y"
          },
          {
           "alignmentgroup": "True",
           "hovertemplate": "Países=%{x}<br>Year=2015<br>CO2_emission=%{y}<extra></extra>",
           "ids": [
            "Russia",
            "Russia",
            "Russia",
            "Russia",
            "Russia",
            "Russia"
           ],
           "legendgroup": "Russia",
           "marker": {
            "color": "#00CC96",
            "pattern": {
             "shape": ""
            }
           },
           "name": "Russia",
           "offsetgroup": "Russia",
           "orientation": "v",
           "showlegend": true,
           "textposition": "auto",
           "type": "bar",
           "x": [
            "Russia",
            "Russia",
            "Russia",
            "Russia",
            "Russia",
            "Russia"
           ],
           "xaxis": "x",
           "y": [
            1686.124243111,
            383.33329812893146,
            882.790944982,
            420,
            0,
            0
           ],
           "yaxis": "y"
          },
          {
           "alignmentgroup": "True",
           "hovertemplate": "Países=%{x}<br>Year=2015<br>CO2_emission=%{y}<extra></extra>",
           "ids": [
            "United States",
            "United States",
            "United States",
            "United States",
            "United States",
            "United States"
           ],
           "legendgroup": "United States",
           "marker": {
            "color": "#ABC3FA",
            "pattern": {
             "shape": ""
            }
           },
           "name": "United States",
           "offsetgroup": "United States",
           "orientation": "v",
           "showlegend": true,
           "textposition": "auto",
           "type": "bar",
           "x": [
            "United States",
            "United States",
            "United States",
            "United States",
            "United States",
            "United States"
           ],
           "xaxis": "x",
           "y": [
            5413.878798,
            1713.367094,
            1437.536155,
            2262.975549,
            0,
            0
           ],
           "yaxis": "y"
          }
         ],
         "name": "2015"
        },
        {
         "data": [
          {
           "alignmentgroup": "True",
           "hovertemplate": "Países=%{x}<br>Year=2016<br>CO2_emission=%{y}<extra></extra>",
           "ids": [
            "Brazil",
            "Brazil",
            "Brazil",
            "Brazil",
            "Brazil",
            "Brazil"
           ],
           "legendgroup": "Brazil",
           "marker": {
            "color": "#AB63FA",
            "pattern": {
             "shape": ""
            }
           },
           "name": "Brazil",
           "offsetgroup": "Brazil",
           "orientation": "v",
           "showlegend": true,
           "textposition": "auto",
           "type": "bar",
           "x": [
            "Brazil",
            "Brazil",
            "Brazil",
            "Brazil",
            "Brazil",
            "Brazil"
           ],
           "xaxis": "x",
           "y": [
            500.437378452,
            71.91489593553686,
            78.085576436,
            350.43690608,
            0,
            0
           ],
           "yaxis": "y"
          },
          {
           "alignmentgroup": "True",
           "hovertemplate": "Países=%{x}<br>Year=2016<br>CO2_emission=%{y}<extra></extra>",
           "ids": [
            "China",
            "China",
            "China",
            "China",
            "China",
            "China"
           ],
           "legendgroup": "China",
           "marker": {
            "color": "#EF553B",
            "pattern": {
             "shape": ""
            }
           },
           "name": "China",
           "offsetgroup": "China",
           "orientation": "v",
           "showlegend": true,
           "textposition": "auto",
           "type": "bar",
           "x": [
            "China",
            "China",
            "China",
            "China",
            "China",
            "China"
           ],
           "xaxis": "x",
           "y": [
            10427.086484114,
            8646.270696038036,
            373.591538352,
            1407.224249724352,
            0,
            0
           ],
           "yaxis": "y"
          },
          {
           "alignmentgroup": "True",
           "hovertemplate": "Países=%{x}<br>Year=2016<br>CO2_emission=%{y}<extra></extra>",
           "ids": [
            "Russia",
            "Russia",
            "Russia",
            "Russia",
            "Russia",
            "Russia"
           ],
           "legendgroup": "Russia",
           "marker": {
            "color": "#00CC96",
            "pattern": {
             "shape": ""
            }
           },
           "name": "Russia",
           "offsetgroup": "Russia",
           "orientation": "v",
           "showlegend": true,
           "textposition": "auto",
           "type": "bar",
           "x": [
            "Russia",
            "Russia",
            "Russia",
            "Russia",
            "Russia",
            "Russia"
           ],
           "xaxis": "x",
           "y": [
            1690.150381741,
            430.3082008601865,
            845.842180881,
            414,
            0,
            0
           ],
           "yaxis": "y"
          },
          {
           "alignmentgroup": "True",
           "hovertemplate": "Países=%{x}<br>Year=2016<br>CO2_emission=%{y}<extra></extra>",
           "ids": [
            "United States",
            "United States",
            "United States",
            "United States",
            "United States",
            "United States"
           ],
           "legendgroup": "United States",
           "marker": {
            "color": "#ABC3FA",
            "pattern": {
             "shape": ""
            }
           },
           "name": "United States",
           "offsetgroup": "United States",
           "orientation": "v",
           "showlegend": true,
           "textposition": "auto",
           "type": "bar",
           "x": [
            "United States",
            "United States",
            "United States",
            "United States",
            "United States",
            "United States"
           ],
           "xaxis": "x",
           "y": [
            5262.075715,
            1481.89792,
            1478.884313,
            2301.293482,
            0,
            0
           ],
           "yaxis": "y"
          }
         ],
         "name": "2016"
        },
        {
         "data": [
          {
           "alignmentgroup": "True",
           "hovertemplate": "Países=%{x}<br>Year=2017<br>CO2_emission=%{y}<extra></extra>",
           "ids": [
            "Brazil",
            "Brazil",
            "Brazil",
            "Brazil",
            "Brazil",
            "Brazil"
           ],
           "legendgroup": "Brazil",
           "marker": {
            "color": "#AB63FA",
            "pattern": {
             "shape": ""
            }
           },
           "name": "Brazil",
           "offsetgroup": "Brazil",
           "orientation": "v",
           "showlegend": true,
           "textposition": "auto",
           "type": "bar",
           "x": [
            "Brazil",
            "Brazil",
            "Brazil",
            "Brazil",
            "Brazil",
            "Brazil"
           ],
           "xaxis": "x",
           "y": [
            466.802668561,
            64.73237738681082,
            66.648896174,
            335.421395,
            0,
            0
           ],
           "yaxis": "y"
          },
          {
           "alignmentgroup": "True",
           "hovertemplate": "Países=%{x}<br>Year=2017<br>CO2_emission=%{y}<extra></extra>",
           "ids": [
            "China",
            "China",
            "China",
            "China",
            "China",
            "China"
           ],
           "legendgroup": "China",
           "marker": {
            "color": "#EF553B",
            "pattern": {
             "shape": ""
            }
           },
           "name": "China",
           "offsetgroup": "China",
           "orientation": "v",
           "showlegend": true,
           "textposition": "auto",
           "type": "bar",
           "x": [
            "China",
            "China",
            "China",
            "China",
            "China",
            "China"
           ],
           "xaxis": "x",
           "y": [
            10261.596587956,
            8426.841287831909,
            405.480667677,
            1429.27463244669,
            0,
            0
           ],
           "yaxis": "y"
          },
          {
           "alignmentgroup": "True",
           "hovertemplate": "Países=%{x}<br>Year=2017<br>CO2_emission=%{y}<extra></extra>",
           "ids": [
            "Russia",
            "Russia",
            "Russia",
            "Russia",
            "Russia",
            "Russia"
           ],
           "legendgroup": "Russia",
           "marker": {
            "color": "#00CC96",
            "pattern": {
             "shape": ""
            }
           },
           "name": "Russia",
           "offsetgroup": "Russia",
           "orientation": "v",
           "showlegend": true,
           "textposition": "auto",
           "type": "bar",
           "x": [
            "Russia",
            "Russia",
            "Russia",
            "Russia",
            "Russia",
            "Russia"
           ],
           "xaxis": "x",
           "y": [
            1675.853850278,
            417.1743777169282,
            843.254635928,
            415.42483663356,
            0,
            0
           ],
           "yaxis": "y"
          },
          {
           "alignmentgroup": "True",
           "hovertemplate": "Países=%{x}<br>Year=2017<br>CO2_emission=%{y}<extra></extra>",
           "ids": [
            "United States",
            "United States",
            "United States",
            "United States",
            "United States",
            "United States"
           ],
           "legendgroup": "United States",
           "marker": {
            "color": "#ABC3FA",
            "pattern": {
             "shape": ""
            }
           },
           "name": "United States",
           "offsetgroup": "United States",
           "orientation": "v",
           "showlegend": true,
           "textposition": "auto",
           "type": "bar",
           "x": [
            "United States",
            "United States",
            "United States",
            "United States",
            "United States",
            "United States"
           ],
           "xaxis": "x",
           "y": [
            5169.496984,
            1355.200263,
            1489.851251,
            2324.44547,
            0,
            0
           ],
           "yaxis": "y"
          }
         ],
         "name": "2017"
        },
        {
         "data": [
          {
           "alignmentgroup": "True",
           "hovertemplate": "Países=%{x}<br>Year=2018<br>CO2_emission=%{y}<extra></extra>",
           "ids": [
            "Brazil",
            "Brazil",
            "Brazil",
            "Brazil",
            "Brazil",
            "Brazil"
           ],
           "legendgroup": "Brazil",
           "marker": {
            "color": "#AB63FA",
            "pattern": {
             "shape": ""
            }
           },
           "name": "Brazil",
           "offsetgroup": "Brazil",
           "orientation": "v",
           "showlegend": true,
           "textposition": "auto",
           "type": "bar",
           "x": [
            "Brazil",
            "Brazil",
            "Brazil",
            "Brazil",
            "Brazil",
            "Brazil"
           ],
           "xaxis": "x",
           "y": [
            475.528895334,
            69.49602089547885,
            68.087097439,
            337.945777,
            0,
            0
           ],
           "yaxis": "y"
          },
          {
           "alignmentgroup": "True",
           "hovertemplate": "Países=%{x}<br>Year=2018<br>CO2_emission=%{y}<extra></extra>",
           "ids": [
            "China",
            "China",
            "China",
            "China",
            "China",
            "China"
           ],
           "legendgroup": "China",
           "marker": {
            "color": "#EF553B",
            "pattern": {
             "shape": ""
            }
           },
           "name": "China",
           "offsetgroup": "China",
           "orientation": "v",
           "showlegend": true,
           "textposition": "auto",
           "type": "bar",
           "x": [
            "China",
            "China",
            "China",
            "China",
            "China",
            "China"
           ],
           "xaxis": "x",
           "y": [
            10414.766207728,
            8456.530941655375,
            467.168069473,
            1491.0671966,
            0,
            0
           ],
           "yaxis": "y"
          },
          {
           "alignmentgroup": "True",
           "hovertemplate": "Países=%{x}<br>Year=2018<br>CO2_emission=%{y}<extra></extra>",
           "ids": [
            "Russia",
            "Russia",
            "Russia",
            "Russia",
            "Russia",
            "Russia"
           ],
           "legendgroup": "Russia",
           "marker": {
            "color": "#00CC96",
            "pattern": {
             "shape": ""
            }
           },
           "name": "Russia",
           "offsetgroup": "Russia",
           "orientation": "v",
           "showlegend": true,
           "textposition": "auto",
           "type": "bar",
           "x": [
            "Russia",
            "Russia",
            "Russia",
            "Russia",
            "Russia",
            "Russia"
           ],
           "xaxis": "x",
           "y": [
            1733.861881236,
            417.8075787352267,
            898.748439911,
            417.30586259,
            0,
            0
           ],
           "yaxis": "y"
          },
          {
           "alignmentgroup": "True",
           "hovertemplate": "Países=%{x}<br>Year=2018<br>CO2_emission=%{y}<extra></extra>",
           "ids": [
            "United States",
            "United States",
            "United States",
            "United States",
            "United States",
            "United States"
           ],
           "legendgroup": "United States",
           "marker": {
            "color": "#ABC3FA",
            "pattern": {
             "shape": ""
            }
           },
           "name": "United States",
           "offsetgroup": "United States",
           "orientation": "v",
           "showlegend": true,
           "textposition": "auto",
           "type": "bar",
           "x": [
            "United States",
            "United States",
            "United States",
            "United States",
            "United States",
            "United States"
           ],
           "xaxis": "x",
           "y": [
            5131.08098,
            1317.951988,
            1470.964449,
            2342.164543,
            0,
            0
           ],
           "yaxis": "y"
          }
         ],
         "name": "2018"
        },
        {
         "data": [
          {
           "alignmentgroup": "True",
           "hovertemplate": "Países=%{x}<br>Year=2019<br>CO2_emission=%{y}<extra></extra>",
           "ids": [
            "Brazil",
            "Brazil",
            "Brazil",
            "Brazil",
            "Brazil",
            "Brazil"
           ],
           "legendgroup": "Brazil",
           "marker": {
            "color": "#AB63FA",
            "pattern": {
             "shape": ""
            }
           },
           "name": "Brazil",
           "offsetgroup": "Brazil",
           "orientation": "v",
           "showlegend": true,
           "textposition": "auto",
           "type": "bar",
           "x": [
            "Brazil",
            "Brazil",
            "Brazil",
            "Brazil",
            "Brazil",
            "Brazil"
           ],
           "xaxis": "x",
           "y": [
            453.443272227,
            68.47503768728932,
            64.86363154,
            320.104603,
            0,
            0
           ],
           "yaxis": "y"
          },
          {
           "alignmentgroup": "True",
           "hovertemplate": "Países=%{x}<br>Year=2019<br>CO2_emission=%{y}<extra></extra>",
           "ids": [
            "China",
            "China",
            "China",
            "China",
            "China",
            "China"
           ],
           "legendgroup": "China",
           "marker": {
            "color": "#EF553B",
            "pattern": {
             "shape": ""
            }
           },
           "name": "China",
           "offsetgroup": "China",
           "orientation": "v",
           "showlegend": true,
           "textposition": "auto",
           "type": "bar",
           "x": [
            "China",
            "China",
            "China",
            "China",
            "China",
            "China"
           ],
           "xaxis": "x",
           "y": [
            10608.600386434,
            8546.287449820698,
            548.698591813,
            1513.6143448,
            0,
            0
           ],
           "yaxis": "y"
          },
          {
           "alignmentgroup": "True",
           "hovertemplate": "Países=%{x}<br>Year=2019<br>CO2_emission=%{y}<extra></extra>",
           "ids": [
            "Russia",
            "Russia",
            "Russia",
            "Russia",
            "Russia",
            "Russia"
           ],
           "legendgroup": "Russia",
           "marker": {
            "color": "#00CC96",
            "pattern": {
             "shape": ""
            }
           },
           "name": "Russia",
           "offsetgroup": "Russia",
           "orientation": "v",
           "showlegend": true,
           "textposition": "auto",
           "type": "bar",
           "x": [
            "Russia",
            "Russia",
            "Russia",
            "Russia",
            "Russia",
            "Russia"
           ],
           "xaxis": "x",
           "y": [
            1798.242238512,
            445.8627903107092,
            943.331800861,
            409.04764734,
            0,
            0
           ],
           "yaxis": "y"
          },
          {
           "alignmentgroup": "True",
           "hovertemplate": "Países=%{x}<br>Year=2019<br>CO2_emission=%{y}<extra></extra>",
           "ids": [
            "United States",
            "United States",
            "United States",
            "United States",
            "United States",
            "United States"
           ],
           "legendgroup": "United States",
           "marker": {
            "color": "#ABC3FA",
            "pattern": {
             "shape": ""
            }
           },
           "name": "United States",
           "offsetgroup": "United States",
           "orientation": "v",
           "showlegend": true,
           "textposition": "auto",
           "type": "bar",
           "x": [
            "United States",
            "United States",
            "United States",
            "United States",
            "United States",
            "United States"
           ],
           "xaxis": "x",
           "y": [
            5277.192754,
            1262.555409,
            1626.410978,
            2388.226367,
            0,
            0
           ],
           "yaxis": "y"
          }
         ],
         "name": "2019"
        }
       ],
       "layout": {
        "autosize": true,
        "barmode": "relative",
        "legend": {
         "title": {
          "text": "Países"
         },
         "tracegroupgap": 0
        },
        "sliders": [
         {
          "active": 39,
          "currentvalue": {
           "prefix": "Year="
          },
          "len": 0.9,
          "pad": {
           "b": 10,
           "t": 60
          },
          "steps": [
           {
            "args": [
             [
              "1980"
             ],
             {
              "frame": {
               "duration": 0,
               "redraw": true
              },
              "fromcurrent": true,
              "mode": "immediate",
              "transition": {
               "duration": 0,
               "easing": "linear"
              }
             }
            ],
            "label": "1980",
            "method": "animate"
           },
           {
            "args": [
             [
              "1981"
             ],
             {
              "frame": {
               "duration": 0,
               "redraw": true
              },
              "fromcurrent": true,
              "mode": "immediate",
              "transition": {
               "duration": 0,
               "easing": "linear"
              }
             }
            ],
            "label": "1981",
            "method": "animate"
           },
           {
            "args": [
             [
              "1982"
             ],
             {
              "frame": {
               "duration": 0,
               "redraw": true
              },
              "fromcurrent": true,
              "mode": "immediate",
              "transition": {
               "duration": 0,
               "easing": "linear"
              }
             }
            ],
            "label": "1982",
            "method": "animate"
           },
           {
            "args": [
             [
              "1983"
             ],
             {
              "frame": {
               "duration": 0,
               "redraw": true
              },
              "fromcurrent": true,
              "mode": "immediate",
              "transition": {
               "duration": 0,
               "easing": "linear"
              }
             }
            ],
            "label": "1983",
            "method": "animate"
           },
           {
            "args": [
             [
              "1984"
             ],
             {
              "frame": {
               "duration": 0,
               "redraw": true
              },
              "fromcurrent": true,
              "mode": "immediate",
              "transition": {
               "duration": 0,
               "easing": "linear"
              }
             }
            ],
            "label": "1984",
            "method": "animate"
           },
           {
            "args": [
             [
              "1985"
             ],
             {
              "frame": {
               "duration": 0,
               "redraw": true
              },
              "fromcurrent": true,
              "mode": "immediate",
              "transition": {
               "duration": 0,
               "easing": "linear"
              }
             }
            ],
            "label": "1985",
            "method": "animate"
           },
           {
            "args": [
             [
              "1986"
             ],
             {
              "frame": {
               "duration": 0,
               "redraw": true
              },
              "fromcurrent": true,
              "mode": "immediate",
              "transition": {
               "duration": 0,
               "easing": "linear"
              }
             }
            ],
            "label": "1986",
            "method": "animate"
           },
           {
            "args": [
             [
              "1987"
             ],
             {
              "frame": {
               "duration": 0,
               "redraw": true
              },
              "fromcurrent": true,
              "mode": "immediate",
              "transition": {
               "duration": 0,
               "easing": "linear"
              }
             }
            ],
            "label": "1987",
            "method": "animate"
           },
           {
            "args": [
             [
              "1988"
             ],
             {
              "frame": {
               "duration": 0,
               "redraw": true
              },
              "fromcurrent": true,
              "mode": "immediate",
              "transition": {
               "duration": 0,
               "easing": "linear"
              }
             }
            ],
            "label": "1988",
            "method": "animate"
           },
           {
            "args": [
             [
              "1989"
             ],
             {
              "frame": {
               "duration": 0,
               "redraw": true
              },
              "fromcurrent": true,
              "mode": "immediate",
              "transition": {
               "duration": 0,
               "easing": "linear"
              }
             }
            ],
            "label": "1989",
            "method": "animate"
           },
           {
            "args": [
             [
              "1990"
             ],
             {
              "frame": {
               "duration": 0,
               "redraw": true
              },
              "fromcurrent": true,
              "mode": "immediate",
              "transition": {
               "duration": 0,
               "easing": "linear"
              }
             }
            ],
            "label": "1990",
            "method": "animate"
           },
           {
            "args": [
             [
              "1991"
             ],
             {
              "frame": {
               "duration": 0,
               "redraw": true
              },
              "fromcurrent": true,
              "mode": "immediate",
              "transition": {
               "duration": 0,
               "easing": "linear"
              }
             }
            ],
            "label": "1991",
            "method": "animate"
           },
           {
            "args": [
             [
              "1992"
             ],
             {
              "frame": {
               "duration": 0,
               "redraw": true
              },
              "fromcurrent": true,
              "mode": "immediate",
              "transition": {
               "duration": 0,
               "easing": "linear"
              }
             }
            ],
            "label": "1992",
            "method": "animate"
           },
           {
            "args": [
             [
              "1993"
             ],
             {
              "frame": {
               "duration": 0,
               "redraw": true
              },
              "fromcurrent": true,
              "mode": "immediate",
              "transition": {
               "duration": 0,
               "easing": "linear"
              }
             }
            ],
            "label": "1993",
            "method": "animate"
           },
           {
            "args": [
             [
              "1994"
             ],
             {
              "frame": {
               "duration": 0,
               "redraw": true
              },
              "fromcurrent": true,
              "mode": "immediate",
              "transition": {
               "duration": 0,
               "easing": "linear"
              }
             }
            ],
            "label": "1994",
            "method": "animate"
           },
           {
            "args": [
             [
              "1995"
             ],
             {
              "frame": {
               "duration": 0,
               "redraw": true
              },
              "fromcurrent": true,
              "mode": "immediate",
              "transition": {
               "duration": 0,
               "easing": "linear"
              }
             }
            ],
            "label": "1995",
            "method": "animate"
           },
           {
            "args": [
             [
              "1996"
             ],
             {
              "frame": {
               "duration": 0,
               "redraw": true
              },
              "fromcurrent": true,
              "mode": "immediate",
              "transition": {
               "duration": 0,
               "easing": "linear"
              }
             }
            ],
            "label": "1996",
            "method": "animate"
           },
           {
            "args": [
             [
              "1997"
             ],
             {
              "frame": {
               "duration": 0,
               "redraw": true
              },
              "fromcurrent": true,
              "mode": "immediate",
              "transition": {
               "duration": 0,
               "easing": "linear"
              }
             }
            ],
            "label": "1997",
            "method": "animate"
           },
           {
            "args": [
             [
              "1998"
             ],
             {
              "frame": {
               "duration": 0,
               "redraw": true
              },
              "fromcurrent": true,
              "mode": "immediate",
              "transition": {
               "duration": 0,
               "easing": "linear"
              }
             }
            ],
            "label": "1998",
            "method": "animate"
           },
           {
            "args": [
             [
              "1999"
             ],
             {
              "frame": {
               "duration": 0,
               "redraw": true
              },
              "fromcurrent": true,
              "mode": "immediate",
              "transition": {
               "duration": 0,
               "easing": "linear"
              }
             }
            ],
            "label": "1999",
            "method": "animate"
           },
           {
            "args": [
             [
              "2000"
             ],
             {
              "frame": {
               "duration": 0,
               "redraw": true
              },
              "fromcurrent": true,
              "mode": "immediate",
              "transition": {
               "duration": 0,
               "easing": "linear"
              }
             }
            ],
            "label": "2000",
            "method": "animate"
           },
           {
            "args": [
             [
              "2001"
             ],
             {
              "frame": {
               "duration": 0,
               "redraw": true
              },
              "fromcurrent": true,
              "mode": "immediate",
              "transition": {
               "duration": 0,
               "easing": "linear"
              }
             }
            ],
            "label": "2001",
            "method": "animate"
           },
           {
            "args": [
             [
              "2002"
             ],
             {
              "frame": {
               "duration": 0,
               "redraw": true
              },
              "fromcurrent": true,
              "mode": "immediate",
              "transition": {
               "duration": 0,
               "easing": "linear"
              }
             }
            ],
            "label": "2002",
            "method": "animate"
           },
           {
            "args": [
             [
              "2003"
             ],
             {
              "frame": {
               "duration": 0,
               "redraw": true
              },
              "fromcurrent": true,
              "mode": "immediate",
              "transition": {
               "duration": 0,
               "easing": "linear"
              }
             }
            ],
            "label": "2003",
            "method": "animate"
           },
           {
            "args": [
             [
              "2004"
             ],
             {
              "frame": {
               "duration": 0,
               "redraw": true
              },
              "fromcurrent": true,
              "mode": "immediate",
              "transition": {
               "duration": 0,
               "easing": "linear"
              }
             }
            ],
            "label": "2004",
            "method": "animate"
           },
           {
            "args": [
             [
              "2005"
             ],
             {
              "frame": {
               "duration": 0,
               "redraw": true
              },
              "fromcurrent": true,
              "mode": "immediate",
              "transition": {
               "duration": 0,
               "easing": "linear"
              }
             }
            ],
            "label": "2005",
            "method": "animate"
           },
           {
            "args": [
             [
              "2006"
             ],
             {
              "frame": {
               "duration": 0,
               "redraw": true
              },
              "fromcurrent": true,
              "mode": "immediate",
              "transition": {
               "duration": 0,
               "easing": "linear"
              }
             }
            ],
            "label": "2006",
            "method": "animate"
           },
           {
            "args": [
             [
              "2007"
             ],
             {
              "frame": {
               "duration": 0,
               "redraw": true
              },
              "fromcurrent": true,
              "mode": "immediate",
              "transition": {
               "duration": 0,
               "easing": "linear"
              }
             }
            ],
            "label": "2007",
            "method": "animate"
           },
           {
            "args": [
             [
              "2008"
             ],
             {
              "frame": {
               "duration": 0,
               "redraw": true
              },
              "fromcurrent": true,
              "mode": "immediate",
              "transition": {
               "duration": 0,
               "easing": "linear"
              }
             }
            ],
            "label": "2008",
            "method": "animate"
           },
           {
            "args": [
             [
              "2009"
             ],
             {
              "frame": {
               "duration": 0,
               "redraw": true
              },
              "fromcurrent": true,
              "mode": "immediate",
              "transition": {
               "duration": 0,
               "easing": "linear"
              }
             }
            ],
            "label": "2009",
            "method": "animate"
           },
           {
            "args": [
             [
              "2010"
             ],
             {
              "frame": {
               "duration": 0,
               "redraw": true
              },
              "fromcurrent": true,
              "mode": "immediate",
              "transition": {
               "duration": 0,
               "easing": "linear"
              }
             }
            ],
            "label": "2010",
            "method": "animate"
           },
           {
            "args": [
             [
              "2011"
             ],
             {
              "frame": {
               "duration": 0,
               "redraw": true
              },
              "fromcurrent": true,
              "mode": "immediate",
              "transition": {
               "duration": 0,
               "easing": "linear"
              }
             }
            ],
            "label": "2011",
            "method": "animate"
           },
           {
            "args": [
             [
              "2012"
             ],
             {
              "frame": {
               "duration": 0,
               "redraw": true
              },
              "fromcurrent": true,
              "mode": "immediate",
              "transition": {
               "duration": 0,
               "easing": "linear"
              }
             }
            ],
            "label": "2012",
            "method": "animate"
           },
           {
            "args": [
             [
              "2013"
             ],
             {
              "frame": {
               "duration": 0,
               "redraw": true
              },
              "fromcurrent": true,
              "mode": "immediate",
              "transition": {
               "duration": 0,
               "easing": "linear"
              }
             }
            ],
            "label": "2013",
            "method": "animate"
           },
           {
            "args": [
             [
              "2014"
             ],
             {
              "frame": {
               "duration": 0,
               "redraw": true
              },
              "fromcurrent": true,
              "mode": "immediate",
              "transition": {
               "duration": 0,
               "easing": "linear"
              }
             }
            ],
            "label": "2014",
            "method": "animate"
           },
           {
            "args": [
             [
              "2015"
             ],
             {
              "frame": {
               "duration": 0,
               "redraw": true
              },
              "fromcurrent": true,
              "mode": "immediate",
              "transition": {
               "duration": 0,
               "easing": "linear"
              }
             }
            ],
            "label": "2015",
            "method": "animate"
           },
           {
            "args": [
             [
              "2016"
             ],
             {
              "frame": {
               "duration": 0,
               "redraw": true
              },
              "fromcurrent": true,
              "mode": "immediate",
              "transition": {
               "duration": 0,
               "easing": "linear"
              }
             }
            ],
            "label": "2016",
            "method": "animate"
           },
           {
            "args": [
             [
              "2017"
             ],
             {
              "frame": {
               "duration": 0,
               "redraw": true
              },
              "fromcurrent": true,
              "mode": "immediate",
              "transition": {
               "duration": 0,
               "easing": "linear"
              }
             }
            ],
            "label": "2017",
            "method": "animate"
           },
           {
            "args": [
             [
              "2018"
             ],
             {
              "frame": {
               "duration": 0,
               "redraw": true
              },
              "fromcurrent": true,
              "mode": "immediate",
              "transition": {
               "duration": 0,
               "easing": "linear"
              }
             }
            ],
            "label": "2018",
            "method": "animate"
           },
           {
            "args": [
             [
              "2019"
             ],
             {
              "frame": {
               "duration": 0,
               "redraw": true
              },
              "fromcurrent": true,
              "mode": "immediate",
              "transition": {
               "duration": 0,
               "easing": "linear"
              }
             }
            ],
            "label": "2019",
            "method": "animate"
           }
          ],
          "x": 0.1,
          "xanchor": "left",
          "y": 0,
          "yanchor": "top"
         }
        ],
        "template": {
         "data": {
          "bar": [
           {
            "error_x": {
             "color": "rgb(36,36,36)"
            },
            "error_y": {
             "color": "rgb(36,36,36)"
            },
            "marker": {
             "line": {
              "color": "white",
              "width": 0.5
             },
             "pattern": {
              "fillmode": "overlay",
              "size": 10,
              "solidity": 0.2
             }
            },
            "type": "bar"
           }
          ],
          "barpolar": [
           {
            "marker": {
             "line": {
              "color": "white",
              "width": 0.5
             },
             "pattern": {
              "fillmode": "overlay",
              "size": 10,
              "solidity": 0.2
             }
            },
            "type": "barpolar"
           }
          ],
          "carpet": [
           {
            "aaxis": {
             "endlinecolor": "rgb(36,36,36)",
             "gridcolor": "white",
             "linecolor": "white",
             "minorgridcolor": "white",
             "startlinecolor": "rgb(36,36,36)"
            },
            "baxis": {
             "endlinecolor": "rgb(36,36,36)",
             "gridcolor": "white",
             "linecolor": "white",
             "minorgridcolor": "white",
             "startlinecolor": "rgb(36,36,36)"
            },
            "type": "carpet"
           }
          ],
          "choropleth": [
           {
            "colorbar": {
             "outlinewidth": 1,
             "tickcolor": "rgb(36,36,36)",
             "ticks": "outside"
            },
            "type": "choropleth"
           }
          ],
          "contour": [
           {
            "colorbar": {
             "outlinewidth": 1,
             "tickcolor": "rgb(36,36,36)",
             "ticks": "outside"
            },
            "colorscale": [
             [
              0,
              "#440154"
             ],
             [
              0.1111111111111111,
              "#482878"
             ],
             [
              0.2222222222222222,
              "#3e4989"
             ],
             [
              0.3333333333333333,
              "#31688e"
             ],
             [
              0.4444444444444444,
              "#26828e"
             ],
             [
              0.5555555555555556,
              "#1f9e89"
             ],
             [
              0.6666666666666666,
              "#35b779"
             ],
             [
              0.7777777777777778,
              "#6ece58"
             ],
             [
              0.8888888888888888,
              "#b5de2b"
             ],
             [
              1,
              "#fde725"
             ]
            ],
            "type": "contour"
           }
          ],
          "contourcarpet": [
           {
            "colorbar": {
             "outlinewidth": 1,
             "tickcolor": "rgb(36,36,36)",
             "ticks": "outside"
            },
            "type": "contourcarpet"
           }
          ],
          "heatmap": [
           {
            "colorbar": {
             "outlinewidth": 1,
             "tickcolor": "rgb(36,36,36)",
             "ticks": "outside"
            },
            "colorscale": [
             [
              0,
              "#440154"
             ],
             [
              0.1111111111111111,
              "#482878"
             ],
             [
              0.2222222222222222,
              "#3e4989"
             ],
             [
              0.3333333333333333,
              "#31688e"
             ],
             [
              0.4444444444444444,
              "#26828e"
             ],
             [
              0.5555555555555556,
              "#1f9e89"
             ],
             [
              0.6666666666666666,
              "#35b779"
             ],
             [
              0.7777777777777778,
              "#6ece58"
             ],
             [
              0.8888888888888888,
              "#b5de2b"
             ],
             [
              1,
              "#fde725"
             ]
            ],
            "type": "heatmap"
           }
          ],
          "heatmapgl": [
           {
            "colorbar": {
             "outlinewidth": 1,
             "tickcolor": "rgb(36,36,36)",
             "ticks": "outside"
            },
            "colorscale": [
             [
              0,
              "#440154"
             ],
             [
              0.1111111111111111,
              "#482878"
             ],
             [
              0.2222222222222222,
              "#3e4989"
             ],
             [
              0.3333333333333333,
              "#31688e"
             ],
             [
              0.4444444444444444,
              "#26828e"
             ],
             [
              0.5555555555555556,
              "#1f9e89"
             ],
             [
              0.6666666666666666,
              "#35b779"
             ],
             [
              0.7777777777777778,
              "#6ece58"
             ],
             [
              0.8888888888888888,
              "#b5de2b"
             ],
             [
              1,
              "#fde725"
             ]
            ],
            "type": "heatmapgl"
           }
          ],
          "histogram": [
           {
            "marker": {
             "line": {
              "color": "white",
              "width": 0.6
             }
            },
            "type": "histogram"
           }
          ],
          "histogram2d": [
           {
            "colorbar": {
             "outlinewidth": 1,
             "tickcolor": "rgb(36,36,36)",
             "ticks": "outside"
            },
            "colorscale": [
             [
              0,
              "#440154"
             ],
             [
              0.1111111111111111,
              "#482878"
             ],
             [
              0.2222222222222222,
              "#3e4989"
             ],
             [
              0.3333333333333333,
              "#31688e"
             ],
             [
              0.4444444444444444,
              "#26828e"
             ],
             [
              0.5555555555555556,
              "#1f9e89"
             ],
             [
              0.6666666666666666,
              "#35b779"
             ],
             [
              0.7777777777777778,
              "#6ece58"
             ],
             [
              0.8888888888888888,
              "#b5de2b"
             ],
             [
              1,
              "#fde725"
             ]
            ],
            "type": "histogram2d"
           }
          ],
          "histogram2dcontour": [
           {
            "colorbar": {
             "outlinewidth": 1,
             "tickcolor": "rgb(36,36,36)",
             "ticks": "outside"
            },
            "colorscale": [
             [
              0,
              "#440154"
             ],
             [
              0.1111111111111111,
              "#482878"
             ],
             [
              0.2222222222222222,
              "#3e4989"
             ],
             [
              0.3333333333333333,
              "#31688e"
             ],
             [
              0.4444444444444444,
              "#26828e"
             ],
             [
              0.5555555555555556,
              "#1f9e89"
             ],
             [
              0.6666666666666666,
              "#35b779"
             ],
             [
              0.7777777777777778,
              "#6ece58"
             ],
             [
              0.8888888888888888,
              "#b5de2b"
             ],
             [
              1,
              "#fde725"
             ]
            ],
            "type": "histogram2dcontour"
           }
          ],
          "mesh3d": [
           {
            "colorbar": {
             "outlinewidth": 1,
             "tickcolor": "rgb(36,36,36)",
             "ticks": "outside"
            },
            "type": "mesh3d"
           }
          ],
          "parcoords": [
           {
            "line": {
             "colorbar": {
              "outlinewidth": 1,
              "tickcolor": "rgb(36,36,36)",
              "ticks": "outside"
             }
            },
            "type": "parcoords"
           }
          ],
          "pie": [
           {
            "automargin": true,
            "type": "pie"
           }
          ],
          "scatter": [
           {
            "marker": {
             "colorbar": {
              "outlinewidth": 1,
              "tickcolor": "rgb(36,36,36)",
              "ticks": "outside"
             }
            },
            "type": "scatter"
           }
          ],
          "scatter3d": [
           {
            "line": {
             "colorbar": {
              "outlinewidth": 1,
              "tickcolor": "rgb(36,36,36)",
              "ticks": "outside"
             }
            },
            "marker": {
             "colorbar": {
              "outlinewidth": 1,
              "tickcolor": "rgb(36,36,36)",
              "ticks": "outside"
             }
            },
            "type": "scatter3d"
           }
          ],
          "scattercarpet": [
           {
            "marker": {
             "colorbar": {
              "outlinewidth": 1,
              "tickcolor": "rgb(36,36,36)",
              "ticks": "outside"
             }
            },
            "type": "scattercarpet"
           }
          ],
          "scattergeo": [
           {
            "marker": {
             "colorbar": {
              "outlinewidth": 1,
              "tickcolor": "rgb(36,36,36)",
              "ticks": "outside"
             }
            },
            "type": "scattergeo"
           }
          ],
          "scattergl": [
           {
            "marker": {
             "colorbar": {
              "outlinewidth": 1,
              "tickcolor": "rgb(36,36,36)",
              "ticks": "outside"
             }
            },
            "type": "scattergl"
           }
          ],
          "scattermapbox": [
           {
            "marker": {
             "colorbar": {
              "outlinewidth": 1,
              "tickcolor": "rgb(36,36,36)",
              "ticks": "outside"
             }
            },
            "type": "scattermapbox"
           }
          ],
          "scatterpolar": [
           {
            "marker": {
             "colorbar": {
              "outlinewidth": 1,
              "tickcolor": "rgb(36,36,36)",
              "ticks": "outside"
             }
            },
            "type": "scatterpolar"
           }
          ],
          "scatterpolargl": [
           {
            "marker": {
             "colorbar": {
              "outlinewidth": 1,
              "tickcolor": "rgb(36,36,36)",
              "ticks": "outside"
             }
            },
            "type": "scatterpolargl"
           }
          ],
          "scatterternary": [
           {
            "marker": {
             "colorbar": {
              "outlinewidth": 1,
              "tickcolor": "rgb(36,36,36)",
              "ticks": "outside"
             }
            },
            "type": "scatterternary"
           }
          ],
          "surface": [
           {
            "colorbar": {
             "outlinewidth": 1,
             "tickcolor": "rgb(36,36,36)",
             "ticks": "outside"
            },
            "colorscale": [
             [
              0,
              "#440154"
             ],
             [
              0.1111111111111111,
              "#482878"
             ],
             [
              0.2222222222222222,
              "#3e4989"
             ],
             [
              0.3333333333333333,
              "#31688e"
             ],
             [
              0.4444444444444444,
              "#26828e"
             ],
             [
              0.5555555555555556,
              "#1f9e89"
             ],
             [
              0.6666666666666666,
              "#35b779"
             ],
             [
              0.7777777777777778,
              "#6ece58"
             ],
             [
              0.8888888888888888,
              "#b5de2b"
             ],
             [
              1,
              "#fde725"
             ]
            ],
            "type": "surface"
           }
          ],
          "table": [
           {
            "cells": {
             "fill": {
              "color": "rgb(237,237,237)"
             },
             "line": {
              "color": "white"
             }
            },
            "header": {
             "fill": {
              "color": "rgb(217,217,217)"
             },
             "line": {
              "color": "white"
             }
            },
            "type": "table"
           }
          ]
         },
         "layout": {
          "annotationdefaults": {
           "arrowhead": 0,
           "arrowwidth": 1
          },
          "autotypenumbers": "strict",
          "coloraxis": {
           "colorbar": {
            "outlinewidth": 1,
            "tickcolor": "rgb(36,36,36)",
            "ticks": "outside"
           }
          },
          "colorscale": {
           "diverging": [
            [
             0,
             "rgb(103,0,31)"
            ],
            [
             0.1,
             "rgb(178,24,43)"
            ],
            [
             0.2,
             "rgb(214,96,77)"
            ],
            [
             0.3,
             "rgb(244,165,130)"
            ],
            [
             0.4,
             "rgb(253,219,199)"
            ],
            [
             0.5,
             "rgb(247,247,247)"
            ],
            [
             0.6,
             "rgb(209,229,240)"
            ],
            [
             0.7,
             "rgb(146,197,222)"
            ],
            [
             0.8,
             "rgb(67,147,195)"
            ],
            [
             0.9,
             "rgb(33,102,172)"
            ],
            [
             1,
             "rgb(5,48,97)"
            ]
           ],
           "sequential": [
            [
             0,
             "#440154"
            ],
            [
             0.1111111111111111,
             "#482878"
            ],
            [
             0.2222222222222222,
             "#3e4989"
            ],
            [
             0.3333333333333333,
             "#31688e"
            ],
            [
             0.4444444444444444,
             "#26828e"
            ],
            [
             0.5555555555555556,
             "#1f9e89"
            ],
            [
             0.6666666666666666,
             "#35b779"
            ],
            [
             0.7777777777777778,
             "#6ece58"
            ],
            [
             0.8888888888888888,
             "#b5de2b"
            ],
            [
             1,
             "#fde725"
            ]
           ],
           "sequentialminus": [
            [
             0,
             "#440154"
            ],
            [
             0.1111111111111111,
             "#482878"
            ],
            [
             0.2222222222222222,
             "#3e4989"
            ],
            [
             0.3333333333333333,
             "#31688e"
            ],
            [
             0.4444444444444444,
             "#26828e"
            ],
            [
             0.5555555555555556,
             "#1f9e89"
            ],
            [
             0.6666666666666666,
             "#35b779"
            ],
            [
             0.7777777777777778,
             "#6ece58"
            ],
            [
             0.8888888888888888,
             "#b5de2b"
            ],
            [
             1,
             "#fde725"
            ]
           ]
          },
          "colorway": [
           "#1F77B4",
           "#FF7F0E",
           "#2CA02C",
           "#D62728",
           "#9467BD",
           "#8C564B",
           "#E377C2",
           "#7F7F7F",
           "#BCBD22",
           "#17BECF"
          ],
          "font": {
           "color": "rgb(36,36,36)"
          },
          "geo": {
           "bgcolor": "white",
           "lakecolor": "white",
           "landcolor": "white",
           "showlakes": true,
           "showland": true,
           "subunitcolor": "white"
          },
          "hoverlabel": {
           "align": "left"
          },
          "hovermode": "closest",
          "mapbox": {
           "style": "light"
          },
          "paper_bgcolor": "white",
          "plot_bgcolor": "white",
          "polar": {
           "angularaxis": {
            "gridcolor": "rgb(232,232,232)",
            "linecolor": "rgb(36,36,36)",
            "showgrid": false,
            "showline": true,
            "ticks": "outside"
           },
           "bgcolor": "white",
           "radialaxis": {
            "gridcolor": "rgb(232,232,232)",
            "linecolor": "rgb(36,36,36)",
            "showgrid": false,
            "showline": true,
            "ticks": "outside"
           }
          },
          "scene": {
           "xaxis": {
            "backgroundcolor": "white",
            "gridcolor": "rgb(232,232,232)",
            "gridwidth": 2,
            "linecolor": "rgb(36,36,36)",
            "showbackground": true,
            "showgrid": false,
            "showline": true,
            "ticks": "outside",
            "zeroline": false,
            "zerolinecolor": "rgb(36,36,36)"
           },
           "yaxis": {
            "backgroundcolor": "white",
            "gridcolor": "rgb(232,232,232)",
            "gridwidth": 2,
            "linecolor": "rgb(36,36,36)",
            "showbackground": true,
            "showgrid": false,
            "showline": true,
            "ticks": "outside",
            "zeroline": false,
            "zerolinecolor": "rgb(36,36,36)"
           },
           "zaxis": {
            "backgroundcolor": "white",
            "gridcolor": "rgb(232,232,232)",
            "gridwidth": 2,
            "linecolor": "rgb(36,36,36)",
            "showbackground": true,
            "showgrid": false,
            "showline": true,
            "ticks": "outside",
            "zeroline": false,
            "zerolinecolor": "rgb(36,36,36)"
           }
          },
          "shapedefaults": {
           "fillcolor": "black",
           "line": {
            "width": 0
           },
           "opacity": 0.3
          },
          "ternary": {
           "aaxis": {
            "gridcolor": "rgb(232,232,232)",
            "linecolor": "rgb(36,36,36)",
            "showgrid": false,
            "showline": true,
            "ticks": "outside"
           },
           "baxis": {
            "gridcolor": "rgb(232,232,232)",
            "linecolor": "rgb(36,36,36)",
            "showgrid": false,
            "showline": true,
            "ticks": "outside"
           },
           "bgcolor": "white",
           "caxis": {
            "gridcolor": "rgb(232,232,232)",
            "linecolor": "rgb(36,36,36)",
            "showgrid": false,
            "showline": true,
            "ticks": "outside"
           }
          },
          "title": {
           "x": 0.05
          },
          "xaxis": {
           "automargin": true,
           "gridcolor": "rgb(232,232,232)",
           "linecolor": "rgb(36,36,36)",
           "showgrid": false,
           "showline": true,
           "ticks": "outside",
           "title": {
            "standoff": 15
           },
           "zeroline": false,
           "zerolinecolor": "rgb(36,36,36)"
          },
          "yaxis": {
           "automargin": true,
           "gridcolor": "rgb(232,232,232)",
           "linecolor": "rgb(36,36,36)",
           "showgrid": false,
           "showline": true,
           "ticks": "outside",
           "title": {
            "standoff": 15
           },
           "zeroline": false,
           "zerolinecolor": "rgb(36,36,36)"
          }
         }
        },
        "title": {
         "text": "Emissão de CO2 (1980 - 2016)"
        },
        "updatemenus": [
         {
          "active": 0,
          "buttons": [
           {
            "args": [
             null,
             {
              "frame": {
               "duration": 500,
               "redraw": true
              },
              "fromcurrent": true,
              "mode": "immediate",
              "transition": {
               "duration": 500,
               "easing": "linear"
              }
             }
            ],
            "label": "&#9654;",
            "method": "animate"
           },
           {
            "args": [
             [
              null
             ],
             {
              "frame": {
               "duration": 0,
               "redraw": true
              },
              "fromcurrent": true,
              "mode": "immediate",
              "transition": {
               "duration": 0,
               "easing": "linear"
              }
             }
            ],
            "label": "&#9724;",
            "method": "animate"
           }
          ],
          "direction": "left",
          "pad": {
           "r": 10,
           "t": 70
          },
          "showactive": false,
          "type": "buttons",
          "x": 0.1,
          "xanchor": "right",
          "y": 0,
          "yanchor": "top"
         }
        ],
        "xaxis": {
         "anchor": "y",
         "autorange": true,
         "categoryarray": [
          "Brazil",
          "China",
          "Russia",
          "United States"
         ],
         "categoryorder": "array",
         "domain": [
          0,
          1
         ],
         "range": [
          -0.5,
          3.5
         ],
         "title": {
          "text": "Países"
         },
         "type": "category"
        },
        "yaxis": {
         "anchor": "x",
         "domain": [
          0,
          1
         ],
         "range": [
          0,
          11000
         ],
         "title": {
          "text": "CO2_emission"
         },
         "type": "linear"
        }
       }
      },
      "image/png": "[encoded data removed]",
      "text/html": [
       "<div>                            <div id=\"48731d18-daed-47ee-a6ec-f9f4f31ef039\" class=\"plotly-graph-div\" style=\"height:525px; width:100%;\"></div>            <script type=\"text/javascript\">                require([\"plotly\"], function(Plotly) {                    window.PLOTLYENV=window.PLOTLYENV || {};                                    if (document.getElementById(\"48731d18-daed-47ee-a6ec-f9f4f31ef039\")) {                    Plotly.newPlot(                        \"48731d18-daed-47ee-a6ec-f9f4f31ef039\",                        [{\"alignmentgroup\":\"True\",\"hovertemplate\":\"Pa\\u00edses=%{x}<br>Year=1980<br>CO2_emission=%{y}<extra></extra>\",\"ids\":[\"Brazil\",\"Brazil\",\"Brazil\",\"Brazil\",\"Brazil\",\"Brazil\"],\"legendgroup\":\"Brazil\",\"marker\":{\"color\":\"#AB63FA\",\"pattern\":{\"shape\":\"\"}},\"name\":\"Brazil\",\"offsetgroup\":\"Brazil\",\"orientation\":\"v\",\"showlegend\":true,\"textposition\":\"auto\",\"type\":\"bar\",\"x\":[\"Brazil\",\"Brazil\",\"Brazil\",\"Brazil\",\"Brazil\",\"Brazil\"],\"xaxis\":\"x\",\"y\":[null,null,null,null,0.0,0.0],\"yaxis\":\"y\"},{\"alignmentgroup\":\"True\",\"hovertemplate\":\"Pa\\u00edses=%{x}<br>Year=1980<br>CO2_emission=%{y}<extra></extra>\",\"ids\":[\"China\",\"China\",\"China\",\"China\",\"China\",\"China\"],\"legendgroup\":\"China\",\"marker\":{\"color\":\"#EF553B\",\"pattern\":{\"shape\":\"\"}},\"name\":\"China\",\"offsetgroup\":\"China\",\"orientation\":\"v\",\"showlegend\":true,\"textposition\":\"auto\",\"type\":\"bar\",\"x\":[\"China\",\"China\",\"China\",\"China\",\"China\",\"China\"],\"xaxis\":\"x\",\"y\":[null,null,null,null,0.0,0.0],\"yaxis\":\"y\"},{\"alignmentgroup\":\"True\",\"hovertemplate\":\"Pa\\u00edses=%{x}<br>Year=1980<br>CO2_emission=%{y}<extra></extra>\",\"ids\":[\"Russia\",\"Russia\",\"Russia\",\"Russia\",\"Russia\",\"Russia\"],\"legendgroup\":\"Russia\",\"marker\":{\"color\":\"#00CC96\",\"pattern\":{\"shape\":\"\"}},\"name\":\"Russia\",\"offsetgroup\":\"Russia\",\"orientation\":\"v\",\"showlegend\":true,\"textposition\":\"auto\",\"type\":\"bar\",\"x\":[\"Russia\",\"Russia\",\"Russia\",\"Russia\",\"Russia\",\"Russia\"],\"xaxis\":\"x\",\"y\":[null,null,null,null,0.0,0.0],\"yaxis\":\"y\"},{\"alignmentgroup\":\"True\",\"hovertemplate\":\"Pa\\u00edses=%{x}<br>Year=1980<br>CO2_emission=%{y}<extra></extra>\",\"ids\":[\"United States\",\"United States\",\"United States\",\"United States\",\"United States\",\"United States\"],\"legendgroup\":\"United States\",\"marker\":{\"color\":\"#ABC3FA\",\"pattern\":{\"shape\":\"\"}},\"name\":\"United States\",\"offsetgroup\":\"United States\",\"orientation\":\"v\",\"showlegend\":true,\"textposition\":\"auto\",\"type\":\"bar\",\"x\":[\"United States\",\"United States\",\"United States\",\"United States\",\"United States\",\"United States\"],\"xaxis\":\"x\",\"y\":[4946.62713,1409.790188,1081.593377,2455.243565,0.0,0.0],\"yaxis\":\"y\"}],                        {\"barmode\":\"relative\",\"legend\":{\"title\":{\"text\":\"Pa\\u00edses\"},\"tracegroupgap\":0},\"sliders\":[{\"active\":0,\"currentvalue\":{\"prefix\":\"Year=\"},\"len\":0.9,\"pad\":{\"b\":10,\"t\":60},\"steps\":[{\"args\":[[\"1980\"],{\"frame\":{\"duration\":0,\"redraw\":true},\"fromcurrent\":true,\"mode\":\"immediate\",\"transition\":{\"duration\":0,\"easing\":\"linear\"}}],\"label\":\"1980\",\"method\":\"animate\"},{\"args\":[[\"1981\"],{\"frame\":{\"duration\":0,\"redraw\":true},\"fromcurrent\":true,\"mode\":\"immediate\",\"transition\":{\"duration\":0,\"easing\":\"linear\"}}],\"label\":\"1981\",\"method\":\"animate\"},{\"args\":[[\"1982\"],{\"frame\":{\"duration\":0,\"redraw\":true},\"fromcurrent\":true,\"mode\":\"immediate\",\"transition\":{\"duration\":0,\"easing\":\"linear\"}}],\"label\":\"1982\",\"method\":\"animate\"},{\"args\":[[\"1983\"],{\"frame\":{\"duration\":0,\"redraw\":true},\"fromcurrent\":true,\"mode\":\"immediate\",\"transition\":{\"duration\":0,\"easing\":\"linear\"}}],\"label\":\"1983\",\"method\":\"animate\"},{\"args\":[[\"1984\"],{\"frame\":{\"duration\":0,\"redraw\":true},\"fromcurrent\":true,\"mode\":\"immediate\",\"transition\":{\"duration\":0,\"easing\":\"linear\"}}],\"label\":\"1984\",\"method\":\"animate\"},{\"args\":[[\"1985\"],{\"frame\":{\"duration\":0,\"redraw\":true},\"fromcurrent\":true,\"mode\":\"immediate\",\"transition\":{\"duration\":0,\"easing\":\"linear\"}}],\"label\":\"1985\",\"method\":\"animate\"},{\"args\":[[\"1986\"],{\"frame\":{\"duration\":0,\"redraw\":true},\"fromcurrent\":true,\"mode\":\"immediate\",\"transition\":{\"duration\":0,\"easing\":\"linear\"}}],\"label\":\"1986\",\"method\":\"animate\"},{\"args\":[[\"1987\"],{\"frame\":{\"duration\":0,\"redraw\":true},\"fromcurrent\":true,\"mode\":\"immediate\",\"transition\":{\"duration\":0,\"easing\":\"linear\"}}],\"label\":\"1987\",\"method\":\"animate\"},{\"args\":[[\"1988\"],{\"frame\":{\"duration\":0,\"redraw\":true},\"fromcurrent\":true,\"mode\":\"immediate\",\"transition\":{\"duration\":0,\"easing\":\"linear\"}}],\"label\":\"1988\",\"method\":\"animate\"},{\"args\":[[\"1989\"],{\"frame\":{\"duration\":0,\"redraw\":true},\"fromcurrent\":true,\"mode\":\"immediate\",\"transition\":{\"duration\":0,\"easing\":\"linear\"}}],\"label\":\"1989\",\"method\":\"animate\"},{\"args\":[[\"1990\"],{\"frame\":{\"duration\":0,\"redraw\":true},\"fromcurrent\":true,\"mode\":\"immediate\",\"transition\":{\"duration\":0,\"easing\":\"linear\"}}],\"label\":\"1990\",\"method\":\"animate\"},{\"args\":[[\"1991\"],{\"frame\":{\"duration\":0,\"redraw\":true},\"fromcurrent\":true,\"mode\":\"immediate\",\"transition\":{\"duration\":0,\"easing\":\"linear\"}}],\"label\":\"1991\",\"method\":\"animate\"},{\"args\":[[\"1992\"],{\"frame\":{\"duration\":0,\"redraw\":true},\"fromcurrent\":true,\"mode\":\"immediate\",\"transition\":{\"duration\":0,\"easing\":\"linear\"}}],\"label\":\"1992\",\"method\":\"animate\"},{\"args\":[[\"1993\"],{\"frame\":{\"duration\":0,\"redraw\":true},\"fromcurrent\":true,\"mode\":\"immediate\",\"transition\":{\"duration\":0,\"easing\":\"linear\"}}],\"label\":\"1993\",\"method\":\"animate\"},{\"args\":[[\"1994\"],{\"frame\":{\"duration\":0,\"redraw\":true},\"fromcurrent\":true,\"mode\":\"immediate\",\"transition\":{\"duration\":0,\"easing\":\"linear\"}}],\"label\":\"1994\",\"method\":\"animate\"},{\"args\":[[\"1995\"],{\"frame\":{\"duration\":0,\"redraw\":true},\"fromcurrent\":true,\"mode\":\"immediate\",\"transition\":{\"duration\":0,\"easing\":\"linear\"}}],\"label\":\"1995\",\"method\":\"animate\"},{\"args\":[[\"1996\"],{\"frame\":{\"duration\":0,\"redraw\":true},\"fromcurrent\":true,\"mode\":\"immediate\",\"transition\":{\"duration\":0,\"easing\":\"linear\"}}],\"label\":\"1996\",\"method\":\"animate\"},{\"args\":[[\"1997\"],{\"frame\":{\"duration\":0,\"redraw\":true},\"fromcurrent\":true,\"mode\":\"immediate\",\"transition\":{\"duration\":0,\"easing\":\"linear\"}}],\"label\":\"1997\",\"method\":\"animate\"},{\"args\":[[\"1998\"],{\"frame\":{\"duration\":0,\"redraw\":true},\"fromcurrent\":true,\"mode\":\"immediate\",\"transition\":{\"duration\":0,\"easing\":\"linear\"}}],\"label\":\"1998\",\"method\":\"animate\"},{\"args\":[[\"1999\"],{\"frame\":{\"duration\":0,\"redraw\":true},\"fromcurrent\":true,\"mode\":\"immediate\",\"transition\":{\"duration\":0,\"easing\":\"linear\"}}],\"label\":\"1999\",\"method\":\"animate\"},{\"args\":[[\"2000\"],{\"frame\":{\"duration\":0,\"redraw\":true},\"fromcurrent\":true,\"mode\":\"immediate\",\"transition\":{\"duration\":0,\"easing\":\"linear\"}}],\"label\":\"2000\",\"method\":\"animate\"},{\"args\":[[\"2001\"],{\"frame\":{\"duration\":0,\"redraw\":true},\"fromcurrent\":true,\"mode\":\"immediate\",\"transition\":{\"duration\":0,\"easing\":\"linear\"}}],\"label\":\"2001\",\"method\":\"animate\"},{\"args\":[[\"2002\"],{\"frame\":{\"duration\":0,\"redraw\":true},\"fromcurrent\":true,\"mode\":\"immediate\",\"transition\":{\"duration\":0,\"easing\":\"linear\"}}],\"label\":\"2002\",\"method\":\"animate\"},{\"args\":[[\"2003\"],{\"frame\":{\"duration\":0,\"redraw\":true},\"fromcurrent\":true,\"mode\":\"immediate\",\"transition\":{\"duration\":0,\"easing\":\"linear\"}}],\"label\":\"2003\",\"method\":\"animate\"},{\"args\":[[\"2004\"],{\"frame\":{\"duration\":0,\"redraw\":true},\"fromcurrent\":true,\"mode\":\"immediate\",\"transition\":{\"duration\":0,\"easing\":\"linear\"}}],\"label\":\"2004\",\"method\":\"animate\"},{\"args\":[[\"2005\"],{\"frame\":{\"duration\":0,\"redraw\":true},\"fromcurrent\":true,\"mode\":\"immediate\",\"transition\":{\"duration\":0,\"easing\":\"linear\"}}],\"label\":\"2005\",\"method\":\"animate\"},{\"args\":[[\"2006\"],{\"frame\":{\"duration\":0,\"redraw\":true},\"fromcurrent\":true,\"mode\":\"immediate\",\"transition\":{\"duration\":0,\"easing\":\"linear\"}}],\"label\":\"2006\",\"method\":\"animate\"},{\"args\":[[\"2007\"],{\"frame\":{\"duration\":0,\"redraw\":true},\"fromcurrent\":true,\"mode\":\"immediate\",\"transition\":{\"duration\":0,\"easing\":\"linear\"}}],\"label\":\"2007\",\"method\":\"animate\"},{\"args\":[[\"2008\"],{\"frame\":{\"duration\":0,\"redraw\":true},\"fromcurrent\":true,\"mode\":\"immediate\",\"transition\":{\"duration\":0,\"easing\":\"linear\"}}],\"label\":\"2008\",\"method\":\"animate\"},{\"args\":[[\"2009\"],{\"frame\":{\"duration\":0,\"redraw\":true},\"fromcurrent\":true,\"mode\":\"immediate\",\"transition\":{\"duration\":0,\"easing\":\"linear\"}}],\"label\":\"2009\",\"method\":\"animate\"},{\"args\":[[\"2010\"],{\"frame\":{\"duration\":0,\"redraw\":true},\"fromcurrent\":true,\"mode\":\"immediate\",\"transition\":{\"duration\":0,\"easing\":\"linear\"}}],\"label\":\"2010\",\"method\":\"animate\"},{\"args\":[[\"2011\"],{\"frame\":{\"duration\":0,\"redraw\":true},\"fromcurrent\":true,\"mode\":\"immediate\",\"transition\":{\"duration\":0,\"easing\":\"linear\"}}],\"label\":\"2011\",\"method\":\"animate\"},{\"args\":[[\"2012\"],{\"frame\":{\"duration\":0,\"redraw\":true},\"fromcurrent\":true,\"mode\":\"immediate\",\"transition\":{\"duration\":0,\"easing\":\"linear\"}}],\"label\":\"2012\",\"method\":\"animate\"},{\"args\":[[\"2013\"],{\"frame\":{\"duration\":0,\"redraw\":true},\"fromcurrent\":true,\"mode\":\"immediate\",\"transition\":{\"duration\":0,\"easing\":\"linear\"}}],\"label\":\"2013\",\"method\":\"animate\"},{\"args\":[[\"2014\"],{\"frame\":{\"duration\":0,\"redraw\":true},\"fromcurrent\":true,\"mode\":\"immediate\",\"transition\":{\"duration\":0,\"easing\":\"linear\"}}],\"label\":\"2014\",\"method\":\"animate\"},{\"args\":[[\"2015\"],{\"frame\":{\"duration\":0,\"redraw\":true},\"fromcurrent\":true,\"mode\":\"immediate\",\"transition\":{\"duration\":0,\"easing\":\"linear\"}}],\"label\":\"2015\",\"method\":\"animate\"},{\"args\":[[\"2016\"],{\"frame\":{\"duration\":0,\"redraw\":true},\"fromcurrent\":true,\"mode\":\"immediate\",\"transition\":{\"duration\":0,\"easing\":\"linear\"}}],\"label\":\"2016\",\"method\":\"animate\"},{\"args\":[[\"2017\"],{\"frame\":{\"duration\":0,\"redraw\":true},\"fromcurrent\":true,\"mode\":\"immediate\",\"transition\":{\"duration\":0,\"easing\":\"linear\"}}],\"label\":\"2017\",\"method\":\"animate\"},{\"args\":[[\"2018\"],{\"frame\":{\"duration\":0,\"redraw\":true},\"fromcurrent\":true,\"mode\":\"immediate\",\"transition\":{\"duration\":0,\"easing\":\"linear\"}}],\"label\":\"2018\",\"method\":\"animate\"},{\"args\":[[\"2019\"],{\"frame\":{\"duration\":0,\"redraw\":true},\"fromcurrent\":true,\"mode\":\"immediate\",\"transition\":{\"duration\":0,\"easing\":\"linear\"}}],\"label\":\"2019\",\"method\":\"animate\"}],\"x\":0.1,\"xanchor\":\"left\",\"y\":0,\"yanchor\":\"top\"}],\"template\":{\"data\":{\"bar\":[{\"error_x\":{\"color\":\"rgb(36,36,36)\"},\"error_y\":{\"color\":\"rgb(36,36,36)\"},\"marker\":{\"line\":{\"color\":\"white\",\"width\":0.5},\"pattern\":{\"fillmode\":\"overlay\",\"size\":10,\"solidity\":0.2}},\"type\":\"bar\"}],\"barpolar\":[{\"marker\":{\"line\":{\"color\":\"white\",\"width\":0.5},\"pattern\":{\"fillmode\":\"overlay\",\"size\":10,\"solidity\":0.2}},\"type\":\"barpolar\"}],\"carpet\":[{\"aaxis\":{\"endlinecolor\":\"rgb(36,36,36)\",\"gridcolor\":\"white\",\"linecolor\":\"white\",\"minorgridcolor\":\"white\",\"startlinecolor\":\"rgb(36,36,36)\"},\"baxis\":{\"endlinecolor\":\"rgb(36,36,36)\",\"gridcolor\":\"white\",\"linecolor\":\"white\",\"minorgridcolor\":\"white\",\"startlinecolor\":\"rgb(36,36,36)\"},\"type\":\"carpet\"}],\"choropleth\":[{\"colorbar\":{\"outlinewidth\":1,\"tickcolor\":\"rgb(36,36,36)\",\"ticks\":\"outside\"},\"type\":\"choropleth\"}],\"contour\":[{\"colorbar\":{\"outlinewidth\":1,\"tickcolor\":\"rgb(36,36,36)\",\"ticks\":\"outside\"},\"colorscale\":[[0.0,\"#440154\"],[0.1111111111111111,\"#482878\"],[0.2222222222222222,\"#3e4989\"],[0.3333333333333333,\"#31688e\"],[0.4444444444444444,\"#26828e\"],[0.5555555555555556,\"#1f9e89\"],[0.6666666666666666,\"#35b779\"],[0.7777777777777778,\"#6ece58\"],[0.8888888888888888,\"#b5de2b\"],[1.0,\"#fde725\"]],\"type\":\"contour\"}],\"contourcarpet\":[{\"colorbar\":{\"outlinewidth\":1,\"tickcolor\":\"rgb(36,36,36)\",\"ticks\":\"outside\"},\"type\":\"contourcarpet\"}],\"heatmap\":[{\"colorbar\":{\"outlinewidth\":1,\"tickcolor\":\"rgb(36,36,36)\",\"ticks\":\"outside\"},\"colorscale\":[[0.0,\"#440154\"],[0.1111111111111111,\"#482878\"],[0.2222222222222222,\"#3e4989\"],[0.3333333333333333,\"#31688e\"],[0.4444444444444444,\"#26828e\"],[0.5555555555555556,\"#1f9e89\"],[0.6666666666666666,\"#35b779\"],[0.7777777777777778,\"#6ece58\"],[0.8888888888888888,\"#b5de2b\"],[1.0,\"#fde725\"]],\"type\":\"heatmap\"}],\"heatmapgl\":[{\"colorbar\":{\"outlinewidth\":1,\"tickcolor\":\"rgb(36,36,36)\",\"ticks\":\"outside\"},\"colorscale\":[[0.0,\"#440154\"],[0.1111111111111111,\"#482878\"],[0.2222222222222222,\"#3e4989\"],[0.3333333333333333,\"#31688e\"],[0.4444444444444444,\"#26828e\"],[0.5555555555555556,\"#1f9e89\"],[0.6666666666666666,\"#35b779\"],[0.7777777777777778,\"#6ece58\"],[0.8888888888888888,\"#b5de2b\"],[1.0,\"#fde725\"]],\"type\":\"heatmapgl\"}],\"histogram\":[{\"marker\":{\"line\":{\"color\":\"white\",\"width\":0.6}},\"type\":\"histogram\"}],\"histogram2d\":[{\"colorbar\":{\"outlinewidth\":1,\"tickcolor\":\"rgb(36,36,36)\",\"ticks\":\"outside\"},\"colorscale\":[[0.0,\"#440154\"],[0.1111111111111111,\"#482878\"],[0.2222222222222222,\"#3e4989\"],[0.3333333333333333,\"#31688e\"],[0.4444444444444444,\"#26828e\"],[0.5555555555555556,\"#1f9e89\"],[0.6666666666666666,\"#35b779\"],[0.7777777777777778,\"#6ece58\"],[0.8888888888888888,\"#b5de2b\"],[1.0,\"#fde725\"]],\"type\":\"histogram2d\"}],\"histogram2dcontour\":[{\"colorbar\":{\"outlinewidth\":1,\"tickcolor\":\"rgb(36,36,36)\",\"ticks\":\"outside\"},\"colorscale\":[[0.0,\"#440154\"],[0.1111111111111111,\"#482878\"],[0.2222222222222222,\"#3e4989\"],[0.3333333333333333,\"#31688e\"],[0.4444444444444444,\"#26828e\"],[0.5555555555555556,\"#1f9e89\"],[0.6666666666666666,\"#35b779\"],[0.7777777777777778,\"#6ece58\"],[0.8888888888888888,\"#b5de2b\"],[1.0,\"#fde725\"]],\"type\":\"histogram2dcontour\"}],\"mesh3d\":[{\"colorbar\":{\"outlinewidth\":1,\"tickcolor\":\"rgb(36,36,36)\",\"ticks\":\"outside\"},\"type\":\"mesh3d\"}],\"parcoords\":[{\"line\":{\"colorbar\":{\"outlinewidth\":1,\"tickcolor\":\"rgb(36,36,36)\",\"ticks\":\"outside\"}},\"type\":\"parcoords\"}],\"pie\":[{\"automargin\":true,\"type\":\"pie\"}],\"scatter\":[{\"marker\":{\"colorbar\":{\"outlinewidth\":1,\"tickcolor\":\"rgb(36,36,36)\",\"ticks\":\"outside\"}},\"type\":\"scatter\"}],\"scatter3d\":[{\"line\":{\"colorbar\":{\"outlinewidth\":1,\"tickcolor\":\"rgb(36,36,36)\",\"ticks\":\"outside\"}},\"marker\":{\"colorbar\":{\"outlinewidth\":1,\"tickcolor\":\"rgb(36,36,36)\",\"ticks\":\"outside\"}},\"type\":\"scatter3d\"}],\"scattercarpet\":[{\"marker\":{\"colorbar\":{\"outlinewidth\":1,\"tickcolor\":\"rgb(36,36,36)\",\"ticks\":\"outside\"}},\"type\":\"scattercarpet\"}],\"scattergeo\":[{\"marker\":{\"colorbar\":{\"outlinewidth\":1,\"tickcolor\":\"rgb(36,36,36)\",\"ticks\":\"outside\"}},\"type\":\"scattergeo\"}],\"scattergl\":[{\"marker\":{\"colorbar\":{\"outlinewidth\":1,\"tickcolor\":\"rgb(36,36,36)\",\"ticks\":\"outside\"}},\"type\":\"scattergl\"}],\"scattermapbox\":[{\"marker\":{\"colorbar\":{\"outlinewidth\":1,\"tickcolor\":\"rgb(36,36,36)\",\"ticks\":\"outside\"}},\"type\":\"scattermapbox\"}],\"scatterpolar\":[{\"marker\":{\"colorbar\":{\"outlinewidth\":1,\"tickcolor\":\"rgb(36,36,36)\",\"ticks\":\"outside\"}},\"type\":\"scatterpolar\"}],\"scatterpolargl\":[{\"marker\":{\"colorbar\":{\"outlinewidth\":1,\"tickcolor\":\"rgb(36,36,36)\",\"ticks\":\"outside\"}},\"type\":\"scatterpolargl\"}],\"scatterternary\":[{\"marker\":{\"colorbar\":{\"outlinewidth\":1,\"tickcolor\":\"rgb(36,36,36)\",\"ticks\":\"outside\"}},\"type\":\"scatterternary\"}],\"surface\":[{\"colorbar\":{\"outlinewidth\":1,\"tickcolor\":\"rgb(36,36,36)\",\"ticks\":\"outside\"},\"colorscale\":[[0.0,\"#440154\"],[0.1111111111111111,\"#482878\"],[0.2222222222222222,\"#3e4989\"],[0.3333333333333333,\"#31688e\"],[0.4444444444444444,\"#26828e\"],[0.5555555555555556,\"#1f9e89\"],[0.6666666666666666,\"#35b779\"],[0.7777777777777778,\"#6ece58\"],[0.8888888888888888,\"#b5de2b\"],[1.0,\"#fde725\"]],\"type\":\"surface\"}],\"table\":[{\"cells\":{\"fill\":{\"color\":\"rgb(237,237,237)\"},\"line\":{\"color\":\"white\"}},\"header\":{\"fill\":{\"color\":\"rgb(217,217,217)\"},\"line\":{\"color\":\"white\"}},\"type\":\"table\"}]},\"layout\":{\"annotationdefaults\":{\"arrowhead\":0,\"arrowwidth\":1},\"autotypenumbers\":\"strict\",\"coloraxis\":{\"colorbar\":{\"outlinewidth\":1,\"tickcolor\":\"rgb(36,36,36)\",\"ticks\":\"outside\"}},\"colorscale\":{\"diverging\":[[0.0,\"rgb(103,0,31)\"],[0.1,\"rgb(178,24,43)\"],[0.2,\"rgb(214,96,77)\"],[0.3,\"rgb(244,165,130)\"],[0.4,\"rgb(253,219,199)\"],[0.5,\"rgb(247,247,247)\"],[0.6,\"rgb(209,229,240)\"],[0.7,\"rgb(146,197,222)\"],[0.8,\"rgb(67,147,195)\"],[0.9,\"rgb(33,102,172)\"],[1.0,\"rgb(5,48,97)\"]],\"sequential\":[[0.0,\"#440154\"],[0.1111111111111111,\"#482878\"],[0.2222222222222222,\"#3e4989\"],[0.3333333333333333,\"#31688e\"],[0.4444444444444444,\"#26828e\"],[0.5555555555555556,\"#1f9e89\"],[0.6666666666666666,\"#35b779\"],[0.7777777777777778,\"#6ece58\"],[0.8888888888888888,\"#b5de2b\"],[1.0,\"#fde725\"]],\"sequentialminus\":[[0.0,\"#440154\"],[0.1111111111111111,\"#482878\"],[0.2222222222222222,\"#3e4989\"],[0.3333333333333333,\"#31688e\"],[0.4444444444444444,\"#26828e\"],[0.5555555555555556,\"#1f9e89\"],[0.6666666666666666,\"#35b779\"],[0.7777777777777778,\"#6ece58\"],[0.8888888888888888,\"#b5de2b\"],[1.0,\"#fde725\"]]},\"colorway\":[\"#1F77B4\",\"#FF7F0E\",\"#2CA02C\",\"#D62728\",\"#9467BD\",\"#8C564B\",\"#E377C2\",\"#7F7F7F\",\"#BCBD22\",\"#17BECF\"],\"font\":{\"color\":\"rgb(36,36,36)\"},\"geo\":{\"bgcolor\":\"white\",\"lakecolor\":\"white\",\"landcolor\":\"white\",\"showlakes\":true,\"showland\":true,\"subunitcolor\":\"white\"},\"hoverlabel\":{\"align\":\"left\"},\"hovermode\":\"closest\",\"mapbox\":{\"style\":\"light\"},\"paper_bgcolor\":\"white\",\"plot_bgcolor\":\"white\",\"polar\":{\"angularaxis\":{\"gridcolor\":\"rgb(232,232,232)\",\"linecolor\":\"rgb(36,36,36)\",\"showgrid\":false,\"showline\":true,\"ticks\":\"outside\"},\"bgcolor\":\"white\",\"radialaxis\":{\"gridcolor\":\"rgb(232,232,232)\",\"linecolor\":\"rgb(36,36,36)\",\"showgrid\":false,\"showline\":true,\"ticks\":\"outside\"}},\"scene\":{\"xaxis\":{\"backgroundcolor\":\"white\",\"gridcolor\":\"rgb(232,232,232)\",\"gridwidth\":2,\"linecolor\":\"rgb(36,36,36)\",\"showbackground\":true,\"showgrid\":false,\"showline\":true,\"ticks\":\"outside\",\"zeroline\":false,\"zerolinecolor\":\"rgb(36,36,36)\"},\"yaxis\":{\"backgroundcolor\":\"white\",\"gridcolor\":\"rgb(232,232,232)\",\"gridwidth\":2,\"linecolor\":\"rgb(36,36,36)\",\"showbackground\":true,\"showgrid\":false,\"showline\":true,\"ticks\":\"outside\",\"zeroline\":false,\"zerolinecolor\":\"rgb(36,36,36)\"},\"zaxis\":{\"backgroundcolor\":\"white\",\"gridcolor\":\"rgb(232,232,232)\",\"gridwidth\":2,\"linecolor\":\"rgb(36,36,36)\",\"showbackground\":true,\"showgrid\":false,\"showline\":true,\"ticks\":\"outside\",\"zeroline\":false,\"zerolinecolor\":\"rgb(36,36,36)\"}},\"shapedefaults\":{\"fillcolor\":\"black\",\"line\":{\"width\":0},\"opacity\":0.3},\"ternary\":{\"aaxis\":{\"gridcolor\":\"rgb(232,232,232)\",\"linecolor\":\"rgb(36,36,36)\",\"showgrid\":false,\"showline\":true,\"ticks\":\"outside\"},\"baxis\":{\"gridcolor\":\"rgb(232,232,232)\",\"linecolor\":\"rgb(36,36,36)\",\"showgrid\":false,\"showline\":true,\"ticks\":\"outside\"},\"bgcolor\":\"white\",\"caxis\":{\"gridcolor\":\"rgb(232,232,232)\",\"linecolor\":\"rgb(36,36,36)\",\"showgrid\":false,\"showline\":true,\"ticks\":\"outside\"}},\"title\":{\"x\":0.05},\"xaxis\":{\"automargin\":true,\"gridcolor\":\"rgb(232,232,232)\",\"linecolor\":\"rgb(36,36,36)\",\"showgrid\":false,\"showline\":true,\"ticks\":\"outside\",\"title\":{\"standoff\":15},\"zeroline\":false,\"zerolinecolor\":\"rgb(36,36,36)\"},\"yaxis\":{\"automargin\":true,\"gridcolor\":\"rgb(232,232,232)\",\"linecolor\":\"rgb(36,36,36)\",\"showgrid\":false,\"showline\":true,\"ticks\":\"outside\",\"title\":{\"standoff\":15},\"zeroline\":false,\"zerolinecolor\":\"rgb(36,36,36)\"}}},\"title\":{\"text\":\"Emiss\\u00e3o de CO2 (1980 - 2016)\"},\"updatemenus\":[{\"buttons\":[{\"args\":[null,{\"frame\":{\"duration\":500,\"redraw\":true},\"fromcurrent\":true,\"mode\":\"immediate\",\"transition\":{\"duration\":500,\"easing\":\"linear\"}}],\"label\":\"&#9654;\",\"method\":\"animate\"},{\"args\":[[null],{\"frame\":{\"duration\":0,\"redraw\":true},\"fromcurrent\":true,\"mode\":\"immediate\",\"transition\":{\"duration\":0,\"easing\":\"linear\"}}],\"label\":\"&#9724;\",\"method\":\"animate\"}],\"direction\":\"left\",\"pad\":{\"r\":10,\"t\":70},\"showactive\":false,\"type\":\"buttons\",\"x\":0.1,\"xanchor\":\"right\",\"y\":0,\"yanchor\":\"top\"}],\"xaxis\":{\"anchor\":\"y\",\"categoryarray\":[\"Brazil\",\"China\",\"Russia\",\"United States\"],\"categoryorder\":\"array\",\"domain\":[0.0,1.0],\"title\":{\"text\":\"Pa\\u00edses\"}},\"yaxis\":{\"anchor\":\"x\",\"domain\":[0.0,1.0],\"range\":[0,11000],\"title\":{\"text\":\"CO2_emission\"}}},                        {\"responsive\": true}                    ).then(function(){\n",
       "                            Plotly.addFrames('48731d18-daed-47ee-a6ec-f9f4f31ef039', [{\"data\":[{\"alignmentgroup\":\"True\",\"hovertemplate\":\"Pa\\u00edses=%{x}<br>Year=1980<br>CO2_emission=%{y}<extra></extra>\",\"ids\":[\"Brazil\",\"Brazil\",\"Brazil\",\"Brazil\",\"Brazil\",\"Brazil\"],\"legendgroup\":\"Brazil\",\"marker\":{\"color\":\"#AB63FA\",\"pattern\":{\"shape\":\"\"}},\"name\":\"Brazil\",\"offsetgroup\":\"Brazil\",\"orientation\":\"v\",\"showlegend\":true,\"textposition\":\"auto\",\"type\":\"bar\",\"x\":[\"Brazil\",\"Brazil\",\"Brazil\",\"Brazil\",\"Brazil\",\"Brazil\"],\"xaxis\":\"x\",\"y\":[null,null,null,null,0.0,0.0],\"yaxis\":\"y\"},{\"alignmentgroup\":\"True\",\"hovertemplate\":\"Pa\\u00edses=%{x}<br>Year=1980<br>CO2_emission=%{y}<extra></extra>\",\"ids\":[\"China\",\"China\",\"China\",\"China\",\"China\",\"China\"],\"legendgroup\":\"China\",\"marker\":{\"color\":\"#EF553B\",\"pattern\":{\"shape\":\"\"}},\"name\":\"China\",\"offsetgroup\":\"China\",\"orientation\":\"v\",\"showlegend\":true,\"textposition\":\"auto\",\"type\":\"bar\",\"x\":[\"China\",\"China\",\"China\",\"China\",\"China\",\"China\"],\"xaxis\":\"x\",\"y\":[null,null,null,null,0.0,0.0],\"yaxis\":\"y\"},{\"alignmentgroup\":\"True\",\"hovertemplate\":\"Pa\\u00edses=%{x}<br>Year=1980<br>CO2_emission=%{y}<extra></extra>\",\"ids\":[\"Russia\",\"Russia\",\"Russia\",\"Russia\",\"Russia\",\"Russia\"],\"legendgroup\":\"Russia\",\"marker\":{\"color\":\"#00CC96\",\"pattern\":{\"shape\":\"\"}},\"name\":\"Russia\",\"offsetgroup\":\"Russia\",\"orientation\":\"v\",\"showlegend\":true,\"textposition\":\"auto\",\"type\":\"bar\",\"x\":[\"Russia\",\"Russia\",\"Russia\",\"Russia\",\"Russia\",\"Russia\"],\"xaxis\":\"x\",\"y\":[null,null,null,null,0.0,0.0],\"yaxis\":\"y\"},{\"alignmentgroup\":\"True\",\"hovertemplate\":\"Pa\\u00edses=%{x}<br>Year=1980<br>CO2_emission=%{y}<extra></extra>\",\"ids\":[\"United States\",\"United States\",\"United States\",\"United States\",\"United States\",\"United States\"],\"legendgroup\":\"United States\",\"marker\":{\"color\":\"#ABC3FA\",\"pattern\":{\"shape\":\"\"}},\"name\":\"United States\",\"offsetgroup\":\"United States\",\"orientation\":\"v\",\"showlegend\":true,\"textposition\":\"auto\",\"type\":\"bar\",\"x\":[\"United States\",\"United States\",\"United States\",\"United States\",\"United States\",\"United States\"],\"xaxis\":\"x\",\"y\":[4946.62713,1409.790188,1081.593377,2455.243565,0.0,0.0],\"yaxis\":\"y\"}],\"name\":\"1980\"},{\"data\":[{\"alignmentgroup\":\"True\",\"hovertemplate\":\"Pa\\u00edses=%{x}<br>Year=1981<br>CO2_emission=%{y}<extra></extra>\",\"ids\":[\"Brazil\",\"Brazil\",\"Brazil\",\"Brazil\",\"Brazil\",\"Brazil\"],\"legendgroup\":\"Brazil\",\"marker\":{\"color\":\"#AB63FA\",\"pattern\":{\"shape\":\"\"}},\"name\":\"Brazil\",\"offsetgroup\":\"Brazil\",\"orientation\":\"v\",\"showlegend\":true,\"textposition\":\"auto\",\"type\":\"bar\",\"x\":[\"Brazil\",\"Brazil\",\"Brazil\",\"Brazil\",\"Brazil\",\"Brazil\"],\"xaxis\":\"x\",\"y\":[187.731100826,21.950474586347248,3.00385624,162.77677,0.0,0.0],\"yaxis\":\"y\"},{\"alignmentgroup\":\"True\",\"hovertemplate\":\"Pa\\u00edses=%{x}<br>Year=1981<br>CO2_emission=%{y}<extra></extra>\",\"ids\":[\"China\",\"China\",\"China\",\"China\",\"China\",\"China\"],\"legendgroup\":\"China\",\"marker\":{\"color\":\"#EF553B\",\"pattern\":{\"shape\":\"\"}},\"name\":\"China\",\"offsetgroup\":\"China\",\"orientation\":\"v\",\"showlegend\":true,\"textposition\":\"auto\",\"type\":\"bar\",\"x\":[\"China\",\"China\",\"China\",\"China\",\"China\",\"China\"],\"xaxis\":\"x\",\"y\":[1596.69638631,1309.9852535267282,30.839452783,255.87168,0.0,0.0],\"yaxis\":\"y\"},{\"alignmentgroup\":\"True\",\"hovertemplate\":\"Pa\\u00edses=%{x}<br>Year=1981<br>CO2_emission=%{y}<extra></extra>\",\"ids\":[\"Russia\",\"Russia\",\"Russia\",\"Russia\",\"Russia\",\"Russia\"],\"legendgroup\":\"Russia\",\"marker\":{\"color\":\"#00CC96\",\"pattern\":{\"shape\":\"\"}},\"name\":\"Russia\",\"offsetgroup\":\"Russia\",\"orientation\":\"v\",\"showlegend\":true,\"textposition\":\"auto\",\"type\":\"bar\",\"x\":[\"Russia\",\"Russia\",\"Russia\",\"Russia\",\"Russia\",\"Russia\"],\"xaxis\":\"x\",\"y\":[null,null,null,null,0.0,0.0],\"yaxis\":\"y\"},{\"alignmentgroup\":\"True\",\"hovertemplate\":\"Pa\\u00edses=%{x}<br>Year=1981<br>CO2_emission=%{y}<extra></extra>\",\"ids\":[\"United States\",\"United States\",\"United States\",\"United States\",\"United States\",\"United States\"],\"legendgroup\":\"United States\",\"marker\":{\"color\":\"#ABC3FA\",\"pattern\":{\"shape\":\"\"}},\"name\":\"United States\",\"offsetgroup\":\"United States\",\"orientation\":\"v\",\"showlegend\":true,\"textposition\":\"auto\",\"type\":\"bar\",\"x\":[\"United States\",\"United States\",\"United States\",\"United States\",\"United States\",\"United States\"],\"xaxis\":\"x\",\"y\":[4756.270103,1453.794003,1058.053976,2244.422124,0.0,0.0],\"yaxis\":\"y\"}],\"name\":\"1981\"},{\"data\":[{\"alignmentgroup\":\"True\",\"hovertemplate\":\"Pa\\u00edses=%{x}<br>Year=1982<br>CO2_emission=%{y}<extra></extra>\",\"ids\":[\"Brazil\",\"Brazil\",\"Brazil\",\"Brazil\",\"Brazil\",\"Brazil\"],\"legendgroup\":\"Brazil\",\"marker\":{\"color\":\"#AB63FA\",\"pattern\":{\"shape\":\"\"}},\"name\":\"Brazil\",\"offsetgroup\":\"Brazil\",\"orientation\":\"v\",\"showlegend\":true,\"textposition\":\"auto\",\"type\":\"bar\",\"x\":[\"Brazil\",\"Brazil\",\"Brazil\",\"Brazil\",\"Brazil\",\"Brazil\"],\"xaxis\":\"x\",\"y\":[178.096623767,22.09276752690462,3.00385624,153.0,0.0,0.0],\"yaxis\":\"y\"},{\"alignmentgroup\":\"True\",\"hovertemplate\":\"Pa\\u00edses=%{x}<br>Year=1982<br>CO2_emission=%{y}<extra></extra>\",\"ids\":[\"China\",\"China\",\"China\",\"China\",\"China\",\"China\"],\"legendgroup\":\"China\",\"marker\":{\"color\":\"#EF553B\",\"pattern\":{\"shape\":\"\"}},\"name\":\"China\",\"offsetgroup\":\"China\",\"orientation\":\"v\",\"showlegend\":true,\"textposition\":\"auto\",\"type\":\"bar\",\"x\":[\"China\",\"China\",\"China\",\"China\",\"China\",\"China\"],\"xaxis\":\"x\",\"y\":[1587.190303195,1312.709602694507,27.4807005,247.0,0.0,0.0],\"yaxis\":\"y\"},{\"alignmentgroup\":\"True\",\"hovertemplate\":\"Pa\\u00edses=%{x}<br>Year=1982<br>CO2_emission=%{y}<extra></extra>\",\"ids\":[\"Russia\",\"Russia\",\"Russia\",\"Russia\",\"Russia\",\"Russia\"],\"legendgroup\":\"Russia\",\"marker\":{\"color\":\"#00CC96\",\"pattern\":{\"shape\":\"\"}},\"name\":\"Russia\",\"offsetgroup\":\"Russia\",\"orientation\":\"v\",\"showlegend\":true,\"textposition\":\"auto\",\"type\":\"bar\",\"x\":[\"Russia\",\"Russia\",\"Russia\",\"Russia\",\"Russia\",\"Russia\"],\"xaxis\":\"x\",\"y\":[null,null,null,null,0.0,0.0],\"yaxis\":\"y\"},{\"alignmentgroup\":\"True\",\"hovertemplate\":\"Pa\\u00edses=%{x}<br>Year=1982<br>CO2_emission=%{y}<extra></extra>\",\"ids\":[\"United States\",\"United States\",\"United States\",\"United States\",\"United States\",\"United States\"],\"legendgroup\":\"United States\",\"marker\":{\"color\":\"#ABC3FA\",\"pattern\":{\"shape\":\"\"}},\"name\":\"United States\",\"offsetgroup\":\"United States\",\"orientation\":\"v\",\"showlegend\":true,\"textposition\":\"auto\",\"type\":\"bar\",\"x\":[\"United States\",\"United States\",\"United States\",\"United States\",\"United States\",\"United States\"],\"xaxis\":\"x\",\"y\":[4636.631469,1502.932302,1032.089207,2101.60996,0.0,0.0],\"yaxis\":\"y\"}],\"name\":\"1982\"},{\"data\":[{\"alignmentgroup\":\"True\",\"hovertemplate\":\"Pa\\u00edses=%{x}<br>Year=1983<br>CO2_emission=%{y}<extra></extra>\",\"ids\":[\"Brazil\",\"Brazil\",\"Brazil\",\"Brazil\",\"Brazil\",\"Brazil\"],\"legendgroup\":\"Brazil\",\"marker\":{\"color\":\"#AB63FA\",\"pattern\":{\"shape\":\"\"}},\"name\":\"Brazil\",\"offsetgroup\":\"Brazil\",\"orientation\":\"v\",\"showlegend\":true,\"textposition\":\"auto\",\"type\":\"bar\",\"x\":[\"Brazil\",\"Brazil\",\"Brazil\",\"Brazil\",\"Brazil\",\"Brazil\"],\"xaxis\":\"x\",\"y\":[174.065355486,22.363603906470782,2.70175158,149.0,0.0,0.0],\"yaxis\":\"y\"},{\"alignmentgroup\":\"True\",\"hovertemplate\":\"Pa\\u00edses=%{x}<br>Year=1983<br>CO2_emission=%{y}<extra></extra>\",\"ids\":[\"China\",\"China\",\"China\",\"China\",\"China\",\"China\"],\"legendgroup\":\"China\",\"marker\":{\"color\":\"#EF553B\",\"pattern\":{\"shape\":\"\"}},\"name\":\"China\",\"offsetgroup\":\"China\",\"orientation\":\"v\",\"showlegend\":true,\"textposition\":\"auto\",\"type\":\"bar\",\"x\":[\"China\",\"China\",\"China\",\"China\",\"China\",\"China\"],\"xaxis\":\"x\",\"y\":[1671.101704097,1407.8347110071793,23.26699309,240.0,0.0,0.0],\"yaxis\":\"y\"},{\"alignmentgroup\":\"True\",\"hovertemplate\":\"Pa\\u00edses=%{x}<br>Year=1983<br>CO2_emission=%{y}<extra></extra>\",\"ids\":[\"Russia\",\"Russia\",\"Russia\",\"Russia\",\"Russia\",\"Russia\"],\"legendgroup\":\"Russia\",\"marker\":{\"color\":\"#00CC96\",\"pattern\":{\"shape\":\"\"}},\"name\":\"Russia\",\"offsetgroup\":\"Russia\",\"orientation\":\"v\",\"showlegend\":true,\"textposition\":\"auto\",\"type\":\"bar\",\"x\":[\"Russia\",\"Russia\",\"Russia\",\"Russia\",\"Russia\",\"Russia\"],\"xaxis\":\"x\",\"y\":[null,null,null,null,0.0,0.0],\"yaxis\":\"y\"},{\"alignmentgroup\":\"True\",\"hovertemplate\":\"Pa\\u00edses=%{x}<br>Year=1983<br>CO2_emission=%{y}<extra></extra>\",\"ids\":[\"United States\",\"United States\",\"United States\",\"United States\",\"United States\",\"United States\"],\"legendgroup\":\"United States\",\"marker\":{\"color\":\"#ABC3FA\",\"pattern\":{\"shape\":\"\"}},\"name\":\"United States\",\"offsetgroup\":\"United States\",\"orientation\":\"v\",\"showlegend\":true,\"textposition\":\"auto\",\"type\":\"bar\",\"x\":[\"United States\",\"United States\",\"United States\",\"United States\",\"United States\",\"United States\"],\"xaxis\":\"x\",\"y\":[4404.434841,1449.084615,960.901404,1994.448822,0.0,0.0],\"yaxis\":\"y\"}],\"name\":\"1983\"},{\"data\":[{\"alignmentgroup\":\"True\",\"hovertemplate\":\"Pa\\u00edses=%{x}<br>Year=1984<br>CO2_emission=%{y}<extra></extra>\",\"ids\":[\"Brazil\",\"Brazil\",\"Brazil\",\"Brazil\",\"Brazil\",\"Brazil\"],\"legendgroup\":\"Brazil\",\"marker\":{\"color\":\"#AB63FA\",\"pattern\":{\"shape\":\"\"}},\"name\":\"Brazil\",\"offsetgroup\":\"Brazil\",\"orientation\":\"v\",\"showlegend\":true,\"textposition\":\"auto\",\"type\":\"bar\",\"x\":[\"Brazil\",\"Brazil\",\"Brazil\",\"Brazil\",\"Brazil\",\"Brazil\"],\"xaxis\":\"x\",\"y\":[166.134085081,25.786262470681216,3.34782261,137.0,0.0,0.0],\"yaxis\":\"y\"},{\"alignmentgroup\":\"True\",\"hovertemplate\":\"Pa\\u00edses=%{x}<br>Year=1984<br>CO2_emission=%{y}<extra></extra>\",\"ids\":[\"China\",\"China\",\"China\",\"China\",\"China\",\"China\"],\"legendgroup\":\"China\",\"marker\":{\"color\":\"#EF553B\",\"pattern\":{\"shape\":\"\"}},\"name\":\"China\",\"offsetgroup\":\"China\",\"orientation\":\"v\",\"showlegend\":true,\"textposition\":\"auto\",\"type\":\"bar\",\"x\":[\"China\",\"China\",\"China\",\"China\",\"China\",\"China\"],\"xaxis\":\"x\",\"y\":[1785.801618532,1510.4812142752014,26.320404257,249.0,0.0,0.0],\"yaxis\":\"y\"},{\"alignmentgroup\":\"True\",\"hovertemplate\":\"Pa\\u00edses=%{x}<br>Year=1984<br>CO2_emission=%{y}<extra></extra>\",\"ids\":[\"Russia\",\"Russia\",\"Russia\",\"Russia\",\"Russia\",\"Russia\"],\"legendgroup\":\"Russia\",\"marker\":{\"color\":\"#00CC96\",\"pattern\":{\"shape\":\"\"}},\"name\":\"Russia\",\"offsetgroup\":\"Russia\",\"orientation\":\"v\",\"showlegend\":true,\"textposition\":\"auto\",\"type\":\"bar\",\"x\":[\"Russia\",\"Russia\",\"Russia\",\"Russia\",\"Russia\",\"Russia\"],\"xaxis\":\"x\",\"y\":[null,null,null,null,0.0,0.0],\"yaxis\":\"y\"},{\"alignmentgroup\":\"True\",\"hovertemplate\":\"Pa\\u00edses=%{x}<br>Year=1984<br>CO2_emission=%{y}<extra></extra>\",\"ids\":[\"United States\",\"United States\",\"United States\",\"United States\",\"United States\",\"United States\"],\"legendgroup\":\"United States\",\"marker\":{\"color\":\"#ABC3FA\",\"pattern\":{\"shape\":\"\"}},\"name\":\"United States\",\"offsetgroup\":\"United States\",\"orientation\":\"v\",\"showlegend\":true,\"textposition\":\"auto\",\"type\":\"bar\",\"x\":[\"United States\",\"United States\",\"United States\",\"United States\",\"United States\",\"United States\"],\"xaxis\":\"x\",\"y\":[4383.942232,1504.795517,901.093998,1978.052717,0.0,0.0],\"yaxis\":\"y\"}],\"name\":\"1984\"},{\"data\":[{\"alignmentgroup\":\"True\",\"hovertemplate\":\"Pa\\u00edses=%{x}<br>Year=1985<br>CO2_emission=%{y}<extra></extra>\",\"ids\":[\"Brazil\",\"Brazil\",\"Brazil\",\"Brazil\",\"Brazil\",\"Brazil\"],\"legendgroup\":\"Brazil\",\"marker\":{\"color\":\"#AB63FA\",\"pattern\":{\"shape\":\"\"}},\"name\":\"Brazil\",\"offsetgroup\":\"Brazil\",\"orientation\":\"v\",\"showlegend\":true,\"textposition\":\"auto\",\"type\":\"bar\",\"x\":[\"Brazil\",\"Brazil\",\"Brazil\",\"Brazil\",\"Brazil\",\"Brazil\"],\"xaxis\":\"x\",\"y\":[181.00356415,31.657268129976885,4.34629602,145.0,0.0,0.0],\"yaxis\":\"y\"},{\"alignmentgroup\":\"True\",\"hovertemplate\":\"Pa\\u00edses=%{x}<br>Year=1985<br>CO2_emission=%{y}<extra></extra>\",\"ids\":[\"China\",\"China\",\"China\",\"China\",\"China\",\"China\"],\"legendgroup\":\"China\",\"marker\":{\"color\":\"#EF553B\",\"pattern\":{\"shape\":\"\"}},\"name\":\"China\",\"offsetgroup\":\"China\",\"orientation\":\"v\",\"showlegend\":true,\"textposition\":\"auto\",\"type\":\"bar\",\"x\":[\"China\",\"China\",\"China\",\"China\",\"China\",\"China\"],\"xaxis\":\"x\",\"y\":[1948.070593329,1669.3227115090526,26.74788182,252.0,0.0,0.0],\"yaxis\":\"y\"},{\"alignmentgroup\":\"True\",\"hovertemplate\":\"Pa\\u00edses=%{x}<br>Year=1985<br>CO2_emission=%{y}<extra></extra>\",\"ids\":[\"Russia\",\"Russia\",\"Russia\",\"Russia\",\"Russia\",\"Russia\"],\"legendgroup\":\"Russia\",\"marker\":{\"color\":\"#00CC96\",\"pattern\":{\"shape\":\"\"}},\"name\":\"Russia\",\"offsetgroup\":\"Russia\",\"orientation\":\"v\",\"showlegend\":true,\"textposition\":\"auto\",\"type\":\"bar\",\"x\":[\"Russia\",\"Russia\",\"Russia\",\"Russia\",\"Russia\",\"Russia\"],\"xaxis\":\"x\",\"y\":[null,null,null,null,0.0,0.0],\"yaxis\":\"y\"},{\"alignmentgroup\":\"True\",\"hovertemplate\":\"Pa\\u00edses=%{x}<br>Year=1985<br>CO2_emission=%{y}<extra></extra>\",\"ids\":[\"United States\",\"United States\",\"United States\",\"United States\",\"United States\",\"United States\"],\"legendgroup\":\"United States\",\"marker\":{\"color\":\"#ABC3FA\",\"pattern\":{\"shape\":\"\"}},\"name\":\"United States\",\"offsetgroup\":\"United States\",\"orientation\":\"v\",\"showlegend\":true,\"textposition\":\"auto\",\"type\":\"bar\",\"x\":[\"United States\",\"United States\",\"United States\",\"United States\",\"United States\",\"United States\"],\"xaxis\":\"x\",\"y\":[4612.856171,1616.102516,962.252107,2034.501548,0.0,0.0],\"yaxis\":\"y\"}],\"name\":\"1985\"},{\"data\":[{\"alignmentgroup\":\"True\",\"hovertemplate\":\"Pa\\u00edses=%{x}<br>Year=1986<br>CO2_emission=%{y}<extra></extra>\",\"ids\":[\"Brazil\",\"Brazil\",\"Brazil\",\"Brazil\",\"Brazil\",\"Brazil\"],\"legendgroup\":\"Brazil\",\"marker\":{\"color\":\"#AB63FA\",\"pattern\":{\"shape\":\"\"}},\"name\":\"Brazil\",\"offsetgroup\":\"Brazil\",\"orientation\":\"v\",\"showlegend\":true,\"textposition\":\"auto\",\"type\":\"bar\",\"x\":[\"Brazil\",\"Brazil\",\"Brazil\",\"Brazil\",\"Brazil\",\"Brazil\"],\"xaxis\":\"x\",\"y\":[194.906575648,37.503072488187605,5.40350316,152.0,0.0,0.0],\"yaxis\":\"y\"},{\"alignmentgroup\":\"True\",\"hovertemplate\":\"Pa\\u00edses=%{x}<br>Year=1986<br>CO2_emission=%{y}<extra></extra>\",\"ids\":[\"China\",\"China\",\"China\",\"China\",\"China\",\"China\"],\"legendgroup\":\"China\",\"marker\":{\"color\":\"#EF553B\",\"pattern\":{\"shape\":\"\"}},\"name\":\"China\",\"offsetgroup\":\"China\",\"orientation\":\"v\",\"showlegend\":true,\"textposition\":\"auto\",\"type\":\"bar\",\"x\":[\"China\",\"China\",\"China\",\"China\",\"China\",\"China\"],\"xaxis\":\"x\",\"y\":[2066.962675133,1765.0544970695028,27.908178063,274.0,0.0,0.0],\"yaxis\":\"y\"},{\"alignmentgroup\":\"True\",\"hovertemplate\":\"Pa\\u00edses=%{x}<br>Year=1986<br>CO2_emission=%{y}<extra></extra>\",\"ids\":[\"Russia\",\"Russia\",\"Russia\",\"Russia\",\"Russia\",\"Russia\"],\"legendgroup\":\"Russia\",\"marker\":{\"color\":\"#00CC96\",\"pattern\":{\"shape\":\"\"}},\"name\":\"Russia\",\"offsetgroup\":\"Russia\",\"orientation\":\"v\",\"showlegend\":true,\"textposition\":\"auto\",\"type\":\"bar\",\"x\":[\"Russia\",\"Russia\",\"Russia\",\"Russia\",\"Russia\",\"Russia\"],\"xaxis\":\"x\",\"y\":[null,null,null,null,0.0,0.0],\"yaxis\":\"y\"},{\"alignmentgroup\":\"True\",\"hovertemplate\":\"Pa\\u00edses=%{x}<br>Year=1986<br>CO2_emission=%{y}<extra></extra>\",\"ids\":[\"United States\",\"United States\",\"United States\",\"United States\",\"United States\",\"United States\"],\"legendgroup\":\"United States\",\"marker\":{\"color\":\"#ABC3FA\",\"pattern\":{\"shape\":\"\"}},\"name\":\"United States\",\"offsetgroup\":\"United States\",\"orientation\":\"v\",\"showlegend\":true,\"textposition\":\"auto\",\"type\":\"bar\",\"x\":[\"United States\",\"United States\",\"United States\",\"United States\",\"United States\",\"United States\"],\"xaxis\":\"x\",\"y\":[4605.354533,1655.024937,926.516318,2023.813278,0.0,0.0],\"yaxis\":\"y\"}],\"name\":\"1986\"},{\"data\":[{\"alignmentgroup\":\"True\",\"hovertemplate\":\"Pa\\u00edses=%{x}<br>Year=1987<br>CO2_emission=%{y}<extra></extra>\",\"ids\":[\"Brazil\",\"Brazil\",\"Brazil\",\"Brazil\",\"Brazil\",\"Brazil\"],\"legendgroup\":\"Brazil\",\"marker\":{\"color\":\"#AB63FA\",\"pattern\":{\"shape\":\"\"}},\"name\":\"Brazil\",\"offsetgroup\":\"Brazil\",\"orientation\":\"v\",\"showlegend\":true,\"textposition\":\"auto\",\"type\":\"bar\",\"x\":[\"Brazil\",\"Brazil\",\"Brazil\",\"Brazil\",\"Brazil\",\"Brazil\"],\"xaxis\":\"x\",\"y\":[215.790895603,38.50485990251243,5.2860357,172.0,0.0,0.0],\"yaxis\":\"y\"},{\"alignmentgroup\":\"True\",\"hovertemplate\":\"Pa\\u00edses=%{x}<br>Year=1987<br>CO2_emission=%{y}<extra></extra>\",\"ids\":[\"China\",\"China\",\"China\",\"China\",\"China\",\"China\"],\"legendgroup\":\"China\",\"marker\":{\"color\":\"#EF553B\",\"pattern\":{\"shape\":\"\"}},\"name\":\"China\",\"offsetgroup\":\"China\",\"orientation\":\"v\",\"showlegend\":true,\"textposition\":\"auto\",\"type\":\"bar\",\"x\":[\"China\",\"China\",\"China\",\"China\",\"China\",\"China\"],\"xaxis\":\"x\",\"y\":[2139.77531038,1816.2182902871812,29.557020093,294.0,0.0,0.0],\"yaxis\":\"y\"},{\"alignmentgroup\":\"True\",\"hovertemplate\":\"Pa\\u00edses=%{x}<br>Year=1987<br>CO2_emission=%{y}<extra></extra>\",\"ids\":[\"Russia\",\"Russia\",\"Russia\",\"Russia\",\"Russia\",\"Russia\"],\"legendgroup\":\"Russia\",\"marker\":{\"color\":\"#00CC96\",\"pattern\":{\"shape\":\"\"}},\"name\":\"Russia\",\"offsetgroup\":\"Russia\",\"orientation\":\"v\",\"showlegend\":true,\"textposition\":\"auto\",\"type\":\"bar\",\"x\":[\"Russia\",\"Russia\",\"Russia\",\"Russia\",\"Russia\",\"Russia\"],\"xaxis\":\"x\",\"y\":[null,null,null,null,0.0,0.0],\"yaxis\":\"y\"},{\"alignmentgroup\":\"True\",\"hovertemplate\":\"Pa\\u00edses=%{x}<br>Year=1987<br>CO2_emission=%{y}<extra></extra>\",\"ids\":[\"United States\",\"United States\",\"United States\",\"United States\",\"United States\",\"United States\"],\"legendgroup\":\"United States\",\"marker\":{\"color\":\"#ABC3FA\",\"pattern\":{\"shape\":\"\"}},\"name\":\"United States\",\"offsetgroup\":\"United States\",\"orientation\":\"v\",\"showlegend\":true,\"textposition\":\"auto\",\"type\":\"bar\",\"x\":[\"United States\",\"United States\",\"United States\",\"United States\",\"United States\",\"United States\"],\"xaxis\":\"x\",\"y\":[4615.662207,1635.733252,867.86644,2112.062515,0.0,0.0],\"yaxis\":\"y\"}],\"name\":\"1987\"},{\"data\":[{\"alignmentgroup\":\"True\",\"hovertemplate\":\"Pa\\u00edses=%{x}<br>Year=1988<br>CO2_emission=%{y}<extra></extra>\",\"ids\":[\"Brazil\",\"Brazil\",\"Brazil\",\"Brazil\",\"Brazil\",\"Brazil\"],\"legendgroup\":\"Brazil\",\"marker\":{\"color\":\"#AB63FA\",\"pattern\":{\"shape\":\"\"}},\"name\":\"Brazil\",\"offsetgroup\":\"Brazil\",\"orientation\":\"v\",\"showlegend\":true,\"textposition\":\"auto\",\"type\":\"bar\",\"x\":[\"Brazil\",\"Brazil\",\"Brazil\",\"Brazil\",\"Brazil\",\"Brazil\"],\"xaxis\":\"x\",\"y\":[222.947276004,41.780234354296425,6.16704165,175.0,0.0,0.0],\"yaxis\":\"y\"},{\"alignmentgroup\":\"True\",\"hovertemplate\":\"Pa\\u00edses=%{x}<br>Year=1988<br>CO2_emission=%{y}<extra></extra>\",\"ids\":[\"China\",\"China\",\"China\",\"China\",\"China\",\"China\"],\"legendgroup\":\"China\",\"marker\":{\"color\":\"#EF553B\",\"pattern\":{\"shape\":\"\"}},\"name\":\"China\",\"offsetgroup\":\"China\",\"orientation\":\"v\",\"showlegend\":true,\"textposition\":\"auto\",\"type\":\"bar\",\"x\":[\"China\",\"China\",\"China\",\"China\",\"China\",\"China\"],\"xaxis\":\"x\",\"y\":[2259.80811238,1916.6404100530372,30.167702327,313.0,0.0,0.0],\"yaxis\":\"y\"},{\"alignmentgroup\":\"True\",\"hovertemplate\":\"Pa\\u00edses=%{x}<br>Year=1988<br>CO2_emission=%{y}<extra></extra>\",\"ids\":[\"Russia\",\"Russia\",\"Russia\",\"Russia\",\"Russia\",\"Russia\"],\"legendgroup\":\"Russia\",\"marker\":{\"color\":\"#00CC96\",\"pattern\":{\"shape\":\"\"}},\"name\":\"Russia\",\"offsetgroup\":\"Russia\",\"orientation\":\"v\",\"showlegend\":true,\"textposition\":\"auto\",\"type\":\"bar\",\"x\":[\"Russia\",\"Russia\",\"Russia\",\"Russia\",\"Russia\",\"Russia\"],\"xaxis\":\"x\",\"y\":[null,null,null,null,0.0,0.0],\"yaxis\":\"y\"},{\"alignmentgroup\":\"True\",\"hovertemplate\":\"Pa\\u00edses=%{x}<br>Year=1988<br>CO2_emission=%{y}<extra></extra>\",\"ids\":[\"United States\",\"United States\",\"United States\",\"United States\",\"United States\",\"United States\"],\"legendgroup\":\"United States\",\"marker\":{\"color\":\"#ABC3FA\",\"pattern\":{\"shape\":\"\"}},\"name\":\"United States\",\"offsetgroup\":\"United States\",\"orientation\":\"v\",\"showlegend\":true,\"textposition\":\"auto\",\"type\":\"bar\",\"x\":[\"United States\",\"United States\",\"United States\",\"United States\",\"United States\",\"United States\"],\"xaxis\":\"x\",\"y\":[4775.551396,1709.483872,922.972357,2143.095167,0.0,0.0],\"yaxis\":\"y\"}],\"name\":\"1988\"},{\"data\":[{\"alignmentgroup\":\"True\",\"hovertemplate\":\"Pa\\u00edses=%{x}<br>Year=1989<br>CO2_emission=%{y}<extra></extra>\",\"ids\":[\"Brazil\",\"Brazil\",\"Brazil\",\"Brazil\",\"Brazil\",\"Brazil\"],\"legendgroup\":\"Brazil\",\"marker\":{\"color\":\"#AB63FA\",\"pattern\":{\"shape\":\"\"}},\"name\":\"Brazil\",\"offsetgroup\":\"Brazil\",\"orientation\":\"v\",\"showlegend\":true,\"textposition\":\"auto\",\"type\":\"bar\",\"x\":[\"Brazil\",\"Brazil\",\"Brazil\",\"Brazil\",\"Brazil\",\"Brazil\"],\"xaxis\":\"x\",\"y\":[223.394276154,40.69710434377964,5.69717181,177.0,0.0,0.0],\"yaxis\":\"y\"},{\"alignmentgroup\":\"True\",\"hovertemplate\":\"Pa\\u00edses=%{x}<br>Year=1989<br>CO2_emission=%{y}<extra></extra>\",\"ids\":[\"China\",\"China\",\"China\",\"China\",\"China\",\"China\"],\"legendgroup\":\"China\",\"marker\":{\"color\":\"#EF553B\",\"pattern\":{\"shape\":\"\"}},\"name\":\"China\",\"offsetgroup\":\"China\",\"orientation\":\"v\",\"showlegend\":true,\"textposition\":\"auto\",\"type\":\"bar\",\"x\":[\"China\",\"China\",\"China\",\"China\",\"China\",\"China\"],\"xaxis\":\"x\",\"y\":[2405.653731514,2046.9364151773088,30.717316337,328.0,0.0,0.0],\"yaxis\":\"y\"},{\"alignmentgroup\":\"True\",\"hovertemplate\":\"Pa\\u00edses=%{x}<br>Year=1989<br>CO2_emission=%{y}<extra></extra>\",\"ids\":[\"Russia\",\"Russia\",\"Russia\",\"Russia\",\"Russia\",\"Russia\"],\"legendgroup\":\"Russia\",\"marker\":{\"color\":\"#00CC96\",\"pattern\":{\"shape\":\"\"}},\"name\":\"Russia\",\"offsetgroup\":\"Russia\",\"orientation\":\"v\",\"showlegend\":true,\"textposition\":\"auto\",\"type\":\"bar\",\"x\":[\"Russia\",\"Russia\",\"Russia\",\"Russia\",\"Russia\",\"Russia\"],\"xaxis\":\"x\",\"y\":[null,null,null,null,0.0,0.0],\"yaxis\":\"y\"},{\"alignmentgroup\":\"True\",\"hovertemplate\":\"Pa\\u00edses=%{x}<br>Year=1989<br>CO2_emission=%{y}<extra></extra>\",\"ids\":[\"United States\",\"United States\",\"United States\",\"United States\",\"United States\",\"United States\"],\"legendgroup\":\"United States\",\"marker\":{\"color\":\"#ABC3FA\",\"pattern\":{\"shape\":\"\"}},\"name\":\"United States\",\"offsetgroup\":\"United States\",\"orientation\":\"v\",\"showlegend\":true,\"textposition\":\"auto\",\"type\":\"bar\",\"x\":[\"United States\",\"United States\",\"United States\",\"United States\",\"United States\",\"United States\"],\"xaxis\":\"x\",\"y\":[4998.211912,1792.727375,964.372566,2241.111971,0.0,0.0],\"yaxis\":\"y\"}],\"name\":\"1989\"},{\"data\":[{\"alignmentgroup\":\"True\",\"hovertemplate\":\"Pa\\u00edses=%{x}<br>Year=1990<br>CO2_emission=%{y}<extra></extra>\",\"ids\":[\"Brazil\",\"Brazil\",\"Brazil\",\"Brazil\",\"Brazil\",\"Brazil\"],\"legendgroup\":\"Brazil\",\"marker\":{\"color\":\"#AB63FA\",\"pattern\":{\"shape\":\"\"}},\"name\":\"Brazil\",\"offsetgroup\":\"Brazil\",\"orientation\":\"v\",\"showlegend\":true,\"textposition\":\"auto\",\"type\":\"bar\",\"x\":[\"Brazil\",\"Brazil\",\"Brazil\",\"Brazil\",\"Brazil\",\"Brazil\"],\"xaxis\":\"x\",\"y\":[231.995595162,42.771346372360256,7.22424879,182.0,0.0,0.0],\"yaxis\":\"y\"},{\"alignmentgroup\":\"True\",\"hovertemplate\":\"Pa\\u00edses=%{x}<br>Year=1990<br>CO2_emission=%{y}<extra></extra>\",\"ids\":[\"China\",\"China\",\"China\",\"China\",\"China\",\"China\"],\"legendgroup\":\"China\",\"marker\":{\"color\":\"#EF553B\",\"pattern\":{\"shape\":\"\"}},\"name\":\"China\",\"offsetgroup\":\"China\",\"orientation\":\"v\",\"showlegend\":true,\"textposition\":\"auto\",\"type\":\"bar\",\"x\":[\"China\",\"China\",\"China\",\"China\",\"China\",\"China\"],\"xaxis\":\"x\",\"y\":[2413.191859479,2035.3524066959017,30.839452783,347.0,0.0,0.0],\"yaxis\":\"y\"},{\"alignmentgroup\":\"True\",\"hovertemplate\":\"Pa\\u00edses=%{x}<br>Year=1990<br>CO2_emission=%{y}<extra></extra>\",\"ids\":[\"Russia\",\"Russia\",\"Russia\",\"Russia\",\"Russia\",\"Russia\"],\"legendgroup\":\"Russia\",\"marker\":{\"color\":\"#00CC96\",\"pattern\":{\"shape\":\"\"}},\"name\":\"Russia\",\"offsetgroup\":\"Russia\",\"orientation\":\"v\",\"showlegend\":true,\"textposition\":\"auto\",\"type\":\"bar\",\"x\":[\"Russia\",\"Russia\",\"Russia\",\"Russia\",\"Russia\",\"Russia\"],\"xaxis\":\"x\",\"y\":[null,null,null,null,0.0,0.0],\"yaxis\":\"y\"},{\"alignmentgroup\":\"True\",\"hovertemplate\":\"Pa\\u00edses=%{x}<br>Year=1990<br>CO2_emission=%{y}<extra></extra>\",\"ids\":[\"United States\",\"United States\",\"United States\",\"United States\",\"United States\",\"United States\"],\"legendgroup\":\"United States\",\"marker\":{\"color\":\"#ABC3FA\",\"pattern\":{\"shape\":\"\"}},\"name\":\"United States\",\"offsetgroup\":\"United States\",\"orientation\":\"v\",\"showlegend\":true,\"textposition\":\"auto\",\"type\":\"bar\",\"x\":[\"United States\",\"United States\",\"United States\",\"United States\",\"United States\",\"United States\"],\"xaxis\":\"x\",\"y\":[5084.558664,1813.144079,1026.9554,2244.459185,0.0,0.0],\"yaxis\":\"y\"}],\"name\":\"1990\"},{\"data\":[{\"alignmentgroup\":\"True\",\"hovertemplate\":\"Pa\\u00edses=%{x}<br>Year=1991<br>CO2_emission=%{y}<extra></extra>\",\"ids\":[\"Brazil\",\"Brazil\",\"Brazil\",\"Brazil\",\"Brazil\",\"Brazil\"],\"legendgroup\":\"Brazil\",\"marker\":{\"color\":\"#AB63FA\",\"pattern\":{\"shape\":\"\"}},\"name\":\"Brazil\",\"offsetgroup\":\"Brazil\",\"orientation\":\"v\",\"showlegend\":true,\"textposition\":\"auto\",\"type\":\"bar\",\"x\":[\"Brazil\",\"Brazil\",\"Brazil\",\"Brazil\",\"Brazil\",\"Brazil\"],\"xaxis\":\"x\",\"y\":[243.069804424,40.02267084095352,6.047133583,197.0,0.0,0.0],\"yaxis\":\"y\"},{\"alignmentgroup\":\"True\",\"hovertemplate\":\"Pa\\u00edses=%{x}<br>Year=1991<br>CO2_emission=%{y}<extra></extra>\",\"ids\":[\"China\",\"China\",\"China\",\"China\",\"China\",\"China\"],\"legendgroup\":\"China\",\"marker\":{\"color\":\"#EF553B\",\"pattern\":{\"shape\":\"\"}},\"name\":\"China\",\"offsetgroup\":\"China\",\"orientation\":\"v\",\"showlegend\":true,\"textposition\":\"auto\",\"type\":\"bar\",\"x\":[\"China\",\"China\",\"China\",\"China\",\"China\",\"China\"],\"xaxis\":\"x\",\"y\":[2417.241264382,2052.050936279214,30.190328103,335.0,0.0,0.0],\"yaxis\":\"y\"},{\"alignmentgroup\":\"True\",\"hovertemplate\":\"Pa\\u00edses=%{x}<br>Year=1991<br>CO2_emission=%{y}<extra></extra>\",\"ids\":[\"Russia\",\"Russia\",\"Russia\",\"Russia\",\"Russia\",\"Russia\"],\"legendgroup\":\"Russia\",\"marker\":{\"color\":\"#00CC96\",\"pattern\":{\"shape\":\"\"}},\"name\":\"Russia\",\"offsetgroup\":\"Russia\",\"orientation\":\"v\",\"showlegend\":true,\"textposition\":\"auto\",\"type\":\"bar\",\"x\":[\"Russia\",\"Russia\",\"Russia\",\"Russia\",\"Russia\",\"Russia\"],\"xaxis\":\"x\",\"y\":[null,null,null,null,0.0,0.0],\"yaxis\":\"y\"},{\"alignmentgroup\":\"True\",\"hovertemplate\":\"Pa\\u00edses=%{x}<br>Year=1991<br>CO2_emission=%{y}<extra></extra>\",\"ids\":[\"United States\",\"United States\",\"United States\",\"United States\",\"United States\",\"United States\"],\"legendgroup\":\"United States\",\"marker\":{\"color\":\"#ABC3FA\",\"pattern\":{\"shape\":\"\"}},\"name\":\"United States\",\"offsetgroup\":\"United States\",\"orientation\":\"v\",\"showlegend\":true,\"textposition\":\"auto\",\"type\":\"bar\",\"x\":[\"United States\",\"United States\",\"United States\",\"United States\",\"United States\",\"United States\"],\"xaxis\":\"x\",\"y\":[5037.896431,1820.022501,1026.254421,2191.619509,0.0,0.0],\"yaxis\":\"y\"}],\"name\":\"1991\"},{\"data\":[{\"alignmentgroup\":\"True\",\"hovertemplate\":\"Pa\\u00edses=%{x}<br>Year=1992<br>CO2_emission=%{y}<extra></extra>\",\"ids\":[\"Brazil\",\"Brazil\",\"Brazil\",\"Brazil\",\"Brazil\",\"Brazil\"],\"legendgroup\":\"Brazil\",\"marker\":{\"color\":\"#AB63FA\",\"pattern\":{\"shape\":\"\"}},\"name\":\"Brazil\",\"offsetgroup\":\"Brazil\",\"orientation\":\"v\",\"showlegend\":true,\"textposition\":\"auto\",\"type\":\"bar\",\"x\":[\"Brazil\",\"Brazil\",\"Brazil\",\"Brazil\",\"Brazil\",\"Brazil\"],\"xaxis\":\"x\",\"y\":[251.544042026,45.13412143136595,7.409920595,199.0,0.0,0.0],\"yaxis\":\"y\"},{\"alignmentgroup\":\"True\",\"hovertemplate\":\"Pa\\u00edses=%{x}<br>Year=1992<br>CO2_emission=%{y}<extra></extra>\",\"ids\":[\"China\",\"China\",\"China\",\"China\",\"China\",\"China\"],\"legendgroup\":\"China\",\"marker\":{\"color\":\"#EF553B\",\"pattern\":{\"shape\":\"\"}},\"name\":\"China\",\"offsetgroup\":\"China\",\"orientation\":\"v\",\"showlegend\":true,\"textposition\":\"auto\",\"type\":\"bar\",\"x\":[\"China\",\"China\",\"China\",\"China\",\"China\",\"China\"],\"xaxis\":\"x\",\"y\":[2460.412875579,2065.188662454863,31.224213124,364.0,0.0,0.0],\"yaxis\":\"y\"},{\"alignmentgroup\":\"True\",\"hovertemplate\":\"Pa\\u00edses=%{x}<br>Year=1992<br>CO2_emission=%{y}<extra></extra>\",\"ids\":[\"Russia\",\"Russia\",\"Russia\",\"Russia\",\"Russia\",\"Russia\"],\"legendgroup\":\"Russia\",\"marker\":{\"color\":\"#00CC96\",\"pattern\":{\"shape\":\"\"}},\"name\":\"Russia\",\"offsetgroup\":\"Russia\",\"orientation\":\"v\",\"showlegend\":true,\"textposition\":\"auto\",\"type\":\"bar\",\"x\":[\"Russia\",\"Russia\",\"Russia\",\"Russia\",\"Russia\",\"Russia\"],\"xaxis\":\"x\",\"y\":[null,null,null,null,0.0,0.0],\"yaxis\":\"y\"},{\"alignmentgroup\":\"True\",\"hovertemplate\":\"Pa\\u00edses=%{x}<br>Year=1992<br>CO2_emission=%{y}<extra></extra>\",\"ids\":[\"United States\",\"United States\",\"United States\",\"United States\",\"United States\",\"United States\"],\"legendgroup\":\"United States\",\"marker\":{\"color\":\"#ABC3FA\",\"pattern\":{\"shape\":\"\"}},\"name\":\"United States\",\"offsetgroup\":\"United States\",\"orientation\":\"v\",\"showlegend\":true,\"textposition\":\"auto\",\"type\":\"bar\",\"x\":[\"United States\",\"United States\",\"United States\",\"United States\",\"United States\",\"United States\"],\"xaxis\":\"x\",\"y\":[4992.684743,1805.942037,1047.755702,2138.987004,0.0,0.0],\"yaxis\":\"y\"}],\"name\":\"1992\"},{\"data\":[{\"alignmentgroup\":\"True\",\"hovertemplate\":\"Pa\\u00edses=%{x}<br>Year=1993<br>CO2_emission=%{y}<extra></extra>\",\"ids\":[\"Brazil\",\"Brazil\",\"Brazil\",\"Brazil\",\"Brazil\",\"Brazil\"],\"legendgroup\":\"Brazil\",\"marker\":{\"color\":\"#AB63FA\",\"pattern\":{\"shape\":\"\"}},\"name\":\"Brazil\",\"offsetgroup\":\"Brazil\",\"orientation\":\"v\",\"showlegend\":true,\"textposition\":\"auto\",\"type\":\"bar\",\"x\":[\"Brazil\",\"Brazil\",\"Brazil\",\"Brazil\",\"Brazil\",\"Brazil\"],\"xaxis\":\"x\",\"y\":[243.906254218,43.78928992953583,8.116964288,192.0,0.0,0.0],\"yaxis\":\"y\"},{\"alignmentgroup\":\"True\",\"hovertemplate\":\"Pa\\u00edses=%{x}<br>Year=1993<br>CO2_emission=%{y}<extra></extra>\",\"ids\":[\"China\",\"China\",\"China\",\"China\",\"China\",\"China\"],\"legendgroup\":\"China\",\"marker\":{\"color\":\"#EF553B\",\"pattern\":{\"shape\":\"\"}},\"name\":\"China\",\"offsetgroup\":\"China\",\"orientation\":\"v\",\"showlegend\":true,\"textposition\":\"auto\",\"type\":\"bar\",\"x\":[\"China\",\"China\",\"China\",\"China\",\"China\",\"China\"],\"xaxis\":\"x\",\"y\":[2541.080384708,2134.521878022461,31.558506686,375.0,0.0,0.0],\"yaxis\":\"y\"},{\"alignmentgroup\":\"True\",\"hovertemplate\":\"Pa\\u00edses=%{x}<br>Year=1993<br>CO2_emission=%{y}<extra></extra>\",\"ids\":[\"Russia\",\"Russia\",\"Russia\",\"Russia\",\"Russia\",\"Russia\"],\"legendgroup\":\"Russia\",\"marker\":{\"color\":\"#00CC96\",\"pattern\":{\"shape\":\"\"}},\"name\":\"Russia\",\"offsetgroup\":\"Russia\",\"orientation\":\"v\",\"showlegend\":true,\"textposition\":\"auto\",\"type\":\"bar\",\"x\":[\"Russia\",\"Russia\",\"Russia\",\"Russia\",\"Russia\",\"Russia\"],\"xaxis\":\"x\",\"y\":[2206.984323324,693.5347092327889,881.449614091,632.0,0.0,0.0],\"yaxis\":\"y\"},{\"alignmentgroup\":\"True\",\"hovertemplate\":\"Pa\\u00edses=%{x}<br>Year=1993<br>CO2_emission=%{y}<extra></extra>\",\"ids\":[\"United States\",\"United States\",\"United States\",\"United States\",\"United States\",\"United States\"],\"legendgroup\":\"United States\",\"marker\":{\"color\":\"#ABC3FA\",\"pattern\":{\"shape\":\"\"}},\"name\":\"United States\",\"offsetgroup\":\"United States\",\"orientation\":\"v\",\"showlegend\":true,\"textposition\":\"auto\",\"type\":\"bar\",\"x\":[\"United States\",\"United States\",\"United States\",\"United States\",\"United States\",\"United States\"],\"xaxis\":\"x\",\"y\":[5093.879398,1821.880293,1083.261526,2188.737579,0.0,0.0],\"yaxis\":\"y\"}],\"name\":\"1993\"},{\"data\":[{\"alignmentgroup\":\"True\",\"hovertemplate\":\"Pa\\u00edses=%{x}<br>Year=1994<br>CO2_emission=%{y}<extra></extra>\",\"ids\":[\"Brazil\",\"Brazil\",\"Brazil\",\"Brazil\",\"Brazil\",\"Brazil\"],\"legendgroup\":\"Brazil\",\"marker\":{\"color\":\"#AB63FA\",\"pattern\":{\"shape\":\"\"}},\"name\":\"Brazil\",\"offsetgroup\":\"Brazil\",\"orientation\":\"v\",\"showlegend\":true,\"textposition\":\"auto\",\"type\":\"bar\",\"x\":[\"Brazil\",\"Brazil\",\"Brazil\",\"Brazil\",\"Brazil\",\"Brazil\"],\"xaxis\":\"x\",\"y\":[265.128557628,44.0724333613054,8.056124267,213.0,0.0,0.0],\"yaxis\":\"y\"},{\"alignmentgroup\":\"True\",\"hovertemplate\":\"Pa\\u00edses=%{x}<br>Year=1994<br>CO2_emission=%{y}<extra></extra>\",\"ids\":[\"China\",\"China\",\"China\",\"China\",\"China\",\"China\"],\"legendgroup\":\"China\",\"marker\":{\"color\":\"#EF553B\",\"pattern\":{\"shape\":\"\"}},\"name\":\"China\",\"offsetgroup\":\"China\",\"orientation\":\"v\",\"showlegend\":true,\"textposition\":\"auto\",\"type\":\"bar\",\"x\":[\"China\",\"China\",\"China\",\"China\",\"China\",\"China\"],\"xaxis\":\"x\",\"y\":[2730.930852358,2271.895935878186,33.03491648,426.0,0.0,0.0],\"yaxis\":\"y\"},{\"alignmentgroup\":\"True\",\"hovertemplate\":\"Pa\\u00edses=%{x}<br>Year=1994<br>CO2_emission=%{y}<extra></extra>\",\"ids\":[\"Russia\",\"Russia\",\"Russia\",\"Russia\",\"Russia\",\"Russia\"],\"legendgroup\":\"Russia\",\"marker\":{\"color\":\"#00CC96\",\"pattern\":{\"shape\":\"\"}},\"name\":\"Russia\",\"offsetgroup\":\"Russia\",\"orientation\":\"v\",\"showlegend\":true,\"textposition\":\"auto\",\"type\":\"bar\",\"x\":[\"Russia\",\"Russia\",\"Russia\",\"Russia\",\"Russia\",\"Russia\"],\"xaxis\":\"x\",\"y\":[2028.935993717,617.3515538739091,865.584439843,546.0,0.0,0.0],\"yaxis\":\"y\"},{\"alignmentgroup\":\"True\",\"hovertemplate\":\"Pa\\u00edses=%{x}<br>Year=1994<br>CO2_emission=%{y}<extra></extra>\",\"ids\":[\"United States\",\"United States\",\"United States\",\"United States\",\"United States\",\"United States\"],\"legendgroup\":\"United States\",\"marker\":{\"color\":\"#ABC3FA\",\"pattern\":{\"shape\":\"\"}},\"name\":\"United States\",\"offsetgroup\":\"United States\",\"orientation\":\"v\",\"showlegend\":true,\"textposition\":\"auto\",\"type\":\"bar\",\"x\":[\"United States\",\"United States\",\"United States\",\"United States\",\"United States\",\"United States\"],\"xaxis\":\"x\",\"y\":[5185.520158,1881.678193,1110.705363,2193.136602,0.0,0.0],\"yaxis\":\"y\"}],\"name\":\"1994\"},{\"data\":[{\"alignmentgroup\":\"True\",\"hovertemplate\":\"Pa\\u00edses=%{x}<br>Year=1995<br>CO2_emission=%{y}<extra></extra>\",\"ids\":[\"Brazil\",\"Brazil\",\"Brazil\",\"Brazil\",\"Brazil\",\"Brazil\"],\"legendgroup\":\"Brazil\",\"marker\":{\"color\":\"#AB63FA\",\"pattern\":{\"shape\":\"\"}},\"name\":\"Brazil\",\"offsetgroup\":\"Brazil\",\"orientation\":\"v\",\"showlegend\":true,\"textposition\":\"auto\",\"type\":\"bar\",\"x\":[\"Brazil\",\"Brazil\",\"Brazil\",\"Brazil\",\"Brazil\",\"Brazil\"],\"xaxis\":\"x\",\"y\":[279.392176316,45.99394266305279,8.398233653,225.0,0.0,0.0],\"yaxis\":\"y\"},{\"alignmentgroup\":\"True\",\"hovertemplate\":\"Pa\\u00edses=%{x}<br>Year=1995<br>CO2_emission=%{y}<extra></extra>\",\"ids\":[\"China\",\"China\",\"China\",\"China\",\"China\",\"China\"],\"legendgroup\":\"China\",\"marker\":{\"color\":\"#EF553B\",\"pattern\":{\"shape\":\"\"}},\"name\":\"China\",\"offsetgroup\":\"China\",\"orientation\":\"v\",\"showlegend\":true,\"textposition\":\"auto\",\"type\":\"bar\",\"x\":[\"China\",\"China\",\"China\",\"China\",\"China\",\"China\"],\"xaxis\":\"x\",\"y\":[2916.39147434,2437.5864465518284,34.805027788,444.0,0.0,0.0],\"yaxis\":\"y\"},{\"alignmentgroup\":\"True\",\"hovertemplate\":\"Pa\\u00edses=%{x}<br>Year=1995<br>CO2_emission=%{y}<extra></extra>\",\"ids\":[\"Russia\",\"Russia\",\"Russia\",\"Russia\",\"Russia\",\"Russia\"],\"legendgroup\":\"Russia\",\"marker\":{\"color\":\"#00CC96\",\"pattern\":{\"shape\":\"\"}},\"name\":\"Russia\",\"offsetgroup\":\"Russia\",\"orientation\":\"v\",\"showlegend\":true,\"textposition\":\"auto\",\"type\":\"bar\",\"x\":[\"Russia\",\"Russia\",\"Russia\",\"Russia\",\"Russia\",\"Russia\"],\"xaxis\":\"x\",\"y\":[1840.4068117,568.7610963560936,813.645715344,458.0,0.0,0.0],\"yaxis\":\"y\"},{\"alignmentgroup\":\"True\",\"hovertemplate\":\"Pa\\u00edses=%{x}<br>Year=1995<br>CO2_emission=%{y}<extra></extra>\",\"ids\":[\"United States\",\"United States\",\"United States\",\"United States\",\"United States\",\"United States\"],\"legendgroup\":\"United States\",\"marker\":{\"color\":\"#ABC3FA\",\"pattern\":{\"shape\":\"\"}},\"name\":\"United States\",\"offsetgroup\":\"United States\",\"orientation\":\"v\",\"showlegend\":true,\"textposition\":\"auto\",\"type\":\"bar\",\"x\":[\"United States\",\"United States\",\"United States\",\"United States\",\"United States\",\"United States\"],\"xaxis\":\"x\",\"y\":[5262.663333,1892.224707,1136.048048,2234.390578,0.0,0.0],\"yaxis\":\"y\"}],\"name\":\"1995\"},{\"data\":[{\"alignmentgroup\":\"True\",\"hovertemplate\":\"Pa\\u00edses=%{x}<br>Year=1996<br>CO2_emission=%{y}<extra></extra>\",\"ids\":[\"Brazil\",\"Brazil\",\"Brazil\",\"Brazil\",\"Brazil\",\"Brazil\"],\"legendgroup\":\"Brazil\",\"marker\":{\"color\":\"#AB63FA\",\"pattern\":{\"shape\":\"\"}},\"name\":\"Brazil\",\"offsetgroup\":\"Brazil\",\"orientation\":\"v\",\"showlegend\":true,\"textposition\":\"auto\",\"type\":\"bar\",\"x\":[\"Brazil\",\"Brazil\",\"Brazil\",\"Brazil\",\"Brazil\",\"Brazil\"],\"xaxis\":\"x\",\"y\":[299.819187827,48.03083911501924,8.788348712,243.0,0.0,0.0],\"yaxis\":\"y\"},{\"alignmentgroup\":\"True\",\"hovertemplate\":\"Pa\\u00edses=%{x}<br>Year=1996<br>CO2_emission=%{y}<extra></extra>\",\"ids\":[\"China\",\"China\",\"China\",\"China\",\"China\",\"China\"],\"legendgroup\":\"China\",\"marker\":{\"color\":\"#EF553B\",\"pattern\":{\"shape\":\"\"}},\"name\":\"China\",\"offsetgroup\":\"China\",\"orientation\":\"v\",\"showlegend\":true,\"textposition\":\"auto\",\"type\":\"bar\",\"x\":[\"China\",\"China\",\"China\",\"China\",\"China\",\"China\"],\"xaxis\":\"x\",\"y\":[3140.322857361,2628.47108781784,35.851769543,476.0,0.0,0.0],\"yaxis\":\"y\"},{\"alignmentgroup\":\"True\",\"hovertemplate\":\"Pa\\u00edses=%{x}<br>Year=1996<br>CO2_emission=%{y}<extra></extra>\",\"ids\":[\"Russia\",\"Russia\",\"Russia\",\"Russia\",\"Russia\",\"Russia\"],\"legendgroup\":\"Russia\",\"marker\":{\"color\":\"#00CC96\",\"pattern\":{\"shape\":\"\"}},\"name\":\"Russia\",\"offsetgroup\":\"Russia\",\"orientation\":\"v\",\"showlegend\":true,\"textposition\":\"auto\",\"type\":\"bar\",\"x\":[\"Russia\",\"Russia\",\"Russia\",\"Russia\",\"Russia\",\"Russia\"],\"xaxis\":\"x\",\"y\":[1768.539364985,563.8976504109914,776.641714574,428.0,0.0,0.0],\"yaxis\":\"y\"},{\"alignmentgroup\":\"True\",\"hovertemplate\":\"Pa\\u00edses=%{x}<br>Year=1996<br>CO2_emission=%{y}<extra></extra>\",\"ids\":[\"United States\",\"United States\",\"United States\",\"United States\",\"United States\",\"United States\"],\"legendgroup\":\"United States\",\"marker\":{\"color\":\"#ABC3FA\",\"pattern\":{\"shape\":\"\"}},\"name\":\"United States\",\"offsetgroup\":\"United States\",\"orientation\":\"v\",\"showlegend\":true,\"textposition\":\"auto\",\"type\":\"bar\",\"x\":[\"United States\",\"United States\",\"United States\",\"United States\",\"United States\",\"United States\"],\"xaxis\":\"x\",\"y\":[5324.311399,1912.142841,1185.442673,2226.725885,0.0,0.0],\"yaxis\":\"y\"}],\"name\":\"1996\"},{\"data\":[{\"alignmentgroup\":\"True\",\"hovertemplate\":\"Pa\\u00edses=%{x}<br>Year=1997<br>CO2_emission=%{y}<extra></extra>\",\"ids\":[\"Brazil\",\"Brazil\",\"Brazil\",\"Brazil\",\"Brazil\",\"Brazil\"],\"legendgroup\":\"Brazil\",\"marker\":{\"color\":\"#AB63FA\",\"pattern\":{\"shape\":\"\"}},\"name\":\"Brazil\",\"offsetgroup\":\"Brazil\",\"orientation\":\"v\",\"showlegend\":true,\"textposition\":\"auto\",\"type\":\"bar\",\"x\":[\"Brazil\",\"Brazil\",\"Brazil\",\"Brazil\",\"Brazil\",\"Brazil\"],\"xaxis\":\"x\",\"y\":[316.633890261,49.79323790605399,9.840652355,257.0,0.0,0.0],\"yaxis\":\"y\"},{\"alignmentgroup\":\"True\",\"hovertemplate\":\"Pa\\u00edses=%{x}<br>Year=1997<br>CO2_emission=%{y}<extra></extra>\",\"ids\":[\"China\",\"China\",\"China\",\"China\",\"China\",\"China\"],\"legendgroup\":\"China\",\"marker\":{\"color\":\"#EF553B\",\"pattern\":{\"shape\":\"\"}},\"name\":\"China\",\"offsetgroup\":\"China\",\"orientation\":\"v\",\"showlegend\":true,\"textposition\":\"auto\",\"type\":\"bar\",\"x\":[\"China\",\"China\",\"China\",\"China\",\"China\",\"China\"],\"xaxis\":\"x\",\"y\":[3240.418927252,2718.59076803749,39.828159215,482.0,0.0,0.0],\"yaxis\":\"y\"},{\"alignmentgroup\":\"True\",\"hovertemplate\":\"Pa\\u00edses=%{x}<br>Year=1997<br>CO2_emission=%{y}<extra></extra>\",\"ids\":[\"Russia\",\"Russia\",\"Russia\",\"Russia\",\"Russia\",\"Russia\"],\"legendgroup\":\"Russia\",\"marker\":{\"color\":\"#00CC96\",\"pattern\":{\"shape\":\"\"}},\"name\":\"Russia\",\"offsetgroup\":\"Russia\",\"orientation\":\"v\",\"showlegend\":true,\"textposition\":\"auto\",\"type\":\"bar\",\"x\":[\"Russia\",\"Russia\",\"Russia\",\"Russia\",\"Russia\",\"Russia\"],\"xaxis\":\"x\",\"y\":[1630.789539111,550.2616408845963,700.527898226,380.0,0.0,0.0],\"yaxis\":\"y\"},{\"alignmentgroup\":\"True\",\"hovertemplate\":\"Pa\\u00edses=%{x}<br>Year=1997<br>CO2_emission=%{y}<extra></extra>\",\"ids\":[\"United States\",\"United States\",\"United States\",\"United States\",\"United States\",\"United States\"],\"legendgroup\":\"United States\",\"marker\":{\"color\":\"#ABC3FA\",\"pattern\":{\"shape\":\"\"}},\"name\":\"United States\",\"offsetgroup\":\"United States\",\"orientation\":\"v\",\"showlegend\":true,\"textposition\":\"auto\",\"type\":\"bar\",\"x\":[\"United States\",\"United States\",\"United States\",\"United States\",\"United States\",\"United States\"],\"xaxis\":\"x\",\"y\":[5518.030044,1994.532207,1206.743953,2316.753884,0.0,0.0],\"yaxis\":\"y\"}],\"name\":\"1997\"},{\"data\":[{\"alignmentgroup\":\"True\",\"hovertemplate\":\"Pa\\u00edses=%{x}<br>Year=1998<br>CO2_emission=%{y}<extra></extra>\",\"ids\":[\"Brazil\",\"Brazil\",\"Brazil\",\"Brazil\",\"Brazil\",\"Brazil\"],\"legendgroup\":\"Brazil\",\"marker\":{\"color\":\"#AB63FA\",\"pattern\":{\"shape\":\"\"}},\"name\":\"Brazil\",\"offsetgroup\":\"Brazil\",\"orientation\":\"v\",\"showlegend\":true,\"textposition\":\"auto\",\"type\":\"bar\",\"x\":[\"Brazil\",\"Brazil\",\"Brazil\",\"Brazil\",\"Brazil\",\"Brazil\"],\"xaxis\":\"x\",\"y\":[333.150113347,49.39359829792672,10.756515049,273.0,0.0,0.0],\"yaxis\":\"y\"},{\"alignmentgroup\":\"True\",\"hovertemplate\":\"Pa\\u00edses=%{x}<br>Year=1998<br>CO2_emission=%{y}<extra></extra>\",\"ids\":[\"China\",\"China\",\"China\",\"China\",\"China\",\"China\"],\"legendgroup\":\"China\",\"marker\":{\"color\":\"#EF553B\",\"pattern\":{\"shape\":\"\"}},\"name\":\"China\",\"offsetgroup\":\"China\",\"orientation\":\"v\",\"showlegend\":true,\"textposition\":\"auto\",\"type\":\"bar\",\"x\":[\"China\",\"China\",\"China\",\"China\",\"China\",\"China\"],\"xaxis\":\"x\",\"y\":[3143.568283036,2561.5766014158307,42.99168162,539.0,0.0,0.0],\"yaxis\":\"y\"},{\"alignmentgroup\":\"True\",\"hovertemplate\":\"Pa\\u00edses=%{x}<br>Year=1998<br>CO2_emission=%{y}<extra></extra>\",\"ids\":[\"Russia\",\"Russia\",\"Russia\",\"Russia\",\"Russia\",\"Russia\"],\"legendgroup\":\"Russia\",\"marker\":{\"color\":\"#00CC96\",\"pattern\":{\"shape\":\"\"}},\"name\":\"Russia\",\"offsetgroup\":\"Russia\",\"orientation\":\"v\",\"showlegend\":true,\"textposition\":\"auto\",\"type\":\"bar\",\"x\":[\"Russia\",\"Russia\",\"Russia\",\"Russia\",\"Russia\",\"Russia\"],\"xaxis\":\"x\",\"y\":[1533.455661051,504.0683329427464,658.387328108,371.0,0.0,0.0],\"yaxis\":\"y\"},{\"alignmentgroup\":\"True\",\"hovertemplate\":\"Pa\\u00edses=%{x}<br>Year=1998<br>CO2_emission=%{y}<extra></extra>\",\"ids\":[\"United States\",\"United States\",\"United States\",\"United States\",\"United States\",\"United States\"],\"legendgroup\":\"United States\",\"marker\":{\"color\":\"#ABC3FA\",\"pattern\":{\"shape\":\"\"}},\"name\":\"United States\",\"offsetgroup\":\"United States\",\"orientation\":\"v\",\"showlegend\":true,\"textposition\":\"auto\",\"type\":\"bar\",\"x\":[\"United States\",\"United States\",\"United States\",\"United States\",\"United States\",\"United States\"],\"xaxis\":\"x\",\"y\":[5589.322021,2038.849018,1213.776148,2336.696855,0.0,0.0],\"yaxis\":\"y\"}],\"name\":\"1998\"},{\"data\":[{\"alignmentgroup\":\"True\",\"hovertemplate\":\"Pa\\u00edses=%{x}<br>Year=1999<br>CO2_emission=%{y}<extra></extra>\",\"ids\":[\"Brazil\",\"Brazil\",\"Brazil\",\"Brazil\",\"Brazil\",\"Brazil\"],\"legendgroup\":\"Brazil\",\"marker\":{\"color\":\"#AB63FA\",\"pattern\":{\"shape\":\"\"}},\"name\":\"Brazil\",\"offsetgroup\":\"Brazil\",\"orientation\":\"v\",\"showlegend\":true,\"textposition\":\"auto\",\"type\":\"bar\",\"x\":[\"Brazil\",\"Brazil\",\"Brazil\",\"Brazil\",\"Brazil\",\"Brazil\"],\"xaxis\":\"x\",\"y\":[329.492351347,47.19021596855013,11.302135378,271.0,0.0,0.0],\"yaxis\":\"y\"},{\"alignmentgroup\":\"True\",\"hovertemplate\":\"Pa\\u00edses=%{x}<br>Year=1999<br>CO2_emission=%{y}<extra></extra>\",\"ids\":[\"China\",\"China\",\"China\",\"China\",\"China\",\"China\"],\"legendgroup\":\"China\",\"marker\":{\"color\":\"#EF553B\",\"pattern\":{\"shape\":\"\"}},\"name\":\"China\",\"offsetgroup\":\"China\",\"orientation\":\"v\",\"showlegend\":true,\"textposition\":\"auto\",\"type\":\"bar\",\"x\":[\"China\",\"China\",\"China\",\"China\",\"China\",\"China\"],\"xaxis\":\"x\",\"y\":[3132.091526409,2551.4113990737337,44.680127335,536.0,0.0,0.0],\"yaxis\":\"y\"},{\"alignmentgroup\":\"True\",\"hovertemplate\":\"Pa\\u00edses=%{x}<br>Year=1999<br>CO2_emission=%{y}<extra></extra>\",\"ids\":[\"Russia\",\"Russia\",\"Russia\",\"Russia\",\"Russia\",\"Russia\"],\"legendgroup\":\"Russia\",\"marker\":{\"color\":\"#00CC96\",\"pattern\":{\"shape\":\"\"}},\"name\":\"Russia\",\"offsetgroup\":\"Russia\",\"orientation\":\"v\",\"showlegend\":true,\"textposition\":\"auto\",\"type\":\"bar\",\"x\":[\"Russia\",\"Russia\",\"Russia\",\"Russia\",\"Russia\",\"Russia\"],\"xaxis\":\"x\",\"y\":[1518.144419773,478.4226580245153,674.721761748,365.0,0.0,0.0],\"yaxis\":\"y\"},{\"alignmentgroup\":\"True\",\"hovertemplate\":\"Pa\\u00edses=%{x}<br>Year=1999<br>CO2_emission=%{y}<extra></extra>\",\"ids\":[\"United States\",\"United States\",\"United States\",\"United States\",\"United States\",\"United States\"],\"legendgroup\":\"United States\",\"marker\":{\"color\":\"#ABC3FA\",\"pattern\":{\"shape\":\"\"}},\"name\":\"United States\",\"offsetgroup\":\"United States\",\"orientation\":\"v\",\"showlegend\":true,\"textposition\":\"auto\",\"type\":\"bar\",\"x\":[\"United States\",\"United States\",\"United States\",\"United States\",\"United States\",\"United States\"],\"xaxis\":\"x\",\"y\":[5636.733477,2063.632658,1191.31701,2381.783809,0.0,0.0],\"yaxis\":\"y\"}],\"name\":\"1999\"},{\"data\":[{\"alignmentgroup\":\"True\",\"hovertemplate\":\"Pa\\u00edses=%{x}<br>Year=2000<br>CO2_emission=%{y}<extra></extra>\",\"ids\":[\"Brazil\",\"Brazil\",\"Brazil\",\"Brazil\",\"Brazil\",\"Brazil\"],\"legendgroup\":\"Brazil\",\"marker\":{\"color\":\"#AB63FA\",\"pattern\":{\"shape\":\"\"}},\"name\":\"Brazil\",\"offsetgroup\":\"Brazil\",\"orientation\":\"v\",\"showlegend\":true,\"textposition\":\"auto\",\"type\":\"bar\",\"x\":[\"Brazil\",\"Brazil\",\"Brazil\",\"Brazil\",\"Brazil\",\"Brazil\"],\"xaxis\":\"x\",\"y\":[341.813329688,49.06919772661951,12.744131961,280.0,0.0,0.0],\"yaxis\":\"y\"},{\"alignmentgroup\":\"True\",\"hovertemplate\":\"Pa\\u00edses=%{x}<br>Year=2000<br>CO2_emission=%{y}<extra></extra>\",\"ids\":[\"China\",\"China\",\"China\",\"China\",\"China\",\"China\"],\"legendgroup\":\"China\",\"marker\":{\"color\":\"#EF553B\",\"pattern\":{\"shape\":\"\"}},\"name\":\"China\",\"offsetgroup\":\"China\",\"orientation\":\"v\",\"showlegend\":true,\"textposition\":\"auto\",\"type\":\"bar\",\"x\":[\"China\",\"China\",\"China\",\"China\",\"China\",\"China\"],\"xaxis\":\"x\",\"y\":[3248.272869507,2628.038406092094,48.234463415,572.0,0.0,0.0],\"yaxis\":\"y\"},{\"alignmentgroup\":\"True\",\"hovertemplate\":\"Pa\\u00edses=%{x}<br>Year=2000<br>CO2_emission=%{y}<extra></extra>\",\"ids\":[\"Russia\",\"Russia\",\"Russia\",\"Russia\",\"Russia\",\"Russia\"],\"legendgroup\":\"Russia\",\"marker\":{\"color\":\"#00CC96\",\"pattern\":{\"shape\":\"\"}},\"name\":\"Russia\",\"offsetgroup\":\"Russia\",\"orientation\":\"v\",\"showlegend\":true,\"textposition\":\"auto\",\"type\":\"bar\",\"x\":[\"Russia\",\"Russia\",\"Russia\",\"Russia\",\"Russia\",\"Russia\"],\"xaxis\":\"x\",\"y\":[1516.718673417,478.1312473390037,673.587426078,365.0,0.0,0.0],\"yaxis\":\"y\"},{\"alignmentgroup\":\"True\",\"hovertemplate\":\"Pa\\u00edses=%{x}<br>Year=2000<br>CO2_emission=%{y}<extra></extra>\",\"ids\":[\"United States\",\"United States\",\"United States\",\"United States\",\"United States\",\"United States\"],\"legendgroup\":\"United States\",\"marker\":{\"color\":\"#ABC3FA\",\"pattern\":{\"shape\":\"\"}},\"name\":\"United States\",\"offsetgroup\":\"United States\",\"orientation\":\"v\",\"showlegend\":true,\"textposition\":\"auto\",\"type\":\"bar\",\"x\":[\"United States\",\"United States\",\"United States\",\"United States\",\"United States\",\"United States\"],\"xaxis\":\"x\",\"y\":[5700.252865,2061.622698,1196.935249,2441.694918,0.0,0.0],\"yaxis\":\"y\"}],\"name\":\"2000\"},{\"data\":[{\"alignmentgroup\":\"True\",\"hovertemplate\":\"Pa\\u00edses=%{x}<br>Year=2001<br>CO2_emission=%{y}<extra></extra>\",\"ids\":[\"Brazil\",\"Brazil\",\"Brazil\",\"Brazil\",\"Brazil\",\"Brazil\"],\"legendgroup\":\"Brazil\",\"marker\":{\"color\":\"#AB63FA\",\"pattern\":{\"shape\":\"\"}},\"name\":\"Brazil\",\"offsetgroup\":\"Brazil\",\"orientation\":\"v\",\"showlegend\":true,\"textposition\":\"auto\",\"type\":\"bar\",\"x\":[\"Brazil\",\"Brazil\",\"Brazil\",\"Brazil\",\"Brazil\",\"Brazil\"],\"xaxis\":\"x\",\"y\":[326.632456149,53.00828318774173,18.395199649,255.2289733123763,0.0,0.0],\"yaxis\":\"y\"},{\"alignmentgroup\":\"True\",\"hovertemplate\":\"Pa\\u00edses=%{x}<br>Year=2001<br>CO2_emission=%{y}<extra></extra>\",\"ids\":[\"China\",\"China\",\"China\",\"China\",\"China\",\"China\"],\"legendgroup\":\"China\",\"marker\":{\"color\":\"#EF553B\",\"pattern\":{\"shape\":\"\"}},\"name\":\"China\",\"offsetgroup\":\"China\",\"orientation\":\"v\",\"showlegend\":true,\"textposition\":\"auto\",\"type\":\"bar\",\"x\":[\"China\",\"China\",\"China\",\"China\",\"China\",\"China\"],\"xaxis\":\"x\",\"y\":[3482.708683778,2789.6775480820984,50.031135696,643.0,0.0,0.0],\"yaxis\":\"y\"},{\"alignmentgroup\":\"True\",\"hovertemplate\":\"Pa\\u00edses=%{x}<br>Year=2001<br>CO2_emission=%{y}<extra></extra>\",\"ids\":[\"Russia\",\"Russia\",\"Russia\",\"Russia\",\"Russia\",\"Russia\"],\"legendgroup\":\"Russia\",\"marker\":{\"color\":\"#00CC96\",\"pattern\":{\"shape\":\"\"}},\"name\":\"Russia\",\"offsetgroup\":\"Russia\",\"orientation\":\"v\",\"showlegend\":true,\"textposition\":\"auto\",\"type\":\"bar\",\"x\":[\"Russia\",\"Russia\",\"Russia\",\"Russia\",\"Russia\",\"Russia\"],\"xaxis\":\"x\",\"y\":[1540.33430484,496.2432317945671,699.091073045,345.0,0.0,0.0],\"yaxis\":\"y\"},{\"alignmentgroup\":\"True\",\"hovertemplate\":\"Pa\\u00edses=%{x}<br>Year=2001<br>CO2_emission=%{y}<extra></extra>\",\"ids\":[\"United States\",\"United States\",\"United States\",\"United States\",\"United States\",\"United States\"],\"legendgroup\":\"United States\",\"marker\":{\"color\":\"#ABC3FA\",\"pattern\":{\"shape\":\"\"}},\"name\":\"United States\",\"offsetgroup\":\"United States\",\"orientation\":\"v\",\"showlegend\":true,\"textposition\":\"auto\",\"type\":\"bar\",\"x\":[\"United States\",\"United States\",\"United States\",\"United States\",\"United States\",\"United States\"],\"xaxis\":\"x\",\"y\":[5888.592478,2154.743112,1246.049927,2487.799439,0.0,0.0],\"yaxis\":\"y\"}],\"name\":\"2001\"},{\"data\":[{\"alignmentgroup\":\"True\",\"hovertemplate\":\"Pa\\u00edses=%{x}<br>Year=2002<br>CO2_emission=%{y}<extra></extra>\",\"ids\":[\"Brazil\",\"Brazil\",\"Brazil\",\"Brazil\",\"Brazil\",\"Brazil\"],\"legendgroup\":\"Brazil\",\"marker\":{\"color\":\"#AB63FA\",\"pattern\":{\"shape\":\"\"}},\"name\":\"Brazil\",\"offsetgroup\":\"Brazil\",\"orientation\":\"v\",\"showlegend\":true,\"textposition\":\"auto\",\"type\":\"bar\",\"x\":[\"Brazil\",\"Brazil\",\"Brazil\",\"Brazil\",\"Brazil\",\"Brazil\"],\"xaxis\":\"x\",\"y\":[331.635044954,52.69962853343455,21.863786024,257.0716303969585,0.0,0.0],\"yaxis\":\"y\"},{\"alignmentgroup\":\"True\",\"hovertemplate\":\"Pa\\u00edses=%{x}<br>Year=2002<br>CO2_emission=%{y}<extra></extra>\",\"ids\":[\"China\",\"China\",\"China\",\"China\",\"China\",\"China\"],\"legendgroup\":\"China\",\"marker\":{\"color\":\"#EF553B\",\"pattern\":{\"shape\":\"\"}},\"name\":\"China\",\"offsetgroup\":\"China\",\"orientation\":\"v\",\"showlegend\":true,\"textposition\":\"auto\",\"type\":\"bar\",\"x\":[\"China\",\"China\",\"China\",\"China\",\"China\",\"China\"],\"xaxis\":\"x\",\"y\":[3615.319298673,2903.3036075161144,54.015691157,658.0,0.0,0.0],\"yaxis\":\"y\"},{\"alignmentgroup\":\"True\",\"hovertemplate\":\"Pa\\u00edses=%{x}<br>Year=2002<br>CO2_emission=%{y}<extra></extra>\",\"ids\":[\"Russia\",\"Russia\",\"Russia\",\"Russia\",\"Russia\",\"Russia\"],\"legendgroup\":\"Russia\",\"marker\":{\"color\":\"#00CC96\",\"pattern\":{\"shape\":\"\"}},\"name\":\"Russia\",\"offsetgroup\":\"Russia\",\"orientation\":\"v\",\"showlegend\":true,\"textposition\":\"auto\",\"type\":\"bar\",\"x\":[\"Russia\",\"Russia\",\"Russia\",\"Russia\",\"Russia\",\"Russia\"],\"xaxis\":\"x\",\"y\":[1535.638066077,496.75202104102095,690.886045036,348.0,0.0,0.0],\"yaxis\":\"y\"},{\"alignmentgroup\":\"True\",\"hovertemplate\":\"Pa\\u00edses=%{x}<br>Year=2002<br>CO2_emission=%{y}<extra></extra>\",\"ids\":[\"United States\",\"United States\",\"United States\",\"United States\",\"United States\",\"United States\"],\"legendgroup\":\"United States\",\"marker\":{\"color\":\"#ABC3FA\",\"pattern\":{\"shape\":\"\"}},\"name\":\"United States\",\"offsetgroup\":\"United States\",\"orientation\":\"v\",\"showlegend\":true,\"textposition\":\"auto\",\"type\":\"bar\",\"x\":[\"United States\",\"United States\",\"United States\",\"United States\",\"United States\",\"United States\"],\"xaxis\":\"x\",\"y\":[5777.788286,2087.256256,1191.759702,2498.772328,0.0,0.0],\"yaxis\":\"y\"}],\"name\":\"2002\"},{\"data\":[{\"alignmentgroup\":\"True\",\"hovertemplate\":\"Pa\\u00edses=%{x}<br>Year=2003<br>CO2_emission=%{y}<extra></extra>\",\"ids\":[\"Brazil\",\"Brazil\",\"Brazil\",\"Brazil\",\"Brazil\",\"Brazil\"],\"legendgroup\":\"Brazil\",\"marker\":{\"color\":\"#AB63FA\",\"pattern\":{\"shape\":\"\"}},\"name\":\"Brazil\",\"offsetgroup\":\"Brazil\",\"orientation\":\"v\",\"showlegend\":true,\"textposition\":\"auto\",\"type\":\"bar\",\"x\":[\"Brazil\",\"Brazil\",\"Brazil\",\"Brazil\",\"Brazil\",\"Brazil\"],\"xaxis\":\"x\",\"y\":[328.257054614,49.79243620555058,26.092343571,252.37227483737345,0.0,0.0],\"yaxis\":\"y\"},{\"alignmentgroup\":\"True\",\"hovertemplate\":\"Pa\\u00edses=%{x}<br>Year=2003<br>CO2_emission=%{y}<extra></extra>\",\"ids\":[\"China\",\"China\",\"China\",\"China\",\"China\",\"China\"],\"legendgroup\":\"China\",\"marker\":{\"color\":\"#EF553B\",\"pattern\":{\"shape\":\"\"}},\"name\":\"China\",\"offsetgroup\":\"China\",\"orientation\":\"v\",\"showlegend\":true,\"textposition\":\"auto\",\"type\":\"bar\",\"x\":[\"China\",\"China\",\"China\",\"China\",\"China\",\"China\"],\"xaxis\":\"x\",\"y\":[3857.315271143,3105.4730791449088,58.842191998,693.0,0.0,0.0],\"yaxis\":\"y\"},{\"alignmentgroup\":\"True\",\"hovertemplate\":\"Pa\\u00edses=%{x}<br>Year=2003<br>CO2_emission=%{y}<extra></extra>\",\"ids\":[\"Russia\",\"Russia\",\"Russia\",\"Russia\",\"Russia\",\"Russia\"],\"legendgroup\":\"Russia\",\"marker\":{\"color\":\"#00CC96\",\"pattern\":{\"shape\":\"\"}},\"name\":\"Russia\",\"offsetgroup\":\"Russia\",\"orientation\":\"v\",\"showlegend\":true,\"textposition\":\"auto\",\"type\":\"bar\",\"x\":[\"Russia\",\"Russia\",\"Russia\",\"Russia\",\"Russia\",\"Russia\"],\"xaxis\":\"x\",\"y\":[1542.950629827,476.8056510669457,726.14497876,340.0,0.0,0.0],\"yaxis\":\"y\"},{\"alignmentgroup\":\"True\",\"hovertemplate\":\"Pa\\u00edses=%{x}<br>Year=2003<br>CO2_emission=%{y}<extra></extra>\",\"ids\":[\"United States\",\"United States\",\"United States\",\"United States\",\"United States\",\"United States\"],\"legendgroup\":\"United States\",\"marker\":{\"color\":\"#ABC3FA\",\"pattern\":{\"shape\":\"\"}},\"name\":\"United States\",\"offsetgroup\":\"United States\",\"orientation\":\"v\",\"showlegend\":true,\"textposition\":\"auto\",\"type\":\"bar\",\"x\":[\"United States\",\"United States\",\"United States\",\"United States\",\"United States\",\"United States\"],\"xaxis\":\"x\",\"y\":[5820.025298,2092.877119,1231.52727,2495.620909,0.0,0.0],\"yaxis\":\"y\"}],\"name\":\"2003\"},{\"data\":[{\"alignmentgroup\":\"True\",\"hovertemplate\":\"Pa\\u00edses=%{x}<br>Year=2004<br>CO2_emission=%{y}<extra></extra>\",\"ids\":[\"Brazil\",\"Brazil\",\"Brazil\",\"Brazil\",\"Brazil\",\"Brazil\"],\"legendgroup\":\"Brazil\",\"marker\":{\"color\":\"#AB63FA\",\"pattern\":{\"shape\":\"\"}},\"name\":\"Brazil\",\"offsetgroup\":\"Brazil\",\"orientation\":\"v\",\"showlegend\":true,\"textposition\":\"auto\",\"type\":\"bar\",\"x\":[\"Brazil\",\"Brazil\",\"Brazil\",\"Brazil\",\"Brazil\",\"Brazil\"],\"xaxis\":\"x\",\"y\":[322.710828384,53.2124192887914,27.553826594,241.94458250155785,0.0,0.0],\"yaxis\":\"y\"},{\"alignmentgroup\":\"True\",\"hovertemplate\":\"Pa\\u00edses=%{x}<br>Year=2004<br>CO2_emission=%{y}<extra></extra>\",\"ids\":[\"China\",\"China\",\"China\",\"China\",\"China\",\"China\"],\"legendgroup\":\"China\",\"marker\":{\"color\":\"#EF553B\",\"pattern\":{\"shape\":\"\"}},\"name\":\"China\",\"offsetgroup\":\"China\",\"orientation\":\"v\",\"showlegend\":true,\"textposition\":\"auto\",\"type\":\"bar\",\"x\":[\"China\",\"China\",\"China\",\"China\",\"China\",\"China\"],\"xaxis\":\"x\",\"y\":[4469.340962115,3688.9444330151514,63.3965291,717.0,0.0,0.0],\"yaxis\":\"y\"},{\"alignmentgroup\":\"True\",\"hovertemplate\":\"Pa\\u00edses=%{x}<br>Year=2004<br>CO2_emission=%{y}<extra></extra>\",\"ids\":[\"Russia\",\"Russia\",\"Russia\",\"Russia\",\"Russia\",\"Russia\"],\"legendgroup\":\"Russia\",\"marker\":{\"color\":\"#00CC96\",\"pattern\":{\"shape\":\"\"}},\"name\":\"Russia\",\"offsetgroup\":\"Russia\",\"orientation\":\"v\",\"showlegend\":true,\"textposition\":\"auto\",\"type\":\"bar\",\"x\":[\"Russia\",\"Russia\",\"Russia\",\"Russia\",\"Russia\",\"Russia\"],\"xaxis\":\"x\",\"y\":[1578.930945402,479.5101238323783,760.42082157,339.0,0.0,0.0],\"yaxis\":\"y\"},{\"alignmentgroup\":\"True\",\"hovertemplate\":\"Pa\\u00edses=%{x}<br>Year=2004<br>CO2_emission=%{y}<extra></extra>\",\"ids\":[\"United States\",\"United States\",\"United States\",\"United States\",\"United States\",\"United States\"],\"legendgroup\":\"United States\",\"marker\":{\"color\":\"#ABC3FA\",\"pattern\":{\"shape\":\"\"}},\"name\":\"United States\",\"offsetgroup\":\"United States\",\"orientation\":\"v\",\"showlegend\":true,\"textposition\":\"auto\",\"type\":\"bar\",\"x\":[\"United States\",\"United States\",\"United States\",\"United States\",\"United States\",\"United States\"],\"xaxis\":\"x\",\"y\":[5886.416623,2133.921259,1195.380899,2557.114465,0.0,0.0],\"yaxis\":\"y\"}],\"name\":\"2004\"},{\"data\":[{\"alignmentgroup\":\"True\",\"hovertemplate\":\"Pa\\u00edses=%{x}<br>Year=2005<br>CO2_emission=%{y}<extra></extra>\",\"ids\":[\"Brazil\",\"Brazil\",\"Brazil\",\"Brazil\",\"Brazil\",\"Brazil\"],\"legendgroup\":\"Brazil\",\"marker\":{\"color\":\"#AB63FA\",\"pattern\":{\"shape\":\"\"}},\"name\":\"Brazil\",\"offsetgroup\":\"Brazil\",\"orientation\":\"v\",\"showlegend\":true,\"textposition\":\"auto\",\"type\":\"bar\",\"x\":[\"Brazil\",\"Brazil\",\"Brazil\",\"Brazil\",\"Brazil\",\"Brazil\"],\"xaxis\":\"x\",\"y\":[337.988532755,54.305478816384735,33.555650208,250.12740373014827,0.0,0.0],\"yaxis\":\"y\"},{\"alignmentgroup\":\"True\",\"hovertemplate\":\"Pa\\u00edses=%{x}<br>Year=2005<br>CO2_emission=%{y}<extra></extra>\",\"ids\":[\"China\",\"China\",\"China\",\"China\",\"China\",\"China\"],\"legendgroup\":\"China\",\"marker\":{\"color\":\"#EF553B\",\"pattern\":{\"shape\":\"\"}},\"name\":\"China\",\"offsetgroup\":\"China\",\"orientation\":\"v\",\"showlegend\":true,\"textposition\":\"auto\",\"type\":\"bar\",\"x\":[\"China\",\"China\",\"China\",\"China\",\"China\",\"China\"],\"xaxis\":\"x\",\"y\":[5397.860863322,4472.9942969292,74.866566393,850.0,0.0,0.0],\"yaxis\":\"y\"},{\"alignmentgroup\":\"True\",\"hovertemplate\":\"Pa\\u00edses=%{x}<br>Year=2005<br>CO2_emission=%{y}<extra></extra>\",\"ids\":[\"Russia\",\"Russia\",\"Russia\",\"Russia\",\"Russia\",\"Russia\"],\"legendgroup\":\"Russia\",\"marker\":{\"color\":\"#00CC96\",\"pattern\":{\"shape\":\"\"}},\"name\":\"Russia\",\"offsetgroup\":\"Russia\",\"orientation\":\"v\",\"showlegend\":true,\"textposition\":\"auto\",\"type\":\"bar\",\"x\":[\"Russia\",\"Russia\",\"Russia\",\"Russia\",\"Russia\",\"Russia\"],\"xaxis\":\"x\",\"y\":[1583.795963199,454.82012013094106,792.975843068,336.0,0.0,0.0],\"yaxis\":\"y\"},{\"alignmentgroup\":\"True\",\"hovertemplate\":\"Pa\\u00edses=%{x}<br>Year=2005<br>CO2_emission=%{y}<extra></extra>\",\"ids\":[\"United States\",\"United States\",\"United States\",\"United States\",\"United States\",\"United States\"],\"legendgroup\":\"United States\",\"marker\":{\"color\":\"#ABC3FA\",\"pattern\":{\"shape\":\"\"}},\"name\":\"United States\",\"offsetgroup\":\"United States\",\"orientation\":\"v\",\"showlegend\":true,\"textposition\":\"auto\",\"type\":\"bar\",\"x\":[\"United States\",\"United States\",\"United States\",\"United States\",\"United States\",\"United States\"],\"xaxis\":\"x\",\"y\":[5993.719256,2158.366082,1200.931081,2634.422093,0.0,0.0],\"yaxis\":\"y\"}],\"name\":\"2005\"},{\"data\":[{\"alignmentgroup\":\"True\",\"hovertemplate\":\"Pa\\u00edses=%{x}<br>Year=2006<br>CO2_emission=%{y}<extra></extra>\",\"ids\":[\"Brazil\",\"Brazil\",\"Brazil\",\"Brazil\",\"Brazil\",\"Brazil\"],\"legendgroup\":\"Brazil\",\"marker\":{\"color\":\"#AB63FA\",\"pattern\":{\"shape\":\"\"}},\"name\":\"Brazil\",\"offsetgroup\":\"Brazil\",\"orientation\":\"v\",\"showlegend\":true,\"textposition\":\"auto\",\"type\":\"bar\",\"x\":[\"Brazil\",\"Brazil\",\"Brazil\",\"Brazil\",\"Brazil\",\"Brazil\"],\"xaxis\":\"x\",\"y\":[342.001465182,52.337687211729765,36.891916158,252.7718618119324,0.0,0.0],\"yaxis\":\"y\"},{\"alignmentgroup\":\"True\",\"hovertemplate\":\"Pa\\u00edses=%{x}<br>Year=2006<br>CO2_emission=%{y}<extra></extra>\",\"ids\":[\"China\",\"China\",\"China\",\"China\",\"China\",\"China\"],\"legendgroup\":\"China\",\"marker\":{\"color\":\"#EF553B\",\"pattern\":{\"shape\":\"\"}},\"name\":\"China\",\"offsetgroup\":\"China\",\"orientation\":\"v\",\"showlegend\":true,\"textposition\":\"auto\",\"type\":\"bar\",\"x\":[\"China\",\"China\",\"China\",\"China\",\"China\",\"China\"],\"xaxis\":\"x\",\"y\":[6120.077564126,5139.34467795772,91.732886168,889.0,0.0,0.0],\"yaxis\":\"y\"},{\"alignmentgroup\":\"True\",\"hovertemplate\":\"Pa\\u00edses=%{x}<br>Year=2006<br>CO2_emission=%{y}<extra></extra>\",\"ids\":[\"Russia\",\"Russia\",\"Russia\",\"Russia\",\"Russia\",\"Russia\"],\"legendgroup\":\"Russia\",\"marker\":{\"color\":\"#00CC96\",\"pattern\":{\"shape\":\"\"}},\"name\":\"Russia\",\"offsetgroup\":\"Russia\",\"orientation\":\"v\",\"showlegend\":true,\"textposition\":\"auto\",\"type\":\"bar\",\"x\":[\"Russia\",\"Russia\",\"Russia\",\"Russia\",\"Russia\",\"Russia\"],\"xaxis\":\"x\",\"y\":[1570.506804534,454.4111237690753,780.095680765,336.0,0.0,0.0],\"yaxis\":\"y\"},{\"alignmentgroup\":\"True\",\"hovertemplate\":\"Pa\\u00edses=%{x}<br>Year=2006<br>CO2_emission=%{y}<extra></extra>\",\"ids\":[\"United States\",\"United States\",\"United States\",\"United States\",\"United States\",\"United States\"],\"legendgroup\":\"United States\",\"marker\":{\"color\":\"#ABC3FA\",\"pattern\":{\"shape\":\"\"}},\"name\":\"United States\",\"offsetgroup\":\"United States\",\"orientation\":\"v\",\"showlegend\":true,\"textposition\":\"auto\",\"type\":\"bar\",\"x\":[\"United States\",\"United States\",\"United States\",\"United States\",\"United States\",\"United States\"],\"xaxis\":\"x\",\"y\":[6006.994255,2180.146225,1182.46557,2644.38246,0.0,0.0],\"yaxis\":\"y\"}],\"name\":\"2006\"},{\"data\":[{\"alignmentgroup\":\"True\",\"hovertemplate\":\"Pa\\u00edses=%{x}<br>Year=2007<br>CO2_emission=%{y}<extra></extra>\",\"ids\":[\"Brazil\",\"Brazil\",\"Brazil\",\"Brazil\",\"Brazil\",\"Brazil\"],\"legendgroup\":\"Brazil\",\"marker\":{\"color\":\"#AB63FA\",\"pattern\":{\"shape\":\"\"}},\"name\":\"Brazil\",\"offsetgroup\":\"Brazil\",\"orientation\":\"v\",\"showlegend\":true,\"textposition\":\"auto\",\"type\":\"bar\",\"x\":[\"Brazil\",\"Brazil\",\"Brazil\",\"Brazil\",\"Brazil\",\"Brazil\"],\"xaxis\":\"x\",\"y\":[349.282669137,52.648305357632864,38.339046668,258.29531711126094,0.0,0.0],\"yaxis\":\"y\"},{\"alignmentgroup\":\"True\",\"hovertemplate\":\"Pa\\u00edses=%{x}<br>Year=2007<br>CO2_emission=%{y}<extra></extra>\",\"ids\":[\"China\",\"China\",\"China\",\"China\",\"China\",\"China\"],\"legendgroup\":\"China\",\"marker\":{\"color\":\"#EF553B\",\"pattern\":{\"shape\":\"\"}},\"name\":\"China\",\"offsetgroup\":\"China\",\"orientation\":\"v\",\"showlegend\":true,\"textposition\":\"auto\",\"type\":\"bar\",\"x\":[\"China\",\"China\",\"China\",\"China\",\"China\",\"China\"],\"xaxis\":\"x\",\"y\":[6750.666894778,5712.141004523539,110.525890254,928.0,0.0,0.0],\"yaxis\":\"y\"},{\"alignmentgroup\":\"True\",\"hovertemplate\":\"Pa\\u00edses=%{x}<br>Year=2007<br>CO2_emission=%{y}<extra></extra>\",\"ids\":[\"Russia\",\"Russia\",\"Russia\",\"Russia\",\"Russia\",\"Russia\"],\"legendgroup\":\"Russia\",\"marker\":{\"color\":\"#00CC96\",\"pattern\":{\"shape\":\"\"}},\"name\":\"Russia\",\"offsetgroup\":\"Russia\",\"orientation\":\"v\",\"showlegend\":true,\"textposition\":\"auto\",\"type\":\"bar\",\"x\":[\"Russia\",\"Russia\",\"Russia\",\"Russia\",\"Russia\",\"Russia\"],\"xaxis\":\"x\",\"y\":[1644.689839998,464.9571284449515,828.732711553,351.0,0.0,0.0],\"yaxis\":\"y\"},{\"alignmentgroup\":\"True\",\"hovertemplate\":\"Pa\\u00edses=%{x}<br>Year=2007<br>CO2_emission=%{y}<extra></extra>\",\"ids\":[\"United States\",\"United States\",\"United States\",\"United States\",\"United States\",\"United States\"],\"legendgroup\":\"United States\",\"marker\":{\"color\":\"#ABC3FA\",\"pattern\":{\"shape\":\"\"}},\"name\":\"United States\",\"offsetgroup\":\"United States\",\"orientation\":\"v\",\"showlegend\":true,\"textposition\":\"auto\",\"type\":\"bar\",\"x\":[\"United States\",\"United States\",\"United States\",\"United States\",\"United States\",\"United States\"],\"xaxis\":\"x\",\"y\":[5929.329204,2146.008621,1169.696029,2613.624554,0.0,0.0],\"yaxis\":\"y\"}],\"name\":\"2007\"},{\"data\":[{\"alignmentgroup\":\"True\",\"hovertemplate\":\"Pa\\u00edses=%{x}<br>Year=2008<br>CO2_emission=%{y}<extra></extra>\",\"ids\":[\"Brazil\",\"Brazil\",\"Brazil\",\"Brazil\",\"Brazil\",\"Brazil\"],\"legendgroup\":\"Brazil\",\"marker\":{\"color\":\"#AB63FA\",\"pattern\":{\"shape\":\"\"}},\"name\":\"Brazil\",\"offsetgroup\":\"Brazil\",\"orientation\":\"v\",\"showlegend\":true,\"textposition\":\"auto\",\"type\":\"bar\",\"x\":[\"Brazil\",\"Brazil\",\"Brazil\",\"Brazil\",\"Brazil\",\"Brazil\"],\"xaxis\":\"x\",\"y\":[362.983462641,55.4988512279057,39.369879361,268.11473205186047,0.0,0.0],\"yaxis\":\"y\"},{\"alignmentgroup\":\"True\",\"hovertemplate\":\"Pa\\u00edses=%{x}<br>Year=2008<br>CO2_emission=%{y}<extra></extra>\",\"ids\":[\"China\",\"China\",\"China\",\"China\",\"China\",\"China\"],\"legendgroup\":\"China\",\"marker\":{\"color\":\"#EF553B\",\"pattern\":{\"shape\":\"\"}},\"name\":\"China\",\"offsetgroup\":\"China\",\"orientation\":\"v\",\"showlegend\":true,\"textposition\":\"auto\",\"type\":\"bar\",\"x\":[\"China\",\"China\",\"China\",\"China\",\"China\",\"China\"],\"xaxis\":\"x\",\"y\":[7057.568452367,6136.00899017521,138.059462192,783.5,0.0,0.0],\"yaxis\":\"y\"},{\"alignmentgroup\":\"True\",\"hovertemplate\":\"Pa\\u00edses=%{x}<br>Year=2008<br>CO2_emission=%{y}<extra></extra>\",\"ids\":[\"Russia\",\"Russia\",\"Russia\",\"Russia\",\"Russia\",\"Russia\"],\"legendgroup\":\"Russia\",\"marker\":{\"color\":\"#00CC96\",\"pattern\":{\"shape\":\"\"}},\"name\":\"Russia\",\"offsetgroup\":\"Russia\",\"orientation\":\"v\",\"showlegend\":true,\"textposition\":\"auto\",\"type\":\"bar\",\"x\":[\"Russia\",\"Russia\",\"Russia\",\"Russia\",\"Russia\",\"Russia\"],\"xaxis\":\"x\",\"y\":[1616.219690094,441.3331855588387,828.886504535,346.0,0.0,0.0],\"yaxis\":\"y\"},{\"alignmentgroup\":\"True\",\"hovertemplate\":\"Pa\\u00edses=%{x}<br>Year=2008<br>CO2_emission=%{y}<extra></extra>\",\"ids\":[\"United States\",\"United States\",\"United States\",\"United States\",\"United States\",\"United States\"],\"legendgroup\":\"United States\",\"marker\":{\"color\":\"#ABC3FA\",\"pattern\":{\"shape\":\"\"}},\"name\":\"United States\",\"offsetgroup\":\"United States\",\"orientation\":\"v\",\"showlegend\":true,\"textposition\":\"auto\",\"type\":\"bar\",\"x\":[\"United States\",\"United States\",\"United States\",\"United States\",\"United States\",\"United States\"],\"xaxis\":\"x\",\"y\":[6015.537927,2171.295306,1245.157609,2599.085012,0.0,0.0],\"yaxis\":\"y\"}],\"name\":\"2008\"},{\"data\":[{\"alignmentgroup\":\"True\",\"hovertemplate\":\"Pa\\u00edses=%{x}<br>Year=2009<br>CO2_emission=%{y}<extra></extra>\",\"ids\":[\"Brazil\",\"Brazil\",\"Brazil\",\"Brazil\",\"Brazil\",\"Brazil\"],\"legendgroup\":\"Brazil\",\"marker\":{\"color\":\"#AB63FA\",\"pattern\":{\"shape\":\"\"}},\"name\":\"Brazil\",\"offsetgroup\":\"Brazil\",\"orientation\":\"v\",\"showlegend\":true,\"textposition\":\"auto\",\"type\":\"bar\",\"x\":[\"Brazil\",\"Brazil\",\"Brazil\",\"Brazil\",\"Brazil\",\"Brazil\"],\"xaxis\":\"x\",\"y\":[383.629281149,55.38836782022622,46.883063791,281.3578495377291,0.0,0.0],\"yaxis\":\"y\"},{\"alignmentgroup\":\"True\",\"hovertemplate\":\"Pa\\u00edses=%{x}<br>Year=2009<br>CO2_emission=%{y}<extra></extra>\",\"ids\":[\"China\",\"China\",\"China\",\"China\",\"China\",\"China\"],\"legendgroup\":\"China\",\"marker\":{\"color\":\"#EF553B\",\"pattern\":{\"shape\":\"\"}},\"name\":\"China\",\"offsetgroup\":\"China\",\"orientation\":\"v\",\"showlegend\":true,\"textposition\":\"auto\",\"type\":\"bar\",\"x\":[\"China\",\"China\",\"China\",\"China\",\"China\",\"China\"],\"xaxis\":\"x\",\"y\":[7505.110562847,6358.993115216044,151.117447631,995.0,0.0,0.0],\"yaxis\":\"y\"},{\"alignmentgroup\":\"True\",\"hovertemplate\":\"Pa\\u00edses=%{x}<br>Year=2009<br>CO2_emission=%{y}<extra></extra>\",\"ids\":[\"Russia\",\"Russia\",\"Russia\",\"Russia\",\"Russia\",\"Russia\"],\"legendgroup\":\"Russia\",\"marker\":{\"color\":\"#00CC96\",\"pattern\":{\"shape\":\"\"}},\"name\":\"Russia\",\"offsetgroup\":\"Russia\",\"orientation\":\"v\",\"showlegend\":true,\"textposition\":\"auto\",\"type\":\"bar\",\"x\":[\"Russia\",\"Russia\",\"Russia\",\"Russia\",\"Russia\",\"Russia\"],\"xaxis\":\"x\",\"y\":[1689.705178732,479.4592912712247,846.245887461,364.0,0.0,0.0],\"yaxis\":\"y\"},{\"alignmentgroup\":\"True\",\"hovertemplate\":\"Pa\\u00edses=%{x}<br>Year=2009<br>CO2_emission=%{y}<extra></extra>\",\"ids\":[\"United States\",\"United States\",\"United States\",\"United States\",\"United States\",\"United States\"],\"legendgroup\":\"United States\",\"marker\":{\"color\":\"#ABC3FA\",\"pattern\":{\"shape\":\"\"}},\"name\":\"United States\",\"offsetgroup\":\"United States\",\"orientation\":\"v\",\"showlegend\":true,\"textposition\":\"auto\",\"type\":\"bar\",\"x\":[\"United States\",\"United States\",\"United States\",\"United States\",\"United States\",\"United States\"],\"xaxis\":\"x\",\"y\":[5823.12664,2138.693435,1254.522337,2429.910868,0.0,0.0],\"yaxis\":\"y\"}],\"name\":\"2009\"},{\"data\":[{\"alignmentgroup\":\"True\",\"hovertemplate\":\"Pa\\u00edses=%{x}<br>Year=2010<br>CO2_emission=%{y}<extra></extra>\",\"ids\":[\"Brazil\",\"Brazil\",\"Brazil\",\"Brazil\",\"Brazil\",\"Brazil\"],\"legendgroup\":\"Brazil\",\"marker\":{\"color\":\"#AB63FA\",\"pattern\":{\"shape\":\"\"}},\"name\":\"Brazil\",\"offsetgroup\":\"Brazil\",\"orientation\":\"v\",\"showlegend\":true,\"textposition\":\"auto\",\"type\":\"bar\",\"x\":[\"Brazil\",\"Brazil\",\"Brazil\",\"Brazil\",\"Brazil\",\"Brazil\"],\"xaxis\":\"x\",\"y\":[355.535677219,43.53214012180644,37.10997692,274.89356017726976,0.0,0.0],\"yaxis\":\"y\"},{\"alignmentgroup\":\"True\",\"hovertemplate\":\"Pa\\u00edses=%{x}<br>Year=2010<br>CO2_emission=%{y}<extra></extra>\",\"ids\":[\"China\",\"China\",\"China\",\"China\",\"China\",\"China\"],\"legendgroup\":\"China\",\"marker\":{\"color\":\"#EF553B\",\"pattern\":{\"shape\":\"\"}},\"name\":\"China\",\"offsetgroup\":\"China\",\"orientation\":\"v\",\"showlegend\":true,\"textposition\":\"auto\",\"type\":\"bar\",\"x\":[\"China\",\"China\",\"China\",\"China\",\"China\",\"China\"],\"xaxis\":\"x\",\"y\":[8204.136739711,6923.858506472719,173.278233238,1107.0,0.0,0.0],\"yaxis\":\"y\"},{\"alignmentgroup\":\"True\",\"hovertemplate\":\"Pa\\u00edses=%{x}<br>Year=2010<br>CO2_emission=%{y}<extra></extra>\",\"ids\":[\"Russia\",\"Russia\",\"Russia\",\"Russia\",\"Russia\",\"Russia\"],\"legendgroup\":\"Russia\",\"marker\":{\"color\":\"#00CC96\",\"pattern\":{\"shape\":\"\"}},\"name\":\"Russia\",\"offsetgroup\":\"Russia\",\"orientation\":\"v\",\"showlegend\":true,\"textposition\":\"auto\",\"type\":\"bar\",\"x\":[\"Russia\",\"Russia\",\"Russia\",\"Russia\",\"Russia\",\"Russia\"],\"xaxis\":\"x\",\"y\":[1505.588572589,417.4388910263866,735.149681563,353.0,0.0,0.0],\"yaxis\":\"y\"},{\"alignmentgroup\":\"True\",\"hovertemplate\":\"Pa\\u00edses=%{x}<br>Year=2010<br>CO2_emission=%{y}<extra></extra>\",\"ids\":[\"United States\",\"United States\",\"United States\",\"United States\",\"United States\",\"United States\"],\"legendgroup\":\"United States\",\"marker\":{\"color\":\"#ABC3FA\",\"pattern\":{\"shape\":\"\"}},\"name\":\"United States\",\"offsetgroup\":\"United States\",\"orientation\":\"v\",\"showlegend\":true,\"textposition\":\"auto\",\"type\":\"bar\",\"x\":[\"United States\",\"United States\",\"United States\",\"United States\",\"United States\",\"United States\"],\"xaxis\":\"x\",\"y\":[5403.664819,1875.159584,1233.390342,2295.114893,0.0,0.0],\"yaxis\":\"y\"}],\"name\":\"2010\"},{\"data\":[{\"alignmentgroup\":\"True\",\"hovertemplate\":\"Pa\\u00edses=%{x}<br>Year=2011<br>CO2_emission=%{y}<extra></extra>\",\"ids\":[\"Brazil\",\"Brazil\",\"Brazil\",\"Brazil\",\"Brazil\",\"Brazil\"],\"legendgroup\":\"Brazil\",\"marker\":{\"color\":\"#AB63FA\",\"pattern\":{\"shape\":\"\"}},\"name\":\"Brazil\",\"offsetgroup\":\"Brazil\",\"orientation\":\"v\",\"showlegend\":true,\"textposition\":\"auto\",\"type\":\"bar\",\"x\":[\"Brazil\",\"Brazil\",\"Brazil\",\"Brazil\",\"Brazil\",\"Brazil\"],\"xaxis\":\"x\",\"y\":[409.648966863,58.63264944198397,49.955738162,301.06057925935363,0.0,0.0],\"yaxis\":\"y\"},{\"alignmentgroup\":\"True\",\"hovertemplate\":\"Pa\\u00edses=%{x}<br>Year=2011<br>CO2_emission=%{y}<extra></extra>\",\"ids\":[\"China\",\"China\",\"China\",\"China\",\"China\",\"China\"],\"legendgroup\":\"China\",\"marker\":{\"color\":\"#EF553B\",\"pattern\":{\"shape\":\"\"}},\"name\":\"China\",\"offsetgroup\":\"China\",\"orientation\":\"v\",\"showlegend\":true,\"textposition\":\"auto\",\"type\":\"bar\",\"x\":[\"China\",\"China\",\"China\",\"China\",\"China\",\"China\"],\"xaxis\":\"x\",\"y\":[9003.659583588,7691.690677267044,208.939515111,1103.0293912097045,0.0,0.0],\"yaxis\":\"y\"},{\"alignmentgroup\":\"True\",\"hovertemplate\":\"Pa\\u00edses=%{x}<br>Year=2011<br>CO2_emission=%{y}<extra></extra>\",\"ids\":[\"Russia\",\"Russia\",\"Russia\",\"Russia\",\"Russia\",\"Russia\"],\"legendgroup\":\"Russia\",\"marker\":{\"color\":\"#00CC96\",\"pattern\":{\"shape\":\"\"}},\"name\":\"Russia\",\"offsetgroup\":\"Russia\",\"orientation\":\"v\",\"showlegend\":true,\"textposition\":\"auto\",\"type\":\"bar\",\"x\":[\"Russia\",\"Russia\",\"Russia\",\"Russia\",\"Russia\",\"Russia\"],\"xaxis\":\"x\",\"y\":[1661.036739444,402.9018339245317,889.134905519,369.0,0.0,0.0],\"yaxis\":\"y\"},{\"alignmentgroup\":\"True\",\"hovertemplate\":\"Pa\\u00edses=%{x}<br>Year=2011<br>CO2_emission=%{y}<extra></extra>\",\"ids\":[\"United States\",\"United States\",\"United States\",\"United States\",\"United States\",\"United States\"],\"legendgroup\":\"United States\",\"marker\":{\"color\":\"#ABC3FA\",\"pattern\":{\"shape\":\"\"}},\"name\":\"United States\",\"offsetgroup\":\"United States\",\"orientation\":\"v\",\"showlegend\":true,\"textposition\":\"auto\",\"type\":\"bar\",\"x\":[\"United States\",\"United States\",\"United States\",\"United States\",\"United States\",\"United States\"],\"xaxis\":\"x\",\"y\":[5593.662183,1985.938572,1292.438107,2315.285504,0.0,0.0],\"yaxis\":\"y\"}],\"name\":\"2011\"},{\"data\":[{\"alignmentgroup\":\"True\",\"hovertemplate\":\"Pa\\u00edses=%{x}<br>Year=2012<br>CO2_emission=%{y}<extra></extra>\",\"ids\":[\"Brazil\",\"Brazil\",\"Brazil\",\"Brazil\",\"Brazil\",\"Brazil\"],\"legendgroup\":\"Brazil\",\"marker\":{\"color\":\"#AB63FA\",\"pattern\":{\"shape\":\"\"}},\"name\":\"Brazil\",\"offsetgroup\":\"Brazil\",\"orientation\":\"v\",\"showlegend\":true,\"textposition\":\"auto\",\"type\":\"bar\",\"x\":[\"Brazil\",\"Brazil\",\"Brazil\",\"Brazil\",\"Brazil\",\"Brazil\"],\"xaxis\":\"x\",\"y\":[431.174655173,62.91172774025922,49.678206283,318.58472115023574,0.0,0.0],\"yaxis\":\"y\"},{\"alignmentgroup\":\"True\",\"hovertemplate\":\"Pa\\u00edses=%{x}<br>Year=2012<br>CO2_emission=%{y}<extra></extra>\",\"ids\":[\"China\",\"China\",\"China\",\"China\",\"China\",\"China\"],\"legendgroup\":\"China\",\"marker\":{\"color\":\"#EF553B\",\"pattern\":{\"shape\":\"\"}},\"name\":\"China\",\"offsetgroup\":\"China\",\"orientation\":\"v\",\"showlegend\":true,\"textposition\":\"auto\",\"type\":\"bar\",\"x\":[\"China\",\"China\",\"China\",\"China\",\"China\",\"China\"],\"xaxis\":\"x\",\"y\":[9892.523226965,8478.708671392978,256.348872054,1157.4656835180072,0.0,0.0],\"yaxis\":\"y\"},{\"alignmentgroup\":\"True\",\"hovertemplate\":\"Pa\\u00edses=%{x}<br>Year=2012<br>CO2_emission=%{y}<extra></extra>\",\"ids\":[\"Russia\",\"Russia\",\"Russia\",\"Russia\",\"Russia\",\"Russia\"],\"legendgroup\":\"Russia\",\"marker\":{\"color\":\"#00CC96\",\"pattern\":{\"shape\":\"\"}},\"name\":\"Russia\",\"offsetgroup\":\"Russia\",\"orientation\":\"v\",\"showlegend\":true,\"textposition\":\"auto\",\"type\":\"bar\",\"x\":[\"Russia\",\"Russia\",\"Russia\",\"Russia\",\"Russia\",\"Russia\"],\"xaxis\":\"x\",\"y\":[1733.554377433,424.1026845809533,918.451692852,391.0,0.0,0.0],\"yaxis\":\"y\"},{\"alignmentgroup\":\"True\",\"hovertemplate\":\"Pa\\u00edses=%{x}<br>Year=2012<br>CO2_emission=%{y}<extra></extra>\",\"ids\":[\"United States\",\"United States\",\"United States\",\"United States\",\"United States\",\"United States\"],\"legendgroup\":\"United States\",\"marker\":{\"color\":\"#ABC3FA\",\"pattern\":{\"shape\":\"\"}},\"name\":\"United States\",\"offsetgroup\":\"United States\",\"orientation\":\"v\",\"showlegend\":true,\"textposition\":\"auto\",\"type\":\"bar\",\"x\":[\"United States\",\"United States\",\"United States\",\"United States\",\"United States\",\"United States\"],\"xaxis\":\"x\",\"y\":[5454.696471,1875.601053,1312.327965,2266.767453,0.0,0.0],\"yaxis\":\"y\"}],\"name\":\"2012\"},{\"data\":[{\"alignmentgroup\":\"True\",\"hovertemplate\":\"Pa\\u00edses=%{x}<br>Year=2013<br>CO2_emission=%{y}<extra></extra>\",\"ids\":[\"Brazil\",\"Brazil\",\"Brazil\",\"Brazil\",\"Brazil\",\"Brazil\"],\"legendgroup\":\"Brazil\",\"marker\":{\"color\":\"#AB63FA\",\"pattern\":{\"shape\":\"\"}},\"name\":\"Brazil\",\"offsetgroup\":\"Brazil\",\"orientation\":\"v\",\"showlegend\":true,\"textposition\":\"auto\",\"type\":\"bar\",\"x\":[\"Brazil\",\"Brazil\",\"Brazil\",\"Brazil\",\"Brazil\",\"Brazil\"],\"xaxis\":\"x\",\"y\":[462.028577038,61.39384936306449,59.966709499,340.6680181760316,0.0,0.0],\"yaxis\":\"y\"},{\"alignmentgroup\":\"True\",\"hovertemplate\":\"Pa\\u00edses=%{x}<br>Year=2013<br>CO2_emission=%{y}<extra></extra>\",\"ids\":[\"China\",\"China\",\"China\",\"China\",\"China\",\"China\"],\"legendgroup\":\"China\",\"marker\":{\"color\":\"#EF553B\",\"pattern\":{\"shape\":\"\"}},\"name\":\"China\",\"offsetgroup\":\"China\",\"orientation\":\"v\",\"showlegend\":true,\"textposition\":\"auto\",\"type\":\"bar\",\"x\":[\"China\",\"China\",\"China\",\"China\",\"China\",\"China\"],\"xaxis\":\"x\",\"y\":[10478.960468891,8970.681630361134,281.319405614,1226.9594329158856,0.0,0.0],\"yaxis\":\"y\"},{\"alignmentgroup\":\"True\",\"hovertemplate\":\"Pa\\u00edses=%{x}<br>Year=2013<br>CO2_emission=%{y}<extra></extra>\",\"ids\":[\"Russia\",\"Russia\",\"Russia\",\"Russia\",\"Russia\",\"Russia\"],\"legendgroup\":\"Russia\",\"marker\":{\"color\":\"#00CC96\",\"pattern\":{\"shape\":\"\"}},\"name\":\"Russia\",\"offsetgroup\":\"Russia\",\"orientation\":\"v\",\"showlegend\":true,\"textposition\":\"auto\",\"type\":\"bar\",\"x\":[\"Russia\",\"Russia\",\"Russia\",\"Russia\",\"Russia\",\"Russia\"],\"xaxis\":\"x\",\"y\":[1741.540316807,447.0058520554024,901.534464752,393.0,0.0,0.0],\"yaxis\":\"y\"},{\"alignmentgroup\":\"True\",\"hovertemplate\":\"Pa\\u00edses=%{x}<br>Year=2013<br>CO2_emission=%{y}<extra></extra>\",\"ids\":[\"United States\",\"United States\",\"United States\",\"United States\",\"United States\",\"United States\"],\"legendgroup\":\"United States\",\"marker\":{\"color\":\"#ABC3FA\",\"pattern\":{\"shape\":\"\"}},\"name\":\"United States\",\"offsetgroup\":\"United States\",\"orientation\":\"v\",\"showlegend\":true,\"textposition\":\"auto\",\"type\":\"bar\",\"x\":[\"United States\",\"United States\",\"United States\",\"United States\",\"United States\",\"United States\"],\"xaxis\":\"x\",\"y\":[5236.322549,1657.873276,1371.560957,2206.888316,0.0,0.0],\"yaxis\":\"y\"}],\"name\":\"2013\"},{\"data\":[{\"alignmentgroup\":\"True\",\"hovertemplate\":\"Pa\\u00edses=%{x}<br>Year=2014<br>CO2_emission=%{y}<extra></extra>\",\"ids\":[\"Brazil\",\"Brazil\",\"Brazil\",\"Brazil\",\"Brazil\",\"Brazil\"],\"legendgroup\":\"Brazil\",\"marker\":{\"color\":\"#AB63FA\",\"pattern\":{\"shape\":\"\"}},\"name\":\"Brazil\",\"offsetgroup\":\"Brazil\",\"orientation\":\"v\",\"showlegend\":true,\"textposition\":\"auto\",\"type\":\"bar\",\"x\":[\"Brazil\",\"Brazil\",\"Brazil\",\"Brazil\",\"Brazil\",\"Brazil\"],\"xaxis\":\"x\",\"y\":[491.320111606,66.72425903917075,70.808294103,353.7875584637058,0.0,0.0],\"yaxis\":\"y\"},{\"alignmentgroup\":\"True\",\"hovertemplate\":\"Pa\\u00edses=%{x}<br>Year=2014<br>CO2_emission=%{y}<extra></extra>\",\"ids\":[\"China\",\"China\",\"China\",\"China\",\"China\",\"China\"],\"legendgroup\":\"China\",\"marker\":{\"color\":\"#EF553B\",\"pattern\":{\"shape\":\"\"}},\"name\":\"China\",\"offsetgroup\":\"China\",\"orientation\":\"v\",\"showlegend\":true,\"textposition\":\"auto\",\"type\":\"bar\",\"x\":[\"China\",\"China\",\"China\",\"China\",\"China\",\"China\"],\"xaxis\":\"x\",\"y\":[10732.002366681,9113.558191061687,319.365546727,1299.078628892797,0.0,0.0],\"yaxis\":\"y\"},{\"alignmentgroup\":\"True\",\"hovertemplate\":\"Pa\\u00edses=%{x}<br>Year=2014<br>CO2_emission=%{y}<extra></extra>\",\"ids\":[\"Russia\",\"Russia\",\"Russia\",\"Russia\",\"Russia\",\"Russia\"],\"legendgroup\":\"Russia\",\"marker\":{\"color\":\"#00CC96\",\"pattern\":{\"shape\":\"\"}},\"name\":\"Russia\",\"offsetgroup\":\"Russia\",\"orientation\":\"v\",\"showlegend\":true,\"textposition\":\"auto\",\"type\":\"bar\",\"x\":[\"Russia\",\"Russia\",\"Russia\",\"Russia\",\"Russia\",\"Russia\"],\"xaxis\":\"x\",\"y\":[1692.56822549,396.77900856960457,887.78921692,408.0,0.0,0.0],\"yaxis\":\"y\"},{\"alignmentgroup\":\"True\",\"hovertemplate\":\"Pa\\u00edses=%{x}<br>Year=2014<br>CO2_emission=%{y}<extra></extra>\",\"ids\":[\"United States\",\"United States\",\"United States\",\"United States\",\"United States\",\"United States\"],\"legendgroup\":\"United States\",\"marker\":{\"color\":\"#ABC3FA\",\"pattern\":{\"shape\":\"\"}},\"name\":\"United States\",\"offsetgroup\":\"United States\",\"orientation\":\"v\",\"showlegend\":true,\"textposition\":\"auto\",\"type\":\"bar\",\"x\":[\"United States\",\"United States\",\"United States\",\"United States\",\"United States\",\"United States\"],\"xaxis\":\"x\",\"y\":[5358.870231,1717.844544,1408.379797,2232.64589,0.0,0.0],\"yaxis\":\"y\"}],\"name\":\"2014\"},{\"data\":[{\"alignmentgroup\":\"True\",\"hovertemplate\":\"Pa\\u00edses=%{x}<br>Year=2015<br>CO2_emission=%{y}<extra></extra>\",\"ids\":[\"Brazil\",\"Brazil\",\"Brazil\",\"Brazil\",\"Brazil\",\"Brazil\"],\"legendgroup\":\"Brazil\",\"marker\":{\"color\":\"#AB63FA\",\"pattern\":{\"shape\":\"\"}},\"name\":\"Brazil\",\"offsetgroup\":\"Brazil\",\"orientation\":\"v\",\"showlegend\":true,\"textposition\":\"auto\",\"type\":\"bar\",\"x\":[\"Brazil\",\"Brazil\",\"Brazil\",\"Brazil\",\"Brazil\",\"Brazil\"],\"xaxis\":\"x\",\"y\":[509.822374377,71.81747484026889,74.899906943,363.10499259351593,0.0,0.0],\"yaxis\":\"y\"},{\"alignmentgroup\":\"True\",\"hovertemplate\":\"Pa\\u00edses=%{x}<br>Year=2015<br>CO2_emission=%{y}<extra></extra>\",\"ids\":[\"China\",\"China\",\"China\",\"China\",\"China\",\"China\"],\"legendgroup\":\"China\",\"marker\":{\"color\":\"#EF553B\",\"pattern\":{\"shape\":\"\"}},\"name\":\"China\",\"offsetgroup\":\"China\",\"orientation\":\"v\",\"showlegend\":true,\"textposition\":\"auto\",\"type\":\"bar\",\"x\":[\"China\",\"China\",\"China\",\"China\",\"China\",\"China\"],\"xaxis\":\"x\",\"y\":[10654.275247466,8939.781469504338,354.690050448,1359.8037275138402,0.0,0.0],\"yaxis\":\"y\"},{\"alignmentgroup\":\"True\",\"hovertemplate\":\"Pa\\u00edses=%{x}<br>Year=2015<br>CO2_emission=%{y}<extra></extra>\",\"ids\":[\"Russia\",\"Russia\",\"Russia\",\"Russia\",\"Russia\",\"Russia\"],\"legendgroup\":\"Russia\",\"marker\":{\"color\":\"#00CC96\",\"pattern\":{\"shape\":\"\"}},\"name\":\"Russia\",\"offsetgroup\":\"Russia\",\"orientation\":\"v\",\"showlegend\":true,\"textposition\":\"auto\",\"type\":\"bar\",\"x\":[\"Russia\",\"Russia\",\"Russia\",\"Russia\",\"Russia\",\"Russia\"],\"xaxis\":\"x\",\"y\":[1686.124243111,383.33329812893146,882.790944982,420.0,0.0,0.0],\"yaxis\":\"y\"},{\"alignmentgroup\":\"True\",\"hovertemplate\":\"Pa\\u00edses=%{x}<br>Year=2015<br>CO2_emission=%{y}<extra></extra>\",\"ids\":[\"United States\",\"United States\",\"United States\",\"United States\",\"United States\",\"United States\"],\"legendgroup\":\"United States\",\"marker\":{\"color\":\"#ABC3FA\",\"pattern\":{\"shape\":\"\"}},\"name\":\"United States\",\"offsetgroup\":\"United States\",\"orientation\":\"v\",\"showlegend\":true,\"textposition\":\"auto\",\"type\":\"bar\",\"x\":[\"United States\",\"United States\",\"United States\",\"United States\",\"United States\",\"United States\"],\"xaxis\":\"x\",\"y\":[5413.878798,1713.367094,1437.536155,2262.975549,0.0,0.0],\"yaxis\":\"y\"}],\"name\":\"2015\"},{\"data\":[{\"alignmentgroup\":\"True\",\"hovertemplate\":\"Pa\\u00edses=%{x}<br>Year=2016<br>CO2_emission=%{y}<extra></extra>\",\"ids\":[\"Brazil\",\"Brazil\",\"Brazil\",\"Brazil\",\"Brazil\",\"Brazil\"],\"legendgroup\":\"Brazil\",\"marker\":{\"color\":\"#AB63FA\",\"pattern\":{\"shape\":\"\"}},\"name\":\"Brazil\",\"offsetgroup\":\"Brazil\",\"orientation\":\"v\",\"showlegend\":true,\"textposition\":\"auto\",\"type\":\"bar\",\"x\":[\"Brazil\",\"Brazil\",\"Brazil\",\"Brazil\",\"Brazil\",\"Brazil\"],\"xaxis\":\"x\",\"y\":[500.437378452,71.91489593553686,78.085576436,350.43690608,0.0,0.0],\"yaxis\":\"y\"},{\"alignmentgroup\":\"True\",\"hovertemplate\":\"Pa\\u00edses=%{x}<br>Year=2016<br>CO2_emission=%{y}<extra></extra>\",\"ids\":[\"China\",\"China\",\"China\",\"China\",\"China\",\"China\"],\"legendgroup\":\"China\",\"marker\":{\"color\":\"#EF553B\",\"pattern\":{\"shape\":\"\"}},\"name\":\"China\",\"offsetgroup\":\"China\",\"orientation\":\"v\",\"showlegend\":true,\"textposition\":\"auto\",\"type\":\"bar\",\"x\":[\"China\",\"China\",\"China\",\"China\",\"China\",\"China\"],\"xaxis\":\"x\",\"y\":[10427.086484114,8646.270696038036,373.591538352,1407.224249724352,0.0,0.0],\"yaxis\":\"y\"},{\"alignmentgroup\":\"True\",\"hovertemplate\":\"Pa\\u00edses=%{x}<br>Year=2016<br>CO2_emission=%{y}<extra></extra>\",\"ids\":[\"Russia\",\"Russia\",\"Russia\",\"Russia\",\"Russia\",\"Russia\"],\"legendgroup\":\"Russia\",\"marker\":{\"color\":\"#00CC96\",\"pattern\":{\"shape\":\"\"}},\"name\":\"Russia\",\"offsetgroup\":\"Russia\",\"orientation\":\"v\",\"showlegend\":true,\"textposition\":\"auto\",\"type\":\"bar\",\"x\":[\"Russia\",\"Russia\",\"Russia\",\"Russia\",\"Russia\",\"Russia\"],\"xaxis\":\"x\",\"y\":[1690.150381741,430.3082008601865,845.842180881,414.0,0.0,0.0],\"yaxis\":\"y\"},{\"alignmentgroup\":\"True\",\"hovertemplate\":\"Pa\\u00edses=%{x}<br>Year=2016<br>CO2_emission=%{y}<extra></extra>\",\"ids\":[\"United States\",\"United States\",\"United States\",\"United States\",\"United States\",\"United States\"],\"legendgroup\":\"United States\",\"marker\":{\"color\":\"#ABC3FA\",\"pattern\":{\"shape\":\"\"}},\"name\":\"United States\",\"offsetgroup\":\"United States\",\"orientation\":\"v\",\"showlegend\":true,\"textposition\":\"auto\",\"type\":\"bar\",\"x\":[\"United States\",\"United States\",\"United States\",\"United States\",\"United States\",\"United States\"],\"xaxis\":\"x\",\"y\":[5262.075715,1481.89792,1478.884313,2301.293482,0.0,0.0],\"yaxis\":\"y\"}],\"name\":\"2016\"},{\"data\":[{\"alignmentgroup\":\"True\",\"hovertemplate\":\"Pa\\u00edses=%{x}<br>Year=2017<br>CO2_emission=%{y}<extra></extra>\",\"ids\":[\"Brazil\",\"Brazil\",\"Brazil\",\"Brazil\",\"Brazil\",\"Brazil\"],\"legendgroup\":\"Brazil\",\"marker\":{\"color\":\"#AB63FA\",\"pattern\":{\"shape\":\"\"}},\"name\":\"Brazil\",\"offsetgroup\":\"Brazil\",\"orientation\":\"v\",\"showlegend\":true,\"textposition\":\"auto\",\"type\":\"bar\",\"x\":[\"Brazil\",\"Brazil\",\"Brazil\",\"Brazil\",\"Brazil\",\"Brazil\"],\"xaxis\":\"x\",\"y\":[466.802668561,64.73237738681082,66.648896174,335.421395,0.0,0.0],\"yaxis\":\"y\"},{\"alignmentgroup\":\"True\",\"hovertemplate\":\"Pa\\u00edses=%{x}<br>Year=2017<br>CO2_emission=%{y}<extra></extra>\",\"ids\":[\"China\",\"China\",\"China\",\"China\",\"China\",\"China\"],\"legendgroup\":\"China\",\"marker\":{\"color\":\"#EF553B\",\"pattern\":{\"shape\":\"\"}},\"name\":\"China\",\"offsetgroup\":\"China\",\"orientation\":\"v\",\"showlegend\":true,\"textposition\":\"auto\",\"type\":\"bar\",\"x\":[\"China\",\"China\",\"China\",\"China\",\"China\",\"China\"],\"xaxis\":\"x\",\"y\":[10261.596587956,8426.841287831909,405.480667677,1429.27463244669,0.0,0.0],\"yaxis\":\"y\"},{\"alignmentgroup\":\"True\",\"hovertemplate\":\"Pa\\u00edses=%{x}<br>Year=2017<br>CO2_emission=%{y}<extra></extra>\",\"ids\":[\"Russia\",\"Russia\",\"Russia\",\"Russia\",\"Russia\",\"Russia\"],\"legendgroup\":\"Russia\",\"marker\":{\"color\":\"#00CC96\",\"pattern\":{\"shape\":\"\"}},\"name\":\"Russia\",\"offsetgroup\":\"Russia\",\"orientation\":\"v\",\"showlegend\":true,\"textposition\":\"auto\",\"type\":\"bar\",\"x\":[\"Russia\",\"Russia\",\"Russia\",\"Russia\",\"Russia\",\"Russia\"],\"xaxis\":\"x\",\"y\":[1675.853850278,417.1743777169282,843.254635928,415.42483663356,0.0,0.0],\"yaxis\":\"y\"},{\"alignmentgroup\":\"True\",\"hovertemplate\":\"Pa\\u00edses=%{x}<br>Year=2017<br>CO2_emission=%{y}<extra></extra>\",\"ids\":[\"United States\",\"United States\",\"United States\",\"United States\",\"United States\",\"United States\"],\"legendgroup\":\"United States\",\"marker\":{\"color\":\"#ABC3FA\",\"pattern\":{\"shape\":\"\"}},\"name\":\"United States\",\"offsetgroup\":\"United States\",\"orientation\":\"v\",\"showlegend\":true,\"textposition\":\"auto\",\"type\":\"bar\",\"x\":[\"United States\",\"United States\",\"United States\",\"United States\",\"United States\",\"United States\"],\"xaxis\":\"x\",\"y\":[5169.496984,1355.200263,1489.851251,2324.44547,0.0,0.0],\"yaxis\":\"y\"}],\"name\":\"2017\"},{\"data\":[{\"alignmentgroup\":\"True\",\"hovertemplate\":\"Pa\\u00edses=%{x}<br>Year=2018<br>CO2_emission=%{y}<extra></extra>\",\"ids\":[\"Brazil\",\"Brazil\",\"Brazil\",\"Brazil\",\"Brazil\",\"Brazil\"],\"legendgroup\":\"Brazil\",\"marker\":{\"color\":\"#AB63FA\",\"pattern\":{\"shape\":\"\"}},\"name\":\"Brazil\",\"offsetgroup\":\"Brazil\",\"orientation\":\"v\",\"showlegend\":true,\"textposition\":\"auto\",\"type\":\"bar\",\"x\":[\"Brazil\",\"Brazil\",\"Brazil\",\"Brazil\",\"Brazil\",\"Brazil\"],\"xaxis\":\"x\",\"y\":[475.528895334,69.49602089547885,68.087097439,337.945777,0.0,0.0],\"yaxis\":\"y\"},{\"alignmentgroup\":\"True\",\"hovertemplate\":\"Pa\\u00edses=%{x}<br>Year=2018<br>CO2_emission=%{y}<extra></extra>\",\"ids\":[\"China\",\"China\",\"China\",\"China\",\"China\",\"China\"],\"legendgroup\":\"China\",\"marker\":{\"color\":\"#EF553B\",\"pattern\":{\"shape\":\"\"}},\"name\":\"China\",\"offsetgroup\":\"China\",\"orientation\":\"v\",\"showlegend\":true,\"textposition\":\"auto\",\"type\":\"bar\",\"x\":[\"China\",\"China\",\"China\",\"China\",\"China\",\"China\"],\"xaxis\":\"x\",\"y\":[10414.766207728,8456.530941655375,467.168069473,1491.0671966,0.0,0.0],\"yaxis\":\"y\"},{\"alignmentgroup\":\"True\",\"hovertemplate\":\"Pa\\u00edses=%{x}<br>Year=2018<br>CO2_emission=%{y}<extra></extra>\",\"ids\":[\"Russia\",\"Russia\",\"Russia\",\"Russia\",\"Russia\",\"Russia\"],\"legendgroup\":\"Russia\",\"marker\":{\"color\":\"#00CC96\",\"pattern\":{\"shape\":\"\"}},\"name\":\"Russia\",\"offsetgroup\":\"Russia\",\"orientation\":\"v\",\"showlegend\":true,\"textposition\":\"auto\",\"type\":\"bar\",\"x\":[\"Russia\",\"Russia\",\"Russia\",\"Russia\",\"Russia\",\"Russia\"],\"xaxis\":\"x\",\"y\":[1733.861881236,417.8075787352267,898.748439911,417.30586259,0.0,0.0],\"yaxis\":\"y\"},{\"alignmentgroup\":\"True\",\"hovertemplate\":\"Pa\\u00edses=%{x}<br>Year=2018<br>CO2_emission=%{y}<extra></extra>\",\"ids\":[\"United States\",\"United States\",\"United States\",\"United States\",\"United States\",\"United States\"],\"legendgroup\":\"United States\",\"marker\":{\"color\":\"#ABC3FA\",\"pattern\":{\"shape\":\"\"}},\"name\":\"United States\",\"offsetgroup\":\"United States\",\"orientation\":\"v\",\"showlegend\":true,\"textposition\":\"auto\",\"type\":\"bar\",\"x\":[\"United States\",\"United States\",\"United States\",\"United States\",\"United States\",\"United States\"],\"xaxis\":\"x\",\"y\":[5131.08098,1317.951988,1470.964449,2342.164543,0.0,0.0],\"yaxis\":\"y\"}],\"name\":\"2018\"},{\"data\":[{\"alignmentgroup\":\"True\",\"hovertemplate\":\"Pa\\u00edses=%{x}<br>Year=2019<br>CO2_emission=%{y}<extra></extra>\",\"ids\":[\"Brazil\",\"Brazil\",\"Brazil\",\"Brazil\",\"Brazil\",\"Brazil\"],\"legendgroup\":\"Brazil\",\"marker\":{\"color\":\"#AB63FA\",\"pattern\":{\"shape\":\"\"}},\"name\":\"Brazil\",\"offsetgroup\":\"Brazil\",\"orientation\":\"v\",\"showlegend\":true,\"textposition\":\"auto\",\"type\":\"bar\",\"x\":[\"Brazil\",\"Brazil\",\"Brazil\",\"Brazil\",\"Brazil\",\"Brazil\"],\"xaxis\":\"x\",\"y\":[453.443272227,68.47503768728932,64.86363154,320.104603,0.0,0.0],\"yaxis\":\"y\"},{\"alignmentgroup\":\"True\",\"hovertemplate\":\"Pa\\u00edses=%{x}<br>Year=2019<br>CO2_emission=%{y}<extra></extra>\",\"ids\":[\"China\",\"China\",\"China\",\"China\",\"China\",\"China\"],\"legendgroup\":\"China\",\"marker\":{\"color\":\"#EF553B\",\"pattern\":{\"shape\":\"\"}},\"name\":\"China\",\"offsetgroup\":\"China\",\"orientation\":\"v\",\"showlegend\":true,\"textposition\":\"auto\",\"type\":\"bar\",\"x\":[\"China\",\"China\",\"China\",\"China\",\"China\",\"China\"],\"xaxis\":\"x\",\"y\":[10608.600386434,8546.287449820698,548.698591813,1513.6143448,0.0,0.0],\"yaxis\":\"y\"},{\"alignmentgroup\":\"True\",\"hovertemplate\":\"Pa\\u00edses=%{x}<br>Year=2019<br>CO2_emission=%{y}<extra></extra>\",\"ids\":[\"Russia\",\"Russia\",\"Russia\",\"Russia\",\"Russia\",\"Russia\"],\"legendgroup\":\"Russia\",\"marker\":{\"color\":\"#00CC96\",\"pattern\":{\"shape\":\"\"}},\"name\":\"Russia\",\"offsetgroup\":\"Russia\",\"orientation\":\"v\",\"showlegend\":true,\"textposition\":\"auto\",\"type\":\"bar\",\"x\":[\"Russia\",\"Russia\",\"Russia\",\"Russia\",\"Russia\",\"Russia\"],\"xaxis\":\"x\",\"y\":[1798.242238512,445.8627903107092,943.331800861,409.04764734,0.0,0.0],\"yaxis\":\"y\"},{\"alignmentgroup\":\"True\",\"hovertemplate\":\"Pa\\u00edses=%{x}<br>Year=2019<br>CO2_emission=%{y}<extra></extra>\",\"ids\":[\"United States\",\"United States\",\"United States\",\"United States\",\"United States\",\"United States\"],\"legendgroup\":\"United States\",\"marker\":{\"color\":\"#ABC3FA\",\"pattern\":{\"shape\":\"\"}},\"name\":\"United States\",\"offsetgroup\":\"United States\",\"orientation\":\"v\",\"showlegend\":true,\"textposition\":\"auto\",\"type\":\"bar\",\"x\":[\"United States\",\"United States\",\"United States\",\"United States\",\"United States\",\"United States\"],\"xaxis\":\"x\",\"y\":[5277.192754,1262.555409,1626.410978,2388.226367,0.0,0.0],\"yaxis\":\"y\"}],\"name\":\"2019\"}]);\n",
       "                        }).then(function(){\n",
       "                            \n",
       "var gd = document.getElementById('48731d18-daed-47ee-a6ec-f9f4f31ef039');\n",
       "var x = new MutationObserver(function (mutations, observer) {{\n",
       "        var display = window.getComputedStyle(gd).display;\n",
       "        if (!display || display === 'none') {{\n",
       "            console.log([gd, 'removed!']);\n",
       "            Plotly.purge(gd);\n",
       "            observer.disconnect();\n",
       "        }}\n",
       "}});\n",
       "\n",
       "// Listen for the removal of the full notebook cells\n",
       "var notebookContainer = gd.closest('#notebook-container');\n",
       "if (notebookContainer) {{\n",
       "    x.observe(notebookContainer, {childList: true});\n",
       "}}\n",
       "\n",
       "// Listen for the clearing of the current output cell\n",
       "var outputEl = gd.closest('.output');\n",
       "if (outputEl) {{\n",
       "    x.observe(outputEl, {childList: true});\n",
       "}}\n",
       "\n",
       "                        })                };                });            </script>        </div>"
      ]
     },
     "metadata": {},
     "output_type": "display_data"
    }
   ],
   "source": [
    "\n",
    "pio.templates.default = \"simple_white\"\n",
    "\n",
    "fig = px.bar(df1,\n",
    "             x = \"Country\",\n",
    "             y = \"CO2_emission\", \n",
    "             color = 'Country', \n",
    "             animation_frame = 'Year', \n",
    "             animation_group = \"Country\",\n",
    "             range_y = [0, 11000], \n",
    "             title = \"Emissão de CO2 (1980 - 2016)\",\n",
    "             color_discrete_sequence=[\"#AB63FA\", \"#EF553B\", \"#00CC96\", \"#ABC3FA\"],\n",
    "             labels = {\"Country\": \"Países\"})\n",
    "fig.show()"
   ]
  },
  {
   "cell_type": "code",
   "execution_count": 95,
   "id": "15772f06-ba57-45f7-badb-13821108cd22",
   "metadata": {},
   "outputs": [
    {
     "data": {
      "application/vnd.plotly.v1+json": {
       "config": {
        "plotlyServerURL": "https://plot.ly"
       },
       "data": [
        {
         "customdata": [
          0,
          1,
          2,
          3,
          4,
          5,
          6,
          7,
          8,
          9,
          10
         ],
         "hovertemplate": "%{y}[%{customdata}] = %{marker.color}<extra></extra>",
         "marker": {
          "color": [
           "rgb(229, 134, 6)",
           "rgb(93, 105, 177)",
           "rgb(82, 188, 163)",
           "rgb(153, 201, 69)",
           "rgb(204, 97, 176)",
           "rgb(36, 121, 108)",
           "rgb(218, 165, 27)",
           "rgb(47, 138, 196)",
           "rgb(118, 78, 159)",
           "rgb(237, 100, 90)",
           "rgb(165, 170, 153)"
          ]
         },
         "orientation": "h",
         "type": "bar",
         "x": [
          1,
          1,
          1,
          1,
          1,
          1,
          1,
          1,
          1,
          1,
          1
         ],
         "y": [
          "Vivid",
          "Vivid",
          "Vivid",
          "Vivid",
          "Vivid",
          "Vivid",
          "Vivid",
          "Vivid",
          "Vivid",
          "Vivid",
          "Vivid"
         ]
        },
        {
         "customdata": [
          0,
          1,
          2,
          3,
          4,
          5,
          6,
          7,
          8,
          9,
          10
         ],
         "hovertemplate": "%{y}[%{customdata}] = %{marker.color}<extra></extra>",
         "marker": {
          "color": [
           "rgb(136, 204, 238)",
           "rgb(204, 102, 119)",
           "rgb(221, 204, 119)",
           "rgb(17, 119, 51)",
           "rgb(51, 34, 136)",
           "rgb(170, 68, 153)",
           "rgb(68, 170, 153)",
           "rgb(153, 153, 51)",
           "rgb(136, 34, 85)",
           "rgb(102, 17, 0)",
           "rgb(136, 136, 136)"
          ]
         },
         "orientation": "h",
         "type": "bar",
         "x": [
          1,
          1,
          1,
          1,
          1,
          1,
          1,
          1,
          1,
          1,
          1
         ],
         "y": [
          "Safe",
          "Safe",
          "Safe",
          "Safe",
          "Safe",
          "Safe",
          "Safe",
          "Safe",
          "Safe",
          "Safe",
          "Safe"
         ]
        },
        {
         "customdata": [
          0,
          1,
          2,
          3,
          4,
          5,
          6,
          7,
          8,
          9,
          10
         ],
         "hovertemplate": "%{y}[%{customdata}] = %{marker.color}<extra></extra>",
         "marker": {
          "color": [
           "rgb(95, 70, 144)",
           "rgb(29, 105, 150)",
           "rgb(56, 166, 165)",
           "rgb(15, 133, 84)",
           "rgb(115, 175, 72)",
           "rgb(237, 173, 8)",
           "rgb(225, 124, 5)",
           "rgb(204, 80, 62)",
           "rgb(148, 52, 110)",
           "rgb(111, 64, 112)",
           "rgb(102, 102, 102)"
          ]
         },
         "orientation": "h",
         "type": "bar",
         "x": [
          1,
          1,
          1,
          1,
          1,
          1,
          1,
          1,
          1,
          1,
          1
         ],
         "y": [
          "Prism",
          "Prism",
          "Prism",
          "Prism",
          "Prism",
          "Prism",
          "Prism",
          "Prism",
          "Prism",
          "Prism",
          "Prism"
         ]
        },
        {
         "customdata": [
          0,
          1,
          2,
          3,
          4,
          5,
          6,
          7,
          8,
          9,
          10
         ],
         "hovertemplate": "%{y}[%{customdata}] = %{marker.color}<extra></extra>",
         "marker": {
          "color": [
           "rgb(102, 197, 204)",
           "rgb(246, 207, 113)",
           "rgb(248, 156, 116)",
           "rgb(220, 176, 242)",
           "rgb(135, 197, 95)",
           "rgb(158, 185, 243)",
           "rgb(254, 136, 177)",
           "rgb(201, 219, 116)",
           "rgb(139, 224, 164)",
           "rgb(180, 151, 231)",
           "rgb(179, 179, 179)"
          ]
         },
         "orientation": "h",
         "type": "bar",
         "x": [
          1,
          1,
          1,
          1,
          1,
          1,
          1,
          1,
          1,
          1,
          1
         ],
         "y": [
          "Pastel",
          "Pastel",
          "Pastel",
          "Pastel",
          "Pastel",
          "Pastel",
          "Pastel",
          "Pastel",
          "Pastel",
          "Pastel",
          "Pastel"
         ]
        },
        {
         "customdata": [
          0,
          1,
          2,
          3,
          4,
          5,
          6,
          7,
          8,
          9,
          10
         ],
         "hovertemplate": "%{y}[%{customdata}] = %{marker.color}<extra></extra>",
         "marker": {
          "color": [
           "rgb(127, 60, 141)",
           "rgb(17, 165, 121)",
           "rgb(57, 105, 172)",
           "rgb(242, 183, 1)",
           "rgb(231, 63, 116)",
           "rgb(128, 186, 90)",
           "rgb(230, 131, 16)",
           "rgb(0, 134, 149)",
           "rgb(207, 28, 144)",
           "rgb(249, 123, 114)",
           "rgb(165, 170, 153)"
          ]
         },
         "orientation": "h",
         "type": "bar",
         "x": [
          1,
          1,
          1,
          1,
          1,
          1,
          1,
          1,
          1,
          1,
          1
         ],
         "y": [
          "Bold",
          "Bold",
          "Bold",
          "Bold",
          "Bold",
          "Bold",
          "Bold",
          "Bold",
          "Bold",
          "Bold",
          "Bold"
         ]
        },
        {
         "customdata": [
          0,
          1,
          2,
          3,
          4,
          5,
          6,
          7,
          8,
          9,
          10
         ],
         "hovertemplate": "%{y}[%{customdata}] = %{marker.color}<extra></extra>",
         "marker": {
          "color": [
           "rgb(133, 92, 117)",
           "rgb(217, 175, 107)",
           "rgb(175, 100, 88)",
           "rgb(115, 111, 76)",
           "rgb(82, 106, 131)",
           "rgb(98, 83, 119)",
           "rgb(104, 133, 92)",
           "rgb(156, 156, 94)",
           "rgb(160, 97, 119)",
           "rgb(140, 120, 93)",
           "rgb(124, 124, 124)"
          ]
         },
         "orientation": "h",
         "type": "bar",
         "x": [
          1,
          1,
          1,
          1,
          1,
          1,
          1,
          1,
          1,
          1,
          1
         ],
         "y": [
          "Antique",
          "Antique",
          "Antique",
          "Antique",
          "Antique",
          "Antique",
          "Antique",
          "Antique",
          "Antique",
          "Antique",
          "Antique"
         ]
        },
        {
         "customdata": [
          0,
          1,
          2,
          3,
          4,
          5,
          6,
          7,
          8,
          9,
          10,
          11
         ],
         "hovertemplate": "%{y}[%{customdata}] = %{marker.color}<extra></extra>",
         "marker": {
          "color": [
           "rgb(141,211,199)",
           "rgb(255,255,179)",
           "rgb(190,186,218)",
           "rgb(251,128,114)",
           "rgb(128,177,211)",
           "rgb(253,180,98)",
           "rgb(179,222,105)",
           "rgb(252,205,229)",
           "rgb(217,217,217)",
           "rgb(188,128,189)",
           "rgb(204,235,197)",
           "rgb(255,237,111)"
          ]
         },
         "orientation": "h",
         "type": "bar",
         "x": [
          1,
          1,
          1,
          1,
          1,
          1,
          1,
          1,
          1,
          1,
          1,
          1
         ],
         "y": [
          "Set3",
          "Set3",
          "Set3",
          "Set3",
          "Set3",
          "Set3",
          "Set3",
          "Set3",
          "Set3",
          "Set3",
          "Set3",
          "Set3"
         ]
        },
        {
         "customdata": [
          0,
          1,
          2,
          3,
          4,
          5,
          6,
          7
         ],
         "hovertemplate": "%{y}[%{customdata}] = %{marker.color}<extra></extra>",
         "marker": {
          "color": [
           "rgb(179,226,205)",
           "rgb(253,205,172)",
           "rgb(203,213,232)",
           "rgb(244,202,228)",
           "rgb(230,245,201)",
           "rgb(255,242,174)",
           "rgb(241,226,204)",
           "rgb(204,204,204)"
          ]
         },
         "orientation": "h",
         "type": "bar",
         "x": [
          1,
          1,
          1,
          1,
          1,
          1,
          1,
          1
         ],
         "y": [
          "Pastel2",
          "Pastel2",
          "Pastel2",
          "Pastel2",
          "Pastel2",
          "Pastel2",
          "Pastel2",
          "Pastel2"
         ]
        },
        {
         "customdata": [
          0,
          1,
          2,
          3,
          4,
          5,
          6,
          7
         ],
         "hovertemplate": "%{y}[%{customdata}] = %{marker.color}<extra></extra>",
         "marker": {
          "color": [
           "rgb(102,194,165)",
           "rgb(252,141,98)",
           "rgb(141,160,203)",
           "rgb(231,138,195)",
           "rgb(166,216,84)",
           "rgb(255,217,47)",
           "rgb(229,196,148)",
           "rgb(179,179,179)"
          ]
         },
         "orientation": "h",
         "type": "bar",
         "x": [
          1,
          1,
          1,
          1,
          1,
          1,
          1,
          1
         ],
         "y": [
          "Set2",
          "Set2",
          "Set2",
          "Set2",
          "Set2",
          "Set2",
          "Set2",
          "Set2"
         ]
        },
        {
         "customdata": [
          0,
          1,
          2,
          3,
          4,
          5,
          6,
          7
         ],
         "hovertemplate": "%{y}[%{customdata}] = %{marker.color}<extra></extra>",
         "marker": {
          "color": [
           "rgb(27,158,119)",
           "rgb(217,95,2)",
           "rgb(117,112,179)",
           "rgb(231,41,138)",
           "rgb(102,166,30)",
           "rgb(230,171,2)",
           "rgb(166,118,29)",
           "rgb(102,102,102)"
          ]
         },
         "orientation": "h",
         "type": "bar",
         "x": [
          1,
          1,
          1,
          1,
          1,
          1,
          1,
          1
         ],
         "y": [
          "Dark2",
          "Dark2",
          "Dark2",
          "Dark2",
          "Dark2",
          "Dark2",
          "Dark2",
          "Dark2"
         ]
        },
        {
         "customdata": [
          0,
          1,
          2,
          3,
          4,
          5,
          6,
          7,
          8
         ],
         "hovertemplate": "%{y}[%{customdata}] = %{marker.color}<extra></extra>",
         "marker": {
          "color": [
           "rgb(251,180,174)",
           "rgb(179,205,227)",
           "rgb(204,235,197)",
           "rgb(222,203,228)",
           "rgb(254,217,166)",
           "rgb(255,255,204)",
           "rgb(229,216,189)",
           "rgb(253,218,236)",
           "rgb(242,242,242)"
          ]
         },
         "orientation": "h",
         "type": "bar",
         "x": [
          1,
          1,
          1,
          1,
          1,
          1,
          1,
          1,
          1
         ],
         "y": [
          "Pastel1",
          "Pastel1",
          "Pastel1",
          "Pastel1",
          "Pastel1",
          "Pastel1",
          "Pastel1",
          "Pastel1",
          "Pastel1"
         ]
        },
        {
         "customdata": [
          0,
          1,
          2,
          3,
          4,
          5,
          6,
          7,
          8
         ],
         "hovertemplate": "%{y}[%{customdata}] = %{marker.color}<extra></extra>",
         "marker": {
          "color": [
           "rgb(228,26,28)",
           "rgb(55,126,184)",
           "rgb(77,175,74)",
           "rgb(152,78,163)",
           "rgb(255,127,0)",
           "rgb(255,255,51)",
           "rgb(166,86,40)",
           "rgb(247,129,191)",
           "rgb(153,153,153)"
          ]
         },
         "orientation": "h",
         "type": "bar",
         "x": [
          1,
          1,
          1,
          1,
          1,
          1,
          1,
          1,
          1
         ],
         "y": [
          "Set1",
          "Set1",
          "Set1",
          "Set1",
          "Set1",
          "Set1",
          "Set1",
          "Set1",
          "Set1"
         ]
        },
        {
         "customdata": [
          0,
          1,
          2,
          3,
          4,
          5,
          6,
          7,
          8,
          9,
          10,
          11,
          12,
          13,
          14,
          15,
          16,
          17,
          18,
          19,
          20,
          21,
          22,
          23
         ],
         "hovertemplate": "%{y}[%{customdata}] = %{marker.color}<extra></extra>",
         "marker": {
          "color": [
           "#FD3216",
           "#00FE35",
           "#6A76FC",
           "#FED4C4",
           "#FE00CE",
           "#0DF9FF",
           "#F6F926",
           "#FF9616",
           "#479B55",
           "#EEA6FB",
           "#DC587D",
           "#D626FF",
           "#6E899C",
           "#00B5F7",
           "#B68E00",
           "#C9FBE5",
           "#FF0092",
           "#22FFA7",
           "#E3EE9E",
           "#86CE00",
           "#BC7196",
           "#7E7DCD",
           "#FC6955",
           "#E48F72"
          ]
         },
         "orientation": "h",
         "type": "bar",
         "x": [
          1,
          1,
          1,
          1,
          1,
          1,
          1,
          1,
          1,
          1,
          1,
          1,
          1,
          1,
          1,
          1,
          1,
          1,
          1,
          1,
          1,
          1,
          1,
          1
         ],
         "y": [
          "Light24",
          "Light24",
          "Light24",
          "Light24",
          "Light24",
          "Light24",
          "Light24",
          "Light24",
          "Light24",
          "Light24",
          "Light24",
          "Light24",
          "Light24",
          "Light24",
          "Light24",
          "Light24",
          "Light24",
          "Light24",
          "Light24",
          "Light24",
          "Light24",
          "Light24",
          "Light24",
          "Light24"
         ]
        },
        {
         "customdata": [
          0,
          1,
          2,
          3,
          4,
          5,
          6,
          7,
          8,
          9,
          10,
          11,
          12,
          13,
          14,
          15,
          16,
          17,
          18,
          19,
          20,
          21,
          22,
          23
         ],
         "hovertemplate": "%{y}[%{customdata}] = %{marker.color}<extra></extra>",
         "marker": {
          "color": [
           "#2E91E5",
           "#E15F99",
           "#1CA71C",
           "#FB0D0D",
           "#DA16FF",
           "#222A2A",
           "#B68100",
           "#750D86",
           "#EB663B",
           "#511CFB",
           "#00A08B",
           "#FB00D1",
           "#FC0080",
           "#B2828D",
           "#6C7C32",
           "#778AAE",
           "#862A16",
           "#A777F1",
           "#620042",
           "#1616A7",
           "#DA60CA",
           "#6C4516",
           "#0D2A63",
           "#AF0038"
          ]
         },
         "orientation": "h",
         "type": "bar",
         "x": [
          1,
          1,
          1,
          1,
          1,
          1,
          1,
          1,
          1,
          1,
          1,
          1,
          1,
          1,
          1,
          1,
          1,
          1,
          1,
          1,
          1,
          1,
          1,
          1
         ],
         "y": [
          "Dark24",
          "Dark24",
          "Dark24",
          "Dark24",
          "Dark24",
          "Dark24",
          "Dark24",
          "Dark24",
          "Dark24",
          "Dark24",
          "Dark24",
          "Dark24",
          "Dark24",
          "Dark24",
          "Dark24",
          "Dark24",
          "Dark24",
          "Dark24",
          "Dark24",
          "Dark24",
          "Dark24",
          "Dark24",
          "Dark24",
          "Dark24"
         ]
        },
        {
         "customdata": [
          0,
          1,
          2,
          3,
          4,
          5,
          6,
          7,
          8,
          9,
          10,
          11,
          12,
          13,
          14,
          15,
          16,
          17,
          18,
          19,
          20,
          21,
          22,
          23,
          24,
          25
         ],
         "hovertemplate": "%{y}[%{customdata}] = %{marker.color}<extra></extra>",
         "marker": {
          "color": [
           "#AA0DFE",
           "#3283FE",
           "#85660D",
           "#782AB6",
           "#565656",
           "#1C8356",
           "#16FF32",
           "#F7E1A0",
           "#E2E2E2",
           "#1CBE4F",
           "#C4451C",
           "#DEA0FD",
           "#FE00FA",
           "#325A9B",
           "#FEAF16",
           "#F8A19F",
           "#90AD1C",
           "#F6222E",
           "#1CFFCE",
           "#2ED9FF",
           "#B10DA1",
           "#C075A6",
           "#FC1CBF",
           "#B00068",
           "#FBE426",
           "#FA0087"
          ]
         },
         "orientation": "h",
         "type": "bar",
         "x": [
          1,
          1,
          1,
          1,
          1,
          1,
          1,
          1,
          1,
          1,
          1,
          1,
          1,
          1,
          1,
          1,
          1,
          1,
          1,
          1,
          1,
          1,
          1,
          1,
          1,
          1
         ],
         "y": [
          "Alphabet",
          "Alphabet",
          "Alphabet",
          "Alphabet",
          "Alphabet",
          "Alphabet",
          "Alphabet",
          "Alphabet",
          "Alphabet",
          "Alphabet",
          "Alphabet",
          "Alphabet",
          "Alphabet",
          "Alphabet",
          "Alphabet",
          "Alphabet",
          "Alphabet",
          "Alphabet",
          "Alphabet",
          "Alphabet",
          "Alphabet",
          "Alphabet",
          "Alphabet",
          "Alphabet",
          "Alphabet",
          "Alphabet"
         ]
        },
        {
         "customdata": [
          0,
          1,
          2,
          3,
          4,
          5,
          6,
          7,
          8,
          9
         ],
         "hovertemplate": "%{y}[%{customdata}] = %{marker.color}<extra></extra>",
         "marker": {
          "color": [
           "#4C78A8",
           "#F58518",
           "#E45756",
           "#72B7B2",
           "#54A24B",
           "#EECA3B",
           "#B279A2",
           "#FF9DA6",
           "#9D755D",
           "#BAB0AC"
          ]
         },
         "orientation": "h",
         "type": "bar",
         "x": [
          1,
          1,
          1,
          1,
          1,
          1,
          1,
          1,
          1,
          1
         ],
         "y": [
          "T10",
          "T10",
          "T10",
          "T10",
          "T10",
          "T10",
          "T10",
          "T10",
          "T10",
          "T10"
         ]
        },
        {
         "customdata": [
          0,
          1,
          2,
          3,
          4,
          5,
          6,
          7,
          8,
          9
         ],
         "hovertemplate": "%{y}[%{customdata}] = %{marker.color}<extra></extra>",
         "marker": {
          "color": [
           "#3366CC",
           "#DC3912",
           "#FF9900",
           "#109618",
           "#990099",
           "#0099C6",
           "#DD4477",
           "#66AA00",
           "#B82E2E",
           "#316395"
          ]
         },
         "orientation": "h",
         "type": "bar",
         "x": [
          1,
          1,
          1,
          1,
          1,
          1,
          1,
          1,
          1,
          1
         ],
         "y": [
          "G10",
          "G10",
          "G10",
          "G10",
          "G10",
          "G10",
          "G10",
          "G10",
          "G10",
          "G10"
         ]
        },
        {
         "customdata": [
          0,
          1,
          2,
          3,
          4,
          5,
          6,
          7,
          8,
          9
         ],
         "hovertemplate": "%{y}[%{customdata}] = %{marker.color}<extra></extra>",
         "marker": {
          "color": [
           "#1F77B4",
           "#FF7F0E",
           "#2CA02C",
           "#D62728",
           "#9467BD",
           "#8C564B",
           "#E377C2",
           "#7F7F7F",
           "#BCBD22",
           "#17BECF"
          ]
         },
         "orientation": "h",
         "type": "bar",
         "x": [
          1,
          1,
          1,
          1,
          1,
          1,
          1,
          1,
          1,
          1
         ],
         "y": [
          "D3",
          "D3",
          "D3",
          "D3",
          "D3",
          "D3",
          "D3",
          "D3",
          "D3",
          "D3"
         ]
        },
        {
         "customdata": [
          0,
          1,
          2,
          3,
          4,
          5,
          6,
          7,
          8,
          9
         ],
         "hovertemplate": "%{y}[%{customdata}] = %{marker.color}<extra></extra>",
         "marker": {
          "color": [
           "#636EFA",
           "#EF553B",
           "#00CC96",
           "#AB63FA",
           "#FFA15A",
           "#19D3F3",
           "#FF6692",
           "#B6E880",
           "#FF97FF",
           "#FECB52"
          ]
         },
         "orientation": "h",
         "type": "bar",
         "x": [
          1,
          1,
          1,
          1,
          1,
          1,
          1,
          1,
          1,
          1
         ],
         "y": [
          "Plotly",
          "Plotly",
          "Plotly",
          "Plotly",
          "Plotly",
          "Plotly",
          "Plotly",
          "Plotly",
          "Plotly",
          "Plotly"
         ]
        }
       ],
       "layout": {
        "autosize": true,
        "bargap": 0.5,
        "barmode": "stack",
        "barnorm": "fraction",
        "margin": {
         "b": 10
        },
        "showlegend": false,
        "template": {
         "data": {
          "bar": [
           {
            "error_x": {
             "color": "rgb(36,36,36)"
            },
            "error_y": {
             "color": "rgb(36,36,36)"
            },
            "marker": {
             "line": {
              "color": "white",
              "width": 0.5
             },
             "pattern": {
              "fillmode": "overlay",
              "size": 10,
              "solidity": 0.2
             }
            },
            "type": "bar"
           }
          ],
          "barpolar": [
           {
            "marker": {
             "line": {
              "color": "white",
              "width": 0.5
             },
             "pattern": {
              "fillmode": "overlay",
              "size": 10,
              "solidity": 0.2
             }
            },
            "type": "barpolar"
           }
          ],
          "carpet": [
           {
            "aaxis": {
             "endlinecolor": "rgb(36,36,36)",
             "gridcolor": "white",
             "linecolor": "white",
             "minorgridcolor": "white",
             "startlinecolor": "rgb(36,36,36)"
            },
            "baxis": {
             "endlinecolor": "rgb(36,36,36)",
             "gridcolor": "white",
             "linecolor": "white",
             "minorgridcolor": "white",
             "startlinecolor": "rgb(36,36,36)"
            },
            "type": "carpet"
           }
          ],
          "choropleth": [
           {
            "colorbar": {
             "outlinewidth": 1,
             "tickcolor": "rgb(36,36,36)",
             "ticks": "outside"
            },
            "type": "choropleth"
           }
          ],
          "contour": [
           {
            "colorbar": {
             "outlinewidth": 1,
             "tickcolor": "rgb(36,36,36)",
             "ticks": "outside"
            },
            "colorscale": [
             [
              0,
              "#440154"
             ],
             [
              0.1111111111111111,
              "#482878"
             ],
             [
              0.2222222222222222,
              "#3e4989"
             ],
             [
              0.3333333333333333,
              "#31688e"
             ],
             [
              0.4444444444444444,
              "#26828e"
             ],
             [
              0.5555555555555556,
              "#1f9e89"
             ],
             [
              0.6666666666666666,
              "#35b779"
             ],
             [
              0.7777777777777778,
              "#6ece58"
             ],
             [
              0.8888888888888888,
              "#b5de2b"
             ],
             [
              1,
              "#fde725"
             ]
            ],
            "type": "contour"
           }
          ],
          "contourcarpet": [
           {
            "colorbar": {
             "outlinewidth": 1,
             "tickcolor": "rgb(36,36,36)",
             "ticks": "outside"
            },
            "type": "contourcarpet"
           }
          ],
          "heatmap": [
           {
            "colorbar": {
             "outlinewidth": 1,
             "tickcolor": "rgb(36,36,36)",
             "ticks": "outside"
            },
            "colorscale": [
             [
              0,
              "#440154"
             ],
             [
              0.1111111111111111,
              "#482878"
             ],
             [
              0.2222222222222222,
              "#3e4989"
             ],
             [
              0.3333333333333333,
              "#31688e"
             ],
             [
              0.4444444444444444,
              "#26828e"
             ],
             [
              0.5555555555555556,
              "#1f9e89"
             ],
             [
              0.6666666666666666,
              "#35b779"
             ],
             [
              0.7777777777777778,
              "#6ece58"
             ],
             [
              0.8888888888888888,
              "#b5de2b"
             ],
             [
              1,
              "#fde725"
             ]
            ],
            "type": "heatmap"
           }
          ],
          "heatmapgl": [
           {
            "colorbar": {
             "outlinewidth": 1,
             "tickcolor": "rgb(36,36,36)",
             "ticks": "outside"
            },
            "colorscale": [
             [
              0,
              "#440154"
             ],
             [
              0.1111111111111111,
              "#482878"
             ],
             [
              0.2222222222222222,
              "#3e4989"
             ],
             [
              0.3333333333333333,
              "#31688e"
             ],
             [
              0.4444444444444444,
              "#26828e"
             ],
             [
              0.5555555555555556,
              "#1f9e89"
             ],
             [
              0.6666666666666666,
              "#35b779"
             ],
             [
              0.7777777777777778,
              "#6ece58"
             ],
             [
              0.8888888888888888,
              "#b5de2b"
             ],
             [
              1,
              "#fde725"
             ]
            ],
            "type": "heatmapgl"
           }
          ],
          "histogram": [
           {
            "marker": {
             "line": {
              "color": "white",
              "width": 0.6
             }
            },
            "type": "histogram"
           }
          ],
          "histogram2d": [
           {
            "colorbar": {
             "outlinewidth": 1,
             "tickcolor": "rgb(36,36,36)",
             "ticks": "outside"
            },
            "colorscale": [
             [
              0,
              "#440154"
             ],
             [
              0.1111111111111111,
              "#482878"
             ],
             [
              0.2222222222222222,
              "#3e4989"
             ],
             [
              0.3333333333333333,
              "#31688e"
             ],
             [
              0.4444444444444444,
              "#26828e"
             ],
             [
              0.5555555555555556,
              "#1f9e89"
             ],
             [
              0.6666666666666666,
              "#35b779"
             ],
             [
              0.7777777777777778,
              "#6ece58"
             ],
             [
              0.8888888888888888,
              "#b5de2b"
             ],
             [
              1,
              "#fde725"
             ]
            ],
            "type": "histogram2d"
           }
          ],
          "histogram2dcontour": [
           {
            "colorbar": {
             "outlinewidth": 1,
             "tickcolor": "rgb(36,36,36)",
             "ticks": "outside"
            },
            "colorscale": [
             [
              0,
              "#440154"
             ],
             [
              0.1111111111111111,
              "#482878"
             ],
             [
              0.2222222222222222,
              "#3e4989"
             ],
             [
              0.3333333333333333,
              "#31688e"
             ],
             [
              0.4444444444444444,
              "#26828e"
             ],
             [
              0.5555555555555556,
              "#1f9e89"
             ],
             [
              0.6666666666666666,
              "#35b779"
             ],
             [
              0.7777777777777778,
              "#6ece58"
             ],
             [
              0.8888888888888888,
              "#b5de2b"
             ],
             [
              1,
              "#fde725"
             ]
            ],
            "type": "histogram2dcontour"
           }
          ],
          "mesh3d": [
           {
            "colorbar": {
             "outlinewidth": 1,
             "tickcolor": "rgb(36,36,36)",
             "ticks": "outside"
            },
            "type": "mesh3d"
           }
          ],
          "parcoords": [
           {
            "line": {
             "colorbar": {
              "outlinewidth": 1,
              "tickcolor": "rgb(36,36,36)",
              "ticks": "outside"
             }
            },
            "type": "parcoords"
           }
          ],
          "pie": [
           {
            "automargin": true,
            "type": "pie"
           }
          ],
          "scatter": [
           {
            "marker": {
             "colorbar": {
              "outlinewidth": 1,
              "tickcolor": "rgb(36,36,36)",
              "ticks": "outside"
             }
            },
            "type": "scatter"
           }
          ],
          "scatter3d": [
           {
            "line": {
             "colorbar": {
              "outlinewidth": 1,
              "tickcolor": "rgb(36,36,36)",
              "ticks": "outside"
             }
            },
            "marker": {
             "colorbar": {
              "outlinewidth": 1,
              "tickcolor": "rgb(36,36,36)",
              "ticks": "outside"
             }
            },
            "type": "scatter3d"
           }
          ],
          "scattercarpet": [
           {
            "marker": {
             "colorbar": {
              "outlinewidth": 1,
              "tickcolor": "rgb(36,36,36)",
              "ticks": "outside"
             }
            },
            "type": "scattercarpet"
           }
          ],
          "scattergeo": [
           {
            "marker": {
             "colorbar": {
              "outlinewidth": 1,
              "tickcolor": "rgb(36,36,36)",
              "ticks": "outside"
             }
            },
            "type": "scattergeo"
           }
          ],
          "scattergl": [
           {
            "marker": {
             "colorbar": {
              "outlinewidth": 1,
              "tickcolor": "rgb(36,36,36)",
              "ticks": "outside"
             }
            },
            "type": "scattergl"
           }
          ],
          "scattermapbox": [
           {
            "marker": {
             "colorbar": {
              "outlinewidth": 1,
              "tickcolor": "rgb(36,36,36)",
              "ticks": "outside"
             }
            },
            "type": "scattermapbox"
           }
          ],
          "scatterpolar": [
           {
            "marker": {
             "colorbar": {
              "outlinewidth": 1,
              "tickcolor": "rgb(36,36,36)",
              "ticks": "outside"
             }
            },
            "type": "scatterpolar"
           }
          ],
          "scatterpolargl": [
           {
            "marker": {
             "colorbar": {
              "outlinewidth": 1,
              "tickcolor": "rgb(36,36,36)",
              "ticks": "outside"
             }
            },
            "type": "scatterpolargl"
           }
          ],
          "scatterternary": [
           {
            "marker": {
             "colorbar": {
              "outlinewidth": 1,
              "tickcolor": "rgb(36,36,36)",
              "ticks": "outside"
             }
            },
            "type": "scatterternary"
           }
          ],
          "surface": [
           {
            "colorbar": {
             "outlinewidth": 1,
             "tickcolor": "rgb(36,36,36)",
             "ticks": "outside"
            },
            "colorscale": [
             [
              0,
              "#440154"
             ],
             [
              0.1111111111111111,
              "#482878"
             ],
             [
              0.2222222222222222,
              "#3e4989"
             ],
             [
              0.3333333333333333,
              "#31688e"
             ],
             [
              0.4444444444444444,
              "#26828e"
             ],
             [
              0.5555555555555556,
              "#1f9e89"
             ],
             [
              0.6666666666666666,
              "#35b779"
             ],
             [
              0.7777777777777778,
              "#6ece58"
             ],
             [
              0.8888888888888888,
              "#b5de2b"
             ],
             [
              1,
              "#fde725"
             ]
            ],
            "type": "surface"
           }
          ],
          "table": [
           {
            "cells": {
             "fill": {
              "color": "rgb(237,237,237)"
             },
             "line": {
              "color": "white"
             }
            },
            "header": {
             "fill": {
              "color": "rgb(217,217,217)"
             },
             "line": {
              "color": "white"
             }
            },
            "type": "table"
           }
          ]
         },
         "layout": {
          "annotationdefaults": {
           "arrowhead": 0,
           "arrowwidth": 1
          },
          "autotypenumbers": "strict",
          "coloraxis": {
           "colorbar": {
            "outlinewidth": 1,
            "tickcolor": "rgb(36,36,36)",
            "ticks": "outside"
           }
          },
          "colorscale": {
           "diverging": [
            [
             0,
             "rgb(103,0,31)"
            ],
            [
             0.1,
             "rgb(178,24,43)"
            ],
            [
             0.2,
             "rgb(214,96,77)"
            ],
            [
             0.3,
             "rgb(244,165,130)"
            ],
            [
             0.4,
             "rgb(253,219,199)"
            ],
            [
             0.5,
             "rgb(247,247,247)"
            ],
            [
             0.6,
             "rgb(209,229,240)"
            ],
            [
             0.7,
             "rgb(146,197,222)"
            ],
            [
             0.8,
             "rgb(67,147,195)"
            ],
            [
             0.9,
             "rgb(33,102,172)"
            ],
            [
             1,
             "rgb(5,48,97)"
            ]
           ],
           "sequential": [
            [
             0,
             "#440154"
            ],
            [
             0.1111111111111111,
             "#482878"
            ],
            [
             0.2222222222222222,
             "#3e4989"
            ],
            [
             0.3333333333333333,
             "#31688e"
            ],
            [
             0.4444444444444444,
             "#26828e"
            ],
            [
             0.5555555555555556,
             "#1f9e89"
            ],
            [
             0.6666666666666666,
             "#35b779"
            ],
            [
             0.7777777777777778,
             "#6ece58"
            ],
            [
             0.8888888888888888,
             "#b5de2b"
            ],
            [
             1,
             "#fde725"
            ]
           ],
           "sequentialminus": [
            [
             0,
             "#440154"
            ],
            [
             0.1111111111111111,
             "#482878"
            ],
            [
             0.2222222222222222,
             "#3e4989"
            ],
            [
             0.3333333333333333,
             "#31688e"
            ],
            [
             0.4444444444444444,
             "#26828e"
            ],
            [
             0.5555555555555556,
             "#1f9e89"
            ],
            [
             0.6666666666666666,
             "#35b779"
            ],
            [
             0.7777777777777778,
             "#6ece58"
            ],
            [
             0.8888888888888888,
             "#b5de2b"
            ],
            [
             1,
             "#fde725"
            ]
           ]
          },
          "colorway": [
           "#1F77B4",
           "#FF7F0E",
           "#2CA02C",
           "#D62728",
           "#9467BD",
           "#8C564B",
           "#E377C2",
           "#7F7F7F",
           "#BCBD22",
           "#17BECF"
          ],
          "font": {
           "color": "rgb(36,36,36)"
          },
          "geo": {
           "bgcolor": "white",
           "lakecolor": "white",
           "landcolor": "white",
           "showlakes": true,
           "showland": true,
           "subunitcolor": "white"
          },
          "hoverlabel": {
           "align": "left"
          },
          "hovermode": "closest",
          "mapbox": {
           "style": "light"
          },
          "paper_bgcolor": "white",
          "plot_bgcolor": "white",
          "polar": {
           "angularaxis": {
            "gridcolor": "rgb(232,232,232)",
            "linecolor": "rgb(36,36,36)",
            "showgrid": false,
            "showline": true,
            "ticks": "outside"
           },
           "bgcolor": "white",
           "radialaxis": {
            "gridcolor": "rgb(232,232,232)",
            "linecolor": "rgb(36,36,36)",
            "showgrid": false,
            "showline": true,
            "ticks": "outside"
           }
          },
          "scene": {
           "xaxis": {
            "backgroundcolor": "white",
            "gridcolor": "rgb(232,232,232)",
            "gridwidth": 2,
            "linecolor": "rgb(36,36,36)",
            "showbackground": true,
            "showgrid": false,
            "showline": true,
            "ticks": "outside",
            "zeroline": false,
            "zerolinecolor": "rgb(36,36,36)"
           },
           "yaxis": {
            "backgroundcolor": "white",
            "gridcolor": "rgb(232,232,232)",
            "gridwidth": 2,
            "linecolor": "rgb(36,36,36)",
            "showbackground": true,
            "showgrid": false,
            "showline": true,
            "ticks": "outside",
            "zeroline": false,
            "zerolinecolor": "rgb(36,36,36)"
           },
           "zaxis": {
            "backgroundcolor": "white",
            "gridcolor": "rgb(232,232,232)",
            "gridwidth": 2,
            "linecolor": "rgb(36,36,36)",
            "showbackground": true,
            "showgrid": false,
            "showline": true,
            "ticks": "outside",
            "zeroline": false,
            "zerolinecolor": "rgb(36,36,36)"
           }
          },
          "shapedefaults": {
           "fillcolor": "black",
           "line": {
            "width": 0
           },
           "opacity": 0.3
          },
          "ternary": {
           "aaxis": {
            "gridcolor": "rgb(232,232,232)",
            "linecolor": "rgb(36,36,36)",
            "showgrid": false,
            "showline": true,
            "ticks": "outside"
           },
           "baxis": {
            "gridcolor": "rgb(232,232,232)",
            "linecolor": "rgb(36,36,36)",
            "showgrid": false,
            "showline": true,
            "ticks": "outside"
           },
           "bgcolor": "white",
           "caxis": {
            "gridcolor": "rgb(232,232,232)",
            "linecolor": "rgb(36,36,36)",
            "showgrid": false,
            "showline": true,
            "ticks": "outside"
           }
          },
          "title": {
           "x": 0.05
          },
          "xaxis": {
           "automargin": true,
           "gridcolor": "rgb(232,232,232)",
           "linecolor": "rgb(36,36,36)",
           "showgrid": false,
           "showline": true,
           "ticks": "outside",
           "title": {
            "standoff": 15
           },
           "zeroline": false,
           "zerolinecolor": "rgb(36,36,36)"
          },
          "yaxis": {
           "automargin": true,
           "gridcolor": "rgb(232,232,232)",
           "linecolor": "rgb(36,36,36)",
           "showgrid": false,
           "showline": true,
           "ticks": "outside",
           "title": {
            "standoff": 15
           },
           "zeroline": false,
           "zerolinecolor": "rgb(36,36,36)"
          }
         }
        },
        "title": {
         "text": "plotly.colors.qualitative"
        },
        "xaxis": {
         "autorange": false,
         "range": [
          -0.02,
          1.02
         ],
         "showgrid": false,
         "showspikes": false,
         "showticklabels": false,
         "type": "linear"
        },
        "yaxis": {
         "autorange": true,
         "range": [
          -0.5,
          18.5
         ],
         "showspikes": false,
         "type": "category"
        }
       }
      },
      "image/png": "[encoded data removed]",
      "text/html": [
       "<div>                            <div id=\"acee67bf-b23e-4646-b0a7-aca5224cfe35\" class=\"plotly-graph-div\" style=\"height:760px; width:100%;\"></div>            <script type=\"text/javascript\">                require([\"plotly\"], function(Plotly) {                    window.PLOTLYENV=window.PLOTLYENV || {};                                    if (document.getElementById(\"acee67bf-b23e-4646-b0a7-aca5224cfe35\")) {                    Plotly.newPlot(                        \"acee67bf-b23e-4646-b0a7-aca5224cfe35\",                        [{\"customdata\":[0,1,2,3,4,5,6,7,8,9,10],\"hovertemplate\":\"%{y}[%{customdata}] = %{marker.color}<extra></extra>\",\"marker\":{\"color\":[\"rgb(229, 134, 6)\",\"rgb(93, 105, 177)\",\"rgb(82, 188, 163)\",\"rgb(153, 201, 69)\",\"rgb(204, 97, 176)\",\"rgb(36, 121, 108)\",\"rgb(218, 165, 27)\",\"rgb(47, 138, 196)\",\"rgb(118, 78, 159)\",\"rgb(237, 100, 90)\",\"rgb(165, 170, 153)\"]},\"orientation\":\"h\",\"type\":\"bar\",\"x\":[1,1,1,1,1,1,1,1,1,1,1],\"y\":[\"Vivid\",\"Vivid\",\"Vivid\",\"Vivid\",\"Vivid\",\"Vivid\",\"Vivid\",\"Vivid\",\"Vivid\",\"Vivid\",\"Vivid\"]},{\"customdata\":[0,1,2,3,4,5,6,7,8,9,10],\"hovertemplate\":\"%{y}[%{customdata}] = %{marker.color}<extra></extra>\",\"marker\":{\"color\":[\"rgb(136, 204, 238)\",\"rgb(204, 102, 119)\",\"rgb(221, 204, 119)\",\"rgb(17, 119, 51)\",\"rgb(51, 34, 136)\",\"rgb(170, 68, 153)\",\"rgb(68, 170, 153)\",\"rgb(153, 153, 51)\",\"rgb(136, 34, 85)\",\"rgb(102, 17, 0)\",\"rgb(136, 136, 136)\"]},\"orientation\":\"h\",\"type\":\"bar\",\"x\":[1,1,1,1,1,1,1,1,1,1,1],\"y\":[\"Safe\",\"Safe\",\"Safe\",\"Safe\",\"Safe\",\"Safe\",\"Safe\",\"Safe\",\"Safe\",\"Safe\",\"Safe\"]},{\"customdata\":[0,1,2,3,4,5,6,7,8,9,10],\"hovertemplate\":\"%{y}[%{customdata}] = %{marker.color}<extra></extra>\",\"marker\":{\"color\":[\"rgb(95, 70, 144)\",\"rgb(29, 105, 150)\",\"rgb(56, 166, 165)\",\"rgb(15, 133, 84)\",\"rgb(115, 175, 72)\",\"rgb(237, 173, 8)\",\"rgb(225, 124, 5)\",\"rgb(204, 80, 62)\",\"rgb(148, 52, 110)\",\"rgb(111, 64, 112)\",\"rgb(102, 102, 102)\"]},\"orientation\":\"h\",\"type\":\"bar\",\"x\":[1,1,1,1,1,1,1,1,1,1,1],\"y\":[\"Prism\",\"Prism\",\"Prism\",\"Prism\",\"Prism\",\"Prism\",\"Prism\",\"Prism\",\"Prism\",\"Prism\",\"Prism\"]},{\"customdata\":[0,1,2,3,4,5,6,7,8,9,10],\"hovertemplate\":\"%{y}[%{customdata}] = %{marker.color}<extra></extra>\",\"marker\":{\"color\":[\"rgb(102, 197, 204)\",\"rgb(246, 207, 113)\",\"rgb(248, 156, 116)\",\"rgb(220, 176, 242)\",\"rgb(135, 197, 95)\",\"rgb(158, 185, 243)\",\"rgb(254, 136, 177)\",\"rgb(201, 219, 116)\",\"rgb(139, 224, 164)\",\"rgb(180, 151, 231)\",\"rgb(179, 179, 179)\"]},\"orientation\":\"h\",\"type\":\"bar\",\"x\":[1,1,1,1,1,1,1,1,1,1,1],\"y\":[\"Pastel\",\"Pastel\",\"Pastel\",\"Pastel\",\"Pastel\",\"Pastel\",\"Pastel\",\"Pastel\",\"Pastel\",\"Pastel\",\"Pastel\"]},{\"customdata\":[0,1,2,3,4,5,6,7,8,9,10],\"hovertemplate\":\"%{y}[%{customdata}] = %{marker.color}<extra></extra>\",\"marker\":{\"color\":[\"rgb(127, 60, 141)\",\"rgb(17, 165, 121)\",\"rgb(57, 105, 172)\",\"rgb(242, 183, 1)\",\"rgb(231, 63, 116)\",\"rgb(128, 186, 90)\",\"rgb(230, 131, 16)\",\"rgb(0, 134, 149)\",\"rgb(207, 28, 144)\",\"rgb(249, 123, 114)\",\"rgb(165, 170, 153)\"]},\"orientation\":\"h\",\"type\":\"bar\",\"x\":[1,1,1,1,1,1,1,1,1,1,1],\"y\":[\"Bold\",\"Bold\",\"Bold\",\"Bold\",\"Bold\",\"Bold\",\"Bold\",\"Bold\",\"Bold\",\"Bold\",\"Bold\"]},{\"customdata\":[0,1,2,3,4,5,6,7,8,9,10],\"hovertemplate\":\"%{y}[%{customdata}] = %{marker.color}<extra></extra>\",\"marker\":{\"color\":[\"rgb(133, 92, 117)\",\"rgb(217, 175, 107)\",\"rgb(175, 100, 88)\",\"rgb(115, 111, 76)\",\"rgb(82, 106, 131)\",\"rgb(98, 83, 119)\",\"rgb(104, 133, 92)\",\"rgb(156, 156, 94)\",\"rgb(160, 97, 119)\",\"rgb(140, 120, 93)\",\"rgb(124, 124, 124)\"]},\"orientation\":\"h\",\"type\":\"bar\",\"x\":[1,1,1,1,1,1,1,1,1,1,1],\"y\":[\"Antique\",\"Antique\",\"Antique\",\"Antique\",\"Antique\",\"Antique\",\"Antique\",\"Antique\",\"Antique\",\"Antique\",\"Antique\"]},{\"customdata\":[0,1,2,3,4,5,6,7,8,9,10,11],\"hovertemplate\":\"%{y}[%{customdata}] = %{marker.color}<extra></extra>\",\"marker\":{\"color\":[\"rgb(141,211,199)\",\"rgb(255,255,179)\",\"rgb(190,186,218)\",\"rgb(251,128,114)\",\"rgb(128,177,211)\",\"rgb(253,180,98)\",\"rgb(179,222,105)\",\"rgb(252,205,229)\",\"rgb(217,217,217)\",\"rgb(188,128,189)\",\"rgb(204,235,197)\",\"rgb(255,237,111)\"]},\"orientation\":\"h\",\"type\":\"bar\",\"x\":[1,1,1,1,1,1,1,1,1,1,1,1],\"y\":[\"Set3\",\"Set3\",\"Set3\",\"Set3\",\"Set3\",\"Set3\",\"Set3\",\"Set3\",\"Set3\",\"Set3\",\"Set3\",\"Set3\"]},{\"customdata\":[0,1,2,3,4,5,6,7],\"hovertemplate\":\"%{y}[%{customdata}] = %{marker.color}<extra></extra>\",\"marker\":{\"color\":[\"rgb(179,226,205)\",\"rgb(253,205,172)\",\"rgb(203,213,232)\",\"rgb(244,202,228)\",\"rgb(230,245,201)\",\"rgb(255,242,174)\",\"rgb(241,226,204)\",\"rgb(204,204,204)\"]},\"orientation\":\"h\",\"type\":\"bar\",\"x\":[1,1,1,1,1,1,1,1],\"y\":[\"Pastel2\",\"Pastel2\",\"Pastel2\",\"Pastel2\",\"Pastel2\",\"Pastel2\",\"Pastel2\",\"Pastel2\"]},{\"customdata\":[0,1,2,3,4,5,6,7],\"hovertemplate\":\"%{y}[%{customdata}] = %{marker.color}<extra></extra>\",\"marker\":{\"color\":[\"rgb(102,194,165)\",\"rgb(252,141,98)\",\"rgb(141,160,203)\",\"rgb(231,138,195)\",\"rgb(166,216,84)\",\"rgb(255,217,47)\",\"rgb(229,196,148)\",\"rgb(179,179,179)\"]},\"orientation\":\"h\",\"type\":\"bar\",\"x\":[1,1,1,1,1,1,1,1],\"y\":[\"Set2\",\"Set2\",\"Set2\",\"Set2\",\"Set2\",\"Set2\",\"Set2\",\"Set2\"]},{\"customdata\":[0,1,2,3,4,5,6,7],\"hovertemplate\":\"%{y}[%{customdata}] = %{marker.color}<extra></extra>\",\"marker\":{\"color\":[\"rgb(27,158,119)\",\"rgb(217,95,2)\",\"rgb(117,112,179)\",\"rgb(231,41,138)\",\"rgb(102,166,30)\",\"rgb(230,171,2)\",\"rgb(166,118,29)\",\"rgb(102,102,102)\"]},\"orientation\":\"h\",\"type\":\"bar\",\"x\":[1,1,1,1,1,1,1,1],\"y\":[\"Dark2\",\"Dark2\",\"Dark2\",\"Dark2\",\"Dark2\",\"Dark2\",\"Dark2\",\"Dark2\"]},{\"customdata\":[0,1,2,3,4,5,6,7,8],\"hovertemplate\":\"%{y}[%{customdata}] = %{marker.color}<extra></extra>\",\"marker\":{\"color\":[\"rgb(251,180,174)\",\"rgb(179,205,227)\",\"rgb(204,235,197)\",\"rgb(222,203,228)\",\"rgb(254,217,166)\",\"rgb(255,255,204)\",\"rgb(229,216,189)\",\"rgb(253,218,236)\",\"rgb(242,242,242)\"]},\"orientation\":\"h\",\"type\":\"bar\",\"x\":[1,1,1,1,1,1,1,1,1],\"y\":[\"Pastel1\",\"Pastel1\",\"Pastel1\",\"Pastel1\",\"Pastel1\",\"Pastel1\",\"Pastel1\",\"Pastel1\",\"Pastel1\"]},{\"customdata\":[0,1,2,3,4,5,6,7,8],\"hovertemplate\":\"%{y}[%{customdata}] = %{marker.color}<extra></extra>\",\"marker\":{\"color\":[\"rgb(228,26,28)\",\"rgb(55,126,184)\",\"rgb(77,175,74)\",\"rgb(152,78,163)\",\"rgb(255,127,0)\",\"rgb(255,255,51)\",\"rgb(166,86,40)\",\"rgb(247,129,191)\",\"rgb(153,153,153)\"]},\"orientation\":\"h\",\"type\":\"bar\",\"x\":[1,1,1,1,1,1,1,1,1],\"y\":[\"Set1\",\"Set1\",\"Set1\",\"Set1\",\"Set1\",\"Set1\",\"Set1\",\"Set1\",\"Set1\"]},{\"customdata\":[0,1,2,3,4,5,6,7,8,9,10,11,12,13,14,15,16,17,18,19,20,21,22,23],\"hovertemplate\":\"%{y}[%{customdata}] = %{marker.color}<extra></extra>\",\"marker\":{\"color\":[\"#FD3216\",\"#00FE35\",\"#6A76FC\",\"#FED4C4\",\"#FE00CE\",\"#0DF9FF\",\"#F6F926\",\"#FF9616\",\"#479B55\",\"#EEA6FB\",\"#DC587D\",\"#D626FF\",\"#6E899C\",\"#00B5F7\",\"#B68E00\",\"#C9FBE5\",\"#FF0092\",\"#22FFA7\",\"#E3EE9E\",\"#86CE00\",\"#BC7196\",\"#7E7DCD\",\"#FC6955\",\"#E48F72\"]},\"orientation\":\"h\",\"type\":\"bar\",\"x\":[1,1,1,1,1,1,1,1,1,1,1,1,1,1,1,1,1,1,1,1,1,1,1,1],\"y\":[\"Light24\",\"Light24\",\"Light24\",\"Light24\",\"Light24\",\"Light24\",\"Light24\",\"Light24\",\"Light24\",\"Light24\",\"Light24\",\"Light24\",\"Light24\",\"Light24\",\"Light24\",\"Light24\",\"Light24\",\"Light24\",\"Light24\",\"Light24\",\"Light24\",\"Light24\",\"Light24\",\"Light24\"]},{\"customdata\":[0,1,2,3,4,5,6,7,8,9,10,11,12,13,14,15,16,17,18,19,20,21,22,23],\"hovertemplate\":\"%{y}[%{customdata}] = %{marker.color}<extra></extra>\",\"marker\":{\"color\":[\"#2E91E5\",\"#E15F99\",\"#1CA71C\",\"#FB0D0D\",\"#DA16FF\",\"#222A2A\",\"#B68100\",\"#750D86\",\"#EB663B\",\"#511CFB\",\"#00A08B\",\"#FB00D1\",\"#FC0080\",\"#B2828D\",\"#6C7C32\",\"#778AAE\",\"#862A16\",\"#A777F1\",\"#620042\",\"#1616A7\",\"#DA60CA\",\"#6C4516\",\"#0D2A63\",\"#AF0038\"]},\"orientation\":\"h\",\"type\":\"bar\",\"x\":[1,1,1,1,1,1,1,1,1,1,1,1,1,1,1,1,1,1,1,1,1,1,1,1],\"y\":[\"Dark24\",\"Dark24\",\"Dark24\",\"Dark24\",\"Dark24\",\"Dark24\",\"Dark24\",\"Dark24\",\"Dark24\",\"Dark24\",\"Dark24\",\"Dark24\",\"Dark24\",\"Dark24\",\"Dark24\",\"Dark24\",\"Dark24\",\"Dark24\",\"Dark24\",\"Dark24\",\"Dark24\",\"Dark24\",\"Dark24\",\"Dark24\"]},{\"customdata\":[0,1,2,3,4,5,6,7,8,9,10,11,12,13,14,15,16,17,18,19,20,21,22,23,24,25],\"hovertemplate\":\"%{y}[%{customdata}] = %{marker.color}<extra></extra>\",\"marker\":{\"color\":[\"#AA0DFE\",\"#3283FE\",\"#85660D\",\"#782AB6\",\"#565656\",\"#1C8356\",\"#16FF32\",\"#F7E1A0\",\"#E2E2E2\",\"#1CBE4F\",\"#C4451C\",\"#DEA0FD\",\"#FE00FA\",\"#325A9B\",\"#FEAF16\",\"#F8A19F\",\"#90AD1C\",\"#F6222E\",\"#1CFFCE\",\"#2ED9FF\",\"#B10DA1\",\"#C075A6\",\"#FC1CBF\",\"#B00068\",\"#FBE426\",\"#FA0087\"]},\"orientation\":\"h\",\"type\":\"bar\",\"x\":[1,1,1,1,1,1,1,1,1,1,1,1,1,1,1,1,1,1,1,1,1,1,1,1,1,1],\"y\":[\"Alphabet\",\"Alphabet\",\"Alphabet\",\"Alphabet\",\"Alphabet\",\"Alphabet\",\"Alphabet\",\"Alphabet\",\"Alphabet\",\"Alphabet\",\"Alphabet\",\"Alphabet\",\"Alphabet\",\"Alphabet\",\"Alphabet\",\"Alphabet\",\"Alphabet\",\"Alphabet\",\"Alphabet\",\"Alphabet\",\"Alphabet\",\"Alphabet\",\"Alphabet\",\"Alphabet\",\"Alphabet\",\"Alphabet\"]},{\"customdata\":[0,1,2,3,4,5,6,7,8,9],\"hovertemplate\":\"%{y}[%{customdata}] = %{marker.color}<extra></extra>\",\"marker\":{\"color\":[\"#4C78A8\",\"#F58518\",\"#E45756\",\"#72B7B2\",\"#54A24B\",\"#EECA3B\",\"#B279A2\",\"#FF9DA6\",\"#9D755D\",\"#BAB0AC\"]},\"orientation\":\"h\",\"type\":\"bar\",\"x\":[1,1,1,1,1,1,1,1,1,1],\"y\":[\"T10\",\"T10\",\"T10\",\"T10\",\"T10\",\"T10\",\"T10\",\"T10\",\"T10\",\"T10\"]},{\"customdata\":[0,1,2,3,4,5,6,7,8,9],\"hovertemplate\":\"%{y}[%{customdata}] = %{marker.color}<extra></extra>\",\"marker\":{\"color\":[\"#3366CC\",\"#DC3912\",\"#FF9900\",\"#109618\",\"#990099\",\"#0099C6\",\"#DD4477\",\"#66AA00\",\"#B82E2E\",\"#316395\"]},\"orientation\":\"h\",\"type\":\"bar\",\"x\":[1,1,1,1,1,1,1,1,1,1],\"y\":[\"G10\",\"G10\",\"G10\",\"G10\",\"G10\",\"G10\",\"G10\",\"G10\",\"G10\",\"G10\"]},{\"customdata\":[0,1,2,3,4,5,6,7,8,9],\"hovertemplate\":\"%{y}[%{customdata}] = %{marker.color}<extra></extra>\",\"marker\":{\"color\":[\"#1F77B4\",\"#FF7F0E\",\"#2CA02C\",\"#D62728\",\"#9467BD\",\"#8C564B\",\"#E377C2\",\"#7F7F7F\",\"#BCBD22\",\"#17BECF\"]},\"orientation\":\"h\",\"type\":\"bar\",\"x\":[1,1,1,1,1,1,1,1,1,1],\"y\":[\"D3\",\"D3\",\"D3\",\"D3\",\"D3\",\"D3\",\"D3\",\"D3\",\"D3\",\"D3\"]},{\"customdata\":[0,1,2,3,4,5,6,7,8,9],\"hovertemplate\":\"%{y}[%{customdata}] = %{marker.color}<extra></extra>\",\"marker\":{\"color\":[\"#636EFA\",\"#EF553B\",\"#00CC96\",\"#AB63FA\",\"#FFA15A\",\"#19D3F3\",\"#FF6692\",\"#B6E880\",\"#FF97FF\",\"#FECB52\"]},\"orientation\":\"h\",\"type\":\"bar\",\"x\":[1,1,1,1,1,1,1,1,1,1],\"y\":[\"Plotly\",\"Plotly\",\"Plotly\",\"Plotly\",\"Plotly\",\"Plotly\",\"Plotly\",\"Plotly\",\"Plotly\",\"Plotly\"]}],                        {\"bargap\":0.5,\"barmode\":\"stack\",\"barnorm\":\"fraction\",\"height\":760,\"margin\":{\"b\":10},\"showlegend\":false,\"template\":{\"data\":{\"bar\":[{\"error_x\":{\"color\":\"rgb(36,36,36)\"},\"error_y\":{\"color\":\"rgb(36,36,36)\"},\"marker\":{\"line\":{\"color\":\"white\",\"width\":0.5},\"pattern\":{\"fillmode\":\"overlay\",\"size\":10,\"solidity\":0.2}},\"type\":\"bar\"}],\"barpolar\":[{\"marker\":{\"line\":{\"color\":\"white\",\"width\":0.5},\"pattern\":{\"fillmode\":\"overlay\",\"size\":10,\"solidity\":0.2}},\"type\":\"barpolar\"}],\"carpet\":[{\"aaxis\":{\"endlinecolor\":\"rgb(36,36,36)\",\"gridcolor\":\"white\",\"linecolor\":\"white\",\"minorgridcolor\":\"white\",\"startlinecolor\":\"rgb(36,36,36)\"},\"baxis\":{\"endlinecolor\":\"rgb(36,36,36)\",\"gridcolor\":\"white\",\"linecolor\":\"white\",\"minorgridcolor\":\"white\",\"startlinecolor\":\"rgb(36,36,36)\"},\"type\":\"carpet\"}],\"choropleth\":[{\"colorbar\":{\"outlinewidth\":1,\"tickcolor\":\"rgb(36,36,36)\",\"ticks\":\"outside\"},\"type\":\"choropleth\"}],\"contour\":[{\"colorbar\":{\"outlinewidth\":1,\"tickcolor\":\"rgb(36,36,36)\",\"ticks\":\"outside\"},\"colorscale\":[[0.0,\"#440154\"],[0.1111111111111111,\"#482878\"],[0.2222222222222222,\"#3e4989\"],[0.3333333333333333,\"#31688e\"],[0.4444444444444444,\"#26828e\"],[0.5555555555555556,\"#1f9e89\"],[0.6666666666666666,\"#35b779\"],[0.7777777777777778,\"#6ece58\"],[0.8888888888888888,\"#b5de2b\"],[1.0,\"#fde725\"]],\"type\":\"contour\"}],\"contourcarpet\":[{\"colorbar\":{\"outlinewidth\":1,\"tickcolor\":\"rgb(36,36,36)\",\"ticks\":\"outside\"},\"type\":\"contourcarpet\"}],\"heatmap\":[{\"colorbar\":{\"outlinewidth\":1,\"tickcolor\":\"rgb(36,36,36)\",\"ticks\":\"outside\"},\"colorscale\":[[0.0,\"#440154\"],[0.1111111111111111,\"#482878\"],[0.2222222222222222,\"#3e4989\"],[0.3333333333333333,\"#31688e\"],[0.4444444444444444,\"#26828e\"],[0.5555555555555556,\"#1f9e89\"],[0.6666666666666666,\"#35b779\"],[0.7777777777777778,\"#6ece58\"],[0.8888888888888888,\"#b5de2b\"],[1.0,\"#fde725\"]],\"type\":\"heatmap\"}],\"heatmapgl\":[{\"colorbar\":{\"outlinewidth\":1,\"tickcolor\":\"rgb(36,36,36)\",\"ticks\":\"outside\"},\"colorscale\":[[0.0,\"#440154\"],[0.1111111111111111,\"#482878\"],[0.2222222222222222,\"#3e4989\"],[0.3333333333333333,\"#31688e\"],[0.4444444444444444,\"#26828e\"],[0.5555555555555556,\"#1f9e89\"],[0.6666666666666666,\"#35b779\"],[0.7777777777777778,\"#6ece58\"],[0.8888888888888888,\"#b5de2b\"],[1.0,\"#fde725\"]],\"type\":\"heatmapgl\"}],\"histogram\":[{\"marker\":{\"line\":{\"color\":\"white\",\"width\":0.6}},\"type\":\"histogram\"}],\"histogram2d\":[{\"colorbar\":{\"outlinewidth\":1,\"tickcolor\":\"rgb(36,36,36)\",\"ticks\":\"outside\"},\"colorscale\":[[0.0,\"#440154\"],[0.1111111111111111,\"#482878\"],[0.2222222222222222,\"#3e4989\"],[0.3333333333333333,\"#31688e\"],[0.4444444444444444,\"#26828e\"],[0.5555555555555556,\"#1f9e89\"],[0.6666666666666666,\"#35b779\"],[0.7777777777777778,\"#6ece58\"],[0.8888888888888888,\"#b5de2b\"],[1.0,\"#fde725\"]],\"type\":\"histogram2d\"}],\"histogram2dcontour\":[{\"colorbar\":{\"outlinewidth\":1,\"tickcolor\":\"rgb(36,36,36)\",\"ticks\":\"outside\"},\"colorscale\":[[0.0,\"#440154\"],[0.1111111111111111,\"#482878\"],[0.2222222222222222,\"#3e4989\"],[0.3333333333333333,\"#31688e\"],[0.4444444444444444,\"#26828e\"],[0.5555555555555556,\"#1f9e89\"],[0.6666666666666666,\"#35b779\"],[0.7777777777777778,\"#6ece58\"],[0.8888888888888888,\"#b5de2b\"],[1.0,\"#fde725\"]],\"type\":\"histogram2dcontour\"}],\"mesh3d\":[{\"colorbar\":{\"outlinewidth\":1,\"tickcolor\":\"rgb(36,36,36)\",\"ticks\":\"outside\"},\"type\":\"mesh3d\"}],\"parcoords\":[{\"line\":{\"colorbar\":{\"outlinewidth\":1,\"tickcolor\":\"rgb(36,36,36)\",\"ticks\":\"outside\"}},\"type\":\"parcoords\"}],\"pie\":[{\"automargin\":true,\"type\":\"pie\"}],\"scatter\":[{\"marker\":{\"colorbar\":{\"outlinewidth\":1,\"tickcolor\":\"rgb(36,36,36)\",\"ticks\":\"outside\"}},\"type\":\"scatter\"}],\"scatter3d\":[{\"line\":{\"colorbar\":{\"outlinewidth\":1,\"tickcolor\":\"rgb(36,36,36)\",\"ticks\":\"outside\"}},\"marker\":{\"colorbar\":{\"outlinewidth\":1,\"tickcolor\":\"rgb(36,36,36)\",\"ticks\":\"outside\"}},\"type\":\"scatter3d\"}],\"scattercarpet\":[{\"marker\":{\"colorbar\":{\"outlinewidth\":1,\"tickcolor\":\"rgb(36,36,36)\",\"ticks\":\"outside\"}},\"type\":\"scattercarpet\"}],\"scattergeo\":[{\"marker\":{\"colorbar\":{\"outlinewidth\":1,\"tickcolor\":\"rgb(36,36,36)\",\"ticks\":\"outside\"}},\"type\":\"scattergeo\"}],\"scattergl\":[{\"marker\":{\"colorbar\":{\"outlinewidth\":1,\"tickcolor\":\"rgb(36,36,36)\",\"ticks\":\"outside\"}},\"type\":\"scattergl\"}],\"scattermapbox\":[{\"marker\":{\"colorbar\":{\"outlinewidth\":1,\"tickcolor\":\"rgb(36,36,36)\",\"ticks\":\"outside\"}},\"type\":\"scattermapbox\"}],\"scatterpolar\":[{\"marker\":{\"colorbar\":{\"outlinewidth\":1,\"tickcolor\":\"rgb(36,36,36)\",\"ticks\":\"outside\"}},\"type\":\"scatterpolar\"}],\"scatterpolargl\":[{\"marker\":{\"colorbar\":{\"outlinewidth\":1,\"tickcolor\":\"rgb(36,36,36)\",\"ticks\":\"outside\"}},\"type\":\"scatterpolargl\"}],\"scatterternary\":[{\"marker\":{\"colorbar\":{\"outlinewidth\":1,\"tickcolor\":\"rgb(36,36,36)\",\"ticks\":\"outside\"}},\"type\":\"scatterternary\"}],\"surface\":[{\"colorbar\":{\"outlinewidth\":1,\"tickcolor\":\"rgb(36,36,36)\",\"ticks\":\"outside\"},\"colorscale\":[[0.0,\"#440154\"],[0.1111111111111111,\"#482878\"],[0.2222222222222222,\"#3e4989\"],[0.3333333333333333,\"#31688e\"],[0.4444444444444444,\"#26828e\"],[0.5555555555555556,\"#1f9e89\"],[0.6666666666666666,\"#35b779\"],[0.7777777777777778,\"#6ece58\"],[0.8888888888888888,\"#b5de2b\"],[1.0,\"#fde725\"]],\"type\":\"surface\"}],\"table\":[{\"cells\":{\"fill\":{\"color\":\"rgb(237,237,237)\"},\"line\":{\"color\":\"white\"}},\"header\":{\"fill\":{\"color\":\"rgb(217,217,217)\"},\"line\":{\"color\":\"white\"}},\"type\":\"table\"}]},\"layout\":{\"annotationdefaults\":{\"arrowhead\":0,\"arrowwidth\":1},\"autotypenumbers\":\"strict\",\"coloraxis\":{\"colorbar\":{\"outlinewidth\":1,\"tickcolor\":\"rgb(36,36,36)\",\"ticks\":\"outside\"}},\"colorscale\":{\"diverging\":[[0.0,\"rgb(103,0,31)\"],[0.1,\"rgb(178,24,43)\"],[0.2,\"rgb(214,96,77)\"],[0.3,\"rgb(244,165,130)\"],[0.4,\"rgb(253,219,199)\"],[0.5,\"rgb(247,247,247)\"],[0.6,\"rgb(209,229,240)\"],[0.7,\"rgb(146,197,222)\"],[0.8,\"rgb(67,147,195)\"],[0.9,\"rgb(33,102,172)\"],[1.0,\"rgb(5,48,97)\"]],\"sequential\":[[0.0,\"#440154\"],[0.1111111111111111,\"#482878\"],[0.2222222222222222,\"#3e4989\"],[0.3333333333333333,\"#31688e\"],[0.4444444444444444,\"#26828e\"],[0.5555555555555556,\"#1f9e89\"],[0.6666666666666666,\"#35b779\"],[0.7777777777777778,\"#6ece58\"],[0.8888888888888888,\"#b5de2b\"],[1.0,\"#fde725\"]],\"sequentialminus\":[[0.0,\"#440154\"],[0.1111111111111111,\"#482878\"],[0.2222222222222222,\"#3e4989\"],[0.3333333333333333,\"#31688e\"],[0.4444444444444444,\"#26828e\"],[0.5555555555555556,\"#1f9e89\"],[0.6666666666666666,\"#35b779\"],[0.7777777777777778,\"#6ece58\"],[0.8888888888888888,\"#b5de2b\"],[1.0,\"#fde725\"]]},\"colorway\":[\"#1F77B4\",\"#FF7F0E\",\"#2CA02C\",\"#D62728\",\"#9467BD\",\"#8C564B\",\"#E377C2\",\"#7F7F7F\",\"#BCBD22\",\"#17BECF\"],\"font\":{\"color\":\"rgb(36,36,36)\"},\"geo\":{\"bgcolor\":\"white\",\"lakecolor\":\"white\",\"landcolor\":\"white\",\"showlakes\":true,\"showland\":true,\"subunitcolor\":\"white\"},\"hoverlabel\":{\"align\":\"left\"},\"hovermode\":\"closest\",\"mapbox\":{\"style\":\"light\"},\"paper_bgcolor\":\"white\",\"plot_bgcolor\":\"white\",\"polar\":{\"angularaxis\":{\"gridcolor\":\"rgb(232,232,232)\",\"linecolor\":\"rgb(36,36,36)\",\"showgrid\":false,\"showline\":true,\"ticks\":\"outside\"},\"bgcolor\":\"white\",\"radialaxis\":{\"gridcolor\":\"rgb(232,232,232)\",\"linecolor\":\"rgb(36,36,36)\",\"showgrid\":false,\"showline\":true,\"ticks\":\"outside\"}},\"scene\":{\"xaxis\":{\"backgroundcolor\":\"white\",\"gridcolor\":\"rgb(232,232,232)\",\"gridwidth\":2,\"linecolor\":\"rgb(36,36,36)\",\"showbackground\":true,\"showgrid\":false,\"showline\":true,\"ticks\":\"outside\",\"zeroline\":false,\"zerolinecolor\":\"rgb(36,36,36)\"},\"yaxis\":{\"backgroundcolor\":\"white\",\"gridcolor\":\"rgb(232,232,232)\",\"gridwidth\":2,\"linecolor\":\"rgb(36,36,36)\",\"showbackground\":true,\"showgrid\":false,\"showline\":true,\"ticks\":\"outside\",\"zeroline\":false,\"zerolinecolor\":\"rgb(36,36,36)\"},\"zaxis\":{\"backgroundcolor\":\"white\",\"gridcolor\":\"rgb(232,232,232)\",\"gridwidth\":2,\"linecolor\":\"rgb(36,36,36)\",\"showbackground\":true,\"showgrid\":false,\"showline\":true,\"ticks\":\"outside\",\"zeroline\":false,\"zerolinecolor\":\"rgb(36,36,36)\"}},\"shapedefaults\":{\"fillcolor\":\"black\",\"line\":{\"width\":0},\"opacity\":0.3},\"ternary\":{\"aaxis\":{\"gridcolor\":\"rgb(232,232,232)\",\"linecolor\":\"rgb(36,36,36)\",\"showgrid\":false,\"showline\":true,\"ticks\":\"outside\"},\"baxis\":{\"gridcolor\":\"rgb(232,232,232)\",\"linecolor\":\"rgb(36,36,36)\",\"showgrid\":false,\"showline\":true,\"ticks\":\"outside\"},\"bgcolor\":\"white\",\"caxis\":{\"gridcolor\":\"rgb(232,232,232)\",\"linecolor\":\"rgb(36,36,36)\",\"showgrid\":false,\"showline\":true,\"ticks\":\"outside\"}},\"title\":{\"x\":0.05},\"xaxis\":{\"automargin\":true,\"gridcolor\":\"rgb(232,232,232)\",\"linecolor\":\"rgb(36,36,36)\",\"showgrid\":false,\"showline\":true,\"ticks\":\"outside\",\"title\":{\"standoff\":15},\"zeroline\":false,\"zerolinecolor\":\"rgb(36,36,36)\"},\"yaxis\":{\"automargin\":true,\"gridcolor\":\"rgb(232,232,232)\",\"linecolor\":\"rgb(36,36,36)\",\"showgrid\":false,\"showline\":true,\"ticks\":\"outside\",\"title\":{\"standoff\":15},\"zeroline\":false,\"zerolinecolor\":\"rgb(36,36,36)\"}}},\"title\":{\"text\":\"plotly.colors.qualitative\"},\"xaxis\":{\"range\":[-0.02,1.02],\"showgrid\":false,\"showticklabels\":false}},                        {\"responsive\": true}                    ).then(function(){\n",
       "                            \n",
       "var gd = document.getElementById('acee67bf-b23e-4646-b0a7-aca5224cfe35');\n",
       "var x = new MutationObserver(function (mutations, observer) {{\n",
       "        var display = window.getComputedStyle(gd).display;\n",
       "        if (!display || display === 'none') {{\n",
       "            console.log([gd, 'removed!']);\n",
       "            Plotly.purge(gd);\n",
       "            observer.disconnect();\n",
       "        }}\n",
       "}});\n",
       "\n",
       "// Listen for the removal of the full notebook cells\n",
       "var notebookContainer = gd.closest('#notebook-container');\n",
       "if (notebookContainer) {{\n",
       "    x.observe(notebookContainer, {childList: true});\n",
       "}}\n",
       "\n",
       "// Listen for the clearing of the current output cell\n",
       "var outputEl = gd.closest('.output');\n",
       "if (outputEl) {{\n",
       "    x.observe(outputEl, {childList: true});\n",
       "}}\n",
       "\n",
       "                        })                };                });            </script>        </div>"
      ]
     },
     "metadata": {},
     "output_type": "display_data"
    }
   ],
   "source": [
    "fig1= px.colors.qualitative.swatches()\n",
    "fig1.show()"
   ]
  }
 ],
 "metadata": {
  "kernelspec": {
   "display_name": "Python 3",
   "language": "python",
   "name": "python3"
  },
  "language_info": {
   "codemirror_mode": {
    "name": "ipython",
    "version": 3
   },
   "file_extension": ".py",
   "mimetype": "text/x-python",
   "name": "python",
   "nbconvert_exporter": "python",
   "pygments_lexer": "ipython3",
   "version": "3.8.8"
  }
 },
 "nbformat": 4,
 "nbformat_minor": 5
}
